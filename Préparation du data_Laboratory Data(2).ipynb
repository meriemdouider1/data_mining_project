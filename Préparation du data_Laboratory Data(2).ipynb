{
  "nbformat": 4,
  "nbformat_minor": 0,
  "metadata": {
    "colab": {
      "name": "Untitled4.ipynb",
      "provenance": [],
      "include_colab_link": true
    },
    "kernelspec": {
      "name": "python3",
      "display_name": "Python 3"
    }
  },
  "cells": [
    {
      "cell_type": "markdown",
      "metadata": {
        "id": "view-in-github",
        "colab_type": "text"
      },
      "source": [
        "<a href=\"https://colab.research.google.com/github/meriemdouider1/data_mining_project/blob/main/Pr%C3%A9paration%20du%20data_Laboratory%20Data(2).ipynb\" target=\"_parent\"><img src=\"https://colab.research.google.com/assets/colab-badge.svg\" alt=\"Open In Colab\"/></a>"
      ]
    },
    {
      "cell_type": "code",
      "metadata": {
        "id": "CqWoZh1EZcAN"
      },
      "source": [
        "import pandas as pd"
      ],
      "execution_count": 128,
      "outputs": []
    },
    {
      "cell_type": "markdown",
      "metadata": {
        "id": "JDcx-FDJeDll"
      },
      "source": [
        "*ALB_CR_J*"
      ]
    },
    {
      "cell_type": "code",
      "metadata": {
        "colab": {
          "base_uri": "https://localhost:8080/"
        },
        "id": "eVnQPA7sd8lH",
        "outputId": "ef6022f1-b69e-498a-ef04-d50bbd28bf6e"
      },
      "source": [
        "data_1 = '/content/ALB_CR_J.xlsx'\n",
        "d1= pd.read_excel(data_1,\n",
        "sheet_name=0,\n",
        "header=0,\n",
        "index_col=False,\n",
        "keep_default_na=True\n",
        ")\n",
        "len(d1)"
      ],
      "execution_count": 129,
      "outputs": [
        {
          "output_type": "execute_result",
          "data": {
            "text/plain": [
              "7936"
            ]
          },
          "metadata": {
            "tags": []
          },
          "execution_count": 129
        }
      ]
    },
    {
      "cell_type": "code",
      "metadata": {
        "colab": {
          "base_uri": "https://localhost:8080/",
          "height": 204
        },
        "id": "m2zsKh8o9YhT",
        "outputId": "b75bb4ff-0505-4860-e0a5-af4a8d9ea94b"
      },
      "source": [
        "d1.head()"
      ],
      "execution_count": 130,
      "outputs": [
        {
          "output_type": "execute_result",
          "data": {
            "text/html": [
              "<div>\n",
              "<style scoped>\n",
              "    .dataframe tbody tr th:only-of-type {\n",
              "        vertical-align: middle;\n",
              "    }\n",
              "\n",
              "    .dataframe tbody tr th {\n",
              "        vertical-align: top;\n",
              "    }\n",
              "\n",
              "    .dataframe thead th {\n",
              "        text-align: right;\n",
              "    }\n",
              "</style>\n",
              "<table border=\"1\" class=\"dataframe\">\n",
              "  <thead>\n",
              "    <tr style=\"text-align: right;\">\n",
              "      <th></th>\n",
              "      <th>SEQN</th>\n",
              "      <th>URXUMA</th>\n",
              "      <th>URXUMS</th>\n",
              "      <th>URDUMALC</th>\n",
              "      <th>URXUCR</th>\n",
              "      <th>URXCRS</th>\n",
              "      <th>URDUCRLC</th>\n",
              "      <th>URDACT</th>\n",
              "    </tr>\n",
              "  </thead>\n",
              "  <tbody>\n",
              "    <tr>\n",
              "      <th>0</th>\n",
              "      <td>93705</td>\n",
              "      <td>3.2</td>\n",
              "      <td>3.2</td>\n",
              "      <td>0.0</td>\n",
              "      <td>24.0</td>\n",
              "      <td>2121.6</td>\n",
              "      <td>0.0</td>\n",
              "      <td>13.33</td>\n",
              "    </tr>\n",
              "    <tr>\n",
              "      <th>1</th>\n",
              "      <td>93706</td>\n",
              "      <td>39.6</td>\n",
              "      <td>39.6</td>\n",
              "      <td>0.0</td>\n",
              "      <td>69.0</td>\n",
              "      <td>6099.6</td>\n",
              "      <td>0.0</td>\n",
              "      <td>57.39</td>\n",
              "    </tr>\n",
              "    <tr>\n",
              "      <th>2</th>\n",
              "      <td>93707</td>\n",
              "      <td>41.6</td>\n",
              "      <td>41.6</td>\n",
              "      <td>0.0</td>\n",
              "      <td>209.0</td>\n",
              "      <td>18475.6</td>\n",
              "      <td>0.0</td>\n",
              "      <td>19.90</td>\n",
              "    </tr>\n",
              "    <tr>\n",
              "      <th>3</th>\n",
              "      <td>93708</td>\n",
              "      <td>9.1</td>\n",
              "      <td>9.1</td>\n",
              "      <td>0.0</td>\n",
              "      <td>47.0</td>\n",
              "      <td>4154.8</td>\n",
              "      <td>0.0</td>\n",
              "      <td>19.36</td>\n",
              "    </tr>\n",
              "    <tr>\n",
              "      <th>4</th>\n",
              "      <td>93709</td>\n",
              "      <td>26.4</td>\n",
              "      <td>26.4</td>\n",
              "      <td>0.0</td>\n",
              "      <td>215.0</td>\n",
              "      <td>19006.0</td>\n",
              "      <td>0.0</td>\n",
              "      <td>12.28</td>\n",
              "    </tr>\n",
              "  </tbody>\n",
              "</table>\n",
              "</div>"
            ],
            "text/plain": [
              "    SEQN  URXUMA  URXUMS  URDUMALC  URXUCR   URXCRS  URDUCRLC  URDACT\n",
              "0  93705     3.2     3.2       0.0    24.0   2121.6       0.0   13.33\n",
              "1  93706    39.6    39.6       0.0    69.0   6099.6       0.0   57.39\n",
              "2  93707    41.6    41.6       0.0   209.0  18475.6       0.0   19.90\n",
              "3  93708     9.1     9.1       0.0    47.0   4154.8       0.0   19.36\n",
              "4  93709    26.4    26.4       0.0   215.0  19006.0       0.0   12.28"
            ]
          },
          "metadata": {
            "tags": []
          },
          "execution_count": 130
        }
      ]
    },
    {
      "cell_type": "markdown",
      "metadata": {
        "id": "97Nv3sf0eIbv"
      },
      "source": [
        "*BIOPRO_J*"
      ]
    },
    {
      "cell_type": "code",
      "metadata": {
        "colab": {
          "base_uri": "https://localhost:8080/"
        },
        "id": "dUQhN1y6d8o4",
        "outputId": "6c072e1d-9f14-4f44-8c4c-0808d7c3ea42"
      },
      "source": [
        "data_2 = '/content/BIOPRO_J.xlsx'\n",
        "d2= pd.read_excel(data_2,\n",
        "sheet_name=0,\n",
        "header=0,\n",
        "index_col=False,\n",
        "keep_default_na=True\n",
        ")\n",
        "len(d2)"
      ],
      "execution_count": 131,
      "outputs": [
        {
          "output_type": "execute_result",
          "data": {
            "text/plain": [
              "6401"
            ]
          },
          "metadata": {
            "tags": []
          },
          "execution_count": 131
        }
      ]
    },
    {
      "cell_type": "code",
      "metadata": {
        "colab": {
          "base_uri": "https://localhost:8080/",
          "height": 224
        },
        "id": "wEF6SnJ69t68",
        "outputId": "b794fab2-4b6e-48d0-cfd0-b817f2a5c4ef"
      },
      "source": [
        "d2.head()"
      ],
      "execution_count": 132,
      "outputs": [
        {
          "output_type": "execute_result",
          "data": {
            "text/html": [
              "<div>\n",
              "<style scoped>\n",
              "    .dataframe tbody tr th:only-of-type {\n",
              "        vertical-align: middle;\n",
              "    }\n",
              "\n",
              "    .dataframe tbody tr th {\n",
              "        vertical-align: top;\n",
              "    }\n",
              "\n",
              "    .dataframe thead th {\n",
              "        text-align: right;\n",
              "    }\n",
              "</style>\n",
              "<table border=\"1\" class=\"dataframe\">\n",
              "  <thead>\n",
              "    <tr style=\"text-align: right;\">\n",
              "      <th></th>\n",
              "      <th>SEQN</th>\n",
              "      <th>LBXSATSI</th>\n",
              "      <th>LBDSATLC</th>\n",
              "      <th>LBXSAL</th>\n",
              "      <th>LBDSALSI</th>\n",
              "      <th>LBXSAPSI</th>\n",
              "      <th>LBXSASSI</th>\n",
              "      <th>LBXSC3SI</th>\n",
              "      <th>LBXSBU</th>\n",
              "      <th>LBDSBUSI</th>\n",
              "      <th>LBXSCLSI</th>\n",
              "      <th>LBXSCK</th>\n",
              "      <th>LBXSCR</th>\n",
              "      <th>LBDSCRSI</th>\n",
              "      <th>LBXSGB</th>\n",
              "      <th>LBDSGBSI</th>\n",
              "      <th>LBXSGL</th>\n",
              "      <th>LBDSGLSI</th>\n",
              "      <th>LBXSGTSI</th>\n",
              "      <th>LBDSGTLC</th>\n",
              "      <th>LBXSIR</th>\n",
              "      <th>LBDSIRSI</th>\n",
              "      <th>LBXSLDSI</th>\n",
              "      <th>LBXSOSSI</th>\n",
              "      <th>LBXSPH</th>\n",
              "      <th>LBDSPHSI</th>\n",
              "      <th>LBXSKSI</th>\n",
              "      <th>LBXSNASI</th>\n",
              "      <th>LBXSTB</th>\n",
              "      <th>LBDSTBSI</th>\n",
              "      <th>LBDSTBLC</th>\n",
              "      <th>LBXSCA</th>\n",
              "      <th>LBDSCASI</th>\n",
              "      <th>LBXSCH</th>\n",
              "      <th>LBDSCHSI</th>\n",
              "      <th>LBXSTP</th>\n",
              "      <th>LBDSTPSI</th>\n",
              "      <th>LBXSTR</th>\n",
              "      <th>LBDSTRSI</th>\n",
              "      <th>LBXSUA</th>\n",
              "      <th>LBDSUASI</th>\n",
              "    </tr>\n",
              "  </thead>\n",
              "  <tbody>\n",
              "    <tr>\n",
              "      <th>0</th>\n",
              "      <td>93705</td>\n",
              "      <td>16.0</td>\n",
              "      <td>0.0</td>\n",
              "      <td>4.4</td>\n",
              "      <td>44.0</td>\n",
              "      <td>74.0</td>\n",
              "      <td>20.0</td>\n",
              "      <td>31.0</td>\n",
              "      <td>11.0</td>\n",
              "      <td>3.93</td>\n",
              "      <td>100.0</td>\n",
              "      <td>166.0</td>\n",
              "      <td>0.92</td>\n",
              "      <td>81.33</td>\n",
              "      <td>2.9</td>\n",
              "      <td>29.0</td>\n",
              "      <td>85.0</td>\n",
              "      <td>4.72</td>\n",
              "      <td>21.0</td>\n",
              "      <td>0.0</td>\n",
              "      <td>94.0</td>\n",
              "      <td>16.8</td>\n",
              "      <td>174.0</td>\n",
              "      <td>280.0</td>\n",
              "      <td>4.0</td>\n",
              "      <td>1.292</td>\n",
              "      <td>4.0</td>\n",
              "      <td>141.0</td>\n",
              "      <td>0.6</td>\n",
              "      <td>10.26</td>\n",
              "      <td>0.0</td>\n",
              "      <td>9.2</td>\n",
              "      <td>2.300</td>\n",
              "      <td>157.0</td>\n",
              "      <td>4.060</td>\n",
              "      <td>7.3</td>\n",
              "      <td>73.0</td>\n",
              "      <td>95.0</td>\n",
              "      <td>1.073</td>\n",
              "      <td>5.8</td>\n",
              "      <td>345.0</td>\n",
              "    </tr>\n",
              "    <tr>\n",
              "      <th>1</th>\n",
              "      <td>93706</td>\n",
              "      <td>10.0</td>\n",
              "      <td>0.0</td>\n",
              "      <td>4.4</td>\n",
              "      <td>44.0</td>\n",
              "      <td>79.0</td>\n",
              "      <td>14.0</td>\n",
              "      <td>28.0</td>\n",
              "      <td>12.0</td>\n",
              "      <td>4.28</td>\n",
              "      <td>104.0</td>\n",
              "      <td>114.0</td>\n",
              "      <td>0.81</td>\n",
              "      <td>71.60</td>\n",
              "      <td>2.7</td>\n",
              "      <td>27.0</td>\n",
              "      <td>94.0</td>\n",
              "      <td>5.22</td>\n",
              "      <td>16.0</td>\n",
              "      <td>0.0</td>\n",
              "      <td>163.0</td>\n",
              "      <td>29.2</td>\n",
              "      <td>142.0</td>\n",
              "      <td>286.0</td>\n",
              "      <td>4.0</td>\n",
              "      <td>1.292</td>\n",
              "      <td>4.4</td>\n",
              "      <td>144.0</td>\n",
              "      <td>0.7</td>\n",
              "      <td>11.97</td>\n",
              "      <td>0.0</td>\n",
              "      <td>9.6</td>\n",
              "      <td>2.400</td>\n",
              "      <td>149.0</td>\n",
              "      <td>3.853</td>\n",
              "      <td>7.1</td>\n",
              "      <td>71.0</td>\n",
              "      <td>92.0</td>\n",
              "      <td>1.039</td>\n",
              "      <td>8.0</td>\n",
              "      <td>475.8</td>\n",
              "    </tr>\n",
              "    <tr>\n",
              "      <th>2</th>\n",
              "      <td>93707</td>\n",
              "      <td>13.0</td>\n",
              "      <td>0.0</td>\n",
              "      <td>5.2</td>\n",
              "      <td>52.0</td>\n",
              "      <td>238.0</td>\n",
              "      <td>24.0</td>\n",
              "      <td>22.0</td>\n",
              "      <td>17.0</td>\n",
              "      <td>6.07</td>\n",
              "      <td>97.0</td>\n",
              "      <td>342.0</td>\n",
              "      <td>0.64</td>\n",
              "      <td>56.58</td>\n",
              "      <td>2.8</td>\n",
              "      <td>28.0</td>\n",
              "      <td>115.0</td>\n",
              "      <td>6.38</td>\n",
              "      <td>9.0</td>\n",
              "      <td>0.0</td>\n",
              "      <td>90.0</td>\n",
              "      <td>16.1</td>\n",
              "      <td>177.0</td>\n",
              "      <td>276.0</td>\n",
              "      <td>4.3</td>\n",
              "      <td>1.388</td>\n",
              "      <td>3.3</td>\n",
              "      <td>137.0</td>\n",
              "      <td>0.7</td>\n",
              "      <td>11.97</td>\n",
              "      <td>0.0</td>\n",
              "      <td>10.1</td>\n",
              "      <td>2.525</td>\n",
              "      <td>199.0</td>\n",
              "      <td>5.146</td>\n",
              "      <td>8.0</td>\n",
              "      <td>80.0</td>\n",
              "      <td>110.0</td>\n",
              "      <td>1.242</td>\n",
              "      <td>5.5</td>\n",
              "      <td>327.1</td>\n",
              "    </tr>\n",
              "    <tr>\n",
              "      <th>3</th>\n",
              "      <td>93708</td>\n",
              "      <td>19.0</td>\n",
              "      <td>0.0</td>\n",
              "      <td>3.9</td>\n",
              "      <td>39.0</td>\n",
              "      <td>66.0</td>\n",
              "      <td>21.0</td>\n",
              "      <td>27.0</td>\n",
              "      <td>16.0</td>\n",
              "      <td>5.71</td>\n",
              "      <td>104.0</td>\n",
              "      <td>347.0</td>\n",
              "      <td>0.58</td>\n",
              "      <td>51.27</td>\n",
              "      <td>3.2</td>\n",
              "      <td>32.0</td>\n",
              "      <td>116.0</td>\n",
              "      <td>6.44</td>\n",
              "      <td>22.0</td>\n",
              "      <td>0.0</td>\n",
              "      <td>96.0</td>\n",
              "      <td>17.2</td>\n",
              "      <td>247.0</td>\n",
              "      <td>289.0</td>\n",
              "      <td>3.3</td>\n",
              "      <td>1.066</td>\n",
              "      <td>4.4</td>\n",
              "      <td>144.0</td>\n",
              "      <td>0.5</td>\n",
              "      <td>8.55</td>\n",
              "      <td>0.0</td>\n",
              "      <td>9.5</td>\n",
              "      <td>2.375</td>\n",
              "      <td>210.0</td>\n",
              "      <td>5.431</td>\n",
              "      <td>7.1</td>\n",
              "      <td>71.0</td>\n",
              "      <td>72.0</td>\n",
              "      <td>0.813</td>\n",
              "      <td>4.5</td>\n",
              "      <td>267.7</td>\n",
              "    </tr>\n",
              "    <tr>\n",
              "      <th>4</th>\n",
              "      <td>93709</td>\n",
              "      <td>15.0</td>\n",
              "      <td>0.0</td>\n",
              "      <td>3.7</td>\n",
              "      <td>37.0</td>\n",
              "      <td>86.0</td>\n",
              "      <td>17.0</td>\n",
              "      <td>24.0</td>\n",
              "      <td>20.0</td>\n",
              "      <td>7.14</td>\n",
              "      <td>100.0</td>\n",
              "      <td>63.0</td>\n",
              "      <td>1.32</td>\n",
              "      <td>116.69</td>\n",
              "      <td>3.3</td>\n",
              "      <td>33.0</td>\n",
              "      <td>96.0</td>\n",
              "      <td>5.33</td>\n",
              "      <td>31.0</td>\n",
              "      <td>0.0</td>\n",
              "      <td>66.0</td>\n",
              "      <td>11.8</td>\n",
              "      <td>NaN</td>\n",
              "      <td>284.0</td>\n",
              "      <td>3.5</td>\n",
              "      <td>1.130</td>\n",
              "      <td>4.1</td>\n",
              "      <td>141.0</td>\n",
              "      <td>0.3</td>\n",
              "      <td>5.13</td>\n",
              "      <td>0.0</td>\n",
              "      <td>9.9</td>\n",
              "      <td>2.475</td>\n",
              "      <td>180.0</td>\n",
              "      <td>4.655</td>\n",
              "      <td>7.0</td>\n",
              "      <td>70.0</td>\n",
              "      <td>132.0</td>\n",
              "      <td>1.490</td>\n",
              "      <td>6.2</td>\n",
              "      <td>368.8</td>\n",
              "    </tr>\n",
              "  </tbody>\n",
              "</table>\n",
              "</div>"
            ],
            "text/plain": [
              "    SEQN  LBXSATSI  LBDSATLC  LBXSAL  ...  LBXSTR  LBDSTRSI  LBXSUA  LBDSUASI\n",
              "0  93705      16.0       0.0     4.4  ...    95.0     1.073     5.8     345.0\n",
              "1  93706      10.0       0.0     4.4  ...    92.0     1.039     8.0     475.8\n",
              "2  93707      13.0       0.0     5.2  ...   110.0     1.242     5.5     327.1\n",
              "3  93708      19.0       0.0     3.9  ...    72.0     0.813     4.5     267.7\n",
              "4  93709      15.0       0.0     3.7  ...   132.0     1.490     6.2     368.8\n",
              "\n",
              "[5 rows x 41 columns]"
            ]
          },
          "metadata": {
            "tags": []
          },
          "execution_count": 132
        }
      ]
    },
    {
      "cell_type": "code",
      "metadata": {
        "colab": {
          "base_uri": "https://localhost:8080/"
        },
        "id": "8s3K7yN8d8rn",
        "outputId": "faed0b19-d15d-4a27-d146-9f1356fcd1fd"
      },
      "source": [
        "dd1=pd.merge(d1,d2,how='left')\n",
        "len(dd1)"
      ],
      "execution_count": 133,
      "outputs": [
        {
          "output_type": "execute_result",
          "data": {
            "text/plain": [
              "7936"
            ]
          },
          "metadata": {
            "tags": []
          },
          "execution_count": 133
        }
      ]
    },
    {
      "cell_type": "code",
      "metadata": {
        "colab": {
          "base_uri": "https://localhost:8080/",
          "height": 224
        },
        "id": "qkKpE8toHqAR",
        "outputId": "5effe0a4-2d1f-46a8-8e50-fb3b30cc99a7"
      },
      "source": [
        "dd1.head()"
      ],
      "execution_count": 134,
      "outputs": [
        {
          "output_type": "execute_result",
          "data": {
            "text/html": [
              "<div>\n",
              "<style scoped>\n",
              "    .dataframe tbody tr th:only-of-type {\n",
              "        vertical-align: middle;\n",
              "    }\n",
              "\n",
              "    .dataframe tbody tr th {\n",
              "        vertical-align: top;\n",
              "    }\n",
              "\n",
              "    .dataframe thead th {\n",
              "        text-align: right;\n",
              "    }\n",
              "</style>\n",
              "<table border=\"1\" class=\"dataframe\">\n",
              "  <thead>\n",
              "    <tr style=\"text-align: right;\">\n",
              "      <th></th>\n",
              "      <th>SEQN</th>\n",
              "      <th>URXUMA</th>\n",
              "      <th>URXUMS</th>\n",
              "      <th>URDUMALC</th>\n",
              "      <th>URXUCR</th>\n",
              "      <th>URXCRS</th>\n",
              "      <th>URDUCRLC</th>\n",
              "      <th>URDACT</th>\n",
              "      <th>LBXSATSI</th>\n",
              "      <th>LBDSATLC</th>\n",
              "      <th>LBXSAL</th>\n",
              "      <th>LBDSALSI</th>\n",
              "      <th>LBXSAPSI</th>\n",
              "      <th>LBXSASSI</th>\n",
              "      <th>LBXSC3SI</th>\n",
              "      <th>LBXSBU</th>\n",
              "      <th>LBDSBUSI</th>\n",
              "      <th>LBXSCLSI</th>\n",
              "      <th>LBXSCK</th>\n",
              "      <th>LBXSCR</th>\n",
              "      <th>LBDSCRSI</th>\n",
              "      <th>LBXSGB</th>\n",
              "      <th>LBDSGBSI</th>\n",
              "      <th>LBXSGL</th>\n",
              "      <th>LBDSGLSI</th>\n",
              "      <th>LBXSGTSI</th>\n",
              "      <th>LBDSGTLC</th>\n",
              "      <th>LBXSIR</th>\n",
              "      <th>LBDSIRSI</th>\n",
              "      <th>LBXSLDSI</th>\n",
              "      <th>LBXSOSSI</th>\n",
              "      <th>LBXSPH</th>\n",
              "      <th>LBDSPHSI</th>\n",
              "      <th>LBXSKSI</th>\n",
              "      <th>LBXSNASI</th>\n",
              "      <th>LBXSTB</th>\n",
              "      <th>LBDSTBSI</th>\n",
              "      <th>LBDSTBLC</th>\n",
              "      <th>LBXSCA</th>\n",
              "      <th>LBDSCASI</th>\n",
              "      <th>LBXSCH</th>\n",
              "      <th>LBDSCHSI</th>\n",
              "      <th>LBXSTP</th>\n",
              "      <th>LBDSTPSI</th>\n",
              "      <th>LBXSTR</th>\n",
              "      <th>LBDSTRSI</th>\n",
              "      <th>LBXSUA</th>\n",
              "      <th>LBDSUASI</th>\n",
              "    </tr>\n",
              "  </thead>\n",
              "  <tbody>\n",
              "    <tr>\n",
              "      <th>0</th>\n",
              "      <td>93705</td>\n",
              "      <td>3.2</td>\n",
              "      <td>3.2</td>\n",
              "      <td>0.0</td>\n",
              "      <td>24.0</td>\n",
              "      <td>2121.6</td>\n",
              "      <td>0.0</td>\n",
              "      <td>13.33</td>\n",
              "      <td>16.0</td>\n",
              "      <td>0.0</td>\n",
              "      <td>4.4</td>\n",
              "      <td>44.0</td>\n",
              "      <td>74.0</td>\n",
              "      <td>20.0</td>\n",
              "      <td>31.0</td>\n",
              "      <td>11.0</td>\n",
              "      <td>3.93</td>\n",
              "      <td>100.0</td>\n",
              "      <td>166.0</td>\n",
              "      <td>0.92</td>\n",
              "      <td>81.33</td>\n",
              "      <td>2.9</td>\n",
              "      <td>29.0</td>\n",
              "      <td>85.0</td>\n",
              "      <td>4.72</td>\n",
              "      <td>21.0</td>\n",
              "      <td>0.0</td>\n",
              "      <td>94.0</td>\n",
              "      <td>16.8</td>\n",
              "      <td>174.0</td>\n",
              "      <td>280.0</td>\n",
              "      <td>4.0</td>\n",
              "      <td>1.292</td>\n",
              "      <td>4.0</td>\n",
              "      <td>141.0</td>\n",
              "      <td>0.6</td>\n",
              "      <td>10.26</td>\n",
              "      <td>0.0</td>\n",
              "      <td>9.2</td>\n",
              "      <td>2.300</td>\n",
              "      <td>157.0</td>\n",
              "      <td>4.060</td>\n",
              "      <td>7.3</td>\n",
              "      <td>73.0</td>\n",
              "      <td>95.0</td>\n",
              "      <td>1.073</td>\n",
              "      <td>5.8</td>\n",
              "      <td>345.0</td>\n",
              "    </tr>\n",
              "    <tr>\n",
              "      <th>1</th>\n",
              "      <td>93706</td>\n",
              "      <td>39.6</td>\n",
              "      <td>39.6</td>\n",
              "      <td>0.0</td>\n",
              "      <td>69.0</td>\n",
              "      <td>6099.6</td>\n",
              "      <td>0.0</td>\n",
              "      <td>57.39</td>\n",
              "      <td>10.0</td>\n",
              "      <td>0.0</td>\n",
              "      <td>4.4</td>\n",
              "      <td>44.0</td>\n",
              "      <td>79.0</td>\n",
              "      <td>14.0</td>\n",
              "      <td>28.0</td>\n",
              "      <td>12.0</td>\n",
              "      <td>4.28</td>\n",
              "      <td>104.0</td>\n",
              "      <td>114.0</td>\n",
              "      <td>0.81</td>\n",
              "      <td>71.60</td>\n",
              "      <td>2.7</td>\n",
              "      <td>27.0</td>\n",
              "      <td>94.0</td>\n",
              "      <td>5.22</td>\n",
              "      <td>16.0</td>\n",
              "      <td>0.0</td>\n",
              "      <td>163.0</td>\n",
              "      <td>29.2</td>\n",
              "      <td>142.0</td>\n",
              "      <td>286.0</td>\n",
              "      <td>4.0</td>\n",
              "      <td>1.292</td>\n",
              "      <td>4.4</td>\n",
              "      <td>144.0</td>\n",
              "      <td>0.7</td>\n",
              "      <td>11.97</td>\n",
              "      <td>0.0</td>\n",
              "      <td>9.6</td>\n",
              "      <td>2.400</td>\n",
              "      <td>149.0</td>\n",
              "      <td>3.853</td>\n",
              "      <td>7.1</td>\n",
              "      <td>71.0</td>\n",
              "      <td>92.0</td>\n",
              "      <td>1.039</td>\n",
              "      <td>8.0</td>\n",
              "      <td>475.8</td>\n",
              "    </tr>\n",
              "    <tr>\n",
              "      <th>2</th>\n",
              "      <td>93707</td>\n",
              "      <td>41.6</td>\n",
              "      <td>41.6</td>\n",
              "      <td>0.0</td>\n",
              "      <td>209.0</td>\n",
              "      <td>18475.6</td>\n",
              "      <td>0.0</td>\n",
              "      <td>19.90</td>\n",
              "      <td>13.0</td>\n",
              "      <td>0.0</td>\n",
              "      <td>5.2</td>\n",
              "      <td>52.0</td>\n",
              "      <td>238.0</td>\n",
              "      <td>24.0</td>\n",
              "      <td>22.0</td>\n",
              "      <td>17.0</td>\n",
              "      <td>6.07</td>\n",
              "      <td>97.0</td>\n",
              "      <td>342.0</td>\n",
              "      <td>0.64</td>\n",
              "      <td>56.58</td>\n",
              "      <td>2.8</td>\n",
              "      <td>28.0</td>\n",
              "      <td>115.0</td>\n",
              "      <td>6.38</td>\n",
              "      <td>9.0</td>\n",
              "      <td>0.0</td>\n",
              "      <td>90.0</td>\n",
              "      <td>16.1</td>\n",
              "      <td>177.0</td>\n",
              "      <td>276.0</td>\n",
              "      <td>4.3</td>\n",
              "      <td>1.388</td>\n",
              "      <td>3.3</td>\n",
              "      <td>137.0</td>\n",
              "      <td>0.7</td>\n",
              "      <td>11.97</td>\n",
              "      <td>0.0</td>\n",
              "      <td>10.1</td>\n",
              "      <td>2.525</td>\n",
              "      <td>199.0</td>\n",
              "      <td>5.146</td>\n",
              "      <td>8.0</td>\n",
              "      <td>80.0</td>\n",
              "      <td>110.0</td>\n",
              "      <td>1.242</td>\n",
              "      <td>5.5</td>\n",
              "      <td>327.1</td>\n",
              "    </tr>\n",
              "    <tr>\n",
              "      <th>3</th>\n",
              "      <td>93708</td>\n",
              "      <td>9.1</td>\n",
              "      <td>9.1</td>\n",
              "      <td>0.0</td>\n",
              "      <td>47.0</td>\n",
              "      <td>4154.8</td>\n",
              "      <td>0.0</td>\n",
              "      <td>19.36</td>\n",
              "      <td>19.0</td>\n",
              "      <td>0.0</td>\n",
              "      <td>3.9</td>\n",
              "      <td>39.0</td>\n",
              "      <td>66.0</td>\n",
              "      <td>21.0</td>\n",
              "      <td>27.0</td>\n",
              "      <td>16.0</td>\n",
              "      <td>5.71</td>\n",
              "      <td>104.0</td>\n",
              "      <td>347.0</td>\n",
              "      <td>0.58</td>\n",
              "      <td>51.27</td>\n",
              "      <td>3.2</td>\n",
              "      <td>32.0</td>\n",
              "      <td>116.0</td>\n",
              "      <td>6.44</td>\n",
              "      <td>22.0</td>\n",
              "      <td>0.0</td>\n",
              "      <td>96.0</td>\n",
              "      <td>17.2</td>\n",
              "      <td>247.0</td>\n",
              "      <td>289.0</td>\n",
              "      <td>3.3</td>\n",
              "      <td>1.066</td>\n",
              "      <td>4.4</td>\n",
              "      <td>144.0</td>\n",
              "      <td>0.5</td>\n",
              "      <td>8.55</td>\n",
              "      <td>0.0</td>\n",
              "      <td>9.5</td>\n",
              "      <td>2.375</td>\n",
              "      <td>210.0</td>\n",
              "      <td>5.431</td>\n",
              "      <td>7.1</td>\n",
              "      <td>71.0</td>\n",
              "      <td>72.0</td>\n",
              "      <td>0.813</td>\n",
              "      <td>4.5</td>\n",
              "      <td>267.7</td>\n",
              "    </tr>\n",
              "    <tr>\n",
              "      <th>4</th>\n",
              "      <td>93709</td>\n",
              "      <td>26.4</td>\n",
              "      <td>26.4</td>\n",
              "      <td>0.0</td>\n",
              "      <td>215.0</td>\n",
              "      <td>19006.0</td>\n",
              "      <td>0.0</td>\n",
              "      <td>12.28</td>\n",
              "      <td>15.0</td>\n",
              "      <td>0.0</td>\n",
              "      <td>3.7</td>\n",
              "      <td>37.0</td>\n",
              "      <td>86.0</td>\n",
              "      <td>17.0</td>\n",
              "      <td>24.0</td>\n",
              "      <td>20.0</td>\n",
              "      <td>7.14</td>\n",
              "      <td>100.0</td>\n",
              "      <td>63.0</td>\n",
              "      <td>1.32</td>\n",
              "      <td>116.69</td>\n",
              "      <td>3.3</td>\n",
              "      <td>33.0</td>\n",
              "      <td>96.0</td>\n",
              "      <td>5.33</td>\n",
              "      <td>31.0</td>\n",
              "      <td>0.0</td>\n",
              "      <td>66.0</td>\n",
              "      <td>11.8</td>\n",
              "      <td>NaN</td>\n",
              "      <td>284.0</td>\n",
              "      <td>3.5</td>\n",
              "      <td>1.130</td>\n",
              "      <td>4.1</td>\n",
              "      <td>141.0</td>\n",
              "      <td>0.3</td>\n",
              "      <td>5.13</td>\n",
              "      <td>0.0</td>\n",
              "      <td>9.9</td>\n",
              "      <td>2.475</td>\n",
              "      <td>180.0</td>\n",
              "      <td>4.655</td>\n",
              "      <td>7.0</td>\n",
              "      <td>70.0</td>\n",
              "      <td>132.0</td>\n",
              "      <td>1.490</td>\n",
              "      <td>6.2</td>\n",
              "      <td>368.8</td>\n",
              "    </tr>\n",
              "  </tbody>\n",
              "</table>\n",
              "</div>"
            ],
            "text/plain": [
              "    SEQN  URXUMA  URXUMS  URDUMALC  ...  LBXSTR  LBDSTRSI  LBXSUA  LBDSUASI\n",
              "0  93705     3.2     3.2       0.0  ...    95.0     1.073     5.8     345.0\n",
              "1  93706    39.6    39.6       0.0  ...    92.0     1.039     8.0     475.8\n",
              "2  93707    41.6    41.6       0.0  ...   110.0     1.242     5.5     327.1\n",
              "3  93708     9.1     9.1       0.0  ...    72.0     0.813     4.5     267.7\n",
              "4  93709    26.4    26.4       0.0  ...   132.0     1.490     6.2     368.8\n",
              "\n",
              "[5 rows x 48 columns]"
            ]
          },
          "metadata": {
            "tags": []
          },
          "execution_count": 134
        }
      ]
    },
    {
      "cell_type": "markdown",
      "metadata": {
        "id": "I-Ib6455ecXY"
      },
      "source": [
        "*CBC_J*"
      ]
    },
    {
      "cell_type": "code",
      "metadata": {
        "colab": {
          "base_uri": "https://localhost:8080/"
        },
        "id": "wlOdukh9d8vY",
        "outputId": "3dc961fb-6cea-4e01-98e6-50594df9fac1"
      },
      "source": [
        "data_3 = '/content/CBC_J.xlsx'\n",
        "d3= pd.read_excel(data_3,\n",
        "sheet_name=0,\n",
        "header=0,\n",
        "index_col=False,\n",
        "keep_default_na=True\n",
        ")\n",
        "len(d3)"
      ],
      "execution_count": 135,
      "outputs": [
        {
          "output_type": "execute_result",
          "data": {
            "text/plain": [
              "8366"
            ]
          },
          "metadata": {
            "tags": []
          },
          "execution_count": 135
        }
      ]
    },
    {
      "cell_type": "code",
      "metadata": {
        "colab": {
          "base_uri": "https://localhost:8080/"
        },
        "id": "CbbxVMs0d8yf",
        "outputId": "6c807f1b-f3e1-4670-82d9-665cabe2fae8"
      },
      "source": [
        "dd2=pd.merge(dd1,d3,how='left')\n",
        "len(dd2)"
      ],
      "execution_count": 136,
      "outputs": [
        {
          "output_type": "execute_result",
          "data": {
            "text/plain": [
              "7936"
            ]
          },
          "metadata": {
            "tags": []
          },
          "execution_count": 136
        }
      ]
    },
    {
      "cell_type": "code",
      "metadata": {
        "colab": {
          "base_uri": "https://localhost:8080/",
          "height": 224
        },
        "id": "rudwAh-wH_CN",
        "outputId": "f013a70c-b585-4bb9-dedb-93cca96ef0f1"
      },
      "source": [
        "dd2.head()"
      ],
      "execution_count": 137,
      "outputs": [
        {
          "output_type": "execute_result",
          "data": {
            "text/html": [
              "<div>\n",
              "<style scoped>\n",
              "    .dataframe tbody tr th:only-of-type {\n",
              "        vertical-align: middle;\n",
              "    }\n",
              "\n",
              "    .dataframe tbody tr th {\n",
              "        vertical-align: top;\n",
              "    }\n",
              "\n",
              "    .dataframe thead th {\n",
              "        text-align: right;\n",
              "    }\n",
              "</style>\n",
              "<table border=\"1\" class=\"dataframe\">\n",
              "  <thead>\n",
              "    <tr style=\"text-align: right;\">\n",
              "      <th></th>\n",
              "      <th>SEQN</th>\n",
              "      <th>URXUMA</th>\n",
              "      <th>URXUMS</th>\n",
              "      <th>URDUMALC</th>\n",
              "      <th>URXUCR</th>\n",
              "      <th>URXCRS</th>\n",
              "      <th>URDUCRLC</th>\n",
              "      <th>URDACT</th>\n",
              "      <th>LBXSATSI</th>\n",
              "      <th>LBDSATLC</th>\n",
              "      <th>LBXSAL</th>\n",
              "      <th>LBDSALSI</th>\n",
              "      <th>LBXSAPSI</th>\n",
              "      <th>LBXSASSI</th>\n",
              "      <th>LBXSC3SI</th>\n",
              "      <th>LBXSBU</th>\n",
              "      <th>LBDSBUSI</th>\n",
              "      <th>LBXSCLSI</th>\n",
              "      <th>LBXSCK</th>\n",
              "      <th>LBXSCR</th>\n",
              "      <th>LBDSCRSI</th>\n",
              "      <th>LBXSGB</th>\n",
              "      <th>LBDSGBSI</th>\n",
              "      <th>LBXSGL</th>\n",
              "      <th>LBDSGLSI</th>\n",
              "      <th>LBXSGTSI</th>\n",
              "      <th>LBDSGTLC</th>\n",
              "      <th>LBXSIR</th>\n",
              "      <th>LBDSIRSI</th>\n",
              "      <th>LBXSLDSI</th>\n",
              "      <th>LBXSOSSI</th>\n",
              "      <th>LBXSPH</th>\n",
              "      <th>LBDSPHSI</th>\n",
              "      <th>LBXSKSI</th>\n",
              "      <th>LBXSNASI</th>\n",
              "      <th>LBXSTB</th>\n",
              "      <th>LBDSTBSI</th>\n",
              "      <th>LBDSTBLC</th>\n",
              "      <th>LBXSCA</th>\n",
              "      <th>LBDSCASI</th>\n",
              "      <th>LBXSCH</th>\n",
              "      <th>LBDSCHSI</th>\n",
              "      <th>LBXSTP</th>\n",
              "      <th>LBDSTPSI</th>\n",
              "      <th>LBXSTR</th>\n",
              "      <th>LBDSTRSI</th>\n",
              "      <th>LBXSUA</th>\n",
              "      <th>LBDSUASI</th>\n",
              "      <th>LBXWBCSI</th>\n",
              "      <th>LBXLYPCT</th>\n",
              "      <th>LBXMOPCT</th>\n",
              "      <th>LBXNEPCT</th>\n",
              "      <th>LBXEOPCT</th>\n",
              "      <th>LBXBAPCT</th>\n",
              "      <th>LBDLYMNO</th>\n",
              "      <th>LBDMONO</th>\n",
              "      <th>LBDNENO</th>\n",
              "      <th>LBDEONO</th>\n",
              "      <th>LBDBANO</th>\n",
              "      <th>LBXRBCSI</th>\n",
              "      <th>LBXHGB</th>\n",
              "      <th>LBXHCT</th>\n",
              "      <th>LBXMCVSI</th>\n",
              "      <th>LBXMCHSI</th>\n",
              "      <th>LBXMC</th>\n",
              "      <th>LBXRDW</th>\n",
              "      <th>LBXPLTSI</th>\n",
              "      <th>LBXMPSI</th>\n",
              "      <th>LBXNRBC</th>\n",
              "    </tr>\n",
              "  </thead>\n",
              "  <tbody>\n",
              "    <tr>\n",
              "      <th>0</th>\n",
              "      <td>93705</td>\n",
              "      <td>3.2</td>\n",
              "      <td>3.2</td>\n",
              "      <td>0.0</td>\n",
              "      <td>24.0</td>\n",
              "      <td>2121.6</td>\n",
              "      <td>0.0</td>\n",
              "      <td>13.33</td>\n",
              "      <td>16.0</td>\n",
              "      <td>0.0</td>\n",
              "      <td>4.4</td>\n",
              "      <td>44.0</td>\n",
              "      <td>74.0</td>\n",
              "      <td>20.0</td>\n",
              "      <td>31.0</td>\n",
              "      <td>11.0</td>\n",
              "      <td>3.93</td>\n",
              "      <td>100.0</td>\n",
              "      <td>166.0</td>\n",
              "      <td>0.92</td>\n",
              "      <td>81.33</td>\n",
              "      <td>2.9</td>\n",
              "      <td>29.0</td>\n",
              "      <td>85.0</td>\n",
              "      <td>4.72</td>\n",
              "      <td>21.0</td>\n",
              "      <td>0.0</td>\n",
              "      <td>94.0</td>\n",
              "      <td>16.8</td>\n",
              "      <td>174.0</td>\n",
              "      <td>280.0</td>\n",
              "      <td>4.0</td>\n",
              "      <td>1.292</td>\n",
              "      <td>4.0</td>\n",
              "      <td>141.0</td>\n",
              "      <td>0.6</td>\n",
              "      <td>10.26</td>\n",
              "      <td>0.0</td>\n",
              "      <td>9.2</td>\n",
              "      <td>2.300</td>\n",
              "      <td>157.0</td>\n",
              "      <td>4.060</td>\n",
              "      <td>7.3</td>\n",
              "      <td>73.0</td>\n",
              "      <td>95.0</td>\n",
              "      <td>1.073</td>\n",
              "      <td>5.8</td>\n",
              "      <td>345.0</td>\n",
              "      <td>8.6</td>\n",
              "      <td>40.0</td>\n",
              "      <td>7.4</td>\n",
              "      <td>48.8</td>\n",
              "      <td>2.9</td>\n",
              "      <td>1.0</td>\n",
              "      <td>3.4</td>\n",
              "      <td>0.6</td>\n",
              "      <td>4.2</td>\n",
              "      <td>0.2</td>\n",
              "      <td>0.1</td>\n",
              "      <td>5.48</td>\n",
              "      <td>11.9</td>\n",
              "      <td>36.7</td>\n",
              "      <td>67.0</td>\n",
              "      <td>21.7</td>\n",
              "      <td>32.4</td>\n",
              "      <td>15.6</td>\n",
              "      <td>309.0</td>\n",
              "      <td>7.9</td>\n",
              "      <td>0.0</td>\n",
              "    </tr>\n",
              "    <tr>\n",
              "      <th>1</th>\n",
              "      <td>93706</td>\n",
              "      <td>39.6</td>\n",
              "      <td>39.6</td>\n",
              "      <td>0.0</td>\n",
              "      <td>69.0</td>\n",
              "      <td>6099.6</td>\n",
              "      <td>0.0</td>\n",
              "      <td>57.39</td>\n",
              "      <td>10.0</td>\n",
              "      <td>0.0</td>\n",
              "      <td>4.4</td>\n",
              "      <td>44.0</td>\n",
              "      <td>79.0</td>\n",
              "      <td>14.0</td>\n",
              "      <td>28.0</td>\n",
              "      <td>12.0</td>\n",
              "      <td>4.28</td>\n",
              "      <td>104.0</td>\n",
              "      <td>114.0</td>\n",
              "      <td>0.81</td>\n",
              "      <td>71.60</td>\n",
              "      <td>2.7</td>\n",
              "      <td>27.0</td>\n",
              "      <td>94.0</td>\n",
              "      <td>5.22</td>\n",
              "      <td>16.0</td>\n",
              "      <td>0.0</td>\n",
              "      <td>163.0</td>\n",
              "      <td>29.2</td>\n",
              "      <td>142.0</td>\n",
              "      <td>286.0</td>\n",
              "      <td>4.0</td>\n",
              "      <td>1.292</td>\n",
              "      <td>4.4</td>\n",
              "      <td>144.0</td>\n",
              "      <td>0.7</td>\n",
              "      <td>11.97</td>\n",
              "      <td>0.0</td>\n",
              "      <td>9.6</td>\n",
              "      <td>2.400</td>\n",
              "      <td>149.0</td>\n",
              "      <td>3.853</td>\n",
              "      <td>7.1</td>\n",
              "      <td>71.0</td>\n",
              "      <td>92.0</td>\n",
              "      <td>1.039</td>\n",
              "      <td>8.0</td>\n",
              "      <td>475.8</td>\n",
              "      <td>6.1</td>\n",
              "      <td>24.6</td>\n",
              "      <td>9.1</td>\n",
              "      <td>61.4</td>\n",
              "      <td>4.3</td>\n",
              "      <td>0.8</td>\n",
              "      <td>1.5</td>\n",
              "      <td>0.6</td>\n",
              "      <td>3.7</td>\n",
              "      <td>0.3</td>\n",
              "      <td>0.0</td>\n",
              "      <td>5.24</td>\n",
              "      <td>16.3</td>\n",
              "      <td>47.0</td>\n",
              "      <td>89.7</td>\n",
              "      <td>31.1</td>\n",
              "      <td>34.7</td>\n",
              "      <td>12.2</td>\n",
              "      <td>233.0</td>\n",
              "      <td>6.6</td>\n",
              "      <td>0.0</td>\n",
              "    </tr>\n",
              "    <tr>\n",
              "      <th>2</th>\n",
              "      <td>93707</td>\n",
              "      <td>41.6</td>\n",
              "      <td>41.6</td>\n",
              "      <td>0.0</td>\n",
              "      <td>209.0</td>\n",
              "      <td>18475.6</td>\n",
              "      <td>0.0</td>\n",
              "      <td>19.90</td>\n",
              "      <td>13.0</td>\n",
              "      <td>0.0</td>\n",
              "      <td>5.2</td>\n",
              "      <td>52.0</td>\n",
              "      <td>238.0</td>\n",
              "      <td>24.0</td>\n",
              "      <td>22.0</td>\n",
              "      <td>17.0</td>\n",
              "      <td>6.07</td>\n",
              "      <td>97.0</td>\n",
              "      <td>342.0</td>\n",
              "      <td>0.64</td>\n",
              "      <td>56.58</td>\n",
              "      <td>2.8</td>\n",
              "      <td>28.0</td>\n",
              "      <td>115.0</td>\n",
              "      <td>6.38</td>\n",
              "      <td>9.0</td>\n",
              "      <td>0.0</td>\n",
              "      <td>90.0</td>\n",
              "      <td>16.1</td>\n",
              "      <td>177.0</td>\n",
              "      <td>276.0</td>\n",
              "      <td>4.3</td>\n",
              "      <td>1.388</td>\n",
              "      <td>3.3</td>\n",
              "      <td>137.0</td>\n",
              "      <td>0.7</td>\n",
              "      <td>11.97</td>\n",
              "      <td>0.0</td>\n",
              "      <td>10.1</td>\n",
              "      <td>2.525</td>\n",
              "      <td>199.0</td>\n",
              "      <td>5.146</td>\n",
              "      <td>8.0</td>\n",
              "      <td>80.0</td>\n",
              "      <td>110.0</td>\n",
              "      <td>1.242</td>\n",
              "      <td>5.5</td>\n",
              "      <td>327.1</td>\n",
              "      <td>11.2</td>\n",
              "      <td>37.1</td>\n",
              "      <td>6.2</td>\n",
              "      <td>54.7</td>\n",
              "      <td>1.6</td>\n",
              "      <td>0.5</td>\n",
              "      <td>4.2</td>\n",
              "      <td>0.7</td>\n",
              "      <td>6.1</td>\n",
              "      <td>0.2</td>\n",
              "      <td>0.1</td>\n",
              "      <td>5.02</td>\n",
              "      <td>14.5</td>\n",
              "      <td>42.1</td>\n",
              "      <td>83.9</td>\n",
              "      <td>28.9</td>\n",
              "      <td>34.4</td>\n",
              "      <td>13.6</td>\n",
              "      <td>348.0</td>\n",
              "      <td>8.5</td>\n",
              "      <td>0.2</td>\n",
              "    </tr>\n",
              "    <tr>\n",
              "      <th>3</th>\n",
              "      <td>93708</td>\n",
              "      <td>9.1</td>\n",
              "      <td>9.1</td>\n",
              "      <td>0.0</td>\n",
              "      <td>47.0</td>\n",
              "      <td>4154.8</td>\n",
              "      <td>0.0</td>\n",
              "      <td>19.36</td>\n",
              "      <td>19.0</td>\n",
              "      <td>0.0</td>\n",
              "      <td>3.9</td>\n",
              "      <td>39.0</td>\n",
              "      <td>66.0</td>\n",
              "      <td>21.0</td>\n",
              "      <td>27.0</td>\n",
              "      <td>16.0</td>\n",
              "      <td>5.71</td>\n",
              "      <td>104.0</td>\n",
              "      <td>347.0</td>\n",
              "      <td>0.58</td>\n",
              "      <td>51.27</td>\n",
              "      <td>3.2</td>\n",
              "      <td>32.0</td>\n",
              "      <td>116.0</td>\n",
              "      <td>6.44</td>\n",
              "      <td>22.0</td>\n",
              "      <td>0.0</td>\n",
              "      <td>96.0</td>\n",
              "      <td>17.2</td>\n",
              "      <td>247.0</td>\n",
              "      <td>289.0</td>\n",
              "      <td>3.3</td>\n",
              "      <td>1.066</td>\n",
              "      <td>4.4</td>\n",
              "      <td>144.0</td>\n",
              "      <td>0.5</td>\n",
              "      <td>8.55</td>\n",
              "      <td>0.0</td>\n",
              "      <td>9.5</td>\n",
              "      <td>2.375</td>\n",
              "      <td>210.0</td>\n",
              "      <td>5.431</td>\n",
              "      <td>7.1</td>\n",
              "      <td>71.0</td>\n",
              "      <td>72.0</td>\n",
              "      <td>0.813</td>\n",
              "      <td>4.5</td>\n",
              "      <td>267.7</td>\n",
              "      <td>6.0</td>\n",
              "      <td>31.3</td>\n",
              "      <td>6.8</td>\n",
              "      <td>59.4</td>\n",
              "      <td>2.0</td>\n",
              "      <td>0.7</td>\n",
              "      <td>1.9</td>\n",
              "      <td>0.4</td>\n",
              "      <td>3.6</td>\n",
              "      <td>0.1</td>\n",
              "      <td>0.0</td>\n",
              "      <td>4.59</td>\n",
              "      <td>13.2</td>\n",
              "      <td>39.9</td>\n",
              "      <td>86.8</td>\n",
              "      <td>28.8</td>\n",
              "      <td>33.1</td>\n",
              "      <td>13.4</td>\n",
              "      <td>226.0</td>\n",
              "      <td>9.1</td>\n",
              "      <td>0.2</td>\n",
              "    </tr>\n",
              "    <tr>\n",
              "      <th>4</th>\n",
              "      <td>93709</td>\n",
              "      <td>26.4</td>\n",
              "      <td>26.4</td>\n",
              "      <td>0.0</td>\n",
              "      <td>215.0</td>\n",
              "      <td>19006.0</td>\n",
              "      <td>0.0</td>\n",
              "      <td>12.28</td>\n",
              "      <td>15.0</td>\n",
              "      <td>0.0</td>\n",
              "      <td>3.7</td>\n",
              "      <td>37.0</td>\n",
              "      <td>86.0</td>\n",
              "      <td>17.0</td>\n",
              "      <td>24.0</td>\n",
              "      <td>20.0</td>\n",
              "      <td>7.14</td>\n",
              "      <td>100.0</td>\n",
              "      <td>63.0</td>\n",
              "      <td>1.32</td>\n",
              "      <td>116.69</td>\n",
              "      <td>3.3</td>\n",
              "      <td>33.0</td>\n",
              "      <td>96.0</td>\n",
              "      <td>5.33</td>\n",
              "      <td>31.0</td>\n",
              "      <td>0.0</td>\n",
              "      <td>66.0</td>\n",
              "      <td>11.8</td>\n",
              "      <td>NaN</td>\n",
              "      <td>284.0</td>\n",
              "      <td>3.5</td>\n",
              "      <td>1.130</td>\n",
              "      <td>4.1</td>\n",
              "      <td>141.0</td>\n",
              "      <td>0.3</td>\n",
              "      <td>5.13</td>\n",
              "      <td>0.0</td>\n",
              "      <td>9.9</td>\n",
              "      <td>2.475</td>\n",
              "      <td>180.0</td>\n",
              "      <td>4.655</td>\n",
              "      <td>7.0</td>\n",
              "      <td>70.0</td>\n",
              "      <td>132.0</td>\n",
              "      <td>1.490</td>\n",
              "      <td>6.2</td>\n",
              "      <td>368.8</td>\n",
              "      <td>7.2</td>\n",
              "      <td>25.8</td>\n",
              "      <td>6.8</td>\n",
              "      <td>66.1</td>\n",
              "      <td>0.8</td>\n",
              "      <td>0.6</td>\n",
              "      <td>1.9</td>\n",
              "      <td>0.5</td>\n",
              "      <td>4.8</td>\n",
              "      <td>0.1</td>\n",
              "      <td>0.0</td>\n",
              "      <td>5.13</td>\n",
              "      <td>15.4</td>\n",
              "      <td>45.5</td>\n",
              "      <td>88.8</td>\n",
              "      <td>30.0</td>\n",
              "      <td>33.8</td>\n",
              "      <td>15.7</td>\n",
              "      <td>228.0</td>\n",
              "      <td>9.0</td>\n",
              "      <td>0.0</td>\n",
              "    </tr>\n",
              "  </tbody>\n",
              "</table>\n",
              "</div>"
            ],
            "text/plain": [
              "    SEQN  URXUMA  URXUMS  URDUMALC  ...  LBXRDW  LBXPLTSI  LBXMPSI  LBXNRBC\n",
              "0  93705     3.2     3.2       0.0  ...    15.6     309.0      7.9      0.0\n",
              "1  93706    39.6    39.6       0.0  ...    12.2     233.0      6.6      0.0\n",
              "2  93707    41.6    41.6       0.0  ...    13.6     348.0      8.5      0.2\n",
              "3  93708     9.1     9.1       0.0  ...    13.4     226.0      9.1      0.2\n",
              "4  93709    26.4    26.4       0.0  ...    15.7     228.0      9.0      0.0\n",
              "\n",
              "[5 rows x 69 columns]"
            ]
          },
          "metadata": {
            "tags": []
          },
          "execution_count": 137
        }
      ]
    },
    {
      "cell_type": "markdown",
      "metadata": {
        "id": "US0nsD2pesED"
      },
      "source": [
        "*CMV_J*"
      ]
    },
    {
      "cell_type": "code",
      "metadata": {
        "colab": {
          "base_uri": "https://localhost:8080/"
        },
        "id": "zekGPcJ_d82H",
        "outputId": "5dc76ffe-e344-47c0-8dd4-3fef5a86df84"
      },
      "source": [
        "data_4 = '/content/CMV_J.xlsx'\n",
        "d4= pd.read_excel(data_4,\n",
        "sheet_name=0,\n",
        "header=0,\n",
        "index_col=False,\n",
        "keep_default_na=True\n",
        ")\n",
        "len(d4)"
      ],
      "execution_count": 138,
      "outputs": [
        {
          "output_type": "execute_result",
          "data": {
            "text/plain": [
              "931"
            ]
          },
          "metadata": {
            "tags": []
          },
          "execution_count": 138
        }
      ]
    },
    {
      "cell_type": "code",
      "metadata": {
        "colab": {
          "base_uri": "https://localhost:8080/"
        },
        "id": "geBYKjo_d848",
        "outputId": "1dcf813c-0695-4159-ff6d-2eff5d7b299a"
      },
      "source": [
        "dd3=pd.merge(dd2,d4,how='left')\n",
        "len(dd3)"
      ],
      "execution_count": 139,
      "outputs": [
        {
          "output_type": "execute_result",
          "data": {
            "text/plain": [
              "7936"
            ]
          },
          "metadata": {
            "tags": []
          },
          "execution_count": 139
        }
      ]
    },
    {
      "cell_type": "code",
      "metadata": {
        "colab": {
          "base_uri": "https://localhost:8080/",
          "height": 224
        },
        "id": "P-SJwjogICg6",
        "outputId": "4851fc7e-131c-47e8-99b8-92e642fb618c"
      },
      "source": [
        "dd3.head()"
      ],
      "execution_count": 140,
      "outputs": [
        {
          "output_type": "execute_result",
          "data": {
            "text/html": [
              "<div>\n",
              "<style scoped>\n",
              "    .dataframe tbody tr th:only-of-type {\n",
              "        vertical-align: middle;\n",
              "    }\n",
              "\n",
              "    .dataframe tbody tr th {\n",
              "        vertical-align: top;\n",
              "    }\n",
              "\n",
              "    .dataframe thead th {\n",
              "        text-align: right;\n",
              "    }\n",
              "</style>\n",
              "<table border=\"1\" class=\"dataframe\">\n",
              "  <thead>\n",
              "    <tr style=\"text-align: right;\">\n",
              "      <th></th>\n",
              "      <th>SEQN</th>\n",
              "      <th>URXUMA</th>\n",
              "      <th>URXUMS</th>\n",
              "      <th>URDUMALC</th>\n",
              "      <th>URXUCR</th>\n",
              "      <th>URXCRS</th>\n",
              "      <th>URDUCRLC</th>\n",
              "      <th>URDACT</th>\n",
              "      <th>LBXSATSI</th>\n",
              "      <th>LBDSATLC</th>\n",
              "      <th>LBXSAL</th>\n",
              "      <th>LBDSALSI</th>\n",
              "      <th>LBXSAPSI</th>\n",
              "      <th>LBXSASSI</th>\n",
              "      <th>LBXSC3SI</th>\n",
              "      <th>LBXSBU</th>\n",
              "      <th>LBDSBUSI</th>\n",
              "      <th>LBXSCLSI</th>\n",
              "      <th>LBXSCK</th>\n",
              "      <th>LBXSCR</th>\n",
              "      <th>LBDSCRSI</th>\n",
              "      <th>LBXSGB</th>\n",
              "      <th>LBDSGBSI</th>\n",
              "      <th>LBXSGL</th>\n",
              "      <th>LBDSGLSI</th>\n",
              "      <th>LBXSGTSI</th>\n",
              "      <th>LBDSGTLC</th>\n",
              "      <th>LBXSIR</th>\n",
              "      <th>LBDSIRSI</th>\n",
              "      <th>LBXSLDSI</th>\n",
              "      <th>LBXSOSSI</th>\n",
              "      <th>LBXSPH</th>\n",
              "      <th>LBDSPHSI</th>\n",
              "      <th>LBXSKSI</th>\n",
              "      <th>LBXSNASI</th>\n",
              "      <th>LBXSTB</th>\n",
              "      <th>LBDSTBSI</th>\n",
              "      <th>LBDSTBLC</th>\n",
              "      <th>LBXSCA</th>\n",
              "      <th>LBDSCASI</th>\n",
              "      <th>LBXSCH</th>\n",
              "      <th>LBDSCHSI</th>\n",
              "      <th>LBXSTP</th>\n",
              "      <th>LBDSTPSI</th>\n",
              "      <th>LBXSTR</th>\n",
              "      <th>LBDSTRSI</th>\n",
              "      <th>LBXSUA</th>\n",
              "      <th>LBDSUASI</th>\n",
              "      <th>LBXWBCSI</th>\n",
              "      <th>LBXLYPCT</th>\n",
              "      <th>LBXMOPCT</th>\n",
              "      <th>LBXNEPCT</th>\n",
              "      <th>LBXEOPCT</th>\n",
              "      <th>LBXBAPCT</th>\n",
              "      <th>LBDLYMNO</th>\n",
              "      <th>LBDMONO</th>\n",
              "      <th>LBDNENO</th>\n",
              "      <th>LBDEONO</th>\n",
              "      <th>LBDBANO</th>\n",
              "      <th>LBXRBCSI</th>\n",
              "      <th>LBXHGB</th>\n",
              "      <th>LBXHCT</th>\n",
              "      <th>LBXMCVSI</th>\n",
              "      <th>LBXMCHSI</th>\n",
              "      <th>LBXMC</th>\n",
              "      <th>LBXRDW</th>\n",
              "      <th>LBXPLTSI</th>\n",
              "      <th>LBXMPSI</th>\n",
              "      <th>LBXNRBC</th>\n",
              "      <th>LBXIGG</th>\n",
              "      <th>LBXIGM</th>\n",
              "      <th>LBXIGGA</th>\n",
              "    </tr>\n",
              "  </thead>\n",
              "  <tbody>\n",
              "    <tr>\n",
              "      <th>0</th>\n",
              "      <td>93705</td>\n",
              "      <td>3.2</td>\n",
              "      <td>3.2</td>\n",
              "      <td>0.0</td>\n",
              "      <td>24.0</td>\n",
              "      <td>2121.6</td>\n",
              "      <td>0.0</td>\n",
              "      <td>13.33</td>\n",
              "      <td>16.0</td>\n",
              "      <td>0.0</td>\n",
              "      <td>4.4</td>\n",
              "      <td>44.0</td>\n",
              "      <td>74.0</td>\n",
              "      <td>20.0</td>\n",
              "      <td>31.0</td>\n",
              "      <td>11.0</td>\n",
              "      <td>3.93</td>\n",
              "      <td>100.0</td>\n",
              "      <td>166.0</td>\n",
              "      <td>0.92</td>\n",
              "      <td>81.33</td>\n",
              "      <td>2.9</td>\n",
              "      <td>29.0</td>\n",
              "      <td>85.0</td>\n",
              "      <td>4.72</td>\n",
              "      <td>21.0</td>\n",
              "      <td>0.0</td>\n",
              "      <td>94.0</td>\n",
              "      <td>16.8</td>\n",
              "      <td>174.0</td>\n",
              "      <td>280.0</td>\n",
              "      <td>4.0</td>\n",
              "      <td>1.292</td>\n",
              "      <td>4.0</td>\n",
              "      <td>141.0</td>\n",
              "      <td>0.6</td>\n",
              "      <td>10.26</td>\n",
              "      <td>0.0</td>\n",
              "      <td>9.2</td>\n",
              "      <td>2.300</td>\n",
              "      <td>157.0</td>\n",
              "      <td>4.060</td>\n",
              "      <td>7.3</td>\n",
              "      <td>73.0</td>\n",
              "      <td>95.0</td>\n",
              "      <td>1.073</td>\n",
              "      <td>5.8</td>\n",
              "      <td>345.0</td>\n",
              "      <td>8.6</td>\n",
              "      <td>40.0</td>\n",
              "      <td>7.4</td>\n",
              "      <td>48.8</td>\n",
              "      <td>2.9</td>\n",
              "      <td>1.0</td>\n",
              "      <td>3.4</td>\n",
              "      <td>0.6</td>\n",
              "      <td>4.2</td>\n",
              "      <td>0.2</td>\n",
              "      <td>0.1</td>\n",
              "      <td>5.48</td>\n",
              "      <td>11.9</td>\n",
              "      <td>36.7</td>\n",
              "      <td>67.0</td>\n",
              "      <td>21.7</td>\n",
              "      <td>32.4</td>\n",
              "      <td>15.6</td>\n",
              "      <td>309.0</td>\n",
              "      <td>7.9</td>\n",
              "      <td>0.0</td>\n",
              "      <td>NaN</td>\n",
              "      <td>NaN</td>\n",
              "      <td>NaN</td>\n",
              "    </tr>\n",
              "    <tr>\n",
              "      <th>1</th>\n",
              "      <td>93706</td>\n",
              "      <td>39.6</td>\n",
              "      <td>39.6</td>\n",
              "      <td>0.0</td>\n",
              "      <td>69.0</td>\n",
              "      <td>6099.6</td>\n",
              "      <td>0.0</td>\n",
              "      <td>57.39</td>\n",
              "      <td>10.0</td>\n",
              "      <td>0.0</td>\n",
              "      <td>4.4</td>\n",
              "      <td>44.0</td>\n",
              "      <td>79.0</td>\n",
              "      <td>14.0</td>\n",
              "      <td>28.0</td>\n",
              "      <td>12.0</td>\n",
              "      <td>4.28</td>\n",
              "      <td>104.0</td>\n",
              "      <td>114.0</td>\n",
              "      <td>0.81</td>\n",
              "      <td>71.60</td>\n",
              "      <td>2.7</td>\n",
              "      <td>27.0</td>\n",
              "      <td>94.0</td>\n",
              "      <td>5.22</td>\n",
              "      <td>16.0</td>\n",
              "      <td>0.0</td>\n",
              "      <td>163.0</td>\n",
              "      <td>29.2</td>\n",
              "      <td>142.0</td>\n",
              "      <td>286.0</td>\n",
              "      <td>4.0</td>\n",
              "      <td>1.292</td>\n",
              "      <td>4.4</td>\n",
              "      <td>144.0</td>\n",
              "      <td>0.7</td>\n",
              "      <td>11.97</td>\n",
              "      <td>0.0</td>\n",
              "      <td>9.6</td>\n",
              "      <td>2.400</td>\n",
              "      <td>149.0</td>\n",
              "      <td>3.853</td>\n",
              "      <td>7.1</td>\n",
              "      <td>71.0</td>\n",
              "      <td>92.0</td>\n",
              "      <td>1.039</td>\n",
              "      <td>8.0</td>\n",
              "      <td>475.8</td>\n",
              "      <td>6.1</td>\n",
              "      <td>24.6</td>\n",
              "      <td>9.1</td>\n",
              "      <td>61.4</td>\n",
              "      <td>4.3</td>\n",
              "      <td>0.8</td>\n",
              "      <td>1.5</td>\n",
              "      <td>0.6</td>\n",
              "      <td>3.7</td>\n",
              "      <td>0.3</td>\n",
              "      <td>0.0</td>\n",
              "      <td>5.24</td>\n",
              "      <td>16.3</td>\n",
              "      <td>47.0</td>\n",
              "      <td>89.7</td>\n",
              "      <td>31.1</td>\n",
              "      <td>34.7</td>\n",
              "      <td>12.2</td>\n",
              "      <td>233.0</td>\n",
              "      <td>6.6</td>\n",
              "      <td>0.0</td>\n",
              "      <td>NaN</td>\n",
              "      <td>NaN</td>\n",
              "      <td>NaN</td>\n",
              "    </tr>\n",
              "    <tr>\n",
              "      <th>2</th>\n",
              "      <td>93707</td>\n",
              "      <td>41.6</td>\n",
              "      <td>41.6</td>\n",
              "      <td>0.0</td>\n",
              "      <td>209.0</td>\n",
              "      <td>18475.6</td>\n",
              "      <td>0.0</td>\n",
              "      <td>19.90</td>\n",
              "      <td>13.0</td>\n",
              "      <td>0.0</td>\n",
              "      <td>5.2</td>\n",
              "      <td>52.0</td>\n",
              "      <td>238.0</td>\n",
              "      <td>24.0</td>\n",
              "      <td>22.0</td>\n",
              "      <td>17.0</td>\n",
              "      <td>6.07</td>\n",
              "      <td>97.0</td>\n",
              "      <td>342.0</td>\n",
              "      <td>0.64</td>\n",
              "      <td>56.58</td>\n",
              "      <td>2.8</td>\n",
              "      <td>28.0</td>\n",
              "      <td>115.0</td>\n",
              "      <td>6.38</td>\n",
              "      <td>9.0</td>\n",
              "      <td>0.0</td>\n",
              "      <td>90.0</td>\n",
              "      <td>16.1</td>\n",
              "      <td>177.0</td>\n",
              "      <td>276.0</td>\n",
              "      <td>4.3</td>\n",
              "      <td>1.388</td>\n",
              "      <td>3.3</td>\n",
              "      <td>137.0</td>\n",
              "      <td>0.7</td>\n",
              "      <td>11.97</td>\n",
              "      <td>0.0</td>\n",
              "      <td>10.1</td>\n",
              "      <td>2.525</td>\n",
              "      <td>199.0</td>\n",
              "      <td>5.146</td>\n",
              "      <td>8.0</td>\n",
              "      <td>80.0</td>\n",
              "      <td>110.0</td>\n",
              "      <td>1.242</td>\n",
              "      <td>5.5</td>\n",
              "      <td>327.1</td>\n",
              "      <td>11.2</td>\n",
              "      <td>37.1</td>\n",
              "      <td>6.2</td>\n",
              "      <td>54.7</td>\n",
              "      <td>1.6</td>\n",
              "      <td>0.5</td>\n",
              "      <td>4.2</td>\n",
              "      <td>0.7</td>\n",
              "      <td>6.1</td>\n",
              "      <td>0.2</td>\n",
              "      <td>0.1</td>\n",
              "      <td>5.02</td>\n",
              "      <td>14.5</td>\n",
              "      <td>42.1</td>\n",
              "      <td>83.9</td>\n",
              "      <td>28.9</td>\n",
              "      <td>34.4</td>\n",
              "      <td>13.6</td>\n",
              "      <td>348.0</td>\n",
              "      <td>8.5</td>\n",
              "      <td>0.2</td>\n",
              "      <td>NaN</td>\n",
              "      <td>NaN</td>\n",
              "      <td>NaN</td>\n",
              "    </tr>\n",
              "    <tr>\n",
              "      <th>3</th>\n",
              "      <td>93708</td>\n",
              "      <td>9.1</td>\n",
              "      <td>9.1</td>\n",
              "      <td>0.0</td>\n",
              "      <td>47.0</td>\n",
              "      <td>4154.8</td>\n",
              "      <td>0.0</td>\n",
              "      <td>19.36</td>\n",
              "      <td>19.0</td>\n",
              "      <td>0.0</td>\n",
              "      <td>3.9</td>\n",
              "      <td>39.0</td>\n",
              "      <td>66.0</td>\n",
              "      <td>21.0</td>\n",
              "      <td>27.0</td>\n",
              "      <td>16.0</td>\n",
              "      <td>5.71</td>\n",
              "      <td>104.0</td>\n",
              "      <td>347.0</td>\n",
              "      <td>0.58</td>\n",
              "      <td>51.27</td>\n",
              "      <td>3.2</td>\n",
              "      <td>32.0</td>\n",
              "      <td>116.0</td>\n",
              "      <td>6.44</td>\n",
              "      <td>22.0</td>\n",
              "      <td>0.0</td>\n",
              "      <td>96.0</td>\n",
              "      <td>17.2</td>\n",
              "      <td>247.0</td>\n",
              "      <td>289.0</td>\n",
              "      <td>3.3</td>\n",
              "      <td>1.066</td>\n",
              "      <td>4.4</td>\n",
              "      <td>144.0</td>\n",
              "      <td>0.5</td>\n",
              "      <td>8.55</td>\n",
              "      <td>0.0</td>\n",
              "      <td>9.5</td>\n",
              "      <td>2.375</td>\n",
              "      <td>210.0</td>\n",
              "      <td>5.431</td>\n",
              "      <td>7.1</td>\n",
              "      <td>71.0</td>\n",
              "      <td>72.0</td>\n",
              "      <td>0.813</td>\n",
              "      <td>4.5</td>\n",
              "      <td>267.7</td>\n",
              "      <td>6.0</td>\n",
              "      <td>31.3</td>\n",
              "      <td>6.8</td>\n",
              "      <td>59.4</td>\n",
              "      <td>2.0</td>\n",
              "      <td>0.7</td>\n",
              "      <td>1.9</td>\n",
              "      <td>0.4</td>\n",
              "      <td>3.6</td>\n",
              "      <td>0.1</td>\n",
              "      <td>0.0</td>\n",
              "      <td>4.59</td>\n",
              "      <td>13.2</td>\n",
              "      <td>39.9</td>\n",
              "      <td>86.8</td>\n",
              "      <td>28.8</td>\n",
              "      <td>33.1</td>\n",
              "      <td>13.4</td>\n",
              "      <td>226.0</td>\n",
              "      <td>9.1</td>\n",
              "      <td>0.2</td>\n",
              "      <td>NaN</td>\n",
              "      <td>NaN</td>\n",
              "      <td>NaN</td>\n",
              "    </tr>\n",
              "    <tr>\n",
              "      <th>4</th>\n",
              "      <td>93709</td>\n",
              "      <td>26.4</td>\n",
              "      <td>26.4</td>\n",
              "      <td>0.0</td>\n",
              "      <td>215.0</td>\n",
              "      <td>19006.0</td>\n",
              "      <td>0.0</td>\n",
              "      <td>12.28</td>\n",
              "      <td>15.0</td>\n",
              "      <td>0.0</td>\n",
              "      <td>3.7</td>\n",
              "      <td>37.0</td>\n",
              "      <td>86.0</td>\n",
              "      <td>17.0</td>\n",
              "      <td>24.0</td>\n",
              "      <td>20.0</td>\n",
              "      <td>7.14</td>\n",
              "      <td>100.0</td>\n",
              "      <td>63.0</td>\n",
              "      <td>1.32</td>\n",
              "      <td>116.69</td>\n",
              "      <td>3.3</td>\n",
              "      <td>33.0</td>\n",
              "      <td>96.0</td>\n",
              "      <td>5.33</td>\n",
              "      <td>31.0</td>\n",
              "      <td>0.0</td>\n",
              "      <td>66.0</td>\n",
              "      <td>11.8</td>\n",
              "      <td>NaN</td>\n",
              "      <td>284.0</td>\n",
              "      <td>3.5</td>\n",
              "      <td>1.130</td>\n",
              "      <td>4.1</td>\n",
              "      <td>141.0</td>\n",
              "      <td>0.3</td>\n",
              "      <td>5.13</td>\n",
              "      <td>0.0</td>\n",
              "      <td>9.9</td>\n",
              "      <td>2.475</td>\n",
              "      <td>180.0</td>\n",
              "      <td>4.655</td>\n",
              "      <td>7.0</td>\n",
              "      <td>70.0</td>\n",
              "      <td>132.0</td>\n",
              "      <td>1.490</td>\n",
              "      <td>6.2</td>\n",
              "      <td>368.8</td>\n",
              "      <td>7.2</td>\n",
              "      <td>25.8</td>\n",
              "      <td>6.8</td>\n",
              "      <td>66.1</td>\n",
              "      <td>0.8</td>\n",
              "      <td>0.6</td>\n",
              "      <td>1.9</td>\n",
              "      <td>0.5</td>\n",
              "      <td>4.8</td>\n",
              "      <td>0.1</td>\n",
              "      <td>0.0</td>\n",
              "      <td>5.13</td>\n",
              "      <td>15.4</td>\n",
              "      <td>45.5</td>\n",
              "      <td>88.8</td>\n",
              "      <td>30.0</td>\n",
              "      <td>33.8</td>\n",
              "      <td>15.7</td>\n",
              "      <td>228.0</td>\n",
              "      <td>9.0</td>\n",
              "      <td>0.0</td>\n",
              "      <td>NaN</td>\n",
              "      <td>NaN</td>\n",
              "      <td>NaN</td>\n",
              "    </tr>\n",
              "  </tbody>\n",
              "</table>\n",
              "</div>"
            ],
            "text/plain": [
              "    SEQN  URXUMA  URXUMS  URDUMALC  ...  LBXNRBC  LBXIGG  LBXIGM  LBXIGGA\n",
              "0  93705     3.2     3.2       0.0  ...      0.0     NaN     NaN      NaN\n",
              "1  93706    39.6    39.6       0.0  ...      0.0     NaN     NaN      NaN\n",
              "2  93707    41.6    41.6       0.0  ...      0.2     NaN     NaN      NaN\n",
              "3  93708     9.1     9.1       0.0  ...      0.2     NaN     NaN      NaN\n",
              "4  93709    26.4    26.4       0.0  ...      0.0     NaN     NaN      NaN\n",
              "\n",
              "[5 rows x 72 columns]"
            ]
          },
          "metadata": {
            "tags": []
          },
          "execution_count": 140
        }
      ]
    },
    {
      "cell_type": "markdown",
      "metadata": {
        "id": "O54jXs5xe566"
      },
      "source": [
        "*COT_J*"
      ]
    },
    {
      "cell_type": "code",
      "metadata": {
        "colab": {
          "base_uri": "https://localhost:8080/"
        },
        "id": "3jLg3vyVd88W",
        "outputId": "c5b1531b-8ab9-4031-9824-a79993461258"
      },
      "source": [
        "data_5 = '/content/COT_J.xlsx'\n",
        "d5= pd.read_excel(data_5,\n",
        "sheet_name=0,\n",
        "header=0,\n",
        "index_col=False,\n",
        "keep_default_na=True\n",
        ")\n",
        "len(d5)"
      ],
      "execution_count": 141,
      "outputs": [
        {
          "output_type": "execute_result",
          "data": {
            "text/plain": [
              "7936"
            ]
          },
          "metadata": {
            "tags": []
          },
          "execution_count": 141
        }
      ]
    },
    {
      "cell_type": "code",
      "metadata": {
        "colab": {
          "base_uri": "https://localhost:8080/"
        },
        "id": "6q13AEUvd8-T",
        "outputId": "2cfa5099-cb1f-41c2-cada-c42844d8fc95"
      },
      "source": [
        "dd4=pd.merge(dd3,d5,how='left')\n",
        "len(dd4)"
      ],
      "execution_count": 142,
      "outputs": [
        {
          "output_type": "execute_result",
          "data": {
            "text/plain": [
              "7936"
            ]
          },
          "metadata": {
            "tags": []
          },
          "execution_count": 142
        }
      ]
    },
    {
      "cell_type": "code",
      "metadata": {
        "colab": {
          "base_uri": "https://localhost:8080/",
          "height": 224
        },
        "id": "p0_sfSfIIG54",
        "outputId": "1c8db689-5a26-4e36-82df-67c1a2c9e67c"
      },
      "source": [
        "dd4.head()"
      ],
      "execution_count": 143,
      "outputs": [
        {
          "output_type": "execute_result",
          "data": {
            "text/html": [
              "<div>\n",
              "<style scoped>\n",
              "    .dataframe tbody tr th:only-of-type {\n",
              "        vertical-align: middle;\n",
              "    }\n",
              "\n",
              "    .dataframe tbody tr th {\n",
              "        vertical-align: top;\n",
              "    }\n",
              "\n",
              "    .dataframe thead th {\n",
              "        text-align: right;\n",
              "    }\n",
              "</style>\n",
              "<table border=\"1\" class=\"dataframe\">\n",
              "  <thead>\n",
              "    <tr style=\"text-align: right;\">\n",
              "      <th></th>\n",
              "      <th>SEQN</th>\n",
              "      <th>URXUMA</th>\n",
              "      <th>URXUMS</th>\n",
              "      <th>URDUMALC</th>\n",
              "      <th>URXUCR</th>\n",
              "      <th>URXCRS</th>\n",
              "      <th>URDUCRLC</th>\n",
              "      <th>URDACT</th>\n",
              "      <th>LBXSATSI</th>\n",
              "      <th>LBDSATLC</th>\n",
              "      <th>LBXSAL</th>\n",
              "      <th>LBDSALSI</th>\n",
              "      <th>LBXSAPSI</th>\n",
              "      <th>LBXSASSI</th>\n",
              "      <th>LBXSC3SI</th>\n",
              "      <th>LBXSBU</th>\n",
              "      <th>LBDSBUSI</th>\n",
              "      <th>LBXSCLSI</th>\n",
              "      <th>LBXSCK</th>\n",
              "      <th>LBXSCR</th>\n",
              "      <th>LBDSCRSI</th>\n",
              "      <th>LBXSGB</th>\n",
              "      <th>LBDSGBSI</th>\n",
              "      <th>LBXSGL</th>\n",
              "      <th>LBDSGLSI</th>\n",
              "      <th>LBXSGTSI</th>\n",
              "      <th>LBDSGTLC</th>\n",
              "      <th>LBXSIR</th>\n",
              "      <th>LBDSIRSI</th>\n",
              "      <th>LBXSLDSI</th>\n",
              "      <th>LBXSOSSI</th>\n",
              "      <th>LBXSPH</th>\n",
              "      <th>LBDSPHSI</th>\n",
              "      <th>LBXSKSI</th>\n",
              "      <th>LBXSNASI</th>\n",
              "      <th>LBXSTB</th>\n",
              "      <th>LBDSTBSI</th>\n",
              "      <th>LBDSTBLC</th>\n",
              "      <th>LBXSCA</th>\n",
              "      <th>LBDSCASI</th>\n",
              "      <th>LBXSCH</th>\n",
              "      <th>LBDSCHSI</th>\n",
              "      <th>LBXSTP</th>\n",
              "      <th>LBDSTPSI</th>\n",
              "      <th>LBXSTR</th>\n",
              "      <th>LBDSTRSI</th>\n",
              "      <th>LBXSUA</th>\n",
              "      <th>LBDSUASI</th>\n",
              "      <th>LBXWBCSI</th>\n",
              "      <th>LBXLYPCT</th>\n",
              "      <th>LBXMOPCT</th>\n",
              "      <th>LBXNEPCT</th>\n",
              "      <th>LBXEOPCT</th>\n",
              "      <th>LBXBAPCT</th>\n",
              "      <th>LBDLYMNO</th>\n",
              "      <th>LBDMONO</th>\n",
              "      <th>LBDNENO</th>\n",
              "      <th>LBDEONO</th>\n",
              "      <th>LBDBANO</th>\n",
              "      <th>LBXRBCSI</th>\n",
              "      <th>LBXHGB</th>\n",
              "      <th>LBXHCT</th>\n",
              "      <th>LBXMCVSI</th>\n",
              "      <th>LBXMCHSI</th>\n",
              "      <th>LBXMC</th>\n",
              "      <th>LBXRDW</th>\n",
              "      <th>LBXPLTSI</th>\n",
              "      <th>LBXMPSI</th>\n",
              "      <th>LBXNRBC</th>\n",
              "      <th>LBXIGG</th>\n",
              "      <th>LBXIGM</th>\n",
              "      <th>LBXIGGA</th>\n",
              "      <th>LBXCOT</th>\n",
              "      <th>LBDCOTLC</th>\n",
              "      <th>LBDHCTLC</th>\n",
              "    </tr>\n",
              "  </thead>\n",
              "  <tbody>\n",
              "    <tr>\n",
              "      <th>0</th>\n",
              "      <td>93705</td>\n",
              "      <td>3.2</td>\n",
              "      <td>3.2</td>\n",
              "      <td>0.0</td>\n",
              "      <td>24.0</td>\n",
              "      <td>2121.6</td>\n",
              "      <td>0.0</td>\n",
              "      <td>13.33</td>\n",
              "      <td>16.0</td>\n",
              "      <td>0.0</td>\n",
              "      <td>4.4</td>\n",
              "      <td>44.0</td>\n",
              "      <td>74.0</td>\n",
              "      <td>20.0</td>\n",
              "      <td>31.0</td>\n",
              "      <td>11.0</td>\n",
              "      <td>3.93</td>\n",
              "      <td>100.0</td>\n",
              "      <td>166.0</td>\n",
              "      <td>0.92</td>\n",
              "      <td>81.33</td>\n",
              "      <td>2.9</td>\n",
              "      <td>29.0</td>\n",
              "      <td>85.0</td>\n",
              "      <td>4.72</td>\n",
              "      <td>21.0</td>\n",
              "      <td>0.0</td>\n",
              "      <td>94.0</td>\n",
              "      <td>16.8</td>\n",
              "      <td>174.0</td>\n",
              "      <td>280.0</td>\n",
              "      <td>4.0</td>\n",
              "      <td>1.292</td>\n",
              "      <td>4.0</td>\n",
              "      <td>141.0</td>\n",
              "      <td>0.6</td>\n",
              "      <td>10.26</td>\n",
              "      <td>0.0</td>\n",
              "      <td>9.2</td>\n",
              "      <td>2.300</td>\n",
              "      <td>157.0</td>\n",
              "      <td>4.060</td>\n",
              "      <td>7.3</td>\n",
              "      <td>73.0</td>\n",
              "      <td>95.0</td>\n",
              "      <td>1.073</td>\n",
              "      <td>5.8</td>\n",
              "      <td>345.0</td>\n",
              "      <td>8.6</td>\n",
              "      <td>40.0</td>\n",
              "      <td>7.4</td>\n",
              "      <td>48.8</td>\n",
              "      <td>2.9</td>\n",
              "      <td>1.0</td>\n",
              "      <td>3.4</td>\n",
              "      <td>0.6</td>\n",
              "      <td>4.2</td>\n",
              "      <td>0.2</td>\n",
              "      <td>0.1</td>\n",
              "      <td>5.48</td>\n",
              "      <td>11.9</td>\n",
              "      <td>36.7</td>\n",
              "      <td>67.0</td>\n",
              "      <td>21.7</td>\n",
              "      <td>32.4</td>\n",
              "      <td>15.6</td>\n",
              "      <td>309.0</td>\n",
              "      <td>7.9</td>\n",
              "      <td>0.0</td>\n",
              "      <td>NaN</td>\n",
              "      <td>NaN</td>\n",
              "      <td>NaN</td>\n",
              "      <td>NaN</td>\n",
              "      <td>NaN</td>\n",
              "      <td>NaN</td>\n",
              "    </tr>\n",
              "    <tr>\n",
              "      <th>1</th>\n",
              "      <td>93706</td>\n",
              "      <td>39.6</td>\n",
              "      <td>39.6</td>\n",
              "      <td>0.0</td>\n",
              "      <td>69.0</td>\n",
              "      <td>6099.6</td>\n",
              "      <td>0.0</td>\n",
              "      <td>57.39</td>\n",
              "      <td>10.0</td>\n",
              "      <td>0.0</td>\n",
              "      <td>4.4</td>\n",
              "      <td>44.0</td>\n",
              "      <td>79.0</td>\n",
              "      <td>14.0</td>\n",
              "      <td>28.0</td>\n",
              "      <td>12.0</td>\n",
              "      <td>4.28</td>\n",
              "      <td>104.0</td>\n",
              "      <td>114.0</td>\n",
              "      <td>0.81</td>\n",
              "      <td>71.60</td>\n",
              "      <td>2.7</td>\n",
              "      <td>27.0</td>\n",
              "      <td>94.0</td>\n",
              "      <td>5.22</td>\n",
              "      <td>16.0</td>\n",
              "      <td>0.0</td>\n",
              "      <td>163.0</td>\n",
              "      <td>29.2</td>\n",
              "      <td>142.0</td>\n",
              "      <td>286.0</td>\n",
              "      <td>4.0</td>\n",
              "      <td>1.292</td>\n",
              "      <td>4.4</td>\n",
              "      <td>144.0</td>\n",
              "      <td>0.7</td>\n",
              "      <td>11.97</td>\n",
              "      <td>0.0</td>\n",
              "      <td>9.6</td>\n",
              "      <td>2.400</td>\n",
              "      <td>149.0</td>\n",
              "      <td>3.853</td>\n",
              "      <td>7.1</td>\n",
              "      <td>71.0</td>\n",
              "      <td>92.0</td>\n",
              "      <td>1.039</td>\n",
              "      <td>8.0</td>\n",
              "      <td>475.8</td>\n",
              "      <td>6.1</td>\n",
              "      <td>24.6</td>\n",
              "      <td>9.1</td>\n",
              "      <td>61.4</td>\n",
              "      <td>4.3</td>\n",
              "      <td>0.8</td>\n",
              "      <td>1.5</td>\n",
              "      <td>0.6</td>\n",
              "      <td>3.7</td>\n",
              "      <td>0.3</td>\n",
              "      <td>0.0</td>\n",
              "      <td>5.24</td>\n",
              "      <td>16.3</td>\n",
              "      <td>47.0</td>\n",
              "      <td>89.7</td>\n",
              "      <td>31.1</td>\n",
              "      <td>34.7</td>\n",
              "      <td>12.2</td>\n",
              "      <td>233.0</td>\n",
              "      <td>6.6</td>\n",
              "      <td>0.0</td>\n",
              "      <td>NaN</td>\n",
              "      <td>NaN</td>\n",
              "      <td>NaN</td>\n",
              "      <td>NaN</td>\n",
              "      <td>NaN</td>\n",
              "      <td>NaN</td>\n",
              "    </tr>\n",
              "    <tr>\n",
              "      <th>2</th>\n",
              "      <td>93707</td>\n",
              "      <td>41.6</td>\n",
              "      <td>41.6</td>\n",
              "      <td>0.0</td>\n",
              "      <td>209.0</td>\n",
              "      <td>18475.6</td>\n",
              "      <td>0.0</td>\n",
              "      <td>19.90</td>\n",
              "      <td>13.0</td>\n",
              "      <td>0.0</td>\n",
              "      <td>5.2</td>\n",
              "      <td>52.0</td>\n",
              "      <td>238.0</td>\n",
              "      <td>24.0</td>\n",
              "      <td>22.0</td>\n",
              "      <td>17.0</td>\n",
              "      <td>6.07</td>\n",
              "      <td>97.0</td>\n",
              "      <td>342.0</td>\n",
              "      <td>0.64</td>\n",
              "      <td>56.58</td>\n",
              "      <td>2.8</td>\n",
              "      <td>28.0</td>\n",
              "      <td>115.0</td>\n",
              "      <td>6.38</td>\n",
              "      <td>9.0</td>\n",
              "      <td>0.0</td>\n",
              "      <td>90.0</td>\n",
              "      <td>16.1</td>\n",
              "      <td>177.0</td>\n",
              "      <td>276.0</td>\n",
              "      <td>4.3</td>\n",
              "      <td>1.388</td>\n",
              "      <td>3.3</td>\n",
              "      <td>137.0</td>\n",
              "      <td>0.7</td>\n",
              "      <td>11.97</td>\n",
              "      <td>0.0</td>\n",
              "      <td>10.1</td>\n",
              "      <td>2.525</td>\n",
              "      <td>199.0</td>\n",
              "      <td>5.146</td>\n",
              "      <td>8.0</td>\n",
              "      <td>80.0</td>\n",
              "      <td>110.0</td>\n",
              "      <td>1.242</td>\n",
              "      <td>5.5</td>\n",
              "      <td>327.1</td>\n",
              "      <td>11.2</td>\n",
              "      <td>37.1</td>\n",
              "      <td>6.2</td>\n",
              "      <td>54.7</td>\n",
              "      <td>1.6</td>\n",
              "      <td>0.5</td>\n",
              "      <td>4.2</td>\n",
              "      <td>0.7</td>\n",
              "      <td>6.1</td>\n",
              "      <td>0.2</td>\n",
              "      <td>0.1</td>\n",
              "      <td>5.02</td>\n",
              "      <td>14.5</td>\n",
              "      <td>42.1</td>\n",
              "      <td>83.9</td>\n",
              "      <td>28.9</td>\n",
              "      <td>34.4</td>\n",
              "      <td>13.6</td>\n",
              "      <td>348.0</td>\n",
              "      <td>8.5</td>\n",
              "      <td>0.2</td>\n",
              "      <td>NaN</td>\n",
              "      <td>NaN</td>\n",
              "      <td>NaN</td>\n",
              "      <td>NaN</td>\n",
              "      <td>NaN</td>\n",
              "      <td>NaN</td>\n",
              "    </tr>\n",
              "    <tr>\n",
              "      <th>3</th>\n",
              "      <td>93708</td>\n",
              "      <td>9.1</td>\n",
              "      <td>9.1</td>\n",
              "      <td>0.0</td>\n",
              "      <td>47.0</td>\n",
              "      <td>4154.8</td>\n",
              "      <td>0.0</td>\n",
              "      <td>19.36</td>\n",
              "      <td>19.0</td>\n",
              "      <td>0.0</td>\n",
              "      <td>3.9</td>\n",
              "      <td>39.0</td>\n",
              "      <td>66.0</td>\n",
              "      <td>21.0</td>\n",
              "      <td>27.0</td>\n",
              "      <td>16.0</td>\n",
              "      <td>5.71</td>\n",
              "      <td>104.0</td>\n",
              "      <td>347.0</td>\n",
              "      <td>0.58</td>\n",
              "      <td>51.27</td>\n",
              "      <td>3.2</td>\n",
              "      <td>32.0</td>\n",
              "      <td>116.0</td>\n",
              "      <td>6.44</td>\n",
              "      <td>22.0</td>\n",
              "      <td>0.0</td>\n",
              "      <td>96.0</td>\n",
              "      <td>17.2</td>\n",
              "      <td>247.0</td>\n",
              "      <td>289.0</td>\n",
              "      <td>3.3</td>\n",
              "      <td>1.066</td>\n",
              "      <td>4.4</td>\n",
              "      <td>144.0</td>\n",
              "      <td>0.5</td>\n",
              "      <td>8.55</td>\n",
              "      <td>0.0</td>\n",
              "      <td>9.5</td>\n",
              "      <td>2.375</td>\n",
              "      <td>210.0</td>\n",
              "      <td>5.431</td>\n",
              "      <td>7.1</td>\n",
              "      <td>71.0</td>\n",
              "      <td>72.0</td>\n",
              "      <td>0.813</td>\n",
              "      <td>4.5</td>\n",
              "      <td>267.7</td>\n",
              "      <td>6.0</td>\n",
              "      <td>31.3</td>\n",
              "      <td>6.8</td>\n",
              "      <td>59.4</td>\n",
              "      <td>2.0</td>\n",
              "      <td>0.7</td>\n",
              "      <td>1.9</td>\n",
              "      <td>0.4</td>\n",
              "      <td>3.6</td>\n",
              "      <td>0.1</td>\n",
              "      <td>0.0</td>\n",
              "      <td>4.59</td>\n",
              "      <td>13.2</td>\n",
              "      <td>39.9</td>\n",
              "      <td>86.8</td>\n",
              "      <td>28.8</td>\n",
              "      <td>33.1</td>\n",
              "      <td>13.4</td>\n",
              "      <td>226.0</td>\n",
              "      <td>9.1</td>\n",
              "      <td>0.2</td>\n",
              "      <td>NaN</td>\n",
              "      <td>NaN</td>\n",
              "      <td>NaN</td>\n",
              "      <td>NaN</td>\n",
              "      <td>NaN</td>\n",
              "      <td>NaN</td>\n",
              "    </tr>\n",
              "    <tr>\n",
              "      <th>4</th>\n",
              "      <td>93709</td>\n",
              "      <td>26.4</td>\n",
              "      <td>26.4</td>\n",
              "      <td>0.0</td>\n",
              "      <td>215.0</td>\n",
              "      <td>19006.0</td>\n",
              "      <td>0.0</td>\n",
              "      <td>12.28</td>\n",
              "      <td>15.0</td>\n",
              "      <td>0.0</td>\n",
              "      <td>3.7</td>\n",
              "      <td>37.0</td>\n",
              "      <td>86.0</td>\n",
              "      <td>17.0</td>\n",
              "      <td>24.0</td>\n",
              "      <td>20.0</td>\n",
              "      <td>7.14</td>\n",
              "      <td>100.0</td>\n",
              "      <td>63.0</td>\n",
              "      <td>1.32</td>\n",
              "      <td>116.69</td>\n",
              "      <td>3.3</td>\n",
              "      <td>33.0</td>\n",
              "      <td>96.0</td>\n",
              "      <td>5.33</td>\n",
              "      <td>31.0</td>\n",
              "      <td>0.0</td>\n",
              "      <td>66.0</td>\n",
              "      <td>11.8</td>\n",
              "      <td>NaN</td>\n",
              "      <td>284.0</td>\n",
              "      <td>3.5</td>\n",
              "      <td>1.130</td>\n",
              "      <td>4.1</td>\n",
              "      <td>141.0</td>\n",
              "      <td>0.3</td>\n",
              "      <td>5.13</td>\n",
              "      <td>0.0</td>\n",
              "      <td>9.9</td>\n",
              "      <td>2.475</td>\n",
              "      <td>180.0</td>\n",
              "      <td>4.655</td>\n",
              "      <td>7.0</td>\n",
              "      <td>70.0</td>\n",
              "      <td>132.0</td>\n",
              "      <td>1.490</td>\n",
              "      <td>6.2</td>\n",
              "      <td>368.8</td>\n",
              "      <td>7.2</td>\n",
              "      <td>25.8</td>\n",
              "      <td>6.8</td>\n",
              "      <td>66.1</td>\n",
              "      <td>0.8</td>\n",
              "      <td>0.6</td>\n",
              "      <td>1.9</td>\n",
              "      <td>0.5</td>\n",
              "      <td>4.8</td>\n",
              "      <td>0.1</td>\n",
              "      <td>0.0</td>\n",
              "      <td>5.13</td>\n",
              "      <td>15.4</td>\n",
              "      <td>45.5</td>\n",
              "      <td>88.8</td>\n",
              "      <td>30.0</td>\n",
              "      <td>33.8</td>\n",
              "      <td>15.7</td>\n",
              "      <td>228.0</td>\n",
              "      <td>9.0</td>\n",
              "      <td>0.0</td>\n",
              "      <td>NaN</td>\n",
              "      <td>NaN</td>\n",
              "      <td>NaN</td>\n",
              "      <td>NaN</td>\n",
              "      <td>NaN</td>\n",
              "      <td>NaN</td>\n",
              "    </tr>\n",
              "  </tbody>\n",
              "</table>\n",
              "</div>"
            ],
            "text/plain": [
              "    SEQN  URXUMA  URXUMS  URDUMALC  ...  LBXIGGA  LBXCOT  LBDCOTLC  LBDHCTLC\n",
              "0  93705     3.2     3.2       0.0  ...      NaN     NaN       NaN       NaN\n",
              "1  93706    39.6    39.6       0.0  ...      NaN     NaN       NaN       NaN\n",
              "2  93707    41.6    41.6       0.0  ...      NaN     NaN       NaN       NaN\n",
              "3  93708     9.1     9.1       0.0  ...      NaN     NaN       NaN       NaN\n",
              "4  93709    26.4    26.4       0.0  ...      NaN     NaN       NaN       NaN\n",
              "\n",
              "[5 rows x 75 columns]"
            ]
          },
          "metadata": {
            "tags": []
          },
          "execution_count": 143
        }
      ]
    },
    {
      "cell_type": "markdown",
      "metadata": {
        "id": "KP6G-IR3ffUW"
      },
      "source": [
        "*CRCO_J*"
      ]
    },
    {
      "cell_type": "code",
      "metadata": {
        "colab": {
          "base_uri": "https://localhost:8080/"
        },
        "id": "6NLxdYhbd9AI",
        "outputId": "2c0c5117-bf1c-47c0-d306-5fc3e35ad2b4"
      },
      "source": [
        "data_6 = '/content/CRCO_J.xlsx'\n",
        "d6= pd.read_excel(data_6,\n",
        "sheet_name=0,\n",
        "header=0,\n",
        "index_col=False,\n",
        "keep_default_na=True\n",
        ")\n",
        "len(d6)"
      ],
      "execution_count": 144,
      "outputs": [
        {
          "output_type": "execute_result",
          "data": {
            "text/plain": [
              "3676"
            ]
          },
          "metadata": {
            "tags": []
          },
          "execution_count": 144
        }
      ]
    },
    {
      "cell_type": "code",
      "metadata": {
        "colab": {
          "base_uri": "https://localhost:8080/",
          "height": 204
        },
        "id": "e96QLmazIO7T",
        "outputId": "9645a92b-36fc-4b9c-9d03-cbf1ac35b105"
      },
      "source": [
        "d6.head()"
      ],
      "execution_count": 145,
      "outputs": [
        {
          "output_type": "execute_result",
          "data": {
            "text/html": [
              "<div>\n",
              "<style scoped>\n",
              "    .dataframe tbody tr th:only-of-type {\n",
              "        vertical-align: middle;\n",
              "    }\n",
              "\n",
              "    .dataframe tbody tr th {\n",
              "        vertical-align: top;\n",
              "    }\n",
              "\n",
              "    .dataframe thead th {\n",
              "        text-align: right;\n",
              "    }\n",
              "</style>\n",
              "<table border=\"1\" class=\"dataframe\">\n",
              "  <thead>\n",
              "    <tr style=\"text-align: right;\">\n",
              "      <th></th>\n",
              "      <th>SEQN</th>\n",
              "      <th>LBXBCR</th>\n",
              "      <th>LBDBCRSI</th>\n",
              "      <th>LBDBCRLC</th>\n",
              "      <th>LBXBCO</th>\n",
              "      <th>LBDBCOSI</th>\n",
              "      <th>LBDBCOLC</th>\n",
              "    </tr>\n",
              "  </thead>\n",
              "  <tbody>\n",
              "    <tr>\n",
              "      <th>0</th>\n",
              "      <td>93705</td>\n",
              "      <td>0.29</td>\n",
              "      <td>5.58</td>\n",
              "      <td>1.0</td>\n",
              "      <td>0.20</td>\n",
              "      <td>3.39</td>\n",
              "      <td>0.0</td>\n",
              "    </tr>\n",
              "    <tr>\n",
              "      <th>1</th>\n",
              "      <td>93708</td>\n",
              "      <td>0.29</td>\n",
              "      <td>5.58</td>\n",
              "      <td>1.0</td>\n",
              "      <td>0.16</td>\n",
              "      <td>2.72</td>\n",
              "      <td>0.0</td>\n",
              "    </tr>\n",
              "    <tr>\n",
              "      <th>2</th>\n",
              "      <td>93709</td>\n",
              "      <td>0.70</td>\n",
              "      <td>13.46</td>\n",
              "      <td>0.0</td>\n",
              "      <td>0.34</td>\n",
              "      <td>5.77</td>\n",
              "      <td>0.0</td>\n",
              "    </tr>\n",
              "    <tr>\n",
              "      <th>3</th>\n",
              "      <td>93711</td>\n",
              "      <td>0.29</td>\n",
              "      <td>5.58</td>\n",
              "      <td>1.0</td>\n",
              "      <td>0.26</td>\n",
              "      <td>4.41</td>\n",
              "      <td>0.0</td>\n",
              "    </tr>\n",
              "    <tr>\n",
              "      <th>4</th>\n",
              "      <td>93713</td>\n",
              "      <td>0.29</td>\n",
              "      <td>5.58</td>\n",
              "      <td>1.0</td>\n",
              "      <td>0.12</td>\n",
              "      <td>2.04</td>\n",
              "      <td>0.0</td>\n",
              "    </tr>\n",
              "  </tbody>\n",
              "</table>\n",
              "</div>"
            ],
            "text/plain": [
              "    SEQN  LBXBCR  LBDBCRSI  LBDBCRLC  LBXBCO  LBDBCOSI  LBDBCOLC\n",
              "0  93705    0.29      5.58       1.0    0.20      3.39       0.0\n",
              "1  93708    0.29      5.58       1.0    0.16      2.72       0.0\n",
              "2  93709    0.70     13.46       0.0    0.34      5.77       0.0\n",
              "3  93711    0.29      5.58       1.0    0.26      4.41       0.0\n",
              "4  93713    0.29      5.58       1.0    0.12      2.04       0.0"
            ]
          },
          "metadata": {
            "tags": []
          },
          "execution_count": 145
        }
      ]
    },
    {
      "cell_type": "code",
      "metadata": {
        "colab": {
          "base_uri": "https://localhost:8080/"
        },
        "id": "KB1AlFYWd9Bn",
        "outputId": "7688eddd-aa55-49b4-a2e3-ddc68b1a8698"
      },
      "source": [
        "dd5=pd.merge(dd4,d6,how='left')\n",
        "len(dd5)"
      ],
      "execution_count": 146,
      "outputs": [
        {
          "output_type": "execute_result",
          "data": {
            "text/plain": [
              "7936"
            ]
          },
          "metadata": {
            "tags": []
          },
          "execution_count": 146
        }
      ]
    },
    {
      "cell_type": "code",
      "metadata": {
        "colab": {
          "base_uri": "https://localhost:8080/",
          "height": 253
        },
        "id": "E8a0ooEmIJ2Q",
        "outputId": "632f0b94-d907-4272-e220-77f36dabe6e9"
      },
      "source": [
        "dd5.head()"
      ],
      "execution_count": 147,
      "outputs": [
        {
          "output_type": "execute_result",
          "data": {
            "text/html": [
              "<div>\n",
              "<style scoped>\n",
              "    .dataframe tbody tr th:only-of-type {\n",
              "        vertical-align: middle;\n",
              "    }\n",
              "\n",
              "    .dataframe tbody tr th {\n",
              "        vertical-align: top;\n",
              "    }\n",
              "\n",
              "    .dataframe thead th {\n",
              "        text-align: right;\n",
              "    }\n",
              "</style>\n",
              "<table border=\"1\" class=\"dataframe\">\n",
              "  <thead>\n",
              "    <tr style=\"text-align: right;\">\n",
              "      <th></th>\n",
              "      <th>SEQN</th>\n",
              "      <th>URXUMA</th>\n",
              "      <th>URXUMS</th>\n",
              "      <th>URDUMALC</th>\n",
              "      <th>URXUCR</th>\n",
              "      <th>URXCRS</th>\n",
              "      <th>URDUCRLC</th>\n",
              "      <th>URDACT</th>\n",
              "      <th>LBXSATSI</th>\n",
              "      <th>LBDSATLC</th>\n",
              "      <th>LBXSAL</th>\n",
              "      <th>LBDSALSI</th>\n",
              "      <th>LBXSAPSI</th>\n",
              "      <th>LBXSASSI</th>\n",
              "      <th>LBXSC3SI</th>\n",
              "      <th>LBXSBU</th>\n",
              "      <th>LBDSBUSI</th>\n",
              "      <th>LBXSCLSI</th>\n",
              "      <th>LBXSCK</th>\n",
              "      <th>LBXSCR</th>\n",
              "      <th>LBDSCRSI</th>\n",
              "      <th>LBXSGB</th>\n",
              "      <th>LBDSGBSI</th>\n",
              "      <th>LBXSGL</th>\n",
              "      <th>LBDSGLSI</th>\n",
              "      <th>LBXSGTSI</th>\n",
              "      <th>LBDSGTLC</th>\n",
              "      <th>LBXSIR</th>\n",
              "      <th>LBDSIRSI</th>\n",
              "      <th>LBXSLDSI</th>\n",
              "      <th>LBXSOSSI</th>\n",
              "      <th>LBXSPH</th>\n",
              "      <th>LBDSPHSI</th>\n",
              "      <th>LBXSKSI</th>\n",
              "      <th>LBXSNASI</th>\n",
              "      <th>LBXSTB</th>\n",
              "      <th>LBDSTBSI</th>\n",
              "      <th>LBDSTBLC</th>\n",
              "      <th>LBXSCA</th>\n",
              "      <th>LBDSCASI</th>\n",
              "      <th>...</th>\n",
              "      <th>LBDSCHSI</th>\n",
              "      <th>LBXSTP</th>\n",
              "      <th>LBDSTPSI</th>\n",
              "      <th>LBXSTR</th>\n",
              "      <th>LBDSTRSI</th>\n",
              "      <th>LBXSUA</th>\n",
              "      <th>LBDSUASI</th>\n",
              "      <th>LBXWBCSI</th>\n",
              "      <th>LBXLYPCT</th>\n",
              "      <th>LBXMOPCT</th>\n",
              "      <th>LBXNEPCT</th>\n",
              "      <th>LBXEOPCT</th>\n",
              "      <th>LBXBAPCT</th>\n",
              "      <th>LBDLYMNO</th>\n",
              "      <th>LBDMONO</th>\n",
              "      <th>LBDNENO</th>\n",
              "      <th>LBDEONO</th>\n",
              "      <th>LBDBANO</th>\n",
              "      <th>LBXRBCSI</th>\n",
              "      <th>LBXHGB</th>\n",
              "      <th>LBXHCT</th>\n",
              "      <th>LBXMCVSI</th>\n",
              "      <th>LBXMCHSI</th>\n",
              "      <th>LBXMC</th>\n",
              "      <th>LBXRDW</th>\n",
              "      <th>LBXPLTSI</th>\n",
              "      <th>LBXMPSI</th>\n",
              "      <th>LBXNRBC</th>\n",
              "      <th>LBXIGG</th>\n",
              "      <th>LBXIGM</th>\n",
              "      <th>LBXIGGA</th>\n",
              "      <th>LBXCOT</th>\n",
              "      <th>LBDCOTLC</th>\n",
              "      <th>LBDHCTLC</th>\n",
              "      <th>LBXBCR</th>\n",
              "      <th>LBDBCRSI</th>\n",
              "      <th>LBDBCRLC</th>\n",
              "      <th>LBXBCO</th>\n",
              "      <th>LBDBCOSI</th>\n",
              "      <th>LBDBCOLC</th>\n",
              "    </tr>\n",
              "  </thead>\n",
              "  <tbody>\n",
              "    <tr>\n",
              "      <th>0</th>\n",
              "      <td>93705</td>\n",
              "      <td>3.2</td>\n",
              "      <td>3.2</td>\n",
              "      <td>0.0</td>\n",
              "      <td>24.0</td>\n",
              "      <td>2121.6</td>\n",
              "      <td>0.0</td>\n",
              "      <td>13.33</td>\n",
              "      <td>16.0</td>\n",
              "      <td>0.0</td>\n",
              "      <td>4.4</td>\n",
              "      <td>44.0</td>\n",
              "      <td>74.0</td>\n",
              "      <td>20.0</td>\n",
              "      <td>31.0</td>\n",
              "      <td>11.0</td>\n",
              "      <td>3.93</td>\n",
              "      <td>100.0</td>\n",
              "      <td>166.0</td>\n",
              "      <td>0.92</td>\n",
              "      <td>81.33</td>\n",
              "      <td>2.9</td>\n",
              "      <td>29.0</td>\n",
              "      <td>85.0</td>\n",
              "      <td>4.72</td>\n",
              "      <td>21.0</td>\n",
              "      <td>0.0</td>\n",
              "      <td>94.0</td>\n",
              "      <td>16.8</td>\n",
              "      <td>174.0</td>\n",
              "      <td>280.0</td>\n",
              "      <td>4.0</td>\n",
              "      <td>1.292</td>\n",
              "      <td>4.0</td>\n",
              "      <td>141.0</td>\n",
              "      <td>0.6</td>\n",
              "      <td>10.26</td>\n",
              "      <td>0.0</td>\n",
              "      <td>9.2</td>\n",
              "      <td>2.300</td>\n",
              "      <td>...</td>\n",
              "      <td>4.060</td>\n",
              "      <td>7.3</td>\n",
              "      <td>73.0</td>\n",
              "      <td>95.0</td>\n",
              "      <td>1.073</td>\n",
              "      <td>5.8</td>\n",
              "      <td>345.0</td>\n",
              "      <td>8.6</td>\n",
              "      <td>40.0</td>\n",
              "      <td>7.4</td>\n",
              "      <td>48.8</td>\n",
              "      <td>2.9</td>\n",
              "      <td>1.0</td>\n",
              "      <td>3.4</td>\n",
              "      <td>0.6</td>\n",
              "      <td>4.2</td>\n",
              "      <td>0.2</td>\n",
              "      <td>0.1</td>\n",
              "      <td>5.48</td>\n",
              "      <td>11.9</td>\n",
              "      <td>36.7</td>\n",
              "      <td>67.0</td>\n",
              "      <td>21.7</td>\n",
              "      <td>32.4</td>\n",
              "      <td>15.6</td>\n",
              "      <td>309.0</td>\n",
              "      <td>7.9</td>\n",
              "      <td>0.0</td>\n",
              "      <td>NaN</td>\n",
              "      <td>NaN</td>\n",
              "      <td>NaN</td>\n",
              "      <td>NaN</td>\n",
              "      <td>NaN</td>\n",
              "      <td>NaN</td>\n",
              "      <td>0.29</td>\n",
              "      <td>5.58</td>\n",
              "      <td>1.0</td>\n",
              "      <td>0.20</td>\n",
              "      <td>3.39</td>\n",
              "      <td>0.0</td>\n",
              "    </tr>\n",
              "    <tr>\n",
              "      <th>1</th>\n",
              "      <td>93706</td>\n",
              "      <td>39.6</td>\n",
              "      <td>39.6</td>\n",
              "      <td>0.0</td>\n",
              "      <td>69.0</td>\n",
              "      <td>6099.6</td>\n",
              "      <td>0.0</td>\n",
              "      <td>57.39</td>\n",
              "      <td>10.0</td>\n",
              "      <td>0.0</td>\n",
              "      <td>4.4</td>\n",
              "      <td>44.0</td>\n",
              "      <td>79.0</td>\n",
              "      <td>14.0</td>\n",
              "      <td>28.0</td>\n",
              "      <td>12.0</td>\n",
              "      <td>4.28</td>\n",
              "      <td>104.0</td>\n",
              "      <td>114.0</td>\n",
              "      <td>0.81</td>\n",
              "      <td>71.60</td>\n",
              "      <td>2.7</td>\n",
              "      <td>27.0</td>\n",
              "      <td>94.0</td>\n",
              "      <td>5.22</td>\n",
              "      <td>16.0</td>\n",
              "      <td>0.0</td>\n",
              "      <td>163.0</td>\n",
              "      <td>29.2</td>\n",
              "      <td>142.0</td>\n",
              "      <td>286.0</td>\n",
              "      <td>4.0</td>\n",
              "      <td>1.292</td>\n",
              "      <td>4.4</td>\n",
              "      <td>144.0</td>\n",
              "      <td>0.7</td>\n",
              "      <td>11.97</td>\n",
              "      <td>0.0</td>\n",
              "      <td>9.6</td>\n",
              "      <td>2.400</td>\n",
              "      <td>...</td>\n",
              "      <td>3.853</td>\n",
              "      <td>7.1</td>\n",
              "      <td>71.0</td>\n",
              "      <td>92.0</td>\n",
              "      <td>1.039</td>\n",
              "      <td>8.0</td>\n",
              "      <td>475.8</td>\n",
              "      <td>6.1</td>\n",
              "      <td>24.6</td>\n",
              "      <td>9.1</td>\n",
              "      <td>61.4</td>\n",
              "      <td>4.3</td>\n",
              "      <td>0.8</td>\n",
              "      <td>1.5</td>\n",
              "      <td>0.6</td>\n",
              "      <td>3.7</td>\n",
              "      <td>0.3</td>\n",
              "      <td>0.0</td>\n",
              "      <td>5.24</td>\n",
              "      <td>16.3</td>\n",
              "      <td>47.0</td>\n",
              "      <td>89.7</td>\n",
              "      <td>31.1</td>\n",
              "      <td>34.7</td>\n",
              "      <td>12.2</td>\n",
              "      <td>233.0</td>\n",
              "      <td>6.6</td>\n",
              "      <td>0.0</td>\n",
              "      <td>NaN</td>\n",
              "      <td>NaN</td>\n",
              "      <td>NaN</td>\n",
              "      <td>NaN</td>\n",
              "      <td>NaN</td>\n",
              "      <td>NaN</td>\n",
              "      <td>NaN</td>\n",
              "      <td>NaN</td>\n",
              "      <td>NaN</td>\n",
              "      <td>NaN</td>\n",
              "      <td>NaN</td>\n",
              "      <td>NaN</td>\n",
              "    </tr>\n",
              "    <tr>\n",
              "      <th>2</th>\n",
              "      <td>93707</td>\n",
              "      <td>41.6</td>\n",
              "      <td>41.6</td>\n",
              "      <td>0.0</td>\n",
              "      <td>209.0</td>\n",
              "      <td>18475.6</td>\n",
              "      <td>0.0</td>\n",
              "      <td>19.90</td>\n",
              "      <td>13.0</td>\n",
              "      <td>0.0</td>\n",
              "      <td>5.2</td>\n",
              "      <td>52.0</td>\n",
              "      <td>238.0</td>\n",
              "      <td>24.0</td>\n",
              "      <td>22.0</td>\n",
              "      <td>17.0</td>\n",
              "      <td>6.07</td>\n",
              "      <td>97.0</td>\n",
              "      <td>342.0</td>\n",
              "      <td>0.64</td>\n",
              "      <td>56.58</td>\n",
              "      <td>2.8</td>\n",
              "      <td>28.0</td>\n",
              "      <td>115.0</td>\n",
              "      <td>6.38</td>\n",
              "      <td>9.0</td>\n",
              "      <td>0.0</td>\n",
              "      <td>90.0</td>\n",
              "      <td>16.1</td>\n",
              "      <td>177.0</td>\n",
              "      <td>276.0</td>\n",
              "      <td>4.3</td>\n",
              "      <td>1.388</td>\n",
              "      <td>3.3</td>\n",
              "      <td>137.0</td>\n",
              "      <td>0.7</td>\n",
              "      <td>11.97</td>\n",
              "      <td>0.0</td>\n",
              "      <td>10.1</td>\n",
              "      <td>2.525</td>\n",
              "      <td>...</td>\n",
              "      <td>5.146</td>\n",
              "      <td>8.0</td>\n",
              "      <td>80.0</td>\n",
              "      <td>110.0</td>\n",
              "      <td>1.242</td>\n",
              "      <td>5.5</td>\n",
              "      <td>327.1</td>\n",
              "      <td>11.2</td>\n",
              "      <td>37.1</td>\n",
              "      <td>6.2</td>\n",
              "      <td>54.7</td>\n",
              "      <td>1.6</td>\n",
              "      <td>0.5</td>\n",
              "      <td>4.2</td>\n",
              "      <td>0.7</td>\n",
              "      <td>6.1</td>\n",
              "      <td>0.2</td>\n",
              "      <td>0.1</td>\n",
              "      <td>5.02</td>\n",
              "      <td>14.5</td>\n",
              "      <td>42.1</td>\n",
              "      <td>83.9</td>\n",
              "      <td>28.9</td>\n",
              "      <td>34.4</td>\n",
              "      <td>13.6</td>\n",
              "      <td>348.0</td>\n",
              "      <td>8.5</td>\n",
              "      <td>0.2</td>\n",
              "      <td>NaN</td>\n",
              "      <td>NaN</td>\n",
              "      <td>NaN</td>\n",
              "      <td>NaN</td>\n",
              "      <td>NaN</td>\n",
              "      <td>NaN</td>\n",
              "      <td>NaN</td>\n",
              "      <td>NaN</td>\n",
              "      <td>NaN</td>\n",
              "      <td>NaN</td>\n",
              "      <td>NaN</td>\n",
              "      <td>NaN</td>\n",
              "    </tr>\n",
              "    <tr>\n",
              "      <th>3</th>\n",
              "      <td>93708</td>\n",
              "      <td>9.1</td>\n",
              "      <td>9.1</td>\n",
              "      <td>0.0</td>\n",
              "      <td>47.0</td>\n",
              "      <td>4154.8</td>\n",
              "      <td>0.0</td>\n",
              "      <td>19.36</td>\n",
              "      <td>19.0</td>\n",
              "      <td>0.0</td>\n",
              "      <td>3.9</td>\n",
              "      <td>39.0</td>\n",
              "      <td>66.0</td>\n",
              "      <td>21.0</td>\n",
              "      <td>27.0</td>\n",
              "      <td>16.0</td>\n",
              "      <td>5.71</td>\n",
              "      <td>104.0</td>\n",
              "      <td>347.0</td>\n",
              "      <td>0.58</td>\n",
              "      <td>51.27</td>\n",
              "      <td>3.2</td>\n",
              "      <td>32.0</td>\n",
              "      <td>116.0</td>\n",
              "      <td>6.44</td>\n",
              "      <td>22.0</td>\n",
              "      <td>0.0</td>\n",
              "      <td>96.0</td>\n",
              "      <td>17.2</td>\n",
              "      <td>247.0</td>\n",
              "      <td>289.0</td>\n",
              "      <td>3.3</td>\n",
              "      <td>1.066</td>\n",
              "      <td>4.4</td>\n",
              "      <td>144.0</td>\n",
              "      <td>0.5</td>\n",
              "      <td>8.55</td>\n",
              "      <td>0.0</td>\n",
              "      <td>9.5</td>\n",
              "      <td>2.375</td>\n",
              "      <td>...</td>\n",
              "      <td>5.431</td>\n",
              "      <td>7.1</td>\n",
              "      <td>71.0</td>\n",
              "      <td>72.0</td>\n",
              "      <td>0.813</td>\n",
              "      <td>4.5</td>\n",
              "      <td>267.7</td>\n",
              "      <td>6.0</td>\n",
              "      <td>31.3</td>\n",
              "      <td>6.8</td>\n",
              "      <td>59.4</td>\n",
              "      <td>2.0</td>\n",
              "      <td>0.7</td>\n",
              "      <td>1.9</td>\n",
              "      <td>0.4</td>\n",
              "      <td>3.6</td>\n",
              "      <td>0.1</td>\n",
              "      <td>0.0</td>\n",
              "      <td>4.59</td>\n",
              "      <td>13.2</td>\n",
              "      <td>39.9</td>\n",
              "      <td>86.8</td>\n",
              "      <td>28.8</td>\n",
              "      <td>33.1</td>\n",
              "      <td>13.4</td>\n",
              "      <td>226.0</td>\n",
              "      <td>9.1</td>\n",
              "      <td>0.2</td>\n",
              "      <td>NaN</td>\n",
              "      <td>NaN</td>\n",
              "      <td>NaN</td>\n",
              "      <td>NaN</td>\n",
              "      <td>NaN</td>\n",
              "      <td>NaN</td>\n",
              "      <td>0.29</td>\n",
              "      <td>5.58</td>\n",
              "      <td>1.0</td>\n",
              "      <td>0.16</td>\n",
              "      <td>2.72</td>\n",
              "      <td>0.0</td>\n",
              "    </tr>\n",
              "    <tr>\n",
              "      <th>4</th>\n",
              "      <td>93709</td>\n",
              "      <td>26.4</td>\n",
              "      <td>26.4</td>\n",
              "      <td>0.0</td>\n",
              "      <td>215.0</td>\n",
              "      <td>19006.0</td>\n",
              "      <td>0.0</td>\n",
              "      <td>12.28</td>\n",
              "      <td>15.0</td>\n",
              "      <td>0.0</td>\n",
              "      <td>3.7</td>\n",
              "      <td>37.0</td>\n",
              "      <td>86.0</td>\n",
              "      <td>17.0</td>\n",
              "      <td>24.0</td>\n",
              "      <td>20.0</td>\n",
              "      <td>7.14</td>\n",
              "      <td>100.0</td>\n",
              "      <td>63.0</td>\n",
              "      <td>1.32</td>\n",
              "      <td>116.69</td>\n",
              "      <td>3.3</td>\n",
              "      <td>33.0</td>\n",
              "      <td>96.0</td>\n",
              "      <td>5.33</td>\n",
              "      <td>31.0</td>\n",
              "      <td>0.0</td>\n",
              "      <td>66.0</td>\n",
              "      <td>11.8</td>\n",
              "      <td>NaN</td>\n",
              "      <td>284.0</td>\n",
              "      <td>3.5</td>\n",
              "      <td>1.130</td>\n",
              "      <td>4.1</td>\n",
              "      <td>141.0</td>\n",
              "      <td>0.3</td>\n",
              "      <td>5.13</td>\n",
              "      <td>0.0</td>\n",
              "      <td>9.9</td>\n",
              "      <td>2.475</td>\n",
              "      <td>...</td>\n",
              "      <td>4.655</td>\n",
              "      <td>7.0</td>\n",
              "      <td>70.0</td>\n",
              "      <td>132.0</td>\n",
              "      <td>1.490</td>\n",
              "      <td>6.2</td>\n",
              "      <td>368.8</td>\n",
              "      <td>7.2</td>\n",
              "      <td>25.8</td>\n",
              "      <td>6.8</td>\n",
              "      <td>66.1</td>\n",
              "      <td>0.8</td>\n",
              "      <td>0.6</td>\n",
              "      <td>1.9</td>\n",
              "      <td>0.5</td>\n",
              "      <td>4.8</td>\n",
              "      <td>0.1</td>\n",
              "      <td>0.0</td>\n",
              "      <td>5.13</td>\n",
              "      <td>15.4</td>\n",
              "      <td>45.5</td>\n",
              "      <td>88.8</td>\n",
              "      <td>30.0</td>\n",
              "      <td>33.8</td>\n",
              "      <td>15.7</td>\n",
              "      <td>228.0</td>\n",
              "      <td>9.0</td>\n",
              "      <td>0.0</td>\n",
              "      <td>NaN</td>\n",
              "      <td>NaN</td>\n",
              "      <td>NaN</td>\n",
              "      <td>NaN</td>\n",
              "      <td>NaN</td>\n",
              "      <td>NaN</td>\n",
              "      <td>0.70</td>\n",
              "      <td>13.46</td>\n",
              "      <td>0.0</td>\n",
              "      <td>0.34</td>\n",
              "      <td>5.77</td>\n",
              "      <td>0.0</td>\n",
              "    </tr>\n",
              "  </tbody>\n",
              "</table>\n",
              "<p>5 rows × 81 columns</p>\n",
              "</div>"
            ],
            "text/plain": [
              "    SEQN  URXUMA  URXUMS  URDUMALC  ...  LBDBCRLC  LBXBCO  LBDBCOSI  LBDBCOLC\n",
              "0  93705     3.2     3.2       0.0  ...       1.0    0.20      3.39       0.0\n",
              "1  93706    39.6    39.6       0.0  ...       NaN     NaN       NaN       NaN\n",
              "2  93707    41.6    41.6       0.0  ...       NaN     NaN       NaN       NaN\n",
              "3  93708     9.1     9.1       0.0  ...       1.0    0.16      2.72       0.0\n",
              "4  93709    26.4    26.4       0.0  ...       0.0    0.34      5.77       0.0\n",
              "\n",
              "[5 rows x 81 columns]"
            ]
          },
          "metadata": {
            "tags": []
          },
          "execution_count": 147
        }
      ]
    },
    {
      "cell_type": "markdown",
      "metadata": {
        "id": "DK07zg1GfoJx"
      },
      "source": [
        "*FASTQX_J*"
      ]
    },
    {
      "cell_type": "code",
      "metadata": {
        "colab": {
          "base_uri": "https://localhost:8080/"
        },
        "id": "kgYOrlWNd9DN",
        "outputId": "07b75571-72c9-437d-cc12-27960b0550ce"
      },
      "source": [
        "data_7 = '/content/FASTQX_J.xlsx'\n",
        "d7= pd.read_excel(data_7,\n",
        "sheet_name=0,\n",
        "header=0,\n",
        "index_col=False,\n",
        "keep_default_na=True\n",
        ")\n",
        "len(d7)"
      ],
      "execution_count": 148,
      "outputs": [
        {
          "output_type": "execute_result",
          "data": {
            "text/plain": [
              "8366"
            ]
          },
          "metadata": {
            "tags": []
          },
          "execution_count": 148
        }
      ]
    },
    {
      "cell_type": "code",
      "metadata": {
        "colab": {
          "base_uri": "https://localhost:8080/"
        },
        "id": "QatyCBgafnhE",
        "outputId": "4ce9795a-ca41-429e-de6a-a17a2a5554c0"
      },
      "source": [
        "dd6=pd.merge(dd5,d7,how='left')\n",
        "len(dd6)"
      ],
      "execution_count": 149,
      "outputs": [
        {
          "output_type": "execute_result",
          "data": {
            "text/plain": [
              "7936"
            ]
          },
          "metadata": {
            "tags": []
          },
          "execution_count": 149
        }
      ]
    },
    {
      "cell_type": "code",
      "metadata": {
        "id": "z1ObXjunK47b",
        "outputId": "11c6e967-005d-4f5c-9a7d-e9c6de5e441b",
        "colab": {
          "base_uri": "https://localhost:8080/",
          "height": 253
        }
      },
      "source": [
        "dd6.head()"
      ],
      "execution_count": 150,
      "outputs": [
        {
          "output_type": "execute_result",
          "data": {
            "text/html": [
              "<div>\n",
              "<style scoped>\n",
              "    .dataframe tbody tr th:only-of-type {\n",
              "        vertical-align: middle;\n",
              "    }\n",
              "\n",
              "    .dataframe tbody tr th {\n",
              "        vertical-align: top;\n",
              "    }\n",
              "\n",
              "    .dataframe thead th {\n",
              "        text-align: right;\n",
              "    }\n",
              "</style>\n",
              "<table border=\"1\" class=\"dataframe\">\n",
              "  <thead>\n",
              "    <tr style=\"text-align: right;\">\n",
              "      <th></th>\n",
              "      <th>SEQN</th>\n",
              "      <th>URXUMA</th>\n",
              "      <th>URXUMS</th>\n",
              "      <th>URDUMALC</th>\n",
              "      <th>URXUCR</th>\n",
              "      <th>URXCRS</th>\n",
              "      <th>URDUCRLC</th>\n",
              "      <th>URDACT</th>\n",
              "      <th>LBXSATSI</th>\n",
              "      <th>LBDSATLC</th>\n",
              "      <th>LBXSAL</th>\n",
              "      <th>LBDSALSI</th>\n",
              "      <th>LBXSAPSI</th>\n",
              "      <th>LBXSASSI</th>\n",
              "      <th>LBXSC3SI</th>\n",
              "      <th>LBXSBU</th>\n",
              "      <th>LBDSBUSI</th>\n",
              "      <th>LBXSCLSI</th>\n",
              "      <th>LBXSCK</th>\n",
              "      <th>LBXSCR</th>\n",
              "      <th>LBDSCRSI</th>\n",
              "      <th>LBXSGB</th>\n",
              "      <th>LBDSGBSI</th>\n",
              "      <th>LBXSGL</th>\n",
              "      <th>LBDSGLSI</th>\n",
              "      <th>LBXSGTSI</th>\n",
              "      <th>LBDSGTLC</th>\n",
              "      <th>LBXSIR</th>\n",
              "      <th>LBDSIRSI</th>\n",
              "      <th>LBXSLDSI</th>\n",
              "      <th>LBXSOSSI</th>\n",
              "      <th>LBXSPH</th>\n",
              "      <th>LBDSPHSI</th>\n",
              "      <th>LBXSKSI</th>\n",
              "      <th>LBXSNASI</th>\n",
              "      <th>LBXSTB</th>\n",
              "      <th>LBDSTBSI</th>\n",
              "      <th>LBDSTBLC</th>\n",
              "      <th>LBXSCA</th>\n",
              "      <th>LBDSCASI</th>\n",
              "      <th>...</th>\n",
              "      <th>LBXRBCSI</th>\n",
              "      <th>LBXHGB</th>\n",
              "      <th>LBXHCT</th>\n",
              "      <th>LBXMCVSI</th>\n",
              "      <th>LBXMCHSI</th>\n",
              "      <th>LBXMC</th>\n",
              "      <th>LBXRDW</th>\n",
              "      <th>LBXPLTSI</th>\n",
              "      <th>LBXMPSI</th>\n",
              "      <th>LBXNRBC</th>\n",
              "      <th>LBXIGG</th>\n",
              "      <th>LBXIGM</th>\n",
              "      <th>LBXIGGA</th>\n",
              "      <th>LBXCOT</th>\n",
              "      <th>LBDCOTLC</th>\n",
              "      <th>LBDHCTLC</th>\n",
              "      <th>LBXBCR</th>\n",
              "      <th>LBDBCRSI</th>\n",
              "      <th>LBDBCRLC</th>\n",
              "      <th>LBXBCO</th>\n",
              "      <th>LBDBCOSI</th>\n",
              "      <th>LBDBCOLC</th>\n",
              "      <th>PHQ020</th>\n",
              "      <th>PHACOFHR</th>\n",
              "      <th>PHACOFMN</th>\n",
              "      <th>PHQ030</th>\n",
              "      <th>PHAALCHR</th>\n",
              "      <th>PHAALCMN</th>\n",
              "      <th>PHQ040</th>\n",
              "      <th>PHAGUMHR</th>\n",
              "      <th>PHAGUMMN</th>\n",
              "      <th>PHQ050</th>\n",
              "      <th>PHAANTHR</th>\n",
              "      <th>PHAANTMN</th>\n",
              "      <th>PHQ060</th>\n",
              "      <th>PHASUPHR</th>\n",
              "      <th>PHASUPMN</th>\n",
              "      <th>PHAFSTHR</th>\n",
              "      <th>PHAFSTMN</th>\n",
              "      <th>PHDSESN</th>\n",
              "    </tr>\n",
              "  </thead>\n",
              "  <tbody>\n",
              "    <tr>\n",
              "      <th>0</th>\n",
              "      <td>93705</td>\n",
              "      <td>3.2</td>\n",
              "      <td>3.2</td>\n",
              "      <td>0.0</td>\n",
              "      <td>24.0</td>\n",
              "      <td>2121.6</td>\n",
              "      <td>0.0</td>\n",
              "      <td>13.33</td>\n",
              "      <td>16.0</td>\n",
              "      <td>0.0</td>\n",
              "      <td>4.4</td>\n",
              "      <td>44.0</td>\n",
              "      <td>74.0</td>\n",
              "      <td>20.0</td>\n",
              "      <td>31.0</td>\n",
              "      <td>11.0</td>\n",
              "      <td>3.93</td>\n",
              "      <td>100.0</td>\n",
              "      <td>166.0</td>\n",
              "      <td>0.92</td>\n",
              "      <td>81.33</td>\n",
              "      <td>2.9</td>\n",
              "      <td>29.0</td>\n",
              "      <td>85.0</td>\n",
              "      <td>4.72</td>\n",
              "      <td>21.0</td>\n",
              "      <td>0.0</td>\n",
              "      <td>94.0</td>\n",
              "      <td>16.8</td>\n",
              "      <td>174.0</td>\n",
              "      <td>280.0</td>\n",
              "      <td>4.0</td>\n",
              "      <td>1.292</td>\n",
              "      <td>4.0</td>\n",
              "      <td>141.0</td>\n",
              "      <td>0.6</td>\n",
              "      <td>10.26</td>\n",
              "      <td>0.0</td>\n",
              "      <td>9.2</td>\n",
              "      <td>2.300</td>\n",
              "      <td>...</td>\n",
              "      <td>5.48</td>\n",
              "      <td>11.9</td>\n",
              "      <td>36.7</td>\n",
              "      <td>67.0</td>\n",
              "      <td>21.7</td>\n",
              "      <td>32.4</td>\n",
              "      <td>15.6</td>\n",
              "      <td>309.0</td>\n",
              "      <td>7.9</td>\n",
              "      <td>0.0</td>\n",
              "      <td>NaN</td>\n",
              "      <td>NaN</td>\n",
              "      <td>NaN</td>\n",
              "      <td>NaN</td>\n",
              "      <td>NaN</td>\n",
              "      <td>NaN</td>\n",
              "      <td>0.29</td>\n",
              "      <td>5.58</td>\n",
              "      <td>1.0</td>\n",
              "      <td>0.20</td>\n",
              "      <td>3.39</td>\n",
              "      <td>0.0</td>\n",
              "      <td>2.0</td>\n",
              "      <td>NaN</td>\n",
              "      <td>NaN</td>\n",
              "      <td>2.0</td>\n",
              "      <td>NaN</td>\n",
              "      <td>NaN</td>\n",
              "      <td>2.0</td>\n",
              "      <td>NaN</td>\n",
              "      <td>NaN</td>\n",
              "      <td>2.0</td>\n",
              "      <td>NaN</td>\n",
              "      <td>NaN</td>\n",
              "      <td>2.0</td>\n",
              "      <td>NaN</td>\n",
              "      <td>NaN</td>\n",
              "      <td>4.0</td>\n",
              "      <td>32.0</td>\n",
              "      <td>2</td>\n",
              "    </tr>\n",
              "    <tr>\n",
              "      <th>1</th>\n",
              "      <td>93706</td>\n",
              "      <td>39.6</td>\n",
              "      <td>39.6</td>\n",
              "      <td>0.0</td>\n",
              "      <td>69.0</td>\n",
              "      <td>6099.6</td>\n",
              "      <td>0.0</td>\n",
              "      <td>57.39</td>\n",
              "      <td>10.0</td>\n",
              "      <td>0.0</td>\n",
              "      <td>4.4</td>\n",
              "      <td>44.0</td>\n",
              "      <td>79.0</td>\n",
              "      <td>14.0</td>\n",
              "      <td>28.0</td>\n",
              "      <td>12.0</td>\n",
              "      <td>4.28</td>\n",
              "      <td>104.0</td>\n",
              "      <td>114.0</td>\n",
              "      <td>0.81</td>\n",
              "      <td>71.60</td>\n",
              "      <td>2.7</td>\n",
              "      <td>27.0</td>\n",
              "      <td>94.0</td>\n",
              "      <td>5.22</td>\n",
              "      <td>16.0</td>\n",
              "      <td>0.0</td>\n",
              "      <td>163.0</td>\n",
              "      <td>29.2</td>\n",
              "      <td>142.0</td>\n",
              "      <td>286.0</td>\n",
              "      <td>4.0</td>\n",
              "      <td>1.292</td>\n",
              "      <td>4.4</td>\n",
              "      <td>144.0</td>\n",
              "      <td>0.7</td>\n",
              "      <td>11.97</td>\n",
              "      <td>0.0</td>\n",
              "      <td>9.6</td>\n",
              "      <td>2.400</td>\n",
              "      <td>...</td>\n",
              "      <td>5.24</td>\n",
              "      <td>16.3</td>\n",
              "      <td>47.0</td>\n",
              "      <td>89.7</td>\n",
              "      <td>31.1</td>\n",
              "      <td>34.7</td>\n",
              "      <td>12.2</td>\n",
              "      <td>233.0</td>\n",
              "      <td>6.6</td>\n",
              "      <td>0.0</td>\n",
              "      <td>NaN</td>\n",
              "      <td>NaN</td>\n",
              "      <td>NaN</td>\n",
              "      <td>NaN</td>\n",
              "      <td>NaN</td>\n",
              "      <td>NaN</td>\n",
              "      <td>NaN</td>\n",
              "      <td>NaN</td>\n",
              "      <td>NaN</td>\n",
              "      <td>NaN</td>\n",
              "      <td>NaN</td>\n",
              "      <td>NaN</td>\n",
              "      <td>2.0</td>\n",
              "      <td>NaN</td>\n",
              "      <td>NaN</td>\n",
              "      <td>2.0</td>\n",
              "      <td>NaN</td>\n",
              "      <td>NaN</td>\n",
              "      <td>2.0</td>\n",
              "      <td>NaN</td>\n",
              "      <td>NaN</td>\n",
              "      <td>2.0</td>\n",
              "      <td>NaN</td>\n",
              "      <td>NaN</td>\n",
              "      <td>2.0</td>\n",
              "      <td>NaN</td>\n",
              "      <td>NaN</td>\n",
              "      <td>18.0</td>\n",
              "      <td>25.0</td>\n",
              "      <td>1</td>\n",
              "    </tr>\n",
              "    <tr>\n",
              "      <th>2</th>\n",
              "      <td>93707</td>\n",
              "      <td>41.6</td>\n",
              "      <td>41.6</td>\n",
              "      <td>0.0</td>\n",
              "      <td>209.0</td>\n",
              "      <td>18475.6</td>\n",
              "      <td>0.0</td>\n",
              "      <td>19.90</td>\n",
              "      <td>13.0</td>\n",
              "      <td>0.0</td>\n",
              "      <td>5.2</td>\n",
              "      <td>52.0</td>\n",
              "      <td>238.0</td>\n",
              "      <td>24.0</td>\n",
              "      <td>22.0</td>\n",
              "      <td>17.0</td>\n",
              "      <td>6.07</td>\n",
              "      <td>97.0</td>\n",
              "      <td>342.0</td>\n",
              "      <td>0.64</td>\n",
              "      <td>56.58</td>\n",
              "      <td>2.8</td>\n",
              "      <td>28.0</td>\n",
              "      <td>115.0</td>\n",
              "      <td>6.38</td>\n",
              "      <td>9.0</td>\n",
              "      <td>0.0</td>\n",
              "      <td>90.0</td>\n",
              "      <td>16.1</td>\n",
              "      <td>177.0</td>\n",
              "      <td>276.0</td>\n",
              "      <td>4.3</td>\n",
              "      <td>1.388</td>\n",
              "      <td>3.3</td>\n",
              "      <td>137.0</td>\n",
              "      <td>0.7</td>\n",
              "      <td>11.97</td>\n",
              "      <td>0.0</td>\n",
              "      <td>10.1</td>\n",
              "      <td>2.525</td>\n",
              "      <td>...</td>\n",
              "      <td>5.02</td>\n",
              "      <td>14.5</td>\n",
              "      <td>42.1</td>\n",
              "      <td>83.9</td>\n",
              "      <td>28.9</td>\n",
              "      <td>34.4</td>\n",
              "      <td>13.6</td>\n",
              "      <td>348.0</td>\n",
              "      <td>8.5</td>\n",
              "      <td>0.2</td>\n",
              "      <td>NaN</td>\n",
              "      <td>NaN</td>\n",
              "      <td>NaN</td>\n",
              "      <td>NaN</td>\n",
              "      <td>NaN</td>\n",
              "      <td>NaN</td>\n",
              "      <td>NaN</td>\n",
              "      <td>NaN</td>\n",
              "      <td>NaN</td>\n",
              "      <td>NaN</td>\n",
              "      <td>NaN</td>\n",
              "      <td>NaN</td>\n",
              "      <td>2.0</td>\n",
              "      <td>NaN</td>\n",
              "      <td>NaN</td>\n",
              "      <td>2.0</td>\n",
              "      <td>NaN</td>\n",
              "      <td>NaN</td>\n",
              "      <td>2.0</td>\n",
              "      <td>NaN</td>\n",
              "      <td>NaN</td>\n",
              "      <td>2.0</td>\n",
              "      <td>NaN</td>\n",
              "      <td>NaN</td>\n",
              "      <td>2.0</td>\n",
              "      <td>NaN</td>\n",
              "      <td>NaN</td>\n",
              "      <td>3.0</td>\n",
              "      <td>16.0</td>\n",
              "      <td>2</td>\n",
              "    </tr>\n",
              "    <tr>\n",
              "      <th>3</th>\n",
              "      <td>93708</td>\n",
              "      <td>9.1</td>\n",
              "      <td>9.1</td>\n",
              "      <td>0.0</td>\n",
              "      <td>47.0</td>\n",
              "      <td>4154.8</td>\n",
              "      <td>0.0</td>\n",
              "      <td>19.36</td>\n",
              "      <td>19.0</td>\n",
              "      <td>0.0</td>\n",
              "      <td>3.9</td>\n",
              "      <td>39.0</td>\n",
              "      <td>66.0</td>\n",
              "      <td>21.0</td>\n",
              "      <td>27.0</td>\n",
              "      <td>16.0</td>\n",
              "      <td>5.71</td>\n",
              "      <td>104.0</td>\n",
              "      <td>347.0</td>\n",
              "      <td>0.58</td>\n",
              "      <td>51.27</td>\n",
              "      <td>3.2</td>\n",
              "      <td>32.0</td>\n",
              "      <td>116.0</td>\n",
              "      <td>6.44</td>\n",
              "      <td>22.0</td>\n",
              "      <td>0.0</td>\n",
              "      <td>96.0</td>\n",
              "      <td>17.2</td>\n",
              "      <td>247.0</td>\n",
              "      <td>289.0</td>\n",
              "      <td>3.3</td>\n",
              "      <td>1.066</td>\n",
              "      <td>4.4</td>\n",
              "      <td>144.0</td>\n",
              "      <td>0.5</td>\n",
              "      <td>8.55</td>\n",
              "      <td>0.0</td>\n",
              "      <td>9.5</td>\n",
              "      <td>2.375</td>\n",
              "      <td>...</td>\n",
              "      <td>4.59</td>\n",
              "      <td>13.2</td>\n",
              "      <td>39.9</td>\n",
              "      <td>86.8</td>\n",
              "      <td>28.8</td>\n",
              "      <td>33.1</td>\n",
              "      <td>13.4</td>\n",
              "      <td>226.0</td>\n",
              "      <td>9.1</td>\n",
              "      <td>0.2</td>\n",
              "      <td>NaN</td>\n",
              "      <td>NaN</td>\n",
              "      <td>NaN</td>\n",
              "      <td>NaN</td>\n",
              "      <td>NaN</td>\n",
              "      <td>NaN</td>\n",
              "      <td>0.29</td>\n",
              "      <td>5.58</td>\n",
              "      <td>1.0</td>\n",
              "      <td>0.16</td>\n",
              "      <td>2.72</td>\n",
              "      <td>0.0</td>\n",
              "      <td>2.0</td>\n",
              "      <td>NaN</td>\n",
              "      <td>NaN</td>\n",
              "      <td>2.0</td>\n",
              "      <td>NaN</td>\n",
              "      <td>NaN</td>\n",
              "      <td>2.0</td>\n",
              "      <td>NaN</td>\n",
              "      <td>NaN</td>\n",
              "      <td>2.0</td>\n",
              "      <td>NaN</td>\n",
              "      <td>NaN</td>\n",
              "      <td>1.0</td>\n",
              "      <td>11.0</td>\n",
              "      <td>33.0</td>\n",
              "      <td>12.0</td>\n",
              "      <td>2.0</td>\n",
              "      <td>0</td>\n",
              "    </tr>\n",
              "    <tr>\n",
              "      <th>4</th>\n",
              "      <td>93709</td>\n",
              "      <td>26.4</td>\n",
              "      <td>26.4</td>\n",
              "      <td>0.0</td>\n",
              "      <td>215.0</td>\n",
              "      <td>19006.0</td>\n",
              "      <td>0.0</td>\n",
              "      <td>12.28</td>\n",
              "      <td>15.0</td>\n",
              "      <td>0.0</td>\n",
              "      <td>3.7</td>\n",
              "      <td>37.0</td>\n",
              "      <td>86.0</td>\n",
              "      <td>17.0</td>\n",
              "      <td>24.0</td>\n",
              "      <td>20.0</td>\n",
              "      <td>7.14</td>\n",
              "      <td>100.0</td>\n",
              "      <td>63.0</td>\n",
              "      <td>1.32</td>\n",
              "      <td>116.69</td>\n",
              "      <td>3.3</td>\n",
              "      <td>33.0</td>\n",
              "      <td>96.0</td>\n",
              "      <td>5.33</td>\n",
              "      <td>31.0</td>\n",
              "      <td>0.0</td>\n",
              "      <td>66.0</td>\n",
              "      <td>11.8</td>\n",
              "      <td>NaN</td>\n",
              "      <td>284.0</td>\n",
              "      <td>3.5</td>\n",
              "      <td>1.130</td>\n",
              "      <td>4.1</td>\n",
              "      <td>141.0</td>\n",
              "      <td>0.3</td>\n",
              "      <td>5.13</td>\n",
              "      <td>0.0</td>\n",
              "      <td>9.9</td>\n",
              "      <td>2.475</td>\n",
              "      <td>...</td>\n",
              "      <td>5.13</td>\n",
              "      <td>15.4</td>\n",
              "      <td>45.5</td>\n",
              "      <td>88.8</td>\n",
              "      <td>30.0</td>\n",
              "      <td>33.8</td>\n",
              "      <td>15.7</td>\n",
              "      <td>228.0</td>\n",
              "      <td>9.0</td>\n",
              "      <td>0.0</td>\n",
              "      <td>NaN</td>\n",
              "      <td>NaN</td>\n",
              "      <td>NaN</td>\n",
              "      <td>NaN</td>\n",
              "      <td>NaN</td>\n",
              "      <td>NaN</td>\n",
              "      <td>0.70</td>\n",
              "      <td>13.46</td>\n",
              "      <td>0.0</td>\n",
              "      <td>0.34</td>\n",
              "      <td>5.77</td>\n",
              "      <td>0.0</td>\n",
              "      <td>2.0</td>\n",
              "      <td>NaN</td>\n",
              "      <td>NaN</td>\n",
              "      <td>2.0</td>\n",
              "      <td>NaN</td>\n",
              "      <td>NaN</td>\n",
              "      <td>2.0</td>\n",
              "      <td>NaN</td>\n",
              "      <td>NaN</td>\n",
              "      <td>2.0</td>\n",
              "      <td>NaN</td>\n",
              "      <td>NaN</td>\n",
              "      <td>2.0</td>\n",
              "      <td>NaN</td>\n",
              "      <td>NaN</td>\n",
              "      <td>3.0</td>\n",
              "      <td>58.0</td>\n",
              "      <td>1</td>\n",
              "    </tr>\n",
              "  </tbody>\n",
              "</table>\n",
              "<p>5 rows × 99 columns</p>\n",
              "</div>"
            ],
            "text/plain": [
              "    SEQN  URXUMA  URXUMS  URDUMALC  ...  PHASUPMN  PHAFSTHR  PHAFSTMN  PHDSESN\n",
              "0  93705     3.2     3.2       0.0  ...       NaN       4.0      32.0        2\n",
              "1  93706    39.6    39.6       0.0  ...       NaN      18.0      25.0        1\n",
              "2  93707    41.6    41.6       0.0  ...       NaN       3.0      16.0        2\n",
              "3  93708     9.1     9.1       0.0  ...      33.0      12.0       2.0        0\n",
              "4  93709    26.4    26.4       0.0  ...       NaN       3.0      58.0        1\n",
              "\n",
              "[5 rows x 99 columns]"
            ]
          },
          "metadata": {
            "tags": []
          },
          "execution_count": 150
        }
      ]
    },
    {
      "cell_type": "markdown",
      "metadata": {
        "id": "cyqsOhrdgAhC"
      },
      "source": [
        "*FERTIN_J*"
      ]
    },
    {
      "cell_type": "code",
      "metadata": {
        "colab": {
          "base_uri": "https://localhost:8080/"
        },
        "id": "niz3aKg4fnkg",
        "outputId": "e935119c-ff01-439f-af1a-b9f8a53b979f"
      },
      "source": [
        "data_8 = '/content/FERTIN_J.xlsx'\n",
        "d8= pd.read_excel(data_8,\n",
        "sheet_name=0,\n",
        "header=0,\n",
        "index_col=False,\n",
        "keep_default_na=True\n",
        ")\n",
        "len(d8)"
      ],
      "execution_count": 151,
      "outputs": [
        {
          "output_type": "execute_result",
          "data": {
            "text/plain": [
              "7332"
            ]
          },
          "metadata": {
            "tags": []
          },
          "execution_count": 151
        }
      ]
    },
    {
      "cell_type": "code",
      "metadata": {
        "colab": {
          "base_uri": "https://localhost:8080/"
        },
        "id": "tbhQ1JpVfnnN",
        "outputId": "91522387-cd4e-4aa3-ce8d-c17102cf5c6e"
      },
      "source": [
        "dd7=pd.merge(dd6,d8,how='left')\n",
        "len(dd7)"
      ],
      "execution_count": 152,
      "outputs": [
        {
          "output_type": "execute_result",
          "data": {
            "text/plain": [
              "7936"
            ]
          },
          "metadata": {
            "tags": []
          },
          "execution_count": 152
        }
      ]
    },
    {
      "cell_type": "code",
      "metadata": {
        "id": "y0zG0i_7Saz-",
        "outputId": "80b1470f-841b-4e38-e33e-5b6909971dc9",
        "colab": {
          "base_uri": "https://localhost:8080/",
          "height": 253
        }
      },
      "source": [
        "dd7.head()"
      ],
      "execution_count": 153,
      "outputs": [
        {
          "output_type": "execute_result",
          "data": {
            "text/html": [
              "<div>\n",
              "<style scoped>\n",
              "    .dataframe tbody tr th:only-of-type {\n",
              "        vertical-align: middle;\n",
              "    }\n",
              "\n",
              "    .dataframe tbody tr th {\n",
              "        vertical-align: top;\n",
              "    }\n",
              "\n",
              "    .dataframe thead th {\n",
              "        text-align: right;\n",
              "    }\n",
              "</style>\n",
              "<table border=\"1\" class=\"dataframe\">\n",
              "  <thead>\n",
              "    <tr style=\"text-align: right;\">\n",
              "      <th></th>\n",
              "      <th>SEQN</th>\n",
              "      <th>URXUMA</th>\n",
              "      <th>URXUMS</th>\n",
              "      <th>URDUMALC</th>\n",
              "      <th>URXUCR</th>\n",
              "      <th>URXCRS</th>\n",
              "      <th>URDUCRLC</th>\n",
              "      <th>URDACT</th>\n",
              "      <th>LBXSATSI</th>\n",
              "      <th>LBDSATLC</th>\n",
              "      <th>LBXSAL</th>\n",
              "      <th>LBDSALSI</th>\n",
              "      <th>LBXSAPSI</th>\n",
              "      <th>LBXSASSI</th>\n",
              "      <th>LBXSC3SI</th>\n",
              "      <th>LBXSBU</th>\n",
              "      <th>LBDSBUSI</th>\n",
              "      <th>LBXSCLSI</th>\n",
              "      <th>LBXSCK</th>\n",
              "      <th>LBXSCR</th>\n",
              "      <th>LBDSCRSI</th>\n",
              "      <th>LBXSGB</th>\n",
              "      <th>LBDSGBSI</th>\n",
              "      <th>LBXSGL</th>\n",
              "      <th>LBDSGLSI</th>\n",
              "      <th>LBXSGTSI</th>\n",
              "      <th>LBDSGTLC</th>\n",
              "      <th>LBXSIR</th>\n",
              "      <th>LBDSIRSI</th>\n",
              "      <th>LBXSLDSI</th>\n",
              "      <th>LBXSOSSI</th>\n",
              "      <th>LBXSPH</th>\n",
              "      <th>LBDSPHSI</th>\n",
              "      <th>LBXSKSI</th>\n",
              "      <th>LBXSNASI</th>\n",
              "      <th>LBXSTB</th>\n",
              "      <th>LBDSTBSI</th>\n",
              "      <th>LBDSTBLC</th>\n",
              "      <th>LBXSCA</th>\n",
              "      <th>LBDSCASI</th>\n",
              "      <th>...</th>\n",
              "      <th>LBXHCT</th>\n",
              "      <th>LBXMCVSI</th>\n",
              "      <th>LBXMCHSI</th>\n",
              "      <th>LBXMC</th>\n",
              "      <th>LBXRDW</th>\n",
              "      <th>LBXPLTSI</th>\n",
              "      <th>LBXMPSI</th>\n",
              "      <th>LBXNRBC</th>\n",
              "      <th>LBXIGG</th>\n",
              "      <th>LBXIGM</th>\n",
              "      <th>LBXIGGA</th>\n",
              "      <th>LBXCOT</th>\n",
              "      <th>LBDCOTLC</th>\n",
              "      <th>LBDHCTLC</th>\n",
              "      <th>LBXBCR</th>\n",
              "      <th>LBDBCRSI</th>\n",
              "      <th>LBDBCRLC</th>\n",
              "      <th>LBXBCO</th>\n",
              "      <th>LBDBCOSI</th>\n",
              "      <th>LBDBCOLC</th>\n",
              "      <th>PHQ020</th>\n",
              "      <th>PHACOFHR</th>\n",
              "      <th>PHACOFMN</th>\n",
              "      <th>PHQ030</th>\n",
              "      <th>PHAALCHR</th>\n",
              "      <th>PHAALCMN</th>\n",
              "      <th>PHQ040</th>\n",
              "      <th>PHAGUMHR</th>\n",
              "      <th>PHAGUMMN</th>\n",
              "      <th>PHQ050</th>\n",
              "      <th>PHAANTHR</th>\n",
              "      <th>PHAANTMN</th>\n",
              "      <th>PHQ060</th>\n",
              "      <th>PHASUPHR</th>\n",
              "      <th>PHASUPMN</th>\n",
              "      <th>PHAFSTHR</th>\n",
              "      <th>PHAFSTMN</th>\n",
              "      <th>PHDSESN</th>\n",
              "      <th>LBXFER</th>\n",
              "      <th>LBDFERSI</th>\n",
              "    </tr>\n",
              "  </thead>\n",
              "  <tbody>\n",
              "    <tr>\n",
              "      <th>0</th>\n",
              "      <td>93705</td>\n",
              "      <td>3.2</td>\n",
              "      <td>3.2</td>\n",
              "      <td>0.0</td>\n",
              "      <td>24.0</td>\n",
              "      <td>2121.6</td>\n",
              "      <td>0.0</td>\n",
              "      <td>13.33</td>\n",
              "      <td>16.0</td>\n",
              "      <td>0.0</td>\n",
              "      <td>4.4</td>\n",
              "      <td>44.0</td>\n",
              "      <td>74.0</td>\n",
              "      <td>20.0</td>\n",
              "      <td>31.0</td>\n",
              "      <td>11.0</td>\n",
              "      <td>3.93</td>\n",
              "      <td>100.0</td>\n",
              "      <td>166.0</td>\n",
              "      <td>0.92</td>\n",
              "      <td>81.33</td>\n",
              "      <td>2.9</td>\n",
              "      <td>29.0</td>\n",
              "      <td>85.0</td>\n",
              "      <td>4.72</td>\n",
              "      <td>21.0</td>\n",
              "      <td>0.0</td>\n",
              "      <td>94.0</td>\n",
              "      <td>16.8</td>\n",
              "      <td>174.0</td>\n",
              "      <td>280.0</td>\n",
              "      <td>4.0</td>\n",
              "      <td>1.292</td>\n",
              "      <td>4.0</td>\n",
              "      <td>141.0</td>\n",
              "      <td>0.6</td>\n",
              "      <td>10.26</td>\n",
              "      <td>0.0</td>\n",
              "      <td>9.2</td>\n",
              "      <td>2.300</td>\n",
              "      <td>...</td>\n",
              "      <td>36.7</td>\n",
              "      <td>67.0</td>\n",
              "      <td>21.7</td>\n",
              "      <td>32.4</td>\n",
              "      <td>15.6</td>\n",
              "      <td>309.0</td>\n",
              "      <td>7.9</td>\n",
              "      <td>0.0</td>\n",
              "      <td>NaN</td>\n",
              "      <td>NaN</td>\n",
              "      <td>NaN</td>\n",
              "      <td>NaN</td>\n",
              "      <td>NaN</td>\n",
              "      <td>NaN</td>\n",
              "      <td>0.29</td>\n",
              "      <td>5.58</td>\n",
              "      <td>1.0</td>\n",
              "      <td>0.20</td>\n",
              "      <td>3.39</td>\n",
              "      <td>0.0</td>\n",
              "      <td>2.0</td>\n",
              "      <td>NaN</td>\n",
              "      <td>NaN</td>\n",
              "      <td>2.0</td>\n",
              "      <td>NaN</td>\n",
              "      <td>NaN</td>\n",
              "      <td>2.0</td>\n",
              "      <td>NaN</td>\n",
              "      <td>NaN</td>\n",
              "      <td>2.0</td>\n",
              "      <td>NaN</td>\n",
              "      <td>NaN</td>\n",
              "      <td>2.0</td>\n",
              "      <td>NaN</td>\n",
              "      <td>NaN</td>\n",
              "      <td>4.0</td>\n",
              "      <td>32.0</td>\n",
              "      <td>2</td>\n",
              "      <td>28.7</td>\n",
              "      <td>28.7</td>\n",
              "    </tr>\n",
              "    <tr>\n",
              "      <th>1</th>\n",
              "      <td>93706</td>\n",
              "      <td>39.6</td>\n",
              "      <td>39.6</td>\n",
              "      <td>0.0</td>\n",
              "      <td>69.0</td>\n",
              "      <td>6099.6</td>\n",
              "      <td>0.0</td>\n",
              "      <td>57.39</td>\n",
              "      <td>10.0</td>\n",
              "      <td>0.0</td>\n",
              "      <td>4.4</td>\n",
              "      <td>44.0</td>\n",
              "      <td>79.0</td>\n",
              "      <td>14.0</td>\n",
              "      <td>28.0</td>\n",
              "      <td>12.0</td>\n",
              "      <td>4.28</td>\n",
              "      <td>104.0</td>\n",
              "      <td>114.0</td>\n",
              "      <td>0.81</td>\n",
              "      <td>71.60</td>\n",
              "      <td>2.7</td>\n",
              "      <td>27.0</td>\n",
              "      <td>94.0</td>\n",
              "      <td>5.22</td>\n",
              "      <td>16.0</td>\n",
              "      <td>0.0</td>\n",
              "      <td>163.0</td>\n",
              "      <td>29.2</td>\n",
              "      <td>142.0</td>\n",
              "      <td>286.0</td>\n",
              "      <td>4.0</td>\n",
              "      <td>1.292</td>\n",
              "      <td>4.4</td>\n",
              "      <td>144.0</td>\n",
              "      <td>0.7</td>\n",
              "      <td>11.97</td>\n",
              "      <td>0.0</td>\n",
              "      <td>9.6</td>\n",
              "      <td>2.400</td>\n",
              "      <td>...</td>\n",
              "      <td>47.0</td>\n",
              "      <td>89.7</td>\n",
              "      <td>31.1</td>\n",
              "      <td>34.7</td>\n",
              "      <td>12.2</td>\n",
              "      <td>233.0</td>\n",
              "      <td>6.6</td>\n",
              "      <td>0.0</td>\n",
              "      <td>NaN</td>\n",
              "      <td>NaN</td>\n",
              "      <td>NaN</td>\n",
              "      <td>NaN</td>\n",
              "      <td>NaN</td>\n",
              "      <td>NaN</td>\n",
              "      <td>NaN</td>\n",
              "      <td>NaN</td>\n",
              "      <td>NaN</td>\n",
              "      <td>NaN</td>\n",
              "      <td>NaN</td>\n",
              "      <td>NaN</td>\n",
              "      <td>2.0</td>\n",
              "      <td>NaN</td>\n",
              "      <td>NaN</td>\n",
              "      <td>2.0</td>\n",
              "      <td>NaN</td>\n",
              "      <td>NaN</td>\n",
              "      <td>2.0</td>\n",
              "      <td>NaN</td>\n",
              "      <td>NaN</td>\n",
              "      <td>2.0</td>\n",
              "      <td>NaN</td>\n",
              "      <td>NaN</td>\n",
              "      <td>2.0</td>\n",
              "      <td>NaN</td>\n",
              "      <td>NaN</td>\n",
              "      <td>18.0</td>\n",
              "      <td>25.0</td>\n",
              "      <td>1</td>\n",
              "      <td>284.0</td>\n",
              "      <td>284.0</td>\n",
              "    </tr>\n",
              "    <tr>\n",
              "      <th>2</th>\n",
              "      <td>93707</td>\n",
              "      <td>41.6</td>\n",
              "      <td>41.6</td>\n",
              "      <td>0.0</td>\n",
              "      <td>209.0</td>\n",
              "      <td>18475.6</td>\n",
              "      <td>0.0</td>\n",
              "      <td>19.90</td>\n",
              "      <td>13.0</td>\n",
              "      <td>0.0</td>\n",
              "      <td>5.2</td>\n",
              "      <td>52.0</td>\n",
              "      <td>238.0</td>\n",
              "      <td>24.0</td>\n",
              "      <td>22.0</td>\n",
              "      <td>17.0</td>\n",
              "      <td>6.07</td>\n",
              "      <td>97.0</td>\n",
              "      <td>342.0</td>\n",
              "      <td>0.64</td>\n",
              "      <td>56.58</td>\n",
              "      <td>2.8</td>\n",
              "      <td>28.0</td>\n",
              "      <td>115.0</td>\n",
              "      <td>6.38</td>\n",
              "      <td>9.0</td>\n",
              "      <td>0.0</td>\n",
              "      <td>90.0</td>\n",
              "      <td>16.1</td>\n",
              "      <td>177.0</td>\n",
              "      <td>276.0</td>\n",
              "      <td>4.3</td>\n",
              "      <td>1.388</td>\n",
              "      <td>3.3</td>\n",
              "      <td>137.0</td>\n",
              "      <td>0.7</td>\n",
              "      <td>11.97</td>\n",
              "      <td>0.0</td>\n",
              "      <td>10.1</td>\n",
              "      <td>2.525</td>\n",
              "      <td>...</td>\n",
              "      <td>42.1</td>\n",
              "      <td>83.9</td>\n",
              "      <td>28.9</td>\n",
              "      <td>34.4</td>\n",
              "      <td>13.6</td>\n",
              "      <td>348.0</td>\n",
              "      <td>8.5</td>\n",
              "      <td>0.2</td>\n",
              "      <td>NaN</td>\n",
              "      <td>NaN</td>\n",
              "      <td>NaN</td>\n",
              "      <td>NaN</td>\n",
              "      <td>NaN</td>\n",
              "      <td>NaN</td>\n",
              "      <td>NaN</td>\n",
              "      <td>NaN</td>\n",
              "      <td>NaN</td>\n",
              "      <td>NaN</td>\n",
              "      <td>NaN</td>\n",
              "      <td>NaN</td>\n",
              "      <td>2.0</td>\n",
              "      <td>NaN</td>\n",
              "      <td>NaN</td>\n",
              "      <td>2.0</td>\n",
              "      <td>NaN</td>\n",
              "      <td>NaN</td>\n",
              "      <td>2.0</td>\n",
              "      <td>NaN</td>\n",
              "      <td>NaN</td>\n",
              "      <td>2.0</td>\n",
              "      <td>NaN</td>\n",
              "      <td>NaN</td>\n",
              "      <td>2.0</td>\n",
              "      <td>NaN</td>\n",
              "      <td>NaN</td>\n",
              "      <td>3.0</td>\n",
              "      <td>16.0</td>\n",
              "      <td>2</td>\n",
              "      <td>49.3</td>\n",
              "      <td>49.3</td>\n",
              "    </tr>\n",
              "    <tr>\n",
              "      <th>3</th>\n",
              "      <td>93708</td>\n",
              "      <td>9.1</td>\n",
              "      <td>9.1</td>\n",
              "      <td>0.0</td>\n",
              "      <td>47.0</td>\n",
              "      <td>4154.8</td>\n",
              "      <td>0.0</td>\n",
              "      <td>19.36</td>\n",
              "      <td>19.0</td>\n",
              "      <td>0.0</td>\n",
              "      <td>3.9</td>\n",
              "      <td>39.0</td>\n",
              "      <td>66.0</td>\n",
              "      <td>21.0</td>\n",
              "      <td>27.0</td>\n",
              "      <td>16.0</td>\n",
              "      <td>5.71</td>\n",
              "      <td>104.0</td>\n",
              "      <td>347.0</td>\n",
              "      <td>0.58</td>\n",
              "      <td>51.27</td>\n",
              "      <td>3.2</td>\n",
              "      <td>32.0</td>\n",
              "      <td>116.0</td>\n",
              "      <td>6.44</td>\n",
              "      <td>22.0</td>\n",
              "      <td>0.0</td>\n",
              "      <td>96.0</td>\n",
              "      <td>17.2</td>\n",
              "      <td>247.0</td>\n",
              "      <td>289.0</td>\n",
              "      <td>3.3</td>\n",
              "      <td>1.066</td>\n",
              "      <td>4.4</td>\n",
              "      <td>144.0</td>\n",
              "      <td>0.5</td>\n",
              "      <td>8.55</td>\n",
              "      <td>0.0</td>\n",
              "      <td>9.5</td>\n",
              "      <td>2.375</td>\n",
              "      <td>...</td>\n",
              "      <td>39.9</td>\n",
              "      <td>86.8</td>\n",
              "      <td>28.8</td>\n",
              "      <td>33.1</td>\n",
              "      <td>13.4</td>\n",
              "      <td>226.0</td>\n",
              "      <td>9.1</td>\n",
              "      <td>0.2</td>\n",
              "      <td>NaN</td>\n",
              "      <td>NaN</td>\n",
              "      <td>NaN</td>\n",
              "      <td>NaN</td>\n",
              "      <td>NaN</td>\n",
              "      <td>NaN</td>\n",
              "      <td>0.29</td>\n",
              "      <td>5.58</td>\n",
              "      <td>1.0</td>\n",
              "      <td>0.16</td>\n",
              "      <td>2.72</td>\n",
              "      <td>0.0</td>\n",
              "      <td>2.0</td>\n",
              "      <td>NaN</td>\n",
              "      <td>NaN</td>\n",
              "      <td>2.0</td>\n",
              "      <td>NaN</td>\n",
              "      <td>NaN</td>\n",
              "      <td>2.0</td>\n",
              "      <td>NaN</td>\n",
              "      <td>NaN</td>\n",
              "      <td>2.0</td>\n",
              "      <td>NaN</td>\n",
              "      <td>NaN</td>\n",
              "      <td>1.0</td>\n",
              "      <td>11.0</td>\n",
              "      <td>33.0</td>\n",
              "      <td>12.0</td>\n",
              "      <td>2.0</td>\n",
              "      <td>0</td>\n",
              "      <td>109.0</td>\n",
              "      <td>109.0</td>\n",
              "    </tr>\n",
              "    <tr>\n",
              "      <th>4</th>\n",
              "      <td>93709</td>\n",
              "      <td>26.4</td>\n",
              "      <td>26.4</td>\n",
              "      <td>0.0</td>\n",
              "      <td>215.0</td>\n",
              "      <td>19006.0</td>\n",
              "      <td>0.0</td>\n",
              "      <td>12.28</td>\n",
              "      <td>15.0</td>\n",
              "      <td>0.0</td>\n",
              "      <td>3.7</td>\n",
              "      <td>37.0</td>\n",
              "      <td>86.0</td>\n",
              "      <td>17.0</td>\n",
              "      <td>24.0</td>\n",
              "      <td>20.0</td>\n",
              "      <td>7.14</td>\n",
              "      <td>100.0</td>\n",
              "      <td>63.0</td>\n",
              "      <td>1.32</td>\n",
              "      <td>116.69</td>\n",
              "      <td>3.3</td>\n",
              "      <td>33.0</td>\n",
              "      <td>96.0</td>\n",
              "      <td>5.33</td>\n",
              "      <td>31.0</td>\n",
              "      <td>0.0</td>\n",
              "      <td>66.0</td>\n",
              "      <td>11.8</td>\n",
              "      <td>NaN</td>\n",
              "      <td>284.0</td>\n",
              "      <td>3.5</td>\n",
              "      <td>1.130</td>\n",
              "      <td>4.1</td>\n",
              "      <td>141.0</td>\n",
              "      <td>0.3</td>\n",
              "      <td>5.13</td>\n",
              "      <td>0.0</td>\n",
              "      <td>9.9</td>\n",
              "      <td>2.475</td>\n",
              "      <td>...</td>\n",
              "      <td>45.5</td>\n",
              "      <td>88.8</td>\n",
              "      <td>30.0</td>\n",
              "      <td>33.8</td>\n",
              "      <td>15.7</td>\n",
              "      <td>228.0</td>\n",
              "      <td>9.0</td>\n",
              "      <td>0.0</td>\n",
              "      <td>NaN</td>\n",
              "      <td>NaN</td>\n",
              "      <td>NaN</td>\n",
              "      <td>NaN</td>\n",
              "      <td>NaN</td>\n",
              "      <td>NaN</td>\n",
              "      <td>0.70</td>\n",
              "      <td>13.46</td>\n",
              "      <td>0.0</td>\n",
              "      <td>0.34</td>\n",
              "      <td>5.77</td>\n",
              "      <td>0.0</td>\n",
              "      <td>2.0</td>\n",
              "      <td>NaN</td>\n",
              "      <td>NaN</td>\n",
              "      <td>2.0</td>\n",
              "      <td>NaN</td>\n",
              "      <td>NaN</td>\n",
              "      <td>2.0</td>\n",
              "      <td>NaN</td>\n",
              "      <td>NaN</td>\n",
              "      <td>2.0</td>\n",
              "      <td>NaN</td>\n",
              "      <td>NaN</td>\n",
              "      <td>2.0</td>\n",
              "      <td>NaN</td>\n",
              "      <td>NaN</td>\n",
              "      <td>3.0</td>\n",
              "      <td>58.0</td>\n",
              "      <td>1</td>\n",
              "      <td>129.0</td>\n",
              "      <td>129.0</td>\n",
              "    </tr>\n",
              "  </tbody>\n",
              "</table>\n",
              "<p>5 rows × 101 columns</p>\n",
              "</div>"
            ],
            "text/plain": [
              "    SEQN  URXUMA  URXUMS  URDUMALC  ...  PHAFSTMN  PHDSESN  LBXFER  LBDFERSI\n",
              "0  93705     3.2     3.2       0.0  ...      32.0        2    28.7      28.7\n",
              "1  93706    39.6    39.6       0.0  ...      25.0        1   284.0     284.0\n",
              "2  93707    41.6    41.6       0.0  ...      16.0        2    49.3      49.3\n",
              "3  93708     9.1     9.1       0.0  ...       2.0        0   109.0     109.0\n",
              "4  93709    26.4    26.4       0.0  ...      58.0        1   129.0     129.0\n",
              "\n",
              "[5 rows x 101 columns]"
            ]
          },
          "metadata": {
            "tags": []
          },
          "execution_count": 153
        }
      ]
    },
    {
      "cell_type": "markdown",
      "metadata": {
        "id": "x32ufdzahDiy"
      },
      "source": [
        "*FETIB_J*"
      ]
    },
    {
      "cell_type": "code",
      "metadata": {
        "colab": {
          "base_uri": "https://localhost:8080/"
        },
        "id": "a3cQRagwfnpu",
        "outputId": "e1bb45d5-7886-4e0e-df4c-187c77df4ab5"
      },
      "source": [
        "data_9 = '/content/FETIB_J.xlsx'\n",
        "d9= pd.read_excel(data_9,\n",
        "sheet_name=0,\n",
        "header=0,\n",
        "index_col=False,\n",
        "keep_default_na=True\n",
        ")\n",
        "len(d9)"
      ],
      "execution_count": 154,
      "outputs": [
        {
          "output_type": "execute_result",
          "data": {
            "text/plain": [
              "6401"
            ]
          },
          "metadata": {
            "tags": []
          },
          "execution_count": 154
        }
      ]
    },
    {
      "cell_type": "code",
      "metadata": {
        "colab": {
          "base_uri": "https://localhost:8080/"
        },
        "id": "uTenkEtPfnsQ",
        "outputId": "fbc57f3b-7af3-41a9-cef7-a9a56f639c12"
      },
      "source": [
        "dd8=pd.merge(dd7,d9,how='left')\n",
        "len(dd8)"
      ],
      "execution_count": 155,
      "outputs": [
        {
          "output_type": "execute_result",
          "data": {
            "text/plain": [
              "7936"
            ]
          },
          "metadata": {
            "tags": []
          },
          "execution_count": 155
        }
      ]
    },
    {
      "cell_type": "code",
      "metadata": {
        "id": "XgjoIS-RSmjc",
        "outputId": "cd7f7542-9a03-4711-aa89-ff3d48d3ff1b",
        "colab": {
          "base_uri": "https://localhost:8080/",
          "height": 253
        }
      },
      "source": [
        "dd8.head()"
      ],
      "execution_count": 156,
      "outputs": [
        {
          "output_type": "execute_result",
          "data": {
            "text/html": [
              "<div>\n",
              "<style scoped>\n",
              "    .dataframe tbody tr th:only-of-type {\n",
              "        vertical-align: middle;\n",
              "    }\n",
              "\n",
              "    .dataframe tbody tr th {\n",
              "        vertical-align: top;\n",
              "    }\n",
              "\n",
              "    .dataframe thead th {\n",
              "        text-align: right;\n",
              "    }\n",
              "</style>\n",
              "<table border=\"1\" class=\"dataframe\">\n",
              "  <thead>\n",
              "    <tr style=\"text-align: right;\">\n",
              "      <th></th>\n",
              "      <th>SEQN</th>\n",
              "      <th>URXUMA</th>\n",
              "      <th>URXUMS</th>\n",
              "      <th>URDUMALC</th>\n",
              "      <th>URXUCR</th>\n",
              "      <th>URXCRS</th>\n",
              "      <th>URDUCRLC</th>\n",
              "      <th>URDACT</th>\n",
              "      <th>LBXSATSI</th>\n",
              "      <th>LBDSATLC</th>\n",
              "      <th>LBXSAL</th>\n",
              "      <th>LBDSALSI</th>\n",
              "      <th>LBXSAPSI</th>\n",
              "      <th>LBXSASSI</th>\n",
              "      <th>LBXSC3SI</th>\n",
              "      <th>LBXSBU</th>\n",
              "      <th>LBDSBUSI</th>\n",
              "      <th>LBXSCLSI</th>\n",
              "      <th>LBXSCK</th>\n",
              "      <th>LBXSCR</th>\n",
              "      <th>LBDSCRSI</th>\n",
              "      <th>LBXSGB</th>\n",
              "      <th>LBDSGBSI</th>\n",
              "      <th>LBXSGL</th>\n",
              "      <th>LBDSGLSI</th>\n",
              "      <th>LBXSGTSI</th>\n",
              "      <th>LBDSGTLC</th>\n",
              "      <th>LBXSIR</th>\n",
              "      <th>LBDSIRSI</th>\n",
              "      <th>LBXSLDSI</th>\n",
              "      <th>LBXSOSSI</th>\n",
              "      <th>LBXSPH</th>\n",
              "      <th>LBDSPHSI</th>\n",
              "      <th>LBXSKSI</th>\n",
              "      <th>LBXSNASI</th>\n",
              "      <th>LBXSTB</th>\n",
              "      <th>LBDSTBSI</th>\n",
              "      <th>LBDSTBLC</th>\n",
              "      <th>LBXSCA</th>\n",
              "      <th>LBDSCASI</th>\n",
              "      <th>...</th>\n",
              "      <th>LBXIGG</th>\n",
              "      <th>LBXIGM</th>\n",
              "      <th>LBXIGGA</th>\n",
              "      <th>LBXCOT</th>\n",
              "      <th>LBDCOTLC</th>\n",
              "      <th>LBDHCTLC</th>\n",
              "      <th>LBXBCR</th>\n",
              "      <th>LBDBCRSI</th>\n",
              "      <th>LBDBCRLC</th>\n",
              "      <th>LBXBCO</th>\n",
              "      <th>LBDBCOSI</th>\n",
              "      <th>LBDBCOLC</th>\n",
              "      <th>PHQ020</th>\n",
              "      <th>PHACOFHR</th>\n",
              "      <th>PHACOFMN</th>\n",
              "      <th>PHQ030</th>\n",
              "      <th>PHAALCHR</th>\n",
              "      <th>PHAALCMN</th>\n",
              "      <th>PHQ040</th>\n",
              "      <th>PHAGUMHR</th>\n",
              "      <th>PHAGUMMN</th>\n",
              "      <th>PHQ050</th>\n",
              "      <th>PHAANTHR</th>\n",
              "      <th>PHAANTMN</th>\n",
              "      <th>PHQ060</th>\n",
              "      <th>PHASUPHR</th>\n",
              "      <th>PHASUPMN</th>\n",
              "      <th>PHAFSTHR</th>\n",
              "      <th>PHAFSTMN</th>\n",
              "      <th>PHDSESN</th>\n",
              "      <th>LBXFER</th>\n",
              "      <th>LBDFERSI</th>\n",
              "      <th>LBXIRN</th>\n",
              "      <th>LBDIRNSI</th>\n",
              "      <th>LBXUIB</th>\n",
              "      <th>LBDUIBLC</th>\n",
              "      <th>LBDUIBSI</th>\n",
              "      <th>LBDTIB</th>\n",
              "      <th>LBDTIBSI</th>\n",
              "      <th>LBDPCT</th>\n",
              "    </tr>\n",
              "  </thead>\n",
              "  <tbody>\n",
              "    <tr>\n",
              "      <th>0</th>\n",
              "      <td>93705</td>\n",
              "      <td>3.2</td>\n",
              "      <td>3.2</td>\n",
              "      <td>0.0</td>\n",
              "      <td>24.0</td>\n",
              "      <td>2121.6</td>\n",
              "      <td>0.0</td>\n",
              "      <td>13.33</td>\n",
              "      <td>16.0</td>\n",
              "      <td>0.0</td>\n",
              "      <td>4.4</td>\n",
              "      <td>44.0</td>\n",
              "      <td>74.0</td>\n",
              "      <td>20.0</td>\n",
              "      <td>31.0</td>\n",
              "      <td>11.0</td>\n",
              "      <td>3.93</td>\n",
              "      <td>100.0</td>\n",
              "      <td>166.0</td>\n",
              "      <td>0.92</td>\n",
              "      <td>81.33</td>\n",
              "      <td>2.9</td>\n",
              "      <td>29.0</td>\n",
              "      <td>85.0</td>\n",
              "      <td>4.72</td>\n",
              "      <td>21.0</td>\n",
              "      <td>0.0</td>\n",
              "      <td>94.0</td>\n",
              "      <td>16.8</td>\n",
              "      <td>174.0</td>\n",
              "      <td>280.0</td>\n",
              "      <td>4.0</td>\n",
              "      <td>1.292</td>\n",
              "      <td>4.0</td>\n",
              "      <td>141.0</td>\n",
              "      <td>0.6</td>\n",
              "      <td>10.26</td>\n",
              "      <td>0.0</td>\n",
              "      <td>9.2</td>\n",
              "      <td>2.300</td>\n",
              "      <td>...</td>\n",
              "      <td>NaN</td>\n",
              "      <td>NaN</td>\n",
              "      <td>NaN</td>\n",
              "      <td>NaN</td>\n",
              "      <td>NaN</td>\n",
              "      <td>NaN</td>\n",
              "      <td>0.29</td>\n",
              "      <td>5.58</td>\n",
              "      <td>1.0</td>\n",
              "      <td>0.20</td>\n",
              "      <td>3.39</td>\n",
              "      <td>0.0</td>\n",
              "      <td>2.0</td>\n",
              "      <td>NaN</td>\n",
              "      <td>NaN</td>\n",
              "      <td>2.0</td>\n",
              "      <td>NaN</td>\n",
              "      <td>NaN</td>\n",
              "      <td>2.0</td>\n",
              "      <td>NaN</td>\n",
              "      <td>NaN</td>\n",
              "      <td>2.0</td>\n",
              "      <td>NaN</td>\n",
              "      <td>NaN</td>\n",
              "      <td>2.0</td>\n",
              "      <td>NaN</td>\n",
              "      <td>NaN</td>\n",
              "      <td>4.0</td>\n",
              "      <td>32.0</td>\n",
              "      <td>2</td>\n",
              "      <td>28.7</td>\n",
              "      <td>28.7</td>\n",
              "      <td>92.0</td>\n",
              "      <td>16.5</td>\n",
              "      <td>233.0</td>\n",
              "      <td>0.0</td>\n",
              "      <td>41.73</td>\n",
              "      <td>325.0</td>\n",
              "      <td>58.21</td>\n",
              "      <td>28.0</td>\n",
              "    </tr>\n",
              "    <tr>\n",
              "      <th>1</th>\n",
              "      <td>93706</td>\n",
              "      <td>39.6</td>\n",
              "      <td>39.6</td>\n",
              "      <td>0.0</td>\n",
              "      <td>69.0</td>\n",
              "      <td>6099.6</td>\n",
              "      <td>0.0</td>\n",
              "      <td>57.39</td>\n",
              "      <td>10.0</td>\n",
              "      <td>0.0</td>\n",
              "      <td>4.4</td>\n",
              "      <td>44.0</td>\n",
              "      <td>79.0</td>\n",
              "      <td>14.0</td>\n",
              "      <td>28.0</td>\n",
              "      <td>12.0</td>\n",
              "      <td>4.28</td>\n",
              "      <td>104.0</td>\n",
              "      <td>114.0</td>\n",
              "      <td>0.81</td>\n",
              "      <td>71.60</td>\n",
              "      <td>2.7</td>\n",
              "      <td>27.0</td>\n",
              "      <td>94.0</td>\n",
              "      <td>5.22</td>\n",
              "      <td>16.0</td>\n",
              "      <td>0.0</td>\n",
              "      <td>163.0</td>\n",
              "      <td>29.2</td>\n",
              "      <td>142.0</td>\n",
              "      <td>286.0</td>\n",
              "      <td>4.0</td>\n",
              "      <td>1.292</td>\n",
              "      <td>4.4</td>\n",
              "      <td>144.0</td>\n",
              "      <td>0.7</td>\n",
              "      <td>11.97</td>\n",
              "      <td>0.0</td>\n",
              "      <td>9.6</td>\n",
              "      <td>2.400</td>\n",
              "      <td>...</td>\n",
              "      <td>NaN</td>\n",
              "      <td>NaN</td>\n",
              "      <td>NaN</td>\n",
              "      <td>NaN</td>\n",
              "      <td>NaN</td>\n",
              "      <td>NaN</td>\n",
              "      <td>NaN</td>\n",
              "      <td>NaN</td>\n",
              "      <td>NaN</td>\n",
              "      <td>NaN</td>\n",
              "      <td>NaN</td>\n",
              "      <td>NaN</td>\n",
              "      <td>2.0</td>\n",
              "      <td>NaN</td>\n",
              "      <td>NaN</td>\n",
              "      <td>2.0</td>\n",
              "      <td>NaN</td>\n",
              "      <td>NaN</td>\n",
              "      <td>2.0</td>\n",
              "      <td>NaN</td>\n",
              "      <td>NaN</td>\n",
              "      <td>2.0</td>\n",
              "      <td>NaN</td>\n",
              "      <td>NaN</td>\n",
              "      <td>2.0</td>\n",
              "      <td>NaN</td>\n",
              "      <td>NaN</td>\n",
              "      <td>18.0</td>\n",
              "      <td>25.0</td>\n",
              "      <td>1</td>\n",
              "      <td>284.0</td>\n",
              "      <td>284.0</td>\n",
              "      <td>164.0</td>\n",
              "      <td>29.4</td>\n",
              "      <td>155.0</td>\n",
              "      <td>0.0</td>\n",
              "      <td>27.76</td>\n",
              "      <td>319.0</td>\n",
              "      <td>57.13</td>\n",
              "      <td>51.0</td>\n",
              "    </tr>\n",
              "    <tr>\n",
              "      <th>2</th>\n",
              "      <td>93707</td>\n",
              "      <td>41.6</td>\n",
              "      <td>41.6</td>\n",
              "      <td>0.0</td>\n",
              "      <td>209.0</td>\n",
              "      <td>18475.6</td>\n",
              "      <td>0.0</td>\n",
              "      <td>19.90</td>\n",
              "      <td>13.0</td>\n",
              "      <td>0.0</td>\n",
              "      <td>5.2</td>\n",
              "      <td>52.0</td>\n",
              "      <td>238.0</td>\n",
              "      <td>24.0</td>\n",
              "      <td>22.0</td>\n",
              "      <td>17.0</td>\n",
              "      <td>6.07</td>\n",
              "      <td>97.0</td>\n",
              "      <td>342.0</td>\n",
              "      <td>0.64</td>\n",
              "      <td>56.58</td>\n",
              "      <td>2.8</td>\n",
              "      <td>28.0</td>\n",
              "      <td>115.0</td>\n",
              "      <td>6.38</td>\n",
              "      <td>9.0</td>\n",
              "      <td>0.0</td>\n",
              "      <td>90.0</td>\n",
              "      <td>16.1</td>\n",
              "      <td>177.0</td>\n",
              "      <td>276.0</td>\n",
              "      <td>4.3</td>\n",
              "      <td>1.388</td>\n",
              "      <td>3.3</td>\n",
              "      <td>137.0</td>\n",
              "      <td>0.7</td>\n",
              "      <td>11.97</td>\n",
              "      <td>0.0</td>\n",
              "      <td>10.1</td>\n",
              "      <td>2.525</td>\n",
              "      <td>...</td>\n",
              "      <td>NaN</td>\n",
              "      <td>NaN</td>\n",
              "      <td>NaN</td>\n",
              "      <td>NaN</td>\n",
              "      <td>NaN</td>\n",
              "      <td>NaN</td>\n",
              "      <td>NaN</td>\n",
              "      <td>NaN</td>\n",
              "      <td>NaN</td>\n",
              "      <td>NaN</td>\n",
              "      <td>NaN</td>\n",
              "      <td>NaN</td>\n",
              "      <td>2.0</td>\n",
              "      <td>NaN</td>\n",
              "      <td>NaN</td>\n",
              "      <td>2.0</td>\n",
              "      <td>NaN</td>\n",
              "      <td>NaN</td>\n",
              "      <td>2.0</td>\n",
              "      <td>NaN</td>\n",
              "      <td>NaN</td>\n",
              "      <td>2.0</td>\n",
              "      <td>NaN</td>\n",
              "      <td>NaN</td>\n",
              "      <td>2.0</td>\n",
              "      <td>NaN</td>\n",
              "      <td>NaN</td>\n",
              "      <td>3.0</td>\n",
              "      <td>16.0</td>\n",
              "      <td>2</td>\n",
              "      <td>49.3</td>\n",
              "      <td>49.3</td>\n",
              "      <td>91.0</td>\n",
              "      <td>16.3</td>\n",
              "      <td>340.0</td>\n",
              "      <td>0.0</td>\n",
              "      <td>60.89</td>\n",
              "      <td>431.0</td>\n",
              "      <td>77.19</td>\n",
              "      <td>21.0</td>\n",
              "    </tr>\n",
              "    <tr>\n",
              "      <th>3</th>\n",
              "      <td>93708</td>\n",
              "      <td>9.1</td>\n",
              "      <td>9.1</td>\n",
              "      <td>0.0</td>\n",
              "      <td>47.0</td>\n",
              "      <td>4154.8</td>\n",
              "      <td>0.0</td>\n",
              "      <td>19.36</td>\n",
              "      <td>19.0</td>\n",
              "      <td>0.0</td>\n",
              "      <td>3.9</td>\n",
              "      <td>39.0</td>\n",
              "      <td>66.0</td>\n",
              "      <td>21.0</td>\n",
              "      <td>27.0</td>\n",
              "      <td>16.0</td>\n",
              "      <td>5.71</td>\n",
              "      <td>104.0</td>\n",
              "      <td>347.0</td>\n",
              "      <td>0.58</td>\n",
              "      <td>51.27</td>\n",
              "      <td>3.2</td>\n",
              "      <td>32.0</td>\n",
              "      <td>116.0</td>\n",
              "      <td>6.44</td>\n",
              "      <td>22.0</td>\n",
              "      <td>0.0</td>\n",
              "      <td>96.0</td>\n",
              "      <td>17.2</td>\n",
              "      <td>247.0</td>\n",
              "      <td>289.0</td>\n",
              "      <td>3.3</td>\n",
              "      <td>1.066</td>\n",
              "      <td>4.4</td>\n",
              "      <td>144.0</td>\n",
              "      <td>0.5</td>\n",
              "      <td>8.55</td>\n",
              "      <td>0.0</td>\n",
              "      <td>9.5</td>\n",
              "      <td>2.375</td>\n",
              "      <td>...</td>\n",
              "      <td>NaN</td>\n",
              "      <td>NaN</td>\n",
              "      <td>NaN</td>\n",
              "      <td>NaN</td>\n",
              "      <td>NaN</td>\n",
              "      <td>NaN</td>\n",
              "      <td>0.29</td>\n",
              "      <td>5.58</td>\n",
              "      <td>1.0</td>\n",
              "      <td>0.16</td>\n",
              "      <td>2.72</td>\n",
              "      <td>0.0</td>\n",
              "      <td>2.0</td>\n",
              "      <td>NaN</td>\n",
              "      <td>NaN</td>\n",
              "      <td>2.0</td>\n",
              "      <td>NaN</td>\n",
              "      <td>NaN</td>\n",
              "      <td>2.0</td>\n",
              "      <td>NaN</td>\n",
              "      <td>NaN</td>\n",
              "      <td>2.0</td>\n",
              "      <td>NaN</td>\n",
              "      <td>NaN</td>\n",
              "      <td>1.0</td>\n",
              "      <td>11.0</td>\n",
              "      <td>33.0</td>\n",
              "      <td>12.0</td>\n",
              "      <td>2.0</td>\n",
              "      <td>0</td>\n",
              "      <td>109.0</td>\n",
              "      <td>109.0</td>\n",
              "      <td>90.0</td>\n",
              "      <td>16.1</td>\n",
              "      <td>195.0</td>\n",
              "      <td>0.0</td>\n",
              "      <td>34.92</td>\n",
              "      <td>285.0</td>\n",
              "      <td>51.04</td>\n",
              "      <td>32.0</td>\n",
              "    </tr>\n",
              "    <tr>\n",
              "      <th>4</th>\n",
              "      <td>93709</td>\n",
              "      <td>26.4</td>\n",
              "      <td>26.4</td>\n",
              "      <td>0.0</td>\n",
              "      <td>215.0</td>\n",
              "      <td>19006.0</td>\n",
              "      <td>0.0</td>\n",
              "      <td>12.28</td>\n",
              "      <td>15.0</td>\n",
              "      <td>0.0</td>\n",
              "      <td>3.7</td>\n",
              "      <td>37.0</td>\n",
              "      <td>86.0</td>\n",
              "      <td>17.0</td>\n",
              "      <td>24.0</td>\n",
              "      <td>20.0</td>\n",
              "      <td>7.14</td>\n",
              "      <td>100.0</td>\n",
              "      <td>63.0</td>\n",
              "      <td>1.32</td>\n",
              "      <td>116.69</td>\n",
              "      <td>3.3</td>\n",
              "      <td>33.0</td>\n",
              "      <td>96.0</td>\n",
              "      <td>5.33</td>\n",
              "      <td>31.0</td>\n",
              "      <td>0.0</td>\n",
              "      <td>66.0</td>\n",
              "      <td>11.8</td>\n",
              "      <td>NaN</td>\n",
              "      <td>284.0</td>\n",
              "      <td>3.5</td>\n",
              "      <td>1.130</td>\n",
              "      <td>4.1</td>\n",
              "      <td>141.0</td>\n",
              "      <td>0.3</td>\n",
              "      <td>5.13</td>\n",
              "      <td>0.0</td>\n",
              "      <td>9.9</td>\n",
              "      <td>2.475</td>\n",
              "      <td>...</td>\n",
              "      <td>NaN</td>\n",
              "      <td>NaN</td>\n",
              "      <td>NaN</td>\n",
              "      <td>NaN</td>\n",
              "      <td>NaN</td>\n",
              "      <td>NaN</td>\n",
              "      <td>0.70</td>\n",
              "      <td>13.46</td>\n",
              "      <td>0.0</td>\n",
              "      <td>0.34</td>\n",
              "      <td>5.77</td>\n",
              "      <td>0.0</td>\n",
              "      <td>2.0</td>\n",
              "      <td>NaN</td>\n",
              "      <td>NaN</td>\n",
              "      <td>2.0</td>\n",
              "      <td>NaN</td>\n",
              "      <td>NaN</td>\n",
              "      <td>2.0</td>\n",
              "      <td>NaN</td>\n",
              "      <td>NaN</td>\n",
              "      <td>2.0</td>\n",
              "      <td>NaN</td>\n",
              "      <td>NaN</td>\n",
              "      <td>2.0</td>\n",
              "      <td>NaN</td>\n",
              "      <td>NaN</td>\n",
              "      <td>3.0</td>\n",
              "      <td>58.0</td>\n",
              "      <td>1</td>\n",
              "      <td>129.0</td>\n",
              "      <td>129.0</td>\n",
              "      <td>63.0</td>\n",
              "      <td>11.3</td>\n",
              "      <td>239.0</td>\n",
              "      <td>0.0</td>\n",
              "      <td>42.80</td>\n",
              "      <td>302.0</td>\n",
              "      <td>54.09</td>\n",
              "      <td>21.0</td>\n",
              "    </tr>\n",
              "  </tbody>\n",
              "</table>\n",
              "<p>5 rows × 109 columns</p>\n",
              "</div>"
            ],
            "text/plain": [
              "    SEQN  URXUMA  URXUMS  URDUMALC  ...  LBDUIBSI  LBDTIB  LBDTIBSI  LBDPCT\n",
              "0  93705     3.2     3.2       0.0  ...     41.73   325.0     58.21    28.0\n",
              "1  93706    39.6    39.6       0.0  ...     27.76   319.0     57.13    51.0\n",
              "2  93707    41.6    41.6       0.0  ...     60.89   431.0     77.19    21.0\n",
              "3  93708     9.1     9.1       0.0  ...     34.92   285.0     51.04    32.0\n",
              "4  93709    26.4    26.4       0.0  ...     42.80   302.0     54.09    21.0\n",
              "\n",
              "[5 rows x 109 columns]"
            ]
          },
          "metadata": {
            "tags": []
          },
          "execution_count": 156
        }
      ]
    },
    {
      "cell_type": "markdown",
      "metadata": {
        "id": "oh1RqM9phmR-"
      },
      "source": [
        "*FOLATE_J*"
      ]
    },
    {
      "cell_type": "code",
      "metadata": {
        "colab": {
          "base_uri": "https://localhost:8080/"
        },
        "id": "KurKu4MthleJ",
        "outputId": "f0c160d6-57fb-4cc2-b35c-d844c141f8ed"
      },
      "source": [
        "data_10 = '/content/FOLATE_J.xlsx'\n",
        "d10= pd.read_excel(data_10,\n",
        "sheet_name=0,\n",
        "header=0,\n",
        "index_col=False,\n",
        "keep_default_na=True\n",
        ")\n",
        "len(d10)"
      ],
      "execution_count": 157,
      "outputs": [
        {
          "output_type": "execute_result",
          "data": {
            "text/plain": [
              "5092"
            ]
          },
          "metadata": {
            "tags": []
          },
          "execution_count": 157
        }
      ]
    },
    {
      "cell_type": "code",
      "metadata": {
        "colab": {
          "base_uri": "https://localhost:8080/"
        },
        "id": "3IDNgZZlhdOs",
        "outputId": "b6297fa7-7df7-41e7-b824-fcf911eda6aa"
      },
      "source": [
        "dd9=pd.merge(dd8,d10,how='left')\n",
        "len(dd9)"
      ],
      "execution_count": 158,
      "outputs": [
        {
          "output_type": "execute_result",
          "data": {
            "text/plain": [
              "7936"
            ]
          },
          "metadata": {
            "tags": []
          },
          "execution_count": 158
        }
      ]
    },
    {
      "cell_type": "markdown",
      "metadata": {
        "id": "5Ex35-BpiWXa"
      },
      "source": [
        "*FOLFMS_J*"
      ]
    },
    {
      "cell_type": "code",
      "metadata": {
        "colab": {
          "base_uri": "https://localhost:8080/"
        },
        "id": "-WE5Oi7AhdRf",
        "outputId": "50fc191a-090d-42c0-e73e-cec047fd715f"
      },
      "source": [
        "data_11 = '/content/FOLFMS_J.xlsx'\n",
        "d11= pd.read_excel(data_11,\n",
        "sheet_name=0,\n",
        "header=0,\n",
        "index_col=False,\n",
        "keep_default_na=True\n",
        ")\n",
        "len(d11)"
      ],
      "execution_count": 159,
      "outputs": [
        {
          "output_type": "execute_result",
          "data": {
            "text/plain": [
              "5092"
            ]
          },
          "metadata": {
            "tags": []
          },
          "execution_count": 159
        }
      ]
    },
    {
      "cell_type": "code",
      "metadata": {
        "colab": {
          "base_uri": "https://localhost:8080/"
        },
        "id": "u3DO8My-iVMc",
        "outputId": "c9853036-a462-4556-bf86-d4ef09008ef0"
      },
      "source": [
        "dd10=pd.merge(dd9,d11,how='left')\n",
        "len(dd10)"
      ],
      "execution_count": 160,
      "outputs": [
        {
          "output_type": "execute_result",
          "data": {
            "text/plain": [
              "7936"
            ]
          },
          "metadata": {
            "tags": []
          },
          "execution_count": 160
        }
      ]
    },
    {
      "cell_type": "markdown",
      "metadata": {
        "id": "Xnmavh89i2wT"
      },
      "source": [
        "*GHB_J*"
      ]
    },
    {
      "cell_type": "code",
      "metadata": {
        "colab": {
          "base_uri": "https://localhost:8080/"
        },
        "id": "78ieA9cciVPg",
        "outputId": "d789f2a2-03ff-4183-d9af-8271b9d08229"
      },
      "source": [
        "data_12 = '/content/GHB_J.xlsx'\n",
        "d12= pd.read_excel(data_12,\n",
        "sheet_name=0,\n",
        "header=0,\n",
        "index_col=False,\n",
        "keep_default_na=True\n",
        ")\n",
        "len(d12)"
      ],
      "execution_count": 161,
      "outputs": [
        {
          "output_type": "execute_result",
          "data": {
            "text/plain": [
              "6401"
            ]
          },
          "metadata": {
            "tags": []
          },
          "execution_count": 161
        }
      ]
    },
    {
      "cell_type": "code",
      "metadata": {
        "colab": {
          "base_uri": "https://localhost:8080/"
        },
        "id": "BYv7L1JDiVSS",
        "outputId": "4001a192-5b27-42bf-f32a-9247e32283c4"
      },
      "source": [
        "dd11=pd.merge(dd10,d12,how='left')\n",
        "len(dd11)"
      ],
      "execution_count": 162,
      "outputs": [
        {
          "output_type": "execute_result",
          "data": {
            "text/plain": [
              "7936"
            ]
          },
          "metadata": {
            "tags": []
          },
          "execution_count": 162
        }
      ]
    },
    {
      "cell_type": "markdown",
      "metadata": {
        "id": "N6CZoX9DjKRH"
      },
      "source": [
        "*GLU_J*"
      ]
    },
    {
      "cell_type": "code",
      "metadata": {
        "colab": {
          "base_uri": "https://localhost:8080/"
        },
        "id": "tsLbOh0qiVVK",
        "outputId": "166eada2-9e8b-4637-f407-5445e7ad6af7"
      },
      "source": [
        "data_13 = '/content/GLU_J.xlsx'\n",
        "d13= pd.read_excel(data_13,\n",
        "sheet_name=0,\n",
        "header=0,\n",
        "index_col=False,\n",
        "keep_default_na=True\n",
        ")\n",
        "len(d13)"
      ],
      "execution_count": 163,
      "outputs": [
        {
          "output_type": "execute_result",
          "data": {
            "text/plain": [
              "3036"
            ]
          },
          "metadata": {
            "tags": []
          },
          "execution_count": 163
        }
      ]
    },
    {
      "cell_type": "code",
      "metadata": {
        "colab": {
          "base_uri": "https://localhost:8080/"
        },
        "id": "rmRZyhNniVXP",
        "outputId": "95395241-bd8e-4603-e94a-c4363eb20351"
      },
      "source": [
        "dd12=pd.merge(dd11,d13,how='left')\n",
        "len(dd12)"
      ],
      "execution_count": 164,
      "outputs": [
        {
          "output_type": "execute_result",
          "data": {
            "text/plain": [
              "7936"
            ]
          },
          "metadata": {
            "tags": []
          },
          "execution_count": 164
        }
      ]
    },
    {
      "cell_type": "markdown",
      "metadata": {
        "id": "HK0TEg2QnG5q"
      },
      "source": [
        "*HDL_J*"
      ]
    },
    {
      "cell_type": "code",
      "metadata": {
        "colab": {
          "base_uri": "https://localhost:8080/"
        },
        "id": "Tt-auG-aiVfD",
        "outputId": "4f1e5245-c058-41e2-e9ab-0b1aa7555b83"
      },
      "source": [
        "data_14 = '/content/HDL_J.xlsx'\n",
        "d14= pd.read_excel(data_14,\n",
        "sheet_name=0,\n",
        "header=0,\n",
        "index_col=False,\n",
        "keep_default_na=True\n",
        ")\n",
        "len(d14)"
      ],
      "execution_count": 165,
      "outputs": [
        {
          "output_type": "execute_result",
          "data": {
            "text/plain": [
              "7435"
            ]
          },
          "metadata": {
            "tags": []
          },
          "execution_count": 165
        }
      ]
    },
    {
      "cell_type": "code",
      "metadata": {
        "colab": {
          "base_uri": "https://localhost:8080/"
        },
        "id": "e5qTMb_WiViY",
        "outputId": "f3711401-66c2-478b-ce5e-a992c4c5fc3c"
      },
      "source": [
        "dd13=pd.merge(dd12,d14,how='left')\n",
        "len(dd13)"
      ],
      "execution_count": 166,
      "outputs": [
        {
          "output_type": "execute_result",
          "data": {
            "text/plain": [
              "7936"
            ]
          },
          "metadata": {
            "tags": []
          },
          "execution_count": 166
        }
      ]
    },
    {
      "cell_type": "markdown",
      "metadata": {
        "id": "sLlWVV6spC_1"
      },
      "source": [
        "*HEPA_J*"
      ]
    },
    {
      "cell_type": "code",
      "metadata": {
        "colab": {
          "base_uri": "https://localhost:8080/"
        },
        "id": "_ATj6KXCiVkT",
        "outputId": "56943c44-05fc-40fa-dd8d-a03de7a87907"
      },
      "source": [
        "data_15 = '/content/HEPA_J.xlsx'\n",
        "d15= pd.read_excel(data_15,\n",
        "sheet_name=0,\n",
        "header=0,\n",
        "index_col=False,\n",
        "keep_default_na=True\n",
        ")\n",
        "len(d15)"
      ],
      "execution_count": 167,
      "outputs": [
        {
          "output_type": "execute_result",
          "data": {
            "text/plain": [
              "8153"
            ]
          },
          "metadata": {
            "tags": []
          },
          "execution_count": 167
        }
      ]
    },
    {
      "cell_type": "code",
      "metadata": {
        "colab": {
          "base_uri": "https://localhost:8080/"
        },
        "id": "J2VLT8wGiVmn",
        "outputId": "e1d729b0-ab76-46fd-f005-206f12150ef0"
      },
      "source": [
        "dd14=pd.merge(dd13,d15,how='left')\n",
        "len(dd14)"
      ],
      "execution_count": 168,
      "outputs": [
        {
          "output_type": "execute_result",
          "data": {
            "text/plain": [
              "7936"
            ]
          },
          "metadata": {
            "tags": []
          },
          "execution_count": 168
        }
      ]
    },
    {
      "cell_type": "markdown",
      "metadata": {
        "id": "fZa6Eo-NrHS4"
      },
      "source": [
        "*HEPBD_J*"
      ]
    },
    {
      "cell_type": "code",
      "metadata": {
        "colab": {
          "base_uri": "https://localhost:8080/"
        },
        "id": "QUQILs8tiVqE",
        "outputId": "a1ba9b62-7e6e-49ba-b571-a4cc3d136372"
      },
      "source": [
        "data_16 = '/content/HEPBD_J.xlsx'\n",
        "d16= pd.read_excel(data_16,\n",
        "sheet_name=0,\n",
        "header=0,\n",
        "index_col=False,\n",
        "keep_default_na=True\n",
        ")\n",
        "len(d16)"
      ],
      "execution_count": 169,
      "outputs": [
        {
          "output_type": "execute_result",
          "data": {
            "text/plain": [
              "7435"
            ]
          },
          "metadata": {
            "tags": []
          },
          "execution_count": 169
        }
      ]
    },
    {
      "cell_type": "code",
      "metadata": {
        "colab": {
          "base_uri": "https://localhost:8080/"
        },
        "id": "F6VGGUn5iVsF",
        "outputId": "90455214-bd1f-48fd-9455-736d95ff72c0"
      },
      "source": [
        "dd15=pd.merge(dd14,d16,how='left')\n",
        "len(dd15)"
      ],
      "execution_count": 170,
      "outputs": [
        {
          "output_type": "execute_result",
          "data": {
            "text/plain": [
              "7936"
            ]
          },
          "metadata": {
            "tags": []
          },
          "execution_count": 170
        }
      ]
    },
    {
      "cell_type": "markdown",
      "metadata": {
        "id": "Ohg6Dz9srlOe"
      },
      "source": [
        "*HEPB_S*"
      ]
    },
    {
      "cell_type": "code",
      "metadata": {
        "colab": {
          "base_uri": "https://localhost:8080/"
        },
        "id": "uROxnjOTiVvZ",
        "outputId": "70f736ff-19a0-4717-9fce-477bcea7873a"
      },
      "source": [
        "data_17 = '/content/HEPB_S_J.xlsx'\n",
        "d17= pd.read_excel(data_17,\n",
        "sheet_name=0,\n",
        "header=0,\n",
        "index_col=False,\n",
        "keep_default_na=True\n",
        ")\n",
        "len(d17)"
      ],
      "execution_count": 171,
      "outputs": [
        {
          "output_type": "execute_result",
          "data": {
            "text/plain": [
              "8153"
            ]
          },
          "metadata": {
            "tags": []
          },
          "execution_count": 171
        }
      ]
    },
    {
      "cell_type": "code",
      "metadata": {
        "colab": {
          "base_uri": "https://localhost:8080/"
        },
        "id": "wbe2viTKrqr8",
        "outputId": "a8e26ae1-e9b1-4d84-f2a1-e3b3f258ff3a"
      },
      "source": [
        "dd16=pd.merge(dd15,d17,how='left')\n",
        "len(dd16)"
      ],
      "execution_count": 172,
      "outputs": [
        {
          "output_type": "execute_result",
          "data": {
            "text/plain": [
              "7936"
            ]
          },
          "metadata": {
            "tags": []
          },
          "execution_count": 172
        }
      ]
    },
    {
      "cell_type": "markdown",
      "metadata": {
        "id": "A4fsiVe2Bm6f"
      },
      "source": [
        "*HEPC_J*"
      ]
    },
    {
      "cell_type": "code",
      "metadata": {
        "colab": {
          "base_uri": "https://localhost:8080/"
        },
        "id": "8BkPIfF2BgVm",
        "outputId": "c5f48543-c41d-454f-c8b7-bdb621455177"
      },
      "source": [
        "data_18 = '/content/HEPC_J.xlsx'\n",
        "d18= pd.read_excel(data_18,\n",
        "sheet_name=0,\n",
        "header=0,\n",
        "index_col=False,\n",
        "keep_default_na=True\n",
        ")\n",
        "len(d18)"
      ],
      "execution_count": 173,
      "outputs": [
        {
          "output_type": "execute_result",
          "data": {
            "text/plain": [
              "7435"
            ]
          },
          "metadata": {
            "tags": []
          },
          "execution_count": 173
        }
      ]
    },
    {
      "cell_type": "code",
      "metadata": {
        "colab": {
          "base_uri": "https://localhost:8080/"
        },
        "id": "2rSmMANJBgkD",
        "outputId": "3d7ef883-05dc-4ec2-f38d-b5842b868cd0"
      },
      "source": [
        "dd17=pd.merge(dd16,d18,how='left')\n",
        "len(dd17)"
      ],
      "execution_count": 174,
      "outputs": [
        {
          "output_type": "execute_result",
          "data": {
            "text/plain": [
              "7936"
            ]
          },
          "metadata": {
            "tags": []
          },
          "execution_count": 174
        }
      ]
    },
    {
      "cell_type": "markdown",
      "metadata": {
        "id": "RIBhoO8VCEc1"
      },
      "source": [
        "*HEPE_J*"
      ]
    },
    {
      "cell_type": "code",
      "metadata": {
        "colab": {
          "base_uri": "https://localhost:8080/"
        },
        "id": "BfiPz1PYBguA",
        "outputId": "175f6ae7-d7e9-46f9-a1bf-30165e33434c"
      },
      "source": [
        "data_19 = '/content/HEPE_J.xlsx'\n",
        "d19= pd.read_excel(data_19,\n",
        "sheet_name=0,\n",
        "header=0,\n",
        "index_col=False,\n",
        "keep_default_na=True\n",
        ")\n",
        "len(d19)"
      ],
      "execution_count": 175,
      "outputs": [
        {
          "output_type": "execute_result",
          "data": {
            "text/plain": [
              "7435"
            ]
          },
          "metadata": {
            "tags": []
          },
          "execution_count": 175
        }
      ]
    },
    {
      "cell_type": "code",
      "metadata": {
        "colab": {
          "base_uri": "https://localhost:8080/"
        },
        "id": "gXVLXniVBgwQ",
        "outputId": "3efe218d-a48e-491f-9cb2-fcc6f3c0e28f"
      },
      "source": [
        "dd18=pd.merge(dd17,d19,how='left')\n",
        "len(dd18)"
      ],
      "execution_count": 176,
      "outputs": [
        {
          "output_type": "execute_result",
          "data": {
            "text/plain": [
              "7936"
            ]
          },
          "metadata": {
            "tags": []
          },
          "execution_count": 176
        }
      ]
    },
    {
      "cell_type": "markdown",
      "metadata": {
        "id": "3LaYZfbBCYbQ"
      },
      "source": [
        "*HIV_J*"
      ]
    },
    {
      "cell_type": "code",
      "metadata": {
        "colab": {
          "base_uri": "https://localhost:8080/"
        },
        "id": "eufdfDU3Bg5t",
        "outputId": "c7848535-3dab-4970-d8b1-b3dc4fd281a4"
      },
      "source": [
        "data_20 = '/content/HIV_J.xlsx'\n",
        "d20= pd.read_excel(data_20,\n",
        "sheet_name=0,\n",
        "header=0,\n",
        "index_col=False,\n",
        "keep_default_na=True\n",
        ")\n",
        "len(d20)"
      ],
      "execution_count": 177,
      "outputs": [
        {
          "output_type": "execute_result",
          "data": {
            "text/plain": [
              "3515"
            ]
          },
          "metadata": {
            "tags": []
          },
          "execution_count": 177
        }
      ]
    },
    {
      "cell_type": "code",
      "metadata": {
        "colab": {
          "base_uri": "https://localhost:8080/"
        },
        "id": "2QlqCswgBhC3",
        "outputId": "57679cae-0de5-4399-9a42-0fb1ed05fb15"
      },
      "source": [
        "dd19=pd.merge(dd18,d20,how='left')\n",
        "len(dd19)"
      ],
      "execution_count": 178,
      "outputs": [
        {
          "output_type": "execute_result",
          "data": {
            "text/plain": [
              "7936"
            ]
          },
          "metadata": {
            "tags": []
          },
          "execution_count": 178
        }
      ]
    },
    {
      "cell_type": "markdown",
      "metadata": {
        "id": "6LZpYG8tCs3C"
      },
      "source": [
        "*HSCRP_J*"
      ]
    },
    {
      "cell_type": "code",
      "metadata": {
        "colab": {
          "base_uri": "https://localhost:8080/"
        },
        "id": "o901O-OfBhMz",
        "outputId": "6285d3ba-d438-4227-b816-e977c9e62899"
      },
      "source": [
        "data_21 = '/content/HSCRP_J.xlsx'\n",
        "d21= pd.read_excel(data_21,\n",
        "sheet_name=0,\n",
        "header=0,\n",
        "index_col=False,\n",
        "keep_default_na=True\n",
        ")\n",
        "len(d21)"
      ],
      "execution_count": 179,
      "outputs": [
        {
          "output_type": "execute_result",
          "data": {
            "text/plain": [
              "8366"
            ]
          },
          "metadata": {
            "tags": []
          },
          "execution_count": 179
        }
      ]
    },
    {
      "cell_type": "code",
      "metadata": {
        "colab": {
          "base_uri": "https://localhost:8080/"
        },
        "id": "SwlYy1R7BhWA",
        "outputId": "77d70d37-102d-4ead-afed-c6aa475e8119"
      },
      "source": [
        "dd20=pd.merge(dd19,d21,how='left')\n",
        "len(dd20)"
      ],
      "execution_count": 180,
      "outputs": [
        {
          "output_type": "execute_result",
          "data": {
            "text/plain": [
              "7936"
            ]
          },
          "metadata": {
            "tags": []
          },
          "execution_count": 180
        }
      ]
    },
    {
      "cell_type": "markdown",
      "metadata": {
        "id": "y-WW-rToC6on"
      },
      "source": [
        "*IHGEM_J*"
      ]
    },
    {
      "cell_type": "code",
      "metadata": {
        "colab": {
          "base_uri": "https://localhost:8080/"
        },
        "id": "Q944rvKbBhfR",
        "outputId": "88446dbe-0337-4423-dc58-4cecaa6f7c69"
      },
      "source": [
        "data_22 = '/content/IHGEM_J.xlsx'\n",
        "d22= pd.read_excel(data_22,\n",
        "sheet_name=0,\n",
        "header=0,\n",
        "index_col=False,\n",
        "keep_default_na=True\n",
        ")\n",
        "len(d22)"
      ],
      "execution_count": 181,
      "outputs": [
        {
          "output_type": "execute_result",
          "data": {
            "text/plain": [
              "8366"
            ]
          },
          "metadata": {
            "tags": []
          },
          "execution_count": 181
        }
      ]
    },
    {
      "cell_type": "code",
      "metadata": {
        "colab": {
          "base_uri": "https://localhost:8080/"
        },
        "id": "6G0GaLC_Bho2",
        "outputId": "4e5d571e-8f20-45e5-c6f0-92266657458a"
      },
      "source": [
        "dd21=pd.merge(dd20,d22,how='left')\n",
        "len(dd21)"
      ],
      "execution_count": 182,
      "outputs": [
        {
          "output_type": "execute_result",
          "data": {
            "text/plain": [
              "7936"
            ]
          },
          "metadata": {
            "tags": []
          },
          "execution_count": 182
        }
      ]
    },
    {
      "cell_type": "markdown",
      "metadata": {
        "id": "YEm_hgVCDOoO"
      },
      "source": [
        "*PBCD_J*"
      ]
    },
    {
      "cell_type": "code",
      "metadata": {
        "colab": {
          "base_uri": "https://localhost:8080/"
        },
        "id": "fibqjD8KBhy2",
        "outputId": "f971f06b-1bd1-477e-ff7f-0f446d74d906"
      },
      "source": [
        "data_23 = '/content/PBCD_J.xlsx'\n",
        "d23= pd.read_excel(data_23,\n",
        "sheet_name=0,\n",
        "header=0,\n",
        "index_col=False,\n",
        "keep_default_na=True\n",
        ")\n",
        "len(d23)"
      ],
      "execution_count": 183,
      "outputs": [
        {
          "output_type": "execute_result",
          "data": {
            "text/plain": [
              "8366"
            ]
          },
          "metadata": {
            "tags": []
          },
          "execution_count": 183
        }
      ]
    },
    {
      "cell_type": "code",
      "metadata": {
        "colab": {
          "base_uri": "https://localhost:8080/"
        },
        "id": "ajxtLgdQBh8G",
        "outputId": "0e2cbe83-f27c-4361-f95f-ea7ed3c6b743"
      },
      "source": [
        "dd22=pd.merge(dd21,d23,how='left')\n",
        "len(dd22)"
      ],
      "execution_count": 184,
      "outputs": [
        {
          "output_type": "execute_result",
          "data": {
            "text/plain": [
              "7936"
            ]
          },
          "metadata": {
            "tags": []
          },
          "execution_count": 184
        }
      ]
    },
    {
      "cell_type": "markdown",
      "metadata": {
        "id": "gInI6gWuDpg1"
      },
      "source": [
        "*PFAS_J*"
      ]
    },
    {
      "cell_type": "code",
      "metadata": {
        "colab": {
          "base_uri": "https://localhost:8080/"
        },
        "id": "lRAz8y0WBiFg",
        "outputId": "64169ce8-b91c-4f38-891a-0391e07f16e4"
      },
      "source": [
        "data_24 = '/content/PFAS_J.xlsx'\n",
        "d24= pd.read_excel(data_24,\n",
        "sheet_name=0,\n",
        "header=0,\n",
        "index_col=False,\n",
        "keep_default_na=True\n",
        ")\n",
        "len(d24)"
      ],
      "execution_count": 185,
      "outputs": [
        {
          "output_type": "execute_result",
          "data": {
            "text/plain": [
              "2133"
            ]
          },
          "metadata": {
            "tags": []
          },
          "execution_count": 185
        }
      ]
    },
    {
      "cell_type": "code",
      "metadata": {
        "colab": {
          "base_uri": "https://localhost:8080/"
        },
        "id": "J-tGbqxFBiWr",
        "outputId": "0923af0e-3d7b-4e3c-9d96-8f3bc97e3621"
      },
      "source": [
        "dd23=pd.merge(dd22,d24,how='left')\n",
        "len(dd23)"
      ],
      "execution_count": 186,
      "outputs": [
        {
          "output_type": "execute_result",
          "data": {
            "text/plain": [
              "7936"
            ]
          },
          "metadata": {
            "tags": []
          },
          "execution_count": 186
        }
      ]
    },
    {
      "cell_type": "markdown",
      "metadata": {
        "id": "xqED-qZtD39b"
      },
      "source": [
        "*SSPFAS_J*"
      ]
    },
    {
      "cell_type": "code",
      "metadata": {
        "colab": {
          "base_uri": "https://localhost:8080/"
        },
        "id": "M79K6euxBiZG",
        "outputId": "74e0339a-9fbf-42f6-bea5-164d838ac97f"
      },
      "source": [
        "data_25 = '/content/SSPFAS_J.xlsx'\n",
        "d25= pd.read_excel(data_25,\n",
        "sheet_name=0,\n",
        "header=0,\n",
        "index_col=False,\n",
        "keep_default_na=True\n",
        ")\n",
        "len(d25)"
      ],
      "execution_count": 187,
      "outputs": [
        {
          "output_type": "execute_result",
          "data": {
            "text/plain": [
              "1929"
            ]
          },
          "metadata": {
            "tags": []
          },
          "execution_count": 187
        }
      ]
    },
    {
      "cell_type": "code",
      "metadata": {
        "colab": {
          "base_uri": "https://localhost:8080/"
        },
        "id": "hnFFnsCWBii5",
        "outputId": "baebfc08-235c-4308-e633-ebe1b2b10ecf"
      },
      "source": [
        "dd24=pd.merge(dd23,d25,how='left')\n",
        "len(dd24)"
      ],
      "execution_count": 188,
      "outputs": [
        {
          "output_type": "execute_result",
          "data": {
            "text/plain": [
              "7936"
            ]
          },
          "metadata": {
            "tags": []
          },
          "execution_count": 188
        }
      ]
    },
    {
      "cell_type": "markdown",
      "metadata": {
        "id": "hxGjvDwtEI9u"
      },
      "source": [
        "*TCHOL_J*"
      ]
    },
    {
      "cell_type": "code",
      "metadata": {
        "colab": {
          "base_uri": "https://localhost:8080/"
        },
        "id": "30vBsq-DBise",
        "outputId": "14b5326f-46b6-49f3-a416-436fd7393323"
      },
      "source": [
        "data_26 = '/content/TCHOL_J.xlsx'\n",
        "d26= pd.read_excel(data_26,\n",
        "sheet_name=0,\n",
        "header=0,\n",
        "index_col=False,\n",
        "keep_default_na=True\n",
        ")\n",
        "len(d26)"
      ],
      "execution_count": 189,
      "outputs": [
        {
          "output_type": "execute_result",
          "data": {
            "text/plain": [
              "7435"
            ]
          },
          "metadata": {
            "tags": []
          },
          "execution_count": 189
        }
      ]
    },
    {
      "cell_type": "code",
      "metadata": {
        "colab": {
          "base_uri": "https://localhost:8080/"
        },
        "id": "ROGTbpvgBi3W",
        "outputId": "6b7ce9e8-289b-4a21-e272-73426e62b0be"
      },
      "source": [
        "dd25=pd.merge(dd24,d26,how='left')\n",
        "len(dd25)"
      ],
      "execution_count": 190,
      "outputs": [
        {
          "output_type": "execute_result",
          "data": {
            "text/plain": [
              "7936"
            ]
          },
          "metadata": {
            "tags": []
          },
          "execution_count": 190
        }
      ]
    },
    {
      "cell_type": "markdown",
      "metadata": {
        "id": "OPHH8hq5EVWA"
      },
      "source": [
        "*TRIGLY_J*"
      ]
    },
    {
      "cell_type": "code",
      "metadata": {
        "colab": {
          "base_uri": "https://localhost:8080/"
        },
        "id": "CBp2U9h9BjBU",
        "outputId": "39280d6e-7c4a-4d88-8e50-b7b6be2e01cf"
      },
      "source": [
        "data_27 = '/content/TRIGLY_J.xlsx'\n",
        "d27= pd.read_excel(data_27,\n",
        "sheet_name=0,\n",
        "header=0,\n",
        "index_col=False,\n",
        "keep_default_na=True\n",
        ")\n",
        "len(d27)"
      ],
      "execution_count": 191,
      "outputs": [
        {
          "output_type": "execute_result",
          "data": {
            "text/plain": [
              "3036"
            ]
          },
          "metadata": {
            "tags": []
          },
          "execution_count": 191
        }
      ]
    },
    {
      "cell_type": "code",
      "metadata": {
        "colab": {
          "base_uri": "https://localhost:8080/"
        },
        "id": "gSaDv3RZBjLV",
        "outputId": "f781c6e7-d243-43c1-ba4d-2218a7948097"
      },
      "source": [
        "dd26=pd.merge(dd25,d27,how='left')\n",
        "len(dd26)"
      ],
      "execution_count": 192,
      "outputs": [
        {
          "output_type": "execute_result",
          "data": {
            "text/plain": [
              "7936"
            ]
          },
          "metadata": {
            "tags": []
          },
          "execution_count": 192
        }
      ]
    },
    {
      "cell_type": "markdown",
      "metadata": {
        "id": "WR1WfurAEnNA"
      },
      "source": [
        "*UCFLOW_J*"
      ]
    },
    {
      "cell_type": "code",
      "metadata": {
        "colab": {
          "base_uri": "https://localhost:8080/"
        },
        "id": "pPe-vkGQBjWb",
        "outputId": "c7b8c588-b37b-4518-9496-96d57be13250"
      },
      "source": [
        "data_28 = '/content/UCFLOW_J.xlsx'\n",
        "d28= pd.read_excel(data_28,\n",
        "sheet_name=0,\n",
        "header=0,\n",
        "index_col=False,\n",
        "keep_default_na=True\n",
        ")\n",
        "len(d28)"
      ],
      "execution_count": 193,
      "outputs": [
        {
          "output_type": "execute_result",
          "data": {
            "text/plain": [
              "7936"
            ]
          },
          "metadata": {
            "tags": []
          },
          "execution_count": 193
        }
      ]
    },
    {
      "cell_type": "code",
      "metadata": {
        "colab": {
          "base_uri": "https://localhost:8080/"
        },
        "id": "T0VlywxiBjgf",
        "outputId": "143d074d-404d-4ce8-eadf-3853bd90e49f"
      },
      "source": [
        "dd27=pd.merge(dd26,d28,how='left')\n",
        "len(dd27)"
      ],
      "execution_count": 194,
      "outputs": [
        {
          "output_type": "execute_result",
          "data": {
            "text/plain": [
              "7936"
            ]
          },
          "metadata": {
            "tags": []
          },
          "execution_count": 194
        }
      ]
    },
    {
      "cell_type": "markdown",
      "metadata": {
        "id": "uvMnc0oIE3qX"
      },
      "source": [
        "*UCM_J*"
      ]
    },
    {
      "cell_type": "code",
      "metadata": {
        "colab": {
          "base_uri": "https://localhost:8080/"
        },
        "id": "HBIvqeC0Bjri",
        "outputId": "6fcb68c8-89b3-4a07-a7a8-37935998ed47"
      },
      "source": [
        "data_29 = '/content/UCM_J.xlsx'\n",
        "d29= pd.read_excel(data_29,\n",
        "sheet_name=0,\n",
        "header=0,\n",
        "index_col=False,\n",
        "keep_default_na=True\n",
        ")\n",
        "len(d29)"
      ],
      "execution_count": 195,
      "outputs": [
        {
          "output_type": "execute_result",
          "data": {
            "text/plain": [
              "2979"
            ]
          },
          "metadata": {
            "tags": []
          },
          "execution_count": 195
        }
      ]
    },
    {
      "cell_type": "code",
      "metadata": {
        "colab": {
          "base_uri": "https://localhost:8080/"
        },
        "id": "0R60bxnCBj2v",
        "outputId": "5d657ed9-d3ac-4819-8d4b-7880170b3ac7"
      },
      "source": [
        "dd28=pd.merge(dd27,d29,how='left')\n",
        "len(dd28)"
      ],
      "execution_count": 196,
      "outputs": [
        {
          "output_type": "execute_result",
          "data": {
            "text/plain": [
              "7936"
            ]
          },
          "metadata": {
            "tags": []
          },
          "execution_count": 196
        }
      ]
    },
    {
      "cell_type": "markdown",
      "metadata": {
        "id": "9MvKQi_1FH0s"
      },
      "source": [
        "*UCPREG_J*"
      ]
    },
    {
      "cell_type": "code",
      "metadata": {
        "colab": {
          "base_uri": "https://localhost:8080/"
        },
        "id": "uUcEnZwwBkEg",
        "outputId": "6a3b39fa-d99f-4083-c34d-a1adae8b74a5"
      },
      "source": [
        "data_30 = '/content/UCPREG_J.xlsx'\n",
        "d30= pd.read_excel(data_30,\n",
        "sheet_name=0,\n",
        "header=0,\n",
        "index_col=False,\n",
        "keep_default_na=True\n",
        ")\n",
        "len(d30)"
      ],
      "execution_count": 197,
      "outputs": [
        {
          "output_type": "execute_result",
          "data": {
            "text/plain": [
              "1057"
            ]
          },
          "metadata": {
            "tags": []
          },
          "execution_count": 197
        }
      ]
    },
    {
      "cell_type": "code",
      "metadata": {
        "colab": {
          "base_uri": "https://localhost:8080/"
        },
        "id": "QPrX-W_kBkQD",
        "outputId": "2069b3c7-fff2-4427-e8da-e675c20f932b"
      },
      "source": [
        "dd29=pd.merge(dd28,d30,how='left')\n",
        "len(dd29)"
      ],
      "execution_count": 198,
      "outputs": [
        {
          "output_type": "execute_result",
          "data": {
            "text/plain": [
              "7936"
            ]
          },
          "metadata": {
            "tags": []
          },
          "execution_count": 198
        }
      ]
    },
    {
      "cell_type": "markdown",
      "metadata": {
        "id": "1qarpxtGFUkf"
      },
      "source": [
        "*UHG_J*"
      ]
    },
    {
      "cell_type": "code",
      "metadata": {
        "colab": {
          "base_uri": "https://localhost:8080/"
        },
        "id": "Q63TwhjJBkaf",
        "outputId": "3a4442e8-13be-4397-f26c-a93fec9db412"
      },
      "source": [
        "data_31 = '/content/UHG_J.xlsx'\n",
        "d31= pd.read_excel(data_31,\n",
        "sheet_name=0,\n",
        "header=0,\n",
        "index_col=False,\n",
        "keep_default_na=True\n",
        ")\n",
        "len(d31)"
      ],
      "execution_count": 199,
      "outputs": [
        {
          "output_type": "execute_result",
          "data": {
            "text/plain": [
              "2979"
            ]
          },
          "metadata": {
            "tags": []
          },
          "execution_count": 199
        }
      ]
    },
    {
      "cell_type": "code",
      "metadata": {
        "colab": {
          "base_uri": "https://localhost:8080/"
        },
        "id": "Vke8COK_BklJ",
        "outputId": "9d1996c3-92a5-403d-c2e5-dd5b3c024c5d"
      },
      "source": [
        "dd30=pd.merge(dd29,d31,how='left')\n",
        "len(dd30)"
      ],
      "execution_count": 200,
      "outputs": [
        {
          "output_type": "execute_result",
          "data": {
            "text/plain": [
              "7936"
            ]
          },
          "metadata": {
            "tags": []
          },
          "execution_count": 200
        }
      ]
    },
    {
      "cell_type": "markdown",
      "metadata": {
        "id": "z2QLDx2yFw3I"
      },
      "source": [
        "*UIO_J*"
      ]
    },
    {
      "cell_type": "code",
      "metadata": {
        "colab": {
          "base_uri": "https://localhost:8080/"
        },
        "id": "Glr0U__yBkw1",
        "outputId": "761dd24c-3242-4d00-e5eb-70e771f78781"
      },
      "source": [
        "data_32 = '/content/UIO_J.xlsx'\n",
        "d32= pd.read_excel(data_32,\n",
        "sheet_name=0,\n",
        "header=0,\n",
        "index_col=False,\n",
        "keep_default_na=True\n",
        ")\n",
        "len(d32)"
      ],
      "execution_count": 201,
      "outputs": [
        {
          "output_type": "execute_result",
          "data": {
            "text/plain": [
              "2979"
            ]
          },
          "metadata": {
            "tags": []
          },
          "execution_count": 201
        }
      ]
    },
    {
      "cell_type": "code",
      "metadata": {
        "colab": {
          "base_uri": "https://localhost:8080/"
        },
        "id": "eTvsgrPRBk7Y",
        "outputId": "129b3093-903e-47e0-933f-f2e667988de5"
      },
      "source": [
        "dd31=pd.merge(dd30,d32,how='left')\n",
        "len(dd31)"
      ],
      "execution_count": 202,
      "outputs": [
        {
          "output_type": "execute_result",
          "data": {
            "text/plain": [
              "7936"
            ]
          },
          "metadata": {
            "tags": []
          },
          "execution_count": 202
        }
      ]
    },
    {
      "cell_type": "markdown",
      "metadata": {
        "id": "yErcImz-GA-S"
      },
      "source": [
        "*UNI_J*"
      ]
    },
    {
      "cell_type": "code",
      "metadata": {
        "colab": {
          "base_uri": "https://localhost:8080/"
        },
        "id": "d7_bjd7CF8_r",
        "outputId": "d7d3bc46-0da7-444f-dfeb-e1e8663b5e42"
      },
      "source": [
        "data_33 = '/content/UNI_J.xlsx'\n",
        "d33= pd.read_excel(data_33,\n",
        "sheet_name=0,\n",
        "header=0,\n",
        "index_col=False,\n",
        "keep_default_na=True\n",
        ")\n",
        "len(d33)"
      ],
      "execution_count": 203,
      "outputs": [
        {
          "output_type": "execute_result",
          "data": {
            "text/plain": [
              "2979"
            ]
          },
          "metadata": {
            "tags": []
          },
          "execution_count": 203
        }
      ]
    },
    {
      "cell_type": "code",
      "metadata": {
        "colab": {
          "base_uri": "https://localhost:8080/"
        },
        "id": "4Cm9VzxCF9WX",
        "outputId": "9748d359-14d0-434f-bb88-7f577f262ed7"
      },
      "source": [
        "dd32=pd.merge(dd31,d33,how='left')\n",
        "len(dd32)"
      ],
      "execution_count": 204,
      "outputs": [
        {
          "output_type": "execute_result",
          "data": {
            "text/plain": [
              "7936"
            ]
          },
          "metadata": {
            "tags": []
          },
          "execution_count": 204
        }
      ]
    },
    {
      "cell_type": "markdown",
      "metadata": {
        "id": "eo8tMeIZGXQy"
      },
      "source": [
        "*VIC_J*"
      ]
    },
    {
      "cell_type": "code",
      "metadata": {
        "colab": {
          "base_uri": "https://localhost:8080/"
        },
        "id": "wwcTOmvgF9uL",
        "outputId": "3984dada-358a-41d3-8009-5a06c2a0b163"
      },
      "source": [
        "data_34 = '/content/VIC_J.xlsx'\n",
        "d34= pd.read_excel(data_34,\n",
        "sheet_name=0,\n",
        "header=0,\n",
        "index_col=False,\n",
        "keep_default_na=True\n",
        ")\n",
        "len(d34)"
      ],
      "execution_count": 205,
      "outputs": [
        {
          "output_type": "execute_result",
          "data": {
            "text/plain": [
              "7435"
            ]
          },
          "metadata": {
            "tags": []
          },
          "execution_count": 205
        }
      ]
    },
    {
      "cell_type": "code",
      "metadata": {
        "colab": {
          "base_uri": "https://localhost:8080/"
        },
        "id": "P-TAo8vcBlGP",
        "outputId": "53a036a5-7bce-4312-c901-978587e724e5"
      },
      "source": [
        "dd33=pd.merge(dd32,d34,how='left')\n",
        "len(dd33)"
      ],
      "execution_count": 206,
      "outputs": [
        {
          "output_type": "execute_result",
          "data": {
            "text/plain": [
              "7936"
            ]
          },
          "metadata": {
            "tags": []
          },
          "execution_count": 206
        }
      ]
    },
    {
      "cell_type": "markdown",
      "metadata": {
        "id": "MMJS3ZPHGoIu"
      },
      "source": [
        "*VOCWB_J*"
      ]
    },
    {
      "cell_type": "code",
      "metadata": {
        "colab": {
          "base_uri": "https://localhost:8080/"
        },
        "id": "SpptkmJ5GnKY",
        "outputId": "cb96c623-4137-44dc-99c8-df35a129d344"
      },
      "source": [
        "data_35 = '/content/VOCWB_J.xlsx'\n",
        "d35= pd.read_excel(data_35,\n",
        "sheet_name=0,\n",
        "header=0,\n",
        "index_col=False,\n",
        "keep_default_na=True\n",
        ")\n",
        "len(d35)"
      ],
      "execution_count": 207,
      "outputs": [
        {
          "output_type": "execute_result",
          "data": {
            "text/plain": [
              "3172"
            ]
          },
          "metadata": {
            "tags": []
          },
          "execution_count": 207
        }
      ]
    },
    {
      "cell_type": "code",
      "metadata": {
        "colab": {
          "base_uri": "https://localhost:8080/"
        },
        "id": "iR6N-ivVBlRG",
        "outputId": "ff9b9d0b-4a99-46a5-cc73-6fa8077e0739"
      },
      "source": [
        "dd34=pd.merge(dd33,d35,how='left')\n",
        "len(dd34)"
      ],
      "execution_count": 208,
      "outputs": [
        {
          "output_type": "execute_result",
          "data": {
            "text/plain": [
              "7936"
            ]
          },
          "metadata": {
            "tags": []
          },
          "execution_count": 208
        }
      ]
    },
    {
      "cell_type": "code",
      "metadata": {
        "id": "Th0ivNB2tsxw"
      },
      "source": [
        "# writing to Excel \n",
        "datatoexcel = pd.ExcelWriter('Laboratory_Data_2017_2018.xlsx') \n",
        "  \n",
        "# write DataFrame to excel \n",
        "dd16.to_excel(datatoexcel) \n",
        "  \n",
        "# save the excel \n",
        "datatoexcel.save()"
      ],
      "execution_count": 209,
      "outputs": []
    },
    {
      "cell_type": "markdown",
      "metadata": {
        "id": "JDmva2FFt-JQ"
      },
      "source": [
        "affichage data final"
      ]
    },
    {
      "cell_type": "code",
      "metadata": {
        "colab": {
          "base_uri": "https://localhost:8080/"
        },
        "id": "sWgu7DJGtw2V",
        "outputId": "45676bbf-5b39-46ac-86ee-0f03b1fa5ab9"
      },
      "source": [
        "data_f = '/content/Laboratory_Data_2017_2018.xlsx'\n",
        "df= pd.read_excel(data_f,\n",
        "sheet_name=0,\n",
        "header=0,\n",
        "index_col=False,\n",
        "keep_default_na=True\n",
        ")\n",
        "len(df)"
      ],
      "execution_count": 210,
      "outputs": [
        {
          "output_type": "execute_result",
          "data": {
            "text/plain": [
              "7936"
            ]
          },
          "metadata": {
            "tags": []
          },
          "execution_count": 210
        }
      ]
    },
    {
      "cell_type": "code",
      "metadata": {
        "colab": {
          "base_uri": "https://localhost:8080/",
          "height": 270
        },
        "id": "hjeIObB2uCuo",
        "outputId": "08c9bdd9-c996-4f1a-a44b-9b5ab9a7d09c"
      },
      "source": [
        "df.head()"
      ],
      "execution_count": 211,
      "outputs": [
        {
          "output_type": "execute_result",
          "data": {
            "text/html": [
              "<div>\n",
              "<style scoped>\n",
              "    .dataframe tbody tr th:only-of-type {\n",
              "        vertical-align: middle;\n",
              "    }\n",
              "\n",
              "    .dataframe tbody tr th {\n",
              "        vertical-align: top;\n",
              "    }\n",
              "\n",
              "    .dataframe thead th {\n",
              "        text-align: right;\n",
              "    }\n",
              "</style>\n",
              "<table border=\"1\" class=\"dataframe\">\n",
              "  <thead>\n",
              "    <tr style=\"text-align: right;\">\n",
              "      <th></th>\n",
              "      <th>Unnamed: 0</th>\n",
              "      <th>SEQN</th>\n",
              "      <th>URXUMA</th>\n",
              "      <th>URXUMS</th>\n",
              "      <th>URDUMALC</th>\n",
              "      <th>URXUCR</th>\n",
              "      <th>URXCRS</th>\n",
              "      <th>URDUCRLC</th>\n",
              "      <th>URDACT</th>\n",
              "      <th>LBXSATSI</th>\n",
              "      <th>LBDSATLC</th>\n",
              "      <th>LBXSAL</th>\n",
              "      <th>LBDSALSI</th>\n",
              "      <th>LBXSAPSI</th>\n",
              "      <th>LBXSASSI</th>\n",
              "      <th>LBXSC3SI</th>\n",
              "      <th>LBXSBU</th>\n",
              "      <th>LBDSBUSI</th>\n",
              "      <th>LBXSCLSI</th>\n",
              "      <th>LBXSCK</th>\n",
              "      <th>LBXSCR</th>\n",
              "      <th>LBDSCRSI</th>\n",
              "      <th>LBXSGB</th>\n",
              "      <th>LBDSGBSI</th>\n",
              "      <th>LBXSGL</th>\n",
              "      <th>LBDSGLSI</th>\n",
              "      <th>LBXSGTSI</th>\n",
              "      <th>LBDSGTLC</th>\n",
              "      <th>LBXSIR</th>\n",
              "      <th>LBDSIRSI</th>\n",
              "      <th>LBXSLDSI</th>\n",
              "      <th>LBXSOSSI</th>\n",
              "      <th>LBXSPH</th>\n",
              "      <th>LBDSPHSI</th>\n",
              "      <th>LBXSKSI</th>\n",
              "      <th>LBXSNASI</th>\n",
              "      <th>LBXSTB</th>\n",
              "      <th>LBDSTBSI</th>\n",
              "      <th>LBDSTBLC</th>\n",
              "      <th>LBXSCA</th>\n",
              "      <th>...</th>\n",
              "      <th>PHAFSTMN</th>\n",
              "      <th>PHDSESN</th>\n",
              "      <th>LBXFER</th>\n",
              "      <th>LBDFERSI</th>\n",
              "      <th>LBXIRN</th>\n",
              "      <th>LBDIRNSI</th>\n",
              "      <th>LBXUIB</th>\n",
              "      <th>LBDUIBLC</th>\n",
              "      <th>LBDUIBSI</th>\n",
              "      <th>LBDTIB</th>\n",
              "      <th>LBDTIBSI</th>\n",
              "      <th>LBDPCT</th>\n",
              "      <th>WTFOL2YR</th>\n",
              "      <th>LBDRFO</th>\n",
              "      <th>LBDRFOSI</th>\n",
              "      <th>LBDFOTSI</th>\n",
              "      <th>LBDFOT</th>\n",
              "      <th>LBXSF1SI</th>\n",
              "      <th>LBDSF1LC</th>\n",
              "      <th>LBXSF2SI</th>\n",
              "      <th>LBDSF2LC</th>\n",
              "      <th>LBXSF3SI</th>\n",
              "      <th>LBDSF3LC</th>\n",
              "      <th>LBXSF4SI</th>\n",
              "      <th>LBDSF4LC</th>\n",
              "      <th>LBXSF5SI</th>\n",
              "      <th>LBDSF5LC</th>\n",
              "      <th>LBXSF6SI</th>\n",
              "      <th>LBDSF6LC</th>\n",
              "      <th>LBXGH</th>\n",
              "      <th>WTSAF2YR</th>\n",
              "      <th>LBXGLU</th>\n",
              "      <th>LBDGLUSI</th>\n",
              "      <th>LBDHDD</th>\n",
              "      <th>LBDHDDSI</th>\n",
              "      <th>LBXHA</th>\n",
              "      <th>LBXHBC</th>\n",
              "      <th>LBDHBG</th>\n",
              "      <th>LBDHD</th>\n",
              "      <th>LBXHBS</th>\n",
              "    </tr>\n",
              "  </thead>\n",
              "  <tbody>\n",
              "    <tr>\n",
              "      <th>0</th>\n",
              "      <td>0</td>\n",
              "      <td>93705</td>\n",
              "      <td>3.2</td>\n",
              "      <td>3.2</td>\n",
              "      <td>0.0</td>\n",
              "      <td>24.0</td>\n",
              "      <td>2121.6</td>\n",
              "      <td>0.0</td>\n",
              "      <td>13.33</td>\n",
              "      <td>16.0</td>\n",
              "      <td>0.0</td>\n",
              "      <td>4.4</td>\n",
              "      <td>44.0</td>\n",
              "      <td>74.0</td>\n",
              "      <td>20.0</td>\n",
              "      <td>31.0</td>\n",
              "      <td>11.0</td>\n",
              "      <td>3.93</td>\n",
              "      <td>100.0</td>\n",
              "      <td>166.0</td>\n",
              "      <td>0.92</td>\n",
              "      <td>81.33</td>\n",
              "      <td>2.9</td>\n",
              "      <td>29.0</td>\n",
              "      <td>85.0</td>\n",
              "      <td>4.72</td>\n",
              "      <td>21.0</td>\n",
              "      <td>0.0</td>\n",
              "      <td>94.0</td>\n",
              "      <td>16.8</td>\n",
              "      <td>174.0</td>\n",
              "      <td>280.0</td>\n",
              "      <td>4.0</td>\n",
              "      <td>1.292</td>\n",
              "      <td>4.0</td>\n",
              "      <td>141.0</td>\n",
              "      <td>0.6</td>\n",
              "      <td>10.26</td>\n",
              "      <td>0.0</td>\n",
              "      <td>9.2</td>\n",
              "      <td>...</td>\n",
              "      <td>32.0</td>\n",
              "      <td>2</td>\n",
              "      <td>28.7</td>\n",
              "      <td>28.7</td>\n",
              "      <td>92.0</td>\n",
              "      <td>16.5</td>\n",
              "      <td>233.0</td>\n",
              "      <td>0.0</td>\n",
              "      <td>41.73</td>\n",
              "      <td>325.0</td>\n",
              "      <td>58.21</td>\n",
              "      <td>28.0</td>\n",
              "      <td>NaN</td>\n",
              "      <td>NaN</td>\n",
              "      <td>NaN</td>\n",
              "      <td>NaN</td>\n",
              "      <td>NaN</td>\n",
              "      <td>NaN</td>\n",
              "      <td>NaN</td>\n",
              "      <td>NaN</td>\n",
              "      <td>NaN</td>\n",
              "      <td>NaN</td>\n",
              "      <td>NaN</td>\n",
              "      <td>NaN</td>\n",
              "      <td>NaN</td>\n",
              "      <td>NaN</td>\n",
              "      <td>NaN</td>\n",
              "      <td>NaN</td>\n",
              "      <td>NaN</td>\n",
              "      <td>6.2</td>\n",
              "      <td>NaN</td>\n",
              "      <td>NaN</td>\n",
              "      <td>NaN</td>\n",
              "      <td>60.0</td>\n",
              "      <td>1.55</td>\n",
              "      <td>1.0</td>\n",
              "      <td>1.0</td>\n",
              "      <td>2.0</td>\n",
              "      <td>2.0</td>\n",
              "      <td>1.0</td>\n",
              "    </tr>\n",
              "    <tr>\n",
              "      <th>1</th>\n",
              "      <td>1</td>\n",
              "      <td>93706</td>\n",
              "      <td>39.6</td>\n",
              "      <td>39.6</td>\n",
              "      <td>0.0</td>\n",
              "      <td>69.0</td>\n",
              "      <td>6099.6</td>\n",
              "      <td>0.0</td>\n",
              "      <td>57.39</td>\n",
              "      <td>10.0</td>\n",
              "      <td>0.0</td>\n",
              "      <td>4.4</td>\n",
              "      <td>44.0</td>\n",
              "      <td>79.0</td>\n",
              "      <td>14.0</td>\n",
              "      <td>28.0</td>\n",
              "      <td>12.0</td>\n",
              "      <td>4.28</td>\n",
              "      <td>104.0</td>\n",
              "      <td>114.0</td>\n",
              "      <td>0.81</td>\n",
              "      <td>71.60</td>\n",
              "      <td>2.7</td>\n",
              "      <td>27.0</td>\n",
              "      <td>94.0</td>\n",
              "      <td>5.22</td>\n",
              "      <td>16.0</td>\n",
              "      <td>0.0</td>\n",
              "      <td>163.0</td>\n",
              "      <td>29.2</td>\n",
              "      <td>142.0</td>\n",
              "      <td>286.0</td>\n",
              "      <td>4.0</td>\n",
              "      <td>1.292</td>\n",
              "      <td>4.4</td>\n",
              "      <td>144.0</td>\n",
              "      <td>0.7</td>\n",
              "      <td>11.97</td>\n",
              "      <td>0.0</td>\n",
              "      <td>9.6</td>\n",
              "      <td>...</td>\n",
              "      <td>25.0</td>\n",
              "      <td>1</td>\n",
              "      <td>284.0</td>\n",
              "      <td>284.0</td>\n",
              "      <td>164.0</td>\n",
              "      <td>29.4</td>\n",
              "      <td>155.0</td>\n",
              "      <td>0.0</td>\n",
              "      <td>27.76</td>\n",
              "      <td>319.0</td>\n",
              "      <td>57.13</td>\n",
              "      <td>51.0</td>\n",
              "      <td>18472.790609</td>\n",
              "      <td>314.0</td>\n",
              "      <td>712.0</td>\n",
              "      <td>39.9</td>\n",
              "      <td>17.60</td>\n",
              "      <td>38.8</td>\n",
              "      <td>0.0</td>\n",
              "      <td>0.400</td>\n",
              "      <td>0.0</td>\n",
              "      <td>0.141</td>\n",
              "      <td>1.0</td>\n",
              "      <td>0.417</td>\n",
              "      <td>0.0</td>\n",
              "      <td>0.141</td>\n",
              "      <td>1.0</td>\n",
              "      <td>0.831</td>\n",
              "      <td>0.0</td>\n",
              "      <td>5.2</td>\n",
              "      <td>NaN</td>\n",
              "      <td>NaN</td>\n",
              "      <td>NaN</td>\n",
              "      <td>47.0</td>\n",
              "      <td>1.22</td>\n",
              "      <td>2.0</td>\n",
              "      <td>2.0</td>\n",
              "      <td>NaN</td>\n",
              "      <td>NaN</td>\n",
              "      <td>2.0</td>\n",
              "    </tr>\n",
              "    <tr>\n",
              "      <th>2</th>\n",
              "      <td>2</td>\n",
              "      <td>93707</td>\n",
              "      <td>41.6</td>\n",
              "      <td>41.6</td>\n",
              "      <td>0.0</td>\n",
              "      <td>209.0</td>\n",
              "      <td>18475.6</td>\n",
              "      <td>0.0</td>\n",
              "      <td>19.90</td>\n",
              "      <td>13.0</td>\n",
              "      <td>0.0</td>\n",
              "      <td>5.2</td>\n",
              "      <td>52.0</td>\n",
              "      <td>238.0</td>\n",
              "      <td>24.0</td>\n",
              "      <td>22.0</td>\n",
              "      <td>17.0</td>\n",
              "      <td>6.07</td>\n",
              "      <td>97.0</td>\n",
              "      <td>342.0</td>\n",
              "      <td>0.64</td>\n",
              "      <td>56.58</td>\n",
              "      <td>2.8</td>\n",
              "      <td>28.0</td>\n",
              "      <td>115.0</td>\n",
              "      <td>6.38</td>\n",
              "      <td>9.0</td>\n",
              "      <td>0.0</td>\n",
              "      <td>90.0</td>\n",
              "      <td>16.1</td>\n",
              "      <td>177.0</td>\n",
              "      <td>276.0</td>\n",
              "      <td>4.3</td>\n",
              "      <td>1.388</td>\n",
              "      <td>3.3</td>\n",
              "      <td>137.0</td>\n",
              "      <td>0.7</td>\n",
              "      <td>11.97</td>\n",
              "      <td>0.0</td>\n",
              "      <td>10.1</td>\n",
              "      <td>...</td>\n",
              "      <td>16.0</td>\n",
              "      <td>2</td>\n",
              "      <td>49.3</td>\n",
              "      <td>49.3</td>\n",
              "      <td>91.0</td>\n",
              "      <td>16.3</td>\n",
              "      <td>340.0</td>\n",
              "      <td>0.0</td>\n",
              "      <td>60.89</td>\n",
              "      <td>431.0</td>\n",
              "      <td>77.19</td>\n",
              "      <td>21.0</td>\n",
              "      <td>14960.045471</td>\n",
              "      <td>636.0</td>\n",
              "      <td>1440.0</td>\n",
              "      <td>41.3</td>\n",
              "      <td>18.20</td>\n",
              "      <td>40.2</td>\n",
              "      <td>0.0</td>\n",
              "      <td>0.511</td>\n",
              "      <td>0.0</td>\n",
              "      <td>0.141</td>\n",
              "      <td>1.0</td>\n",
              "      <td>0.307</td>\n",
              "      <td>0.0</td>\n",
              "      <td>0.141</td>\n",
              "      <td>1.0</td>\n",
              "      <td>3.620</td>\n",
              "      <td>0.0</td>\n",
              "      <td>5.6</td>\n",
              "      <td>NaN</td>\n",
              "      <td>NaN</td>\n",
              "      <td>NaN</td>\n",
              "      <td>68.0</td>\n",
              "      <td>1.76</td>\n",
              "      <td>2.0</td>\n",
              "      <td>2.0</td>\n",
              "      <td>NaN</td>\n",
              "      <td>NaN</td>\n",
              "      <td>2.0</td>\n",
              "    </tr>\n",
              "    <tr>\n",
              "      <th>3</th>\n",
              "      <td>3</td>\n",
              "      <td>93708</td>\n",
              "      <td>9.1</td>\n",
              "      <td>9.1</td>\n",
              "      <td>0.0</td>\n",
              "      <td>47.0</td>\n",
              "      <td>4154.8</td>\n",
              "      <td>0.0</td>\n",
              "      <td>19.36</td>\n",
              "      <td>19.0</td>\n",
              "      <td>0.0</td>\n",
              "      <td>3.9</td>\n",
              "      <td>39.0</td>\n",
              "      <td>66.0</td>\n",
              "      <td>21.0</td>\n",
              "      <td>27.0</td>\n",
              "      <td>16.0</td>\n",
              "      <td>5.71</td>\n",
              "      <td>104.0</td>\n",
              "      <td>347.0</td>\n",
              "      <td>0.58</td>\n",
              "      <td>51.27</td>\n",
              "      <td>3.2</td>\n",
              "      <td>32.0</td>\n",
              "      <td>116.0</td>\n",
              "      <td>6.44</td>\n",
              "      <td>22.0</td>\n",
              "      <td>0.0</td>\n",
              "      <td>96.0</td>\n",
              "      <td>17.2</td>\n",
              "      <td>247.0</td>\n",
              "      <td>289.0</td>\n",
              "      <td>3.3</td>\n",
              "      <td>1.066</td>\n",
              "      <td>4.4</td>\n",
              "      <td>144.0</td>\n",
              "      <td>0.5</td>\n",
              "      <td>8.55</td>\n",
              "      <td>0.0</td>\n",
              "      <td>9.5</td>\n",
              "      <td>...</td>\n",
              "      <td>2.0</td>\n",
              "      <td>0</td>\n",
              "      <td>109.0</td>\n",
              "      <td>109.0</td>\n",
              "      <td>90.0</td>\n",
              "      <td>16.1</td>\n",
              "      <td>195.0</td>\n",
              "      <td>0.0</td>\n",
              "      <td>34.92</td>\n",
              "      <td>285.0</td>\n",
              "      <td>51.04</td>\n",
              "      <td>32.0</td>\n",
              "      <td>27032.876894</td>\n",
              "      <td>490.0</td>\n",
              "      <td>1110.0</td>\n",
              "      <td>91.5</td>\n",
              "      <td>40.40</td>\n",
              "      <td>87.8</td>\n",
              "      <td>0.0</td>\n",
              "      <td>1.360</td>\n",
              "      <td>0.0</td>\n",
              "      <td>0.141</td>\n",
              "      <td>1.0</td>\n",
              "      <td>1.880</td>\n",
              "      <td>0.0</td>\n",
              "      <td>0.312</td>\n",
              "      <td>0.0</td>\n",
              "      <td>1.220</td>\n",
              "      <td>0.0</td>\n",
              "      <td>6.2</td>\n",
              "      <td>25653.677102</td>\n",
              "      <td>122.0</td>\n",
              "      <td>6.77</td>\n",
              "      <td>88.0</td>\n",
              "      <td>2.28</td>\n",
              "      <td>1.0</td>\n",
              "      <td>1.0</td>\n",
              "      <td>2.0</td>\n",
              "      <td>2.0</td>\n",
              "      <td>1.0</td>\n",
              "    </tr>\n",
              "    <tr>\n",
              "      <th>4</th>\n",
              "      <td>4</td>\n",
              "      <td>93709</td>\n",
              "      <td>26.4</td>\n",
              "      <td>26.4</td>\n",
              "      <td>0.0</td>\n",
              "      <td>215.0</td>\n",
              "      <td>19006.0</td>\n",
              "      <td>0.0</td>\n",
              "      <td>12.28</td>\n",
              "      <td>15.0</td>\n",
              "      <td>0.0</td>\n",
              "      <td>3.7</td>\n",
              "      <td>37.0</td>\n",
              "      <td>86.0</td>\n",
              "      <td>17.0</td>\n",
              "      <td>24.0</td>\n",
              "      <td>20.0</td>\n",
              "      <td>7.14</td>\n",
              "      <td>100.0</td>\n",
              "      <td>63.0</td>\n",
              "      <td>1.32</td>\n",
              "      <td>116.69</td>\n",
              "      <td>3.3</td>\n",
              "      <td>33.0</td>\n",
              "      <td>96.0</td>\n",
              "      <td>5.33</td>\n",
              "      <td>31.0</td>\n",
              "      <td>0.0</td>\n",
              "      <td>66.0</td>\n",
              "      <td>11.8</td>\n",
              "      <td>NaN</td>\n",
              "      <td>284.0</td>\n",
              "      <td>3.5</td>\n",
              "      <td>1.130</td>\n",
              "      <td>4.1</td>\n",
              "      <td>141.0</td>\n",
              "      <td>0.3</td>\n",
              "      <td>5.13</td>\n",
              "      <td>0.0</td>\n",
              "      <td>9.9</td>\n",
              "      <td>...</td>\n",
              "      <td>58.0</td>\n",
              "      <td>1</td>\n",
              "      <td>129.0</td>\n",
              "      <td>129.0</td>\n",
              "      <td>63.0</td>\n",
              "      <td>11.3</td>\n",
              "      <td>239.0</td>\n",
              "      <td>0.0</td>\n",
              "      <td>42.80</td>\n",
              "      <td>302.0</td>\n",
              "      <td>54.09</td>\n",
              "      <td>21.0</td>\n",
              "      <td>23931.915549</td>\n",
              "      <td>257.0</td>\n",
              "      <td>582.0</td>\n",
              "      <td>17.1</td>\n",
              "      <td>7.55</td>\n",
              "      <td>15.1</td>\n",
              "      <td>0.0</td>\n",
              "      <td>1.050</td>\n",
              "      <td>0.0</td>\n",
              "      <td>0.141</td>\n",
              "      <td>1.0</td>\n",
              "      <td>0.655</td>\n",
              "      <td>0.0</td>\n",
              "      <td>0.141</td>\n",
              "      <td>1.0</td>\n",
              "      <td>1.940</td>\n",
              "      <td>0.0</td>\n",
              "      <td>6.3</td>\n",
              "      <td>NaN</td>\n",
              "      <td>NaN</td>\n",
              "      <td>NaN</td>\n",
              "      <td>65.0</td>\n",
              "      <td>1.68</td>\n",
              "      <td>1.0</td>\n",
              "      <td>2.0</td>\n",
              "      <td>NaN</td>\n",
              "      <td>NaN</td>\n",
              "      <td>2.0</td>\n",
              "    </tr>\n",
              "  </tbody>\n",
              "</table>\n",
              "<p>5 rows × 138 columns</p>\n",
              "</div>"
            ],
            "text/plain": [
              "   Unnamed: 0   SEQN  URXUMA  URXUMS  ...  LBXHBC  LBDHBG  LBDHD  LBXHBS\n",
              "0           0  93705     3.2     3.2  ...     1.0     2.0    2.0     1.0\n",
              "1           1  93706    39.6    39.6  ...     2.0     NaN    NaN     2.0\n",
              "2           2  93707    41.6    41.6  ...     2.0     NaN    NaN     2.0\n",
              "3           3  93708     9.1     9.1  ...     1.0     2.0    2.0     1.0\n",
              "4           4  93709    26.4    26.4  ...     2.0     NaN    NaN     2.0\n",
              "\n",
              "[5 rows x 138 columns]"
            ]
          },
          "metadata": {
            "tags": []
          },
          "execution_count": 211
        }
      ]
    }
  ]
}