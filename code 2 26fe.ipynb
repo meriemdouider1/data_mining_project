{
  "nbformat": 4,
  "nbformat_minor": 0,
  "metadata": {
    "colab": {
      "name": "Untitled14.ipynb",
      "provenance": [],
      "collapsed_sections": [],
      "toc_visible": true,
      "authorship_tag": "ABX9TyPnIt/At6yG7gAXe5iajOMA",
      "include_colab_link": true
    },
    "kernelspec": {
      "name": "python3",
      "display_name": "Python 3"
    }
  },
  "cells": [
    {
      "cell_type": "markdown",
      "metadata": {
        "id": "view-in-github",
        "colab_type": "text"
      },
      "source": [
        "<a href=\"https://colab.research.google.com/github/meriemdouider1/data_mining_project/blob/main/code%202%2026fe.ipynb\" target=\"_parent\"><img src=\"https://colab.research.google.com/assets/colab-badge.svg\" alt=\"Open In Colab\"/></a>"
      ]
    },
    {
      "cell_type": "code",
      "metadata": {
        "id": "XynS3pOYp5Jb"
      },
      "source": [
        "import numpy as np # linear algebra\n",
        "import pandas as pd # data processing, CSV file I/O (e.g. pd.read_csv)\n",
        "import pandas_profiling\n",
        "import os\n",
        "import seaborn as sns\n",
        "import matplotlib\n",
        "from matplotlib import pyplot as plt \n",
        "%matplotlib inline\n",
        "import warnings\n",
        "warnings.filterwarnings('ignore')\n",
        "\n",
        "from sklearn.preprocessing import LabelEncoder\n",
        "from sklearn.preprocessing import LabelEncoder\n",
        "from sklearn.preprocessing import StandardScaler\n",
        "from sklearn.impute import SimpleImputer\n",
        "from sklearn.decomposition import PCA\n",
        "from sklearn.linear_model import LassoCV\n",
        "from sklearn.ensemble import RandomForestClassifier\n",
        "from sklearn.feature_selection import SelectFromModel\n",
        "from sklearn.ensemble import RandomForestClassifier\n",
        "from sklearn.model_selection import cross_val_score\n",
        "from sklearn.pipeline import Pipeline\n",
        "from sklearn.model_selection import GridSearchCV\n",
        "from sklearn.model_selection import train_test_split,StratifiedShuffleSplit,StratifiedKFold\n",
        "from sklearn import preprocessing\n",
        "import operator\n",
        "from sklearn.ensemble import RandomForestClassifier\n",
        "\n",
        "import lightgbm as lgb\n",
        "from sklearn.preprocessing import StandardScaler\n",
        "from sklearn.impute import SimpleImputer\n",
        "from sklearn.model_selection import train_test_split\n",
        "from imblearn.over_sampling import SMOTE #Over sampling\n",
        "import numpy as np\n",
        "import time \n",
        "from itertools import cycle\n",
        "\n",
        "from sklearn.model_selection import GridSearchCV\n",
        "from sklearn.multiclass import OneVsRestClassifier\n",
        "from sklearn.preprocessing import label_binarize\n",
        "from scipy import interp\n",
        "\n",
        "from sklearn.metrics import accuracy_score, classification_report, roc_auc_score, roc_curve, f1_score, auc\n",
        "\n",
        "\n",
        "# Load classifiers\n",
        "# ----------------\n",
        "from sklearn.linear_model import LogisticRegression\n",
        "from sklearn.linear_model import RidgeClassifier\n",
        "from sklearn.tree import DecisionTreeClassifier\n",
        "from sklearn.ensemble import RandomForestClassifier\n",
        "from sklearn.naive_bayes import GaussianNB\n",
        "from sklearn.neural_network import MLPClassifier\n",
        "from sklearn.ensemble import GradientBoostingClassifier\n",
        "from sklearn.ensemble import BaggingClassifier\n",
        "from sklearn.svm import SVC\n",
        "from sklearn.naive_bayes import GaussianNB\n",
        "from yellowbrick.classifier import ClassificationReport\n",
        "from sklearn.linear_model import LogisticRegression\n",
        "from sklearn.linear_model import RidgeClassifier\n",
        "from sklearn.tree import DecisionTreeClassifier\n",
        "from sklearn.ensemble import RandomForestClassifier\n",
        "from sklearn.naive_bayes import GaussianNB\n",
        "from sklearn.neural_network import MLPClassifier\n",
        "from sklearn.ensemble import GradientBoostingClassifier\n",
        "from sklearn.ensemble import BaggingClassifier\n",
        "import xgboost as xgb\n",
        "from xgboost import XGBClassifier"
      ],
      "execution_count": 157,
      "outputs": []
    },
    {
      "cell_type": "markdown",
      "metadata": {
        "id": "OdNikc6is-GU"
      },
      "source": [
        "#Reading data"
      ]
    },
    {
      "cell_type": "code",
      "metadata": {
        "id": "SxF_dy_xqr2J"
      },
      "source": [
        "Questionnaire = '/content/Questionnaire.xlsx'\n",
        "d_Questionnaire= pd.read_excel(Questionnaire,\n",
        "sheet_name=0,\n",
        "header=0,\n",
        "index_col=False,\n",
        "keep_default_na=True\n",
        ")"
      ],
      "execution_count": 158,
      "outputs": []
    },
    {
      "cell_type": "code",
      "metadata": {
        "id": "x4j7J5RTqr5f"
      },
      "source": [
        "Démographie  = '/content/Demographie.xlsx'\n",
        "d_Démographie= pd.read_excel(Démographie,\n",
        "sheet_name=0,\n",
        "header=0,\n",
        "index_col=False,\n",
        "keep_default_na=True\n",
        ")"
      ],
      "execution_count": 159,
      "outputs": []
    },
    {
      "cell_type": "code",
      "metadata": {
        "id": "foLNZgLnv_mm"
      },
      "source": [
        "examination = '/content/examination.xlsx'\n",
        "d_examination= pd.read_excel(examination,\n",
        "sheet_name=0,\n",
        "header=0,\n",
        "index_col=False,\n",
        "keep_default_na=True\n",
        ")"
      ],
      "execution_count": 160,
      "outputs": []
    },
    {
      "cell_type": "code",
      "metadata": {
        "id": "dg8fWZV7qr8U"
      },
      "source": [
        "lab  = '/content/labf.xlsx'\n",
        "d_lab= pd.read_excel(lab,\n",
        "sheet_name=0,\n",
        "header=0,\n",
        "index_col=False,\n",
        "keep_default_na=True\n",
        ")"
      ],
      "execution_count": 161,
      "outputs": []
    },
    {
      "cell_type": "markdown",
      "metadata": {
        "id": "Vfgnjrlnwa5L"
      },
      "source": [
        "#Dividing categorical and numerical"
      ]
    },
    {
      "cell_type": "code",
      "metadata": {
        "id": "RIELShtjwSMU"
      },
      "source": [
        "def split_columns(df):\n",
        "    col = [c for c in df.columns if c not in ['SEQN']]\n",
        "    numclasses=[]\n",
        "    for c in col:\n",
        "        numclasses.append(len(df[c].unique()))\n",
        "    threshold=10\n",
        "    np.array(numclasses).size\n",
        "    categorical_variables = list(np.array(col)[np.array(numclasses) < threshold])\n",
        "    numerical_variables = set(df.columns)^set(categorical_variables)\n",
        "    return categorical_variables, numerical_variables"
      ],
      "execution_count": 162,
      "outputs": []
    },
    {
      "cell_type": "code",
      "metadata": {
        "id": "bcV7n0Jfqr_b"
      },
      "source": [
        "#questionaire data\n",
        "ques_cat, ques_cont = split_columns(d_Questionnaire)\n",
        "ques_obj = d_Questionnaire[list(ques_cont)].select_dtypes(include=['object']).columns\n",
        "ques_cont = set(ques_cont)^set(ques_obj)\n"
      ],
      "execution_count": 163,
      "outputs": []
    },
    {
      "cell_type": "code",
      "metadata": {
        "colab": {
          "base_uri": "https://localhost:8080/"
        },
        "id": "RPZtbNfwww1h",
        "outputId": "45ac8741-6d76-4f6e-e06c-41b7895a155d"
      },
      "source": [
        "ques_cat"
      ],
      "execution_count": 164,
      "outputs": [
        {
          "output_type": "execute_result",
          "data": {
            "text/plain": [
              "['DIQ010', 'DIQ160', 'DIQ170', 'DIQ172', 'DIQ180', 'DIQ050']"
            ]
          },
          "metadata": {
            "tags": []
          },
          "execution_count": 164
        }
      ]
    },
    {
      "cell_type": "code",
      "metadata": {
        "colab": {
          "base_uri": "https://localhost:8080/"
        },
        "id": "XIer1pV_wy7p",
        "outputId": "e377d34a-ebf7-49f7-e22d-bd824065a7bd"
      },
      "source": [
        "ques_obj"
      ],
      "execution_count": 165,
      "outputs": [
        {
          "output_type": "execute_result",
          "data": {
            "text/plain": [
              "Index([], dtype='object')"
            ]
          },
          "metadata": {
            "tags": []
          },
          "execution_count": 165
        }
      ]
    },
    {
      "cell_type": "code",
      "metadata": {
        "colab": {
          "base_uri": "https://localhost:8080/"
        },
        "id": "R74MwH-4w1q7",
        "outputId": "ab817ce4-05c9-4c3d-f61b-d6ecf6a75540"
      },
      "source": [
        "ques_cont"
      ],
      "execution_count": 166,
      "outputs": [
        {
          "output_type": "execute_result",
          "data": {
            "text/plain": [
              "{'SEQN'}"
            ]
          },
          "metadata": {
            "tags": []
          },
          "execution_count": 166
        }
      ]
    },
    {
      "cell_type": "code",
      "metadata": {
        "id": "p0VHEukPxE-k"
      },
      "source": [
        "#demographic data\n",
        "demo_cat, demo_cont = split_columns(d_Démographie)\n",
        "demo_obj = d_Démographie[list(demo_cont)].select_dtypes(include=['object']).columns\n",
        "demo_cont = set(demo_cont)^set(demo_obj)\n",
        "#exam data\n",
        "exam_cat, exam_cont = split_columns(d_examination)\n",
        "exam_obj = d_examination[list(exam_cont)].select_dtypes(include=['object']).columns\n",
        "exam_cont = set(exam_cont)^set(exam_obj)\n",
        "#labs data\n",
        "labs_cat, labs_cont = split_columns(d_lab)\n",
        "labs_obj = d_lab[list(labs_cont)].select_dtypes(include=['object']).columns\n",
        "labs_cont = set(labs_cont)^set(labs_obj)"
      ],
      "execution_count": 167,
      "outputs": []
    },
    {
      "cell_type": "code",
      "metadata": {
        "id": "2ItRjI4exSOk"
      },
      "source": [
        "#assert check whether we have covered all the features\n",
        "assert len(ques_cat) + len(ques_cont) +len(ques_obj)  == len(d_Questionnaire.columns)\n",
        "assert len(demo_cat) + len(demo_cont) +len(demo_obj) == len(d_Démographie.columns)\n",
        "assert len(exam_cat) + len(exam_cont) +len(exam_obj) == len(d_examination.columns)\n",
        "assert len(labs_cat) + len(labs_cont) +len(labs_obj) == len(d_lab.columns)"
      ],
      "execution_count": 168,
      "outputs": []
    },
    {
      "cell_type": "markdown",
      "metadata": {
        "id": "Fsf2DsoNyEAX"
      },
      "source": [
        "#Combining and Merging dataframes into single df"
      ]
    },
    {
      "cell_type": "code",
      "metadata": {
        "id": "gMyuuJUEx7Sb"
      },
      "source": [
        "#nhs_diet\n",
        "d_examination.drop(['SEQN'], axis = 1, inplace=True)\n",
        "d_lab.drop(['SEQN'], axis = 1, inplace=True)\n",
        "d_Questionnaire.drop(['SEQN'], axis = 1, inplace=True)\n",
        "\n",
        "#joining all dataframes into single\n",
        "\n",
        "df = pd.concat([d_Démographie, d_examination], axis=1, join='inner')\n",
        "df = pd.concat([df, d_lab], axis=1, join='inner')\n",
        "df = pd.concat([df, d_Questionnaire], axis=1, join='inner')"
      ],
      "execution_count": 169,
      "outputs": []
    },
    {
      "cell_type": "code",
      "metadata": {
        "colab": {
          "base_uri": "https://localhost:8080/",
          "height": 253
        },
        "id": "UFoTDkzzx7b5",
        "outputId": "f5ada297-a354-421a-d63f-6e7292bcbb5b"
      },
      "source": [
        "df.head()"
      ],
      "execution_count": 170,
      "outputs": [
        {
          "output_type": "execute_result",
          "data": {
            "text/html": [
              "<div>\n",
              "<style scoped>\n",
              "    .dataframe tbody tr th:only-of-type {\n",
              "        vertical-align: middle;\n",
              "    }\n",
              "\n",
              "    .dataframe tbody tr th {\n",
              "        vertical-align: top;\n",
              "    }\n",
              "\n",
              "    .dataframe thead th {\n",
              "        text-align: right;\n",
              "    }\n",
              "</style>\n",
              "<table border=\"1\" class=\"dataframe\">\n",
              "  <thead>\n",
              "    <tr style=\"text-align: right;\">\n",
              "      <th></th>\n",
              "      <th>SEQN</th>\n",
              "      <th>RIDSTATR</th>\n",
              "      <th>RIAGENDR</th>\n",
              "      <th>RIDAGEYR</th>\n",
              "      <th>RIDRETH1</th>\n",
              "      <th>RIDRETH3</th>\n",
              "      <th>RIDEXMON</th>\n",
              "      <th>DMDBORN4</th>\n",
              "      <th>DMDCITZN</th>\n",
              "      <th>DMDEDUC2</th>\n",
              "      <th>DMDMARTL</th>\n",
              "      <th>SIALANG</th>\n",
              "      <th>SIAPROXY</th>\n",
              "      <th>SIAINTRP</th>\n",
              "      <th>FIALANG</th>\n",
              "      <th>FIAPROXY</th>\n",
              "      <th>FIAINTRP</th>\n",
              "      <th>MIALANG</th>\n",
              "      <th>MIAPROXY</th>\n",
              "      <th>MIAINTRP</th>\n",
              "      <th>DMDHHSIZ</th>\n",
              "      <th>DMDFMSIZ</th>\n",
              "      <th>DMDHHSZA</th>\n",
              "      <th>DMDHHSZB</th>\n",
              "      <th>DMDHHSZE</th>\n",
              "      <th>DMDHRGND</th>\n",
              "      <th>DMDHRAGZ</th>\n",
              "      <th>DMDHREDZ</th>\n",
              "      <th>DMDHRMAZ</th>\n",
              "      <th>DMDHSEDZ</th>\n",
              "      <th>WTINT2YR</th>\n",
              "      <th>WTMEC2YR</th>\n",
              "      <th>SDMVPSU</th>\n",
              "      <th>SDMVSTRA</th>\n",
              "      <th>INDHHIN2</th>\n",
              "      <th>INDFMIN2</th>\n",
              "      <th>INDFMPIR</th>\n",
              "      <th>BMDSTATS</th>\n",
              "      <th>BMXWT</th>\n",
              "      <th>BMXHT</th>\n",
              "      <th>...</th>\n",
              "      <th>LBXBAPCT</th>\n",
              "      <th>LBDLYMNO</th>\n",
              "      <th>LBDMONO</th>\n",
              "      <th>LBDNENO</th>\n",
              "      <th>LBDEONO</th>\n",
              "      <th>LBDBANO</th>\n",
              "      <th>LBXRBCSI</th>\n",
              "      <th>LBXHGB</th>\n",
              "      <th>LBXHCT</th>\n",
              "      <th>LBXMCVSI</th>\n",
              "      <th>LBXMCHSI</th>\n",
              "      <th>LBXMC</th>\n",
              "      <th>LBXRDW</th>\n",
              "      <th>LBXPLTSI</th>\n",
              "      <th>LBXMPSI</th>\n",
              "      <th>LBXNRBC</th>\n",
              "      <th>LBXBCR</th>\n",
              "      <th>LBDBCRSI</th>\n",
              "      <th>LBDBCRLC</th>\n",
              "      <th>LBXBCO</th>\n",
              "      <th>LBDBCOSI</th>\n",
              "      <th>LBDBCOLC</th>\n",
              "      <th>LBDSF5LC</th>\n",
              "      <th>LBXSF6SI</th>\n",
              "      <th>LBDSF6LC</th>\n",
              "      <th>LBXGH</th>\n",
              "      <th>WTSAF2YR</th>\n",
              "      <th>LBXGLU</th>\n",
              "      <th>LBDGLUSI</th>\n",
              "      <th>LBDHDD</th>\n",
              "      <th>LBDHDDSI</th>\n",
              "      <th>LBXHA</th>\n",
              "      <th>LBXHBC</th>\n",
              "      <th>LBXHBS</th>\n",
              "      <th>DIQ010</th>\n",
              "      <th>DIQ160</th>\n",
              "      <th>DIQ170</th>\n",
              "      <th>DIQ172</th>\n",
              "      <th>DIQ180</th>\n",
              "      <th>DIQ050</th>\n",
              "    </tr>\n",
              "  </thead>\n",
              "  <tbody>\n",
              "    <tr>\n",
              "      <th>0</th>\n",
              "      <td>93703</td>\n",
              "      <td>2</td>\n",
              "      <td>2</td>\n",
              "      <td>2</td>\n",
              "      <td>5</td>\n",
              "      <td>6</td>\n",
              "      <td>2</td>\n",
              "      <td>1</td>\n",
              "      <td>1</td>\n",
              "      <td>4</td>\n",
              "      <td>1</td>\n",
              "      <td>1</td>\n",
              "      <td>1</td>\n",
              "      <td>2</td>\n",
              "      <td>1</td>\n",
              "      <td>2</td>\n",
              "      <td>2</td>\n",
              "      <td>1</td>\n",
              "      <td>2</td>\n",
              "      <td>2</td>\n",
              "      <td>5</td>\n",
              "      <td>5</td>\n",
              "      <td>3</td>\n",
              "      <td>0</td>\n",
              "      <td>0</td>\n",
              "      <td>1</td>\n",
              "      <td>2</td>\n",
              "      <td>3</td>\n",
              "      <td>1</td>\n",
              "      <td>3</td>\n",
              "      <td>9246.491865</td>\n",
              "      <td>8539.731348</td>\n",
              "      <td>2</td>\n",
              "      <td>145</td>\n",
              "      <td>15</td>\n",
              "      <td>15</td>\n",
              "      <td>5.00</td>\n",
              "      <td>1</td>\n",
              "      <td>13.7</td>\n",
              "      <td>88.6</td>\n",
              "      <td>...</td>\n",
              "      <td>1.0</td>\n",
              "      <td>3.4</td>\n",
              "      <td>0.6</td>\n",
              "      <td>4.2</td>\n",
              "      <td>0.2</td>\n",
              "      <td>0.1</td>\n",
              "      <td>5.48</td>\n",
              "      <td>11.9</td>\n",
              "      <td>36.7</td>\n",
              "      <td>67.0</td>\n",
              "      <td>21.7</td>\n",
              "      <td>32.4</td>\n",
              "      <td>15.6</td>\n",
              "      <td>309</td>\n",
              "      <td>7.9</td>\n",
              "      <td>0.0</td>\n",
              "      <td>0.29</td>\n",
              "      <td>5.58</td>\n",
              "      <td>1</td>\n",
              "      <td>0.20</td>\n",
              "      <td>3.39</td>\n",
              "      <td>0</td>\n",
              "      <td>1</td>\n",
              "      <td>1.160</td>\n",
              "      <td>0</td>\n",
              "      <td>6.2</td>\n",
              "      <td>0.000000</td>\n",
              "      <td>97</td>\n",
              "      <td>5.38</td>\n",
              "      <td>60</td>\n",
              "      <td>1.55</td>\n",
              "      <td>1</td>\n",
              "      <td>1</td>\n",
              "      <td>1</td>\n",
              "      <td>2</td>\n",
              "      <td>2</td>\n",
              "      <td>2</td>\n",
              "      <td>2</td>\n",
              "      <td>2</td>\n",
              "      <td>2</td>\n",
              "    </tr>\n",
              "    <tr>\n",
              "      <th>1</th>\n",
              "      <td>93704</td>\n",
              "      <td>2</td>\n",
              "      <td>1</td>\n",
              "      <td>2</td>\n",
              "      <td>3</td>\n",
              "      <td>3</td>\n",
              "      <td>1</td>\n",
              "      <td>1</td>\n",
              "      <td>1</td>\n",
              "      <td>4</td>\n",
              "      <td>1</td>\n",
              "      <td>1</td>\n",
              "      <td>1</td>\n",
              "      <td>2</td>\n",
              "      <td>1</td>\n",
              "      <td>2</td>\n",
              "      <td>2</td>\n",
              "      <td>1</td>\n",
              "      <td>2</td>\n",
              "      <td>2</td>\n",
              "      <td>4</td>\n",
              "      <td>4</td>\n",
              "      <td>2</td>\n",
              "      <td>0</td>\n",
              "      <td>0</td>\n",
              "      <td>1</td>\n",
              "      <td>2</td>\n",
              "      <td>3</td>\n",
              "      <td>1</td>\n",
              "      <td>2</td>\n",
              "      <td>37338.768343</td>\n",
              "      <td>42566.614750</td>\n",
              "      <td>1</td>\n",
              "      <td>143</td>\n",
              "      <td>15</td>\n",
              "      <td>15</td>\n",
              "      <td>5.00</td>\n",
              "      <td>1</td>\n",
              "      <td>13.9</td>\n",
              "      <td>94.2</td>\n",
              "      <td>...</td>\n",
              "      <td>0.8</td>\n",
              "      <td>1.5</td>\n",
              "      <td>0.6</td>\n",
              "      <td>3.7</td>\n",
              "      <td>0.3</td>\n",
              "      <td>0.0</td>\n",
              "      <td>5.24</td>\n",
              "      <td>16.3</td>\n",
              "      <td>47.0</td>\n",
              "      <td>89.7</td>\n",
              "      <td>31.1</td>\n",
              "      <td>34.7</td>\n",
              "      <td>12.2</td>\n",
              "      <td>233</td>\n",
              "      <td>6.6</td>\n",
              "      <td>0.0</td>\n",
              "      <td>0.29</td>\n",
              "      <td>5.58</td>\n",
              "      <td>1</td>\n",
              "      <td>0.14</td>\n",
              "      <td>2.38</td>\n",
              "      <td>0</td>\n",
              "      <td>1</td>\n",
              "      <td>0.831</td>\n",
              "      <td>0</td>\n",
              "      <td>5.2</td>\n",
              "      <td>0.000000</td>\n",
              "      <td>97</td>\n",
              "      <td>5.38</td>\n",
              "      <td>47</td>\n",
              "      <td>1.22</td>\n",
              "      <td>2</td>\n",
              "      <td>2</td>\n",
              "      <td>2</td>\n",
              "      <td>2</td>\n",
              "      <td>2</td>\n",
              "      <td>2</td>\n",
              "      <td>2</td>\n",
              "      <td>2</td>\n",
              "      <td>2</td>\n",
              "    </tr>\n",
              "    <tr>\n",
              "      <th>2</th>\n",
              "      <td>93705</td>\n",
              "      <td>2</td>\n",
              "      <td>2</td>\n",
              "      <td>66</td>\n",
              "      <td>4</td>\n",
              "      <td>4</td>\n",
              "      <td>2</td>\n",
              "      <td>1</td>\n",
              "      <td>1</td>\n",
              "      <td>2</td>\n",
              "      <td>3</td>\n",
              "      <td>1</td>\n",
              "      <td>2</td>\n",
              "      <td>2</td>\n",
              "      <td>1</td>\n",
              "      <td>2</td>\n",
              "      <td>2</td>\n",
              "      <td>1</td>\n",
              "      <td>2</td>\n",
              "      <td>2</td>\n",
              "      <td>1</td>\n",
              "      <td>1</td>\n",
              "      <td>0</td>\n",
              "      <td>0</td>\n",
              "      <td>1</td>\n",
              "      <td>2</td>\n",
              "      <td>4</td>\n",
              "      <td>1</td>\n",
              "      <td>2</td>\n",
              "      <td>2</td>\n",
              "      <td>8614.571172</td>\n",
              "      <td>8338.419786</td>\n",
              "      <td>2</td>\n",
              "      <td>145</td>\n",
              "      <td>3</td>\n",
              "      <td>3</td>\n",
              "      <td>0.82</td>\n",
              "      <td>1</td>\n",
              "      <td>79.5</td>\n",
              "      <td>158.3</td>\n",
              "      <td>...</td>\n",
              "      <td>0.5</td>\n",
              "      <td>4.2</td>\n",
              "      <td>0.7</td>\n",
              "      <td>6.1</td>\n",
              "      <td>0.2</td>\n",
              "      <td>0.1</td>\n",
              "      <td>5.02</td>\n",
              "      <td>14.5</td>\n",
              "      <td>42.1</td>\n",
              "      <td>83.9</td>\n",
              "      <td>28.9</td>\n",
              "      <td>34.4</td>\n",
              "      <td>13.6</td>\n",
              "      <td>348</td>\n",
              "      <td>8.5</td>\n",
              "      <td>0.2</td>\n",
              "      <td>0.29</td>\n",
              "      <td>5.58</td>\n",
              "      <td>1</td>\n",
              "      <td>0.14</td>\n",
              "      <td>2.38</td>\n",
              "      <td>0</td>\n",
              "      <td>1</td>\n",
              "      <td>3.620</td>\n",
              "      <td>0</td>\n",
              "      <td>5.6</td>\n",
              "      <td>0.000000</td>\n",
              "      <td>97</td>\n",
              "      <td>5.38</td>\n",
              "      <td>68</td>\n",
              "      <td>1.76</td>\n",
              "      <td>2</td>\n",
              "      <td>2</td>\n",
              "      <td>2</td>\n",
              "      <td>2</td>\n",
              "      <td>2</td>\n",
              "      <td>2</td>\n",
              "      <td>2</td>\n",
              "      <td>1</td>\n",
              "      <td>2</td>\n",
              "    </tr>\n",
              "    <tr>\n",
              "      <th>3</th>\n",
              "      <td>93706</td>\n",
              "      <td>2</td>\n",
              "      <td>1</td>\n",
              "      <td>18</td>\n",
              "      <td>5</td>\n",
              "      <td>6</td>\n",
              "      <td>2</td>\n",
              "      <td>1</td>\n",
              "      <td>1</td>\n",
              "      <td>4</td>\n",
              "      <td>1</td>\n",
              "      <td>1</td>\n",
              "      <td>2</td>\n",
              "      <td>2</td>\n",
              "      <td>1</td>\n",
              "      <td>2</td>\n",
              "      <td>2</td>\n",
              "      <td>1</td>\n",
              "      <td>2</td>\n",
              "      <td>2</td>\n",
              "      <td>5</td>\n",
              "      <td>5</td>\n",
              "      <td>0</td>\n",
              "      <td>0</td>\n",
              "      <td>1</td>\n",
              "      <td>1</td>\n",
              "      <td>4</td>\n",
              "      <td>3</td>\n",
              "      <td>1</td>\n",
              "      <td>2</td>\n",
              "      <td>8548.632619</td>\n",
              "      <td>8723.439814</td>\n",
              "      <td>2</td>\n",
              "      <td>134</td>\n",
              "      <td>15</td>\n",
              "      <td>15</td>\n",
              "      <td>5.00</td>\n",
              "      <td>1</td>\n",
              "      <td>66.3</td>\n",
              "      <td>175.7</td>\n",
              "      <td>...</td>\n",
              "      <td>0.7</td>\n",
              "      <td>1.9</td>\n",
              "      <td>0.4</td>\n",
              "      <td>3.6</td>\n",
              "      <td>0.1</td>\n",
              "      <td>0.0</td>\n",
              "      <td>4.59</td>\n",
              "      <td>13.2</td>\n",
              "      <td>39.9</td>\n",
              "      <td>86.8</td>\n",
              "      <td>28.8</td>\n",
              "      <td>33.1</td>\n",
              "      <td>13.4</td>\n",
              "      <td>226</td>\n",
              "      <td>9.1</td>\n",
              "      <td>0.2</td>\n",
              "      <td>0.29</td>\n",
              "      <td>5.58</td>\n",
              "      <td>1</td>\n",
              "      <td>0.16</td>\n",
              "      <td>2.72</td>\n",
              "      <td>0</td>\n",
              "      <td>0</td>\n",
              "      <td>1.220</td>\n",
              "      <td>0</td>\n",
              "      <td>6.2</td>\n",
              "      <td>25653.677102</td>\n",
              "      <td>122</td>\n",
              "      <td>6.77</td>\n",
              "      <td>88</td>\n",
              "      <td>2.28</td>\n",
              "      <td>1</td>\n",
              "      <td>1</td>\n",
              "      <td>1</td>\n",
              "      <td>2</td>\n",
              "      <td>2</td>\n",
              "      <td>2</td>\n",
              "      <td>2</td>\n",
              "      <td>2</td>\n",
              "      <td>2</td>\n",
              "    </tr>\n",
              "    <tr>\n",
              "      <th>4</th>\n",
              "      <td>93707</td>\n",
              "      <td>2</td>\n",
              "      <td>1</td>\n",
              "      <td>13</td>\n",
              "      <td>5</td>\n",
              "      <td>7</td>\n",
              "      <td>2</td>\n",
              "      <td>1</td>\n",
              "      <td>1</td>\n",
              "      <td>4</td>\n",
              "      <td>1</td>\n",
              "      <td>1</td>\n",
              "      <td>1</td>\n",
              "      <td>2</td>\n",
              "      <td>1</td>\n",
              "      <td>2</td>\n",
              "      <td>2</td>\n",
              "      <td>1</td>\n",
              "      <td>2</td>\n",
              "      <td>2</td>\n",
              "      <td>7</td>\n",
              "      <td>7</td>\n",
              "      <td>0</td>\n",
              "      <td>3</td>\n",
              "      <td>0</td>\n",
              "      <td>1</td>\n",
              "      <td>3</td>\n",
              "      <td>2</td>\n",
              "      <td>1</td>\n",
              "      <td>3</td>\n",
              "      <td>6769.344567</td>\n",
              "      <td>7064.609730</td>\n",
              "      <td>1</td>\n",
              "      <td>138</td>\n",
              "      <td>10</td>\n",
              "      <td>10</td>\n",
              "      <td>1.88</td>\n",
              "      <td>1</td>\n",
              "      <td>45.4</td>\n",
              "      <td>158.4</td>\n",
              "      <td>...</td>\n",
              "      <td>0.6</td>\n",
              "      <td>1.9</td>\n",
              "      <td>0.5</td>\n",
              "      <td>4.8</td>\n",
              "      <td>0.1</td>\n",
              "      <td>0.0</td>\n",
              "      <td>5.13</td>\n",
              "      <td>15.4</td>\n",
              "      <td>45.5</td>\n",
              "      <td>88.8</td>\n",
              "      <td>30.0</td>\n",
              "      <td>33.8</td>\n",
              "      <td>15.7</td>\n",
              "      <td>228</td>\n",
              "      <td>9.0</td>\n",
              "      <td>0.0</td>\n",
              "      <td>0.70</td>\n",
              "      <td>13.46</td>\n",
              "      <td>0</td>\n",
              "      <td>0.34</td>\n",
              "      <td>5.77</td>\n",
              "      <td>0</td>\n",
              "      <td>1</td>\n",
              "      <td>1.940</td>\n",
              "      <td>0</td>\n",
              "      <td>6.3</td>\n",
              "      <td>0.000000</td>\n",
              "      <td>97</td>\n",
              "      <td>5.38</td>\n",
              "      <td>65</td>\n",
              "      <td>1.68</td>\n",
              "      <td>1</td>\n",
              "      <td>2</td>\n",
              "      <td>2</td>\n",
              "      <td>2</td>\n",
              "      <td>2</td>\n",
              "      <td>2</td>\n",
              "      <td>2</td>\n",
              "      <td>2</td>\n",
              "      <td>2</td>\n",
              "    </tr>\n",
              "  </tbody>\n",
              "</table>\n",
              "<p>5 rows × 370 columns</p>\n",
              "</div>"
            ],
            "text/plain": [
              "    SEQN  RIDSTATR  RIAGENDR  RIDAGEYR  ...  DIQ170  DIQ172  DIQ180  DIQ050\n",
              "0  93703         2         2         2  ...       2       2       2       2\n",
              "1  93704         2         1         2  ...       2       2       2       2\n",
              "2  93705         2         2        66  ...       2       2       1       2\n",
              "3  93706         2         1        18  ...       2       2       2       2\n",
              "4  93707         2         1        13  ...       2       2       2       2\n",
              "\n",
              "[5 rows x 370 columns]"
            ]
          },
          "metadata": {
            "tags": []
          },
          "execution_count": 170
        }
      ]
    },
    {
      "cell_type": "code",
      "metadata": {
        "colab": {
          "base_uri": "https://localhost:8080/"
        },
        "id": "SnM8u3aEy8J6",
        "outputId": "543fa0c1-a43f-44c7-8302-843bd0e5bc60"
      },
      "source": [
        "df.shape"
      ],
      "execution_count": 171,
      "outputs": [
        {
          "output_type": "execute_result",
          "data": {
            "text/plain": [
              "(7936, 370)"
            ]
          },
          "metadata": {
            "tags": []
          },
          "execution_count": 171
        }
      ]
    },
    {
      "cell_type": "code",
      "metadata": {
        "colab": {
          "base_uri": "https://localhost:8080/",
          "height": 346
        },
        "id": "Iqtp7SmzzAah",
        "outputId": "fcc6d9da-ddf1-4dd0-b33c-377c0e8790ee"
      },
      "source": [
        "df.describe()"
      ],
      "execution_count": 172,
      "outputs": [
        {
          "output_type": "execute_result",
          "data": {
            "text/html": [
              "<div>\n",
              "<style scoped>\n",
              "    .dataframe tbody tr th:only-of-type {\n",
              "        vertical-align: middle;\n",
              "    }\n",
              "\n",
              "    .dataframe tbody tr th {\n",
              "        vertical-align: top;\n",
              "    }\n",
              "\n",
              "    .dataframe thead th {\n",
              "        text-align: right;\n",
              "    }\n",
              "</style>\n",
              "<table border=\"1\" class=\"dataframe\">\n",
              "  <thead>\n",
              "    <tr style=\"text-align: right;\">\n",
              "      <th></th>\n",
              "      <th>SEQN</th>\n",
              "      <th>RIDSTATR</th>\n",
              "      <th>RIAGENDR</th>\n",
              "      <th>RIDAGEYR</th>\n",
              "      <th>RIDRETH1</th>\n",
              "      <th>RIDRETH3</th>\n",
              "      <th>RIDEXMON</th>\n",
              "      <th>DMDBORN4</th>\n",
              "      <th>DMDCITZN</th>\n",
              "      <th>DMDEDUC2</th>\n",
              "      <th>DMDMARTL</th>\n",
              "      <th>SIALANG</th>\n",
              "      <th>SIAPROXY</th>\n",
              "      <th>SIAINTRP</th>\n",
              "      <th>FIALANG</th>\n",
              "      <th>FIAPROXY</th>\n",
              "      <th>FIAINTRP</th>\n",
              "      <th>MIALANG</th>\n",
              "      <th>MIAPROXY</th>\n",
              "      <th>MIAINTRP</th>\n",
              "      <th>DMDHHSIZ</th>\n",
              "      <th>DMDFMSIZ</th>\n",
              "      <th>DMDHHSZA</th>\n",
              "      <th>DMDHHSZB</th>\n",
              "      <th>DMDHHSZE</th>\n",
              "      <th>DMDHRGND</th>\n",
              "      <th>DMDHRAGZ</th>\n",
              "      <th>DMDHREDZ</th>\n",
              "      <th>DMDHRMAZ</th>\n",
              "      <th>DMDHSEDZ</th>\n",
              "      <th>WTINT2YR</th>\n",
              "      <th>WTMEC2YR</th>\n",
              "      <th>SDMVPSU</th>\n",
              "      <th>SDMVSTRA</th>\n",
              "      <th>INDHHIN2</th>\n",
              "      <th>INDFMIN2</th>\n",
              "      <th>INDFMPIR</th>\n",
              "      <th>BMDSTATS</th>\n",
              "      <th>BMXWT</th>\n",
              "      <th>BMXHT</th>\n",
              "      <th>...</th>\n",
              "      <th>LBXBAPCT</th>\n",
              "      <th>LBDLYMNO</th>\n",
              "      <th>LBDMONO</th>\n",
              "      <th>LBDNENO</th>\n",
              "      <th>LBDEONO</th>\n",
              "      <th>LBDBANO</th>\n",
              "      <th>LBXRBCSI</th>\n",
              "      <th>LBXHGB</th>\n",
              "      <th>LBXHCT</th>\n",
              "      <th>LBXMCVSI</th>\n",
              "      <th>LBXMCHSI</th>\n",
              "      <th>LBXMC</th>\n",
              "      <th>LBXRDW</th>\n",
              "      <th>LBXPLTSI</th>\n",
              "      <th>LBXMPSI</th>\n",
              "      <th>LBXNRBC</th>\n",
              "      <th>LBXBCR</th>\n",
              "      <th>LBDBCRSI</th>\n",
              "      <th>LBDBCRLC</th>\n",
              "      <th>LBXBCO</th>\n",
              "      <th>LBDBCOSI</th>\n",
              "      <th>LBDBCOLC</th>\n",
              "      <th>LBDSF5LC</th>\n",
              "      <th>LBXSF6SI</th>\n",
              "      <th>LBDSF6LC</th>\n",
              "      <th>LBXGH</th>\n",
              "      <th>WTSAF2YR</th>\n",
              "      <th>LBXGLU</th>\n",
              "      <th>LBDGLUSI</th>\n",
              "      <th>LBDHDD</th>\n",
              "      <th>LBDHDDSI</th>\n",
              "      <th>LBXHA</th>\n",
              "      <th>LBXHBC</th>\n",
              "      <th>LBXHBS</th>\n",
              "      <th>DIQ010</th>\n",
              "      <th>DIQ160</th>\n",
              "      <th>DIQ170</th>\n",
              "      <th>DIQ172</th>\n",
              "      <th>DIQ180</th>\n",
              "      <th>DIQ050</th>\n",
              "    </tr>\n",
              "  </thead>\n",
              "  <tbody>\n",
              "    <tr>\n",
              "      <th>count</th>\n",
              "      <td>7936.000000</td>\n",
              "      <td>7936.000000</td>\n",
              "      <td>7936.000000</td>\n",
              "      <td>7936.000000</td>\n",
              "      <td>7936.000000</td>\n",
              "      <td>7936.000000</td>\n",
              "      <td>7936.000000</td>\n",
              "      <td>7936.000000</td>\n",
              "      <td>7936.000000</td>\n",
              "      <td>7936.000000</td>\n",
              "      <td>7936.000000</td>\n",
              "      <td>7936.000000</td>\n",
              "      <td>7936.000000</td>\n",
              "      <td>7936.000000</td>\n",
              "      <td>7936.000000</td>\n",
              "      <td>7936.000000</td>\n",
              "      <td>7936.000000</td>\n",
              "      <td>7936.000000</td>\n",
              "      <td>7936.000000</td>\n",
              "      <td>7936.000000</td>\n",
              "      <td>7936.000000</td>\n",
              "      <td>7936.000000</td>\n",
              "      <td>7936.000000</td>\n",
              "      <td>7936.000000</td>\n",
              "      <td>7936.000000</td>\n",
              "      <td>7936.000000</td>\n",
              "      <td>7936.000000</td>\n",
              "      <td>7936.000000</td>\n",
              "      <td>7936.000000</td>\n",
              "      <td>7936.000000</td>\n",
              "      <td>7936.000000</td>\n",
              "      <td>7936.000000</td>\n",
              "      <td>7936.000000</td>\n",
              "      <td>7936.000000</td>\n",
              "      <td>7936.000000</td>\n",
              "      <td>7936.000000</td>\n",
              "      <td>7936.000000</td>\n",
              "      <td>7936.000000</td>\n",
              "      <td>7936.000000</td>\n",
              "      <td>7936.000000</td>\n",
              "      <td>...</td>\n",
              "      <td>7936.000000</td>\n",
              "      <td>7936.000000</td>\n",
              "      <td>7936.000000</td>\n",
              "      <td>7936.000000</td>\n",
              "      <td>7936.000000</td>\n",
              "      <td>7936.000000</td>\n",
              "      <td>7936.000000</td>\n",
              "      <td>7936.000000</td>\n",
              "      <td>7936.000000</td>\n",
              "      <td>7936.000000</td>\n",
              "      <td>7936.000000</td>\n",
              "      <td>7936.000000</td>\n",
              "      <td>7936.000000</td>\n",
              "      <td>7936.000000</td>\n",
              "      <td>7936.000000</td>\n",
              "      <td>7936.00000</td>\n",
              "      <td>7936.000000</td>\n",
              "      <td>7936.000000</td>\n",
              "      <td>7936.000000</td>\n",
              "      <td>7936.000000</td>\n",
              "      <td>7936.000000</td>\n",
              "      <td>7936.000000</td>\n",
              "      <td>7936.000000</td>\n",
              "      <td>7936.000000</td>\n",
              "      <td>7936.0</td>\n",
              "      <td>7936.000000</td>\n",
              "      <td>7936.000000</td>\n",
              "      <td>7936.000000</td>\n",
              "      <td>7936.000000</td>\n",
              "      <td>7936.000000</td>\n",
              "      <td>7936.000000</td>\n",
              "      <td>7936.000000</td>\n",
              "      <td>7936.000000</td>\n",
              "      <td>7936.000000</td>\n",
              "      <td>7936.000000</td>\n",
              "      <td>7936.000000</td>\n",
              "      <td>7936.000000</td>\n",
              "      <td>7936.000000</td>\n",
              "      <td>7936.000000</td>\n",
              "      <td>7936.000000</td>\n",
              "    </tr>\n",
              "    <tr>\n",
              "      <th>mean</th>\n",
              "      <td>97670.500000</td>\n",
              "      <td>1.942414</td>\n",
              "      <td>1.511341</td>\n",
              "      <td>34.363029</td>\n",
              "      <td>3.235761</td>\n",
              "      <td>3.500378</td>\n",
              "      <td>1.543221</td>\n",
              "      <td>1.243826</td>\n",
              "      <td>1.117692</td>\n",
              "      <td>3.714214</td>\n",
              "      <td>2.021421</td>\n",
              "      <td>1.102949</td>\n",
              "      <td>1.657132</td>\n",
              "      <td>1.967112</td>\n",
              "      <td>1.091230</td>\n",
              "      <td>1.998236</td>\n",
              "      <td>1.972656</td>\n",
              "      <td>1.051537</td>\n",
              "      <td>1.994330</td>\n",
              "      <td>1.983619</td>\n",
              "      <td>3.710559</td>\n",
              "      <td>3.589214</td>\n",
              "      <td>0.494960</td>\n",
              "      <td>0.877772</td>\n",
              "      <td>0.489541</td>\n",
              "      <td>1.498614</td>\n",
              "      <td>2.862273</td>\n",
              "      <td>2.047001</td>\n",
              "      <td>1.463458</td>\n",
              "      <td>2.057208</td>\n",
              "      <td>34658.037726</td>\n",
              "      <td>34695.011004</td>\n",
              "      <td>1.517641</td>\n",
              "      <td>140.990927</td>\n",
              "      <td>12.567540</td>\n",
              "      <td>12.326865</td>\n",
              "      <td>2.719984</td>\n",
              "      <td>1.134955</td>\n",
              "      <td>64.789491</td>\n",
              "      <td>156.791898</td>\n",
              "      <td>...</td>\n",
              "      <td>0.754687</td>\n",
              "      <td>2.383606</td>\n",
              "      <td>0.575290</td>\n",
              "      <td>4.033556</td>\n",
              "      <td>0.204360</td>\n",
              "      <td>0.045917</td>\n",
              "      <td>4.742344</td>\n",
              "      <td>13.737273</td>\n",
              "      <td>40.903919</td>\n",
              "      <td>86.916003</td>\n",
              "      <td>29.231578</td>\n",
              "      <td>33.578427</td>\n",
              "      <td>13.735522</td>\n",
              "      <td>255.413306</td>\n",
              "      <td>8.091520</td>\n",
              "      <td>0.08503</td>\n",
              "      <td>0.317840</td>\n",
              "      <td>6.115190</td>\n",
              "      <td>0.946069</td>\n",
              "      <td>0.173364</td>\n",
              "      <td>2.944803</td>\n",
              "      <td>0.003780</td>\n",
              "      <td>0.937122</td>\n",
              "      <td>1.462138</td>\n",
              "      <td>0.0</td>\n",
              "      <td>5.681502</td>\n",
              "      <td>34331.708539</td>\n",
              "      <td>102.392641</td>\n",
              "      <td>5.680988</td>\n",
              "      <td>52.578503</td>\n",
              "      <td>1.359638</td>\n",
              "      <td>1.338080</td>\n",
              "      <td>1.948841</td>\n",
              "      <td>1.732863</td>\n",
              "      <td>1.923891</td>\n",
              "      <td>1.939012</td>\n",
              "      <td>1.908518</td>\n",
              "      <td>1.879032</td>\n",
              "      <td>1.844380</td>\n",
              "      <td>1.972530</td>\n",
              "    </tr>\n",
              "    <tr>\n",
              "      <th>std</th>\n",
              "      <td>2291.070201</td>\n",
              "      <td>0.232973</td>\n",
              "      <td>0.499903</td>\n",
              "      <td>25.503013</td>\n",
              "      <td>1.281829</td>\n",
              "      <td>1.705324</td>\n",
              "      <td>0.498160</td>\n",
              "      <td>1.679004</td>\n",
              "      <td>0.466398</td>\n",
              "      <td>0.987753</td>\n",
              "      <td>2.638199</td>\n",
              "      <td>0.303911</td>\n",
              "      <td>0.474698</td>\n",
              "      <td>0.178355</td>\n",
              "      <td>0.287954</td>\n",
              "      <td>0.041967</td>\n",
              "      <td>0.163093</td>\n",
              "      <td>0.221105</td>\n",
              "      <td>0.075093</td>\n",
              "      <td>0.126944</td>\n",
              "      <td>1.711820</td>\n",
              "      <td>1.755174</td>\n",
              "      <td>0.801998</td>\n",
              "      <td>1.061169</td>\n",
              "      <td>0.752156</td>\n",
              "      <td>0.500030</td>\n",
              "      <td>0.807843</td>\n",
              "      <td>0.637563</td>\n",
              "      <td>0.718063</td>\n",
              "      <td>0.497762</td>\n",
              "      <td>41429.214937</td>\n",
              "      <td>43485.753638</td>\n",
              "      <td>0.499720</td>\n",
              "      <td>4.199099</td>\n",
              "      <td>16.781947</td>\n",
              "      <td>16.758066</td>\n",
              "      <td>1.737661</td>\n",
              "      <td>0.502854</td>\n",
              "      <td>32.681992</td>\n",
              "      <td>21.463467</td>\n",
              "      <td>...</td>\n",
              "      <td>0.316667</td>\n",
              "      <td>4.174485</td>\n",
              "      <td>0.202014</td>\n",
              "      <td>1.654518</td>\n",
              "      <td>0.180871</td>\n",
              "      <td>0.051771</td>\n",
              "      <td>0.462687</td>\n",
              "      <td>1.445707</td>\n",
              "      <td>3.967844</td>\n",
              "      <td>6.138082</td>\n",
              "      <td>2.395057</td>\n",
              "      <td>0.892629</td>\n",
              "      <td>1.216110</td>\n",
              "      <td>65.320742</td>\n",
              "      <td>0.869265</td>\n",
              "      <td>0.07614</td>\n",
              "      <td>0.213558</td>\n",
              "      <td>4.106382</td>\n",
              "      <td>0.225897</td>\n",
              "      <td>0.324093</td>\n",
              "      <td>5.499527</td>\n",
              "      <td>0.061371</td>\n",
              "      <td>0.242759</td>\n",
              "      <td>1.357807</td>\n",
              "      <td>0.0</td>\n",
              "      <td>0.919355</td>\n",
              "      <td>80520.565172</td>\n",
              "      <td>22.596598</td>\n",
              "      <td>1.255185</td>\n",
              "      <td>13.723671</td>\n",
              "      <td>0.354919</td>\n",
              "      <td>0.473352</td>\n",
              "      <td>0.220908</td>\n",
              "      <td>0.442492</td>\n",
              "      <td>0.373007</td>\n",
              "      <td>0.326614</td>\n",
              "      <td>0.450664</td>\n",
              "      <td>0.730458</td>\n",
              "      <td>1.136927</td>\n",
              "      <td>0.183782</td>\n",
              "    </tr>\n",
              "    <tr>\n",
              "      <th>min</th>\n",
              "      <td>93703.000000</td>\n",
              "      <td>1.000000</td>\n",
              "      <td>1.000000</td>\n",
              "      <td>0.000000</td>\n",
              "      <td>1.000000</td>\n",
              "      <td>1.000000</td>\n",
              "      <td>1.000000</td>\n",
              "      <td>1.000000</td>\n",
              "      <td>1.000000</td>\n",
              "      <td>1.000000</td>\n",
              "      <td>1.000000</td>\n",
              "      <td>1.000000</td>\n",
              "      <td>1.000000</td>\n",
              "      <td>1.000000</td>\n",
              "      <td>1.000000</td>\n",
              "      <td>1.000000</td>\n",
              "      <td>1.000000</td>\n",
              "      <td>1.000000</td>\n",
              "      <td>1.000000</td>\n",
              "      <td>1.000000</td>\n",
              "      <td>1.000000</td>\n",
              "      <td>1.000000</td>\n",
              "      <td>0.000000</td>\n",
              "      <td>0.000000</td>\n",
              "      <td>0.000000</td>\n",
              "      <td>1.000000</td>\n",
              "      <td>1.000000</td>\n",
              "      <td>1.000000</td>\n",
              "      <td>1.000000</td>\n",
              "      <td>1.000000</td>\n",
              "      <td>2571.068712</td>\n",
              "      <td>0.000000</td>\n",
              "      <td>1.000000</td>\n",
              "      <td>134.000000</td>\n",
              "      <td>1.000000</td>\n",
              "      <td>1.000000</td>\n",
              "      <td>0.000000</td>\n",
              "      <td>1.000000</td>\n",
              "      <td>3.200000</td>\n",
              "      <td>78.300000</td>\n",
              "      <td>...</td>\n",
              "      <td>0.100000</td>\n",
              "      <td>0.400000</td>\n",
              "      <td>0.100000</td>\n",
              "      <td>0.400000</td>\n",
              "      <td>0.000000</td>\n",
              "      <td>0.000000</td>\n",
              "      <td>2.320000</td>\n",
              "      <td>6.400000</td>\n",
              "      <td>23.000000</td>\n",
              "      <td>35.400000</td>\n",
              "      <td>12.400000</td>\n",
              "      <td>25.200000</td>\n",
              "      <td>11.300000</td>\n",
              "      <td>8.000000</td>\n",
              "      <td>5.400000</td>\n",
              "      <td>0.00000</td>\n",
              "      <td>0.290000</td>\n",
              "      <td>5.580000</td>\n",
              "      <td>0.000000</td>\n",
              "      <td>0.040000</td>\n",
              "      <td>0.680000</td>\n",
              "      <td>0.000000</td>\n",
              "      <td>0.000000</td>\n",
              "      <td>0.113000</td>\n",
              "      <td>0.0</td>\n",
              "      <td>3.800000</td>\n",
              "      <td>0.000000</td>\n",
              "      <td>47.000000</td>\n",
              "      <td>2.610000</td>\n",
              "      <td>10.000000</td>\n",
              "      <td>0.260000</td>\n",
              "      <td>1.000000</td>\n",
              "      <td>1.000000</td>\n",
              "      <td>1.000000</td>\n",
              "      <td>1.000000</td>\n",
              "      <td>1.000000</td>\n",
              "      <td>1.000000</td>\n",
              "      <td>1.000000</td>\n",
              "      <td>1.000000</td>\n",
              "      <td>1.000000</td>\n",
              "    </tr>\n",
              "    <tr>\n",
              "      <th>25%</th>\n",
              "      <td>95686.750000</td>\n",
              "      <td>2.000000</td>\n",
              "      <td>1.000000</td>\n",
              "      <td>11.000000</td>\n",
              "      <td>3.000000</td>\n",
              "      <td>3.000000</td>\n",
              "      <td>1.000000</td>\n",
              "      <td>1.000000</td>\n",
              "      <td>1.000000</td>\n",
              "      <td>3.000000</td>\n",
              "      <td>1.000000</td>\n",
              "      <td>1.000000</td>\n",
              "      <td>1.000000</td>\n",
              "      <td>2.000000</td>\n",
              "      <td>1.000000</td>\n",
              "      <td>2.000000</td>\n",
              "      <td>2.000000</td>\n",
              "      <td>1.000000</td>\n",
              "      <td>2.000000</td>\n",
              "      <td>2.000000</td>\n",
              "      <td>2.000000</td>\n",
              "      <td>2.000000</td>\n",
              "      <td>0.000000</td>\n",
              "      <td>0.000000</td>\n",
              "      <td>0.000000</td>\n",
              "      <td>1.000000</td>\n",
              "      <td>2.000000</td>\n",
              "      <td>2.000000</td>\n",
              "      <td>1.000000</td>\n",
              "      <td>2.000000</td>\n",
              "      <td>13124.550444</td>\n",
              "      <td>12382.988116</td>\n",
              "      <td>1.000000</td>\n",
              "      <td>137.000000</td>\n",
              "      <td>6.000000</td>\n",
              "      <td>6.000000</td>\n",
              "      <td>1.160000</td>\n",
              "      <td>1.000000</td>\n",
              "      <td>43.100000</td>\n",
              "      <td>152.600000</td>\n",
              "      <td>...</td>\n",
              "      <td>0.600000</td>\n",
              "      <td>1.800000</td>\n",
              "      <td>0.500000</td>\n",
              "      <td>3.000000</td>\n",
              "      <td>0.100000</td>\n",
              "      <td>0.000000</td>\n",
              "      <td>4.450000</td>\n",
              "      <td>12.900000</td>\n",
              "      <td>38.500000</td>\n",
              "      <td>83.900000</td>\n",
              "      <td>28.100000</td>\n",
              "      <td>33.100000</td>\n",
              "      <td>13.000000</td>\n",
              "      <td>214.000000</td>\n",
              "      <td>7.600000</td>\n",
              "      <td>0.00000</td>\n",
              "      <td>0.290000</td>\n",
              "      <td>5.580000</td>\n",
              "      <td>1.000000</td>\n",
              "      <td>0.140000</td>\n",
              "      <td>2.380000</td>\n",
              "      <td>0.000000</td>\n",
              "      <td>1.000000</td>\n",
              "      <td>1.100000</td>\n",
              "      <td>0.0</td>\n",
              "      <td>5.300000</td>\n",
              "      <td>0.000000</td>\n",
              "      <td>97.000000</td>\n",
              "      <td>5.380000</td>\n",
              "      <td>45.000000</td>\n",
              "      <td>1.160000</td>\n",
              "      <td>1.000000</td>\n",
              "      <td>2.000000</td>\n",
              "      <td>1.000000</td>\n",
              "      <td>2.000000</td>\n",
              "      <td>2.000000</td>\n",
              "      <td>2.000000</td>\n",
              "      <td>2.000000</td>\n",
              "      <td>1.000000</td>\n",
              "      <td>2.000000</td>\n",
              "    </tr>\n",
              "    <tr>\n",
              "      <th>50%</th>\n",
              "      <td>97670.500000</td>\n",
              "      <td>2.000000</td>\n",
              "      <td>2.000000</td>\n",
              "      <td>31.000000</td>\n",
              "      <td>3.000000</td>\n",
              "      <td>3.000000</td>\n",
              "      <td>2.000000</td>\n",
              "      <td>1.000000</td>\n",
              "      <td>1.000000</td>\n",
              "      <td>4.000000</td>\n",
              "      <td>1.000000</td>\n",
              "      <td>1.000000</td>\n",
              "      <td>2.000000</td>\n",
              "      <td>2.000000</td>\n",
              "      <td>1.000000</td>\n",
              "      <td>2.000000</td>\n",
              "      <td>2.000000</td>\n",
              "      <td>1.000000</td>\n",
              "      <td>2.000000</td>\n",
              "      <td>2.000000</td>\n",
              "      <td>4.000000</td>\n",
              "      <td>4.000000</td>\n",
              "      <td>0.000000</td>\n",
              "      <td>0.000000</td>\n",
              "      <td>0.000000</td>\n",
              "      <td>1.000000</td>\n",
              "      <td>3.000000</td>\n",
              "      <td>2.000000</td>\n",
              "      <td>1.000000</td>\n",
              "      <td>2.000000</td>\n",
              "      <td>21046.957237</td>\n",
              "      <td>21010.662509</td>\n",
              "      <td>2.000000</td>\n",
              "      <td>141.000000</td>\n",
              "      <td>9.000000</td>\n",
              "      <td>8.000000</td>\n",
              "      <td>2.380000</td>\n",
              "      <td>1.000000</td>\n",
              "      <td>67.000000</td>\n",
              "      <td>161.400000</td>\n",
              "      <td>...</td>\n",
              "      <td>0.700000</td>\n",
              "      <td>2.200000</td>\n",
              "      <td>0.500000</td>\n",
              "      <td>3.600000</td>\n",
              "      <td>0.200000</td>\n",
              "      <td>0.000000</td>\n",
              "      <td>4.770000</td>\n",
              "      <td>13.500000</td>\n",
              "      <td>40.400000</td>\n",
              "      <td>87.100000</td>\n",
              "      <td>29.700000</td>\n",
              "      <td>33.700000</td>\n",
              "      <td>13.400000</td>\n",
              "      <td>248.000000</td>\n",
              "      <td>7.900000</td>\n",
              "      <td>0.10000</td>\n",
              "      <td>0.290000</td>\n",
              "      <td>5.580000</td>\n",
              "      <td>1.000000</td>\n",
              "      <td>0.140000</td>\n",
              "      <td>2.380000</td>\n",
              "      <td>0.000000</td>\n",
              "      <td>1.000000</td>\n",
              "      <td>1.160000</td>\n",
              "      <td>0.0</td>\n",
              "      <td>5.400000</td>\n",
              "      <td>0.000000</td>\n",
              "      <td>97.000000</td>\n",
              "      <td>5.380000</td>\n",
              "      <td>48.000000</td>\n",
              "      <td>1.240000</td>\n",
              "      <td>1.000000</td>\n",
              "      <td>2.000000</td>\n",
              "      <td>2.000000</td>\n",
              "      <td>2.000000</td>\n",
              "      <td>2.000000</td>\n",
              "      <td>2.000000</td>\n",
              "      <td>2.000000</td>\n",
              "      <td>2.000000</td>\n",
              "      <td>2.000000</td>\n",
              "    </tr>\n",
              "    <tr>\n",
              "      <th>75%</th>\n",
              "      <td>99654.250000</td>\n",
              "      <td>2.000000</td>\n",
              "      <td>2.000000</td>\n",
              "      <td>58.000000</td>\n",
              "      <td>4.000000</td>\n",
              "      <td>4.000000</td>\n",
              "      <td>2.000000</td>\n",
              "      <td>1.000000</td>\n",
              "      <td>1.000000</td>\n",
              "      <td>4.000000</td>\n",
              "      <td>3.000000</td>\n",
              "      <td>1.000000</td>\n",
              "      <td>2.000000</td>\n",
              "      <td>2.000000</td>\n",
              "      <td>1.000000</td>\n",
              "      <td>2.000000</td>\n",
              "      <td>2.000000</td>\n",
              "      <td>1.000000</td>\n",
              "      <td>2.000000</td>\n",
              "      <td>2.000000</td>\n",
              "      <td>5.000000</td>\n",
              "      <td>5.000000</td>\n",
              "      <td>1.000000</td>\n",
              "      <td>2.000000</td>\n",
              "      <td>1.000000</td>\n",
              "      <td>2.000000</td>\n",
              "      <td>4.000000</td>\n",
              "      <td>2.000000</td>\n",
              "      <td>2.000000</td>\n",
              "      <td>2.000000</td>\n",
              "      <td>36894.621315</td>\n",
              "      <td>37645.329728</td>\n",
              "      <td>2.000000</td>\n",
              "      <td>145.000000</td>\n",
              "      <td>15.000000</td>\n",
              "      <td>15.000000</td>\n",
              "      <td>5.000000</td>\n",
              "      <td>1.000000</td>\n",
              "      <td>85.100000</td>\n",
              "      <td>170.100000</td>\n",
              "      <td>...</td>\n",
              "      <td>0.900000</td>\n",
              "      <td>2.700000</td>\n",
              "      <td>0.700000</td>\n",
              "      <td>4.800000</td>\n",
              "      <td>0.300000</td>\n",
              "      <td>0.100000</td>\n",
              "      <td>5.000000</td>\n",
              "      <td>14.700000</td>\n",
              "      <td>43.500000</td>\n",
              "      <td>90.700000</td>\n",
              "      <td>30.600000</td>\n",
              "      <td>34.100000</td>\n",
              "      <td>14.100000</td>\n",
              "      <td>291.000000</td>\n",
              "      <td>8.600000</td>\n",
              "      <td>0.10000</td>\n",
              "      <td>0.290000</td>\n",
              "      <td>5.580000</td>\n",
              "      <td>1.000000</td>\n",
              "      <td>0.150000</td>\n",
              "      <td>2.550000</td>\n",
              "      <td>0.000000</td>\n",
              "      <td>1.000000</td>\n",
              "      <td>1.350000</td>\n",
              "      <td>0.0</td>\n",
              "      <td>5.700000</td>\n",
              "      <td>38991.886592</td>\n",
              "      <td>97.000000</td>\n",
              "      <td>5.380000</td>\n",
              "      <td>60.000000</td>\n",
              "      <td>1.550000</td>\n",
              "      <td>2.000000</td>\n",
              "      <td>2.000000</td>\n",
              "      <td>2.000000</td>\n",
              "      <td>2.000000</td>\n",
              "      <td>2.000000</td>\n",
              "      <td>2.000000</td>\n",
              "      <td>2.000000</td>\n",
              "      <td>2.000000</td>\n",
              "      <td>2.000000</td>\n",
              "    </tr>\n",
              "    <tr>\n",
              "      <th>max</th>\n",
              "      <td>101638.000000</td>\n",
              "      <td>2.000000</td>\n",
              "      <td>2.000000</td>\n",
              "      <td>80.000000</td>\n",
              "      <td>5.000000</td>\n",
              "      <td>7.000000</td>\n",
              "      <td>2.000000</td>\n",
              "      <td>99.000000</td>\n",
              "      <td>9.000000</td>\n",
              "      <td>9.000000</td>\n",
              "      <td>77.000000</td>\n",
              "      <td>2.000000</td>\n",
              "      <td>2.000000</td>\n",
              "      <td>2.000000</td>\n",
              "      <td>2.000000</td>\n",
              "      <td>2.000000</td>\n",
              "      <td>2.000000</td>\n",
              "      <td>2.000000</td>\n",
              "      <td>2.000000</td>\n",
              "      <td>2.000000</td>\n",
              "      <td>7.000000</td>\n",
              "      <td>7.000000</td>\n",
              "      <td>3.000000</td>\n",
              "      <td>3.000000</td>\n",
              "      <td>3.000000</td>\n",
              "      <td>2.000000</td>\n",
              "      <td>4.000000</td>\n",
              "      <td>3.000000</td>\n",
              "      <td>3.000000</td>\n",
              "      <td>3.000000</td>\n",
              "      <td>433085.005262</td>\n",
              "      <td>419762.836488</td>\n",
              "      <td>2.000000</td>\n",
              "      <td>148.000000</td>\n",
              "      <td>99.000000</td>\n",
              "      <td>99.000000</td>\n",
              "      <td>5.000000</td>\n",
              "      <td>4.000000</td>\n",
              "      <td>242.600000</td>\n",
              "      <td>197.700000</td>\n",
              "      <td>...</td>\n",
              "      <td>4.800000</td>\n",
              "      <td>358.800000</td>\n",
              "      <td>6.700000</td>\n",
              "      <td>35.200000</td>\n",
              "      <td>3.200000</td>\n",
              "      <td>0.500000</td>\n",
              "      <td>7.840000</td>\n",
              "      <td>19.900000</td>\n",
              "      <td>58.800000</td>\n",
              "      <td>114.600000</td>\n",
              "      <td>39.200000</td>\n",
              "      <td>38.300000</td>\n",
              "      <td>29.200000</td>\n",
              "      <td>818.000000</td>\n",
              "      <td>13.000000</td>\n",
              "      <td>1.50000</td>\n",
              "      <td>8.620000</td>\n",
              "      <td>165.760000</td>\n",
              "      <td>1.000000</td>\n",
              "      <td>17.790000</td>\n",
              "      <td>301.900000</td>\n",
              "      <td>1.000000</td>\n",
              "      <td>1.000000</td>\n",
              "      <td>48.500000</td>\n",
              "      <td>0.0</td>\n",
              "      <td>16.200000</td>\n",
              "      <td>944153.249752</td>\n",
              "      <td>451.000000</td>\n",
              "      <td>25.000000</td>\n",
              "      <td>189.000000</td>\n",
              "      <td>4.890000</td>\n",
              "      <td>3.000000</td>\n",
              "      <td>3.000000</td>\n",
              "      <td>2.000000</td>\n",
              "      <td>9.000000</td>\n",
              "      <td>9.000000</td>\n",
              "      <td>9.000000</td>\n",
              "      <td>9.000000</td>\n",
              "      <td>9.000000</td>\n",
              "      <td>9.000000</td>\n",
              "    </tr>\n",
              "  </tbody>\n",
              "</table>\n",
              "<p>8 rows × 370 columns</p>\n",
              "</div>"
            ],
            "text/plain": [
              "                SEQN     RIDSTATR  ...       DIQ180       DIQ050\n",
              "count    7936.000000  7936.000000  ...  7936.000000  7936.000000\n",
              "mean    97670.500000     1.942414  ...     1.844380     1.972530\n",
              "std      2291.070201     0.232973  ...     1.136927     0.183782\n",
              "min     93703.000000     1.000000  ...     1.000000     1.000000\n",
              "25%     95686.750000     2.000000  ...     1.000000     2.000000\n",
              "50%     97670.500000     2.000000  ...     2.000000     2.000000\n",
              "75%     99654.250000     2.000000  ...     2.000000     2.000000\n",
              "max    101638.000000     2.000000  ...     9.000000     9.000000\n",
              "\n",
              "[8 rows x 370 columns]"
            ]
          },
          "metadata": {
            "tags": []
          },
          "execution_count": 172
        }
      ]
    },
    {
      "cell_type": "markdown",
      "metadata": {
        "id": "pdtPipSb0sbR"
      },
      "source": [
        "**tInitial cleaning - Removing na's if in rows and columns from the merged dataframe** "
      ]
    },
    {
      "cell_type": "code",
      "metadata": {
        "colab": {
          "base_uri": "https://localhost:8080/"
        },
        "id": "R2RSKAEN0eAz",
        "outputId": "1d62e23b-65ff-4e21-e2d4-558b1cf1fab2"
      },
      "source": [
        "lst = df.columns[df.isna().all()].tolist()\n",
        "df.dropna(axis=1, how='all',inplace=True)\n",
        "df.dropna(axis=0, how='all',inplace=True)\n",
        "df.shape"
      ],
      "execution_count": 173,
      "outputs": [
        {
          "output_type": "execute_result",
          "data": {
            "text/plain": [
              "(7936, 370)"
            ]
          },
          "metadata": {
            "tags": []
          },
          "execution_count": 173
        }
      ]
    },
    {
      "cell_type": "markdown",
      "metadata": {
        "id": "ZrT-BLMa1W4j"
      },
      "source": [
        "****Output label assignment****"
      ]
    },
    {
      "cell_type": "code",
      "metadata": {
        "id": "Z24a5J9M01df"
      },
      "source": [
        "df.loc[(df['LBXGLU'] < 100) , 'Diabetes'] = 0\n",
        "df.loc[((df['LBXGLU'] >= 100) & (df['LBXGH'] <= 125)) , 'Diabetes'] = 1\n",
        "df.loc[(df['LBXGLU'] > 125) , 'Diabetes'] = 2"
      ],
      "execution_count": 174,
      "outputs": []
    },
    {
      "cell_type": "code",
      "metadata": {
        "id": "je1k8der1gTe"
      },
      "source": [
        "df.loc[((df.Diabetes.isna()) & (df.DIQ010 == 1)), 'Diabetes'] = 2\n",
        "df.loc[((df.Diabetes.isna()) & (df.DIQ010 == 3)), 'Diabetes'] = 1\n",
        "df.loc[((df.Diabetes.isna()) & (df.DIQ010 == 2)), 'Diabetes'] = 0"
      ],
      "execution_count": 175,
      "outputs": []
    },
    {
      "cell_type": "code",
      "metadata": {
        "id": "11py87Ln1hHx"
      },
      "source": [
        "##removing the rows with nan diabetes values \n",
        "df = df[np.isfinite(df['Diabetes'])]"
      ],
      "execution_count": 176,
      "outputs": []
    },
    {
      "cell_type": "code",
      "metadata": {
        "colab": {
          "base_uri": "https://localhost:8080/"
        },
        "id": "2AuFfVRN2D9h",
        "outputId": "9d02ff41-2d28-44d5-da36-d3d36ddf6d60"
      },
      "source": [
        "df.shape"
      ],
      "execution_count": 177,
      "outputs": [
        {
          "output_type": "execute_result",
          "data": {
            "text/plain": [
              "(7936, 371)"
            ]
          },
          "metadata": {
            "tags": []
          },
          "execution_count": 177
        }
      ]
    },
    {
      "cell_type": "code",
      "metadata": {
        "colab": {
          "base_uri": "https://localhost:8080/"
        },
        "id": "7gecj_p32O5E",
        "outputId": "03814bfe-0ae9-46b5-dfbf-8f0cc5cb38fb"
      },
      "source": [
        "df.Diabetes.value_counts()"
      ],
      "execution_count": 178,
      "outputs": [
        {
          "output_type": "execute_result",
          "data": {
            "text/plain": [
              "0.0    6180\n",
              "1.0    1346\n",
              "2.0     410\n",
              "Name: Diabetes, dtype: int64"
            ]
          },
          "metadata": {
            "tags": []
          },
          "execution_count": 178
        }
      ]
    },
    {
      "cell_type": "code",
      "metadata": {
        "colab": {
          "base_uri": "https://localhost:8080/",
          "height": 322
        },
        "id": "O6IZwnuR2Xg7",
        "outputId": "c84755f6-a099-4420-ff37-40346decdc20"
      },
      "source": [
        "pd.value_counts(df['Diabetes']).plot(kind=\"bar\", title='Value counts of the output variable')\n",
        "plt.xlabel('Categories', fontsize=18)\n",
        "plt.ylabel('Number of counts', fontsize=16)"
      ],
      "execution_count": 179,
      "outputs": [
        {
          "output_type": "execute_result",
          "data": {
            "text/plain": [
              "Text(0, 0.5, 'Number of counts')"
            ]
          },
          "metadata": {
            "tags": []
          },
          "execution_count": 179
        },
        {
          "output_type": "display_data",
          "data": {
            "image/png": "[encoded data removed]",
            "text/plain": [
              "<Figure size 432x288 with 1 Axes>"
            ]
          },
          "metadata": {
            "tags": [],
            "needs_background": "light"
          }
        }
      ]
    },
    {
      "cell_type": "markdown",
      "metadata": {
        "id": "h8oT8Y943VT4"
      },
      "source": [
        "#Dividing the merged df variables"
      ]
    },
    {
      "cell_type": "code",
      "metadata": {
        "id": "qLJ89iGM2jLK"
      },
      "source": [
        "cat_vars = ques_cat+demo_cat+exam_cat+labs_cat\n",
        "cat_vars = [x for x in cat_vars if x not in lst]\n",
        "num_vars = list(ques_cont)+list(demo_cont)+list(exam_cont)+list(labs_cont)\n",
        "num_vars = [x for x in num_vars if x not in lst]\n",
        "obj_vars = list(set(df.columns)^set(cat_vars)^set(num_vars))"
      ],
      "execution_count": 180,
      "outputs": []
    },
    {
      "cell_type": "markdown",
      "metadata": {
        "id": "-cFlC9ri61J2"
      },
      "source": [
        "**Dimensionality Reduction and variance check using PCA**"
      ]
    },
    {
      "cell_type": "code",
      "metadata": {
        "id": "HZdCknLY33-p"
      },
      "source": [
        "X = df.drop(labels = ['Diabetes','LBXGLU','DIQ010','DIQ160'], axis=1).values\n",
        "y = df['Diabetes'].values\n",
        "X = StandardScaler().fit_transform(X)"
      ],
      "execution_count": 181,
      "outputs": []
    },
    {
      "cell_type": "code",
      "metadata": {
        "id": "0WKR464C3kfY"
      },
      "source": [
        "pca = PCA(n_components=2)\n",
        "principalComponents = pca.fit_transform(X)\n",
        "principalDf = pd.DataFrame(data = principalComponents\n",
        "             , columns = ['principal component 1', 'principal component 2'])\n",
        "finalDf = pd.concat([principalDf, df[['Diabetes']]], axis = 1)"
      ],
      "execution_count": 182,
      "outputs": []
    },
    {
      "cell_type": "code",
      "metadata": {
        "colab": {
          "base_uri": "https://localhost:8080/",
          "height": 522
        },
        "id": "0mc0jStT3kns",
        "outputId": "e4560311-396b-4625-e967-1bff9279f75e"
      },
      "source": [
        "fig = plt.figure(figsize = (8,8))\n",
        "ax = fig.add_subplot(1,1,1) \n",
        "ax.set_xlabel('Principal Component 1', fontsize = 15)\n",
        "ax.set_ylabel('Principal Component 2', fontsize = 15)\n",
        "ax.set_title('2 component PCA', fontsize = 20)\n",
        "targets = [0,1,2]\n",
        "colors = ['r', 'g', 'b']\n",
        "for target, color in zip(targets,colors):\n",
        "    indicesToKeep = finalDf['Diabetes'] == target\n",
        "    ax.scatter(finalDf.loc[indicesToKeep, 'principal component 1']\n",
        "               , finalDf.loc[indicesToKeep, 'principal component 2']\n",
        "               , c = color\n",
        "               , s = 50)\n",
        "ax.legend(targets)\n",
        "ax.grid()"
      ],
      "execution_count": 183,
      "outputs": [
        {
          "output_type": "display_data",
          "data": {
            "image/png": "[encoded data removed]",
            "text/plain": [
              "<Figure size 576x576 with 1 Axes>"
            ]
          },
          "metadata": {
            "tags": [],
            "needs_background": "light"
          }
        }
      ]
    },
    {
      "cell_type": "code",
      "metadata": {
        "colab": {
          "base_uri": "https://localhost:8080/"
        },
        "id": "xPIxrgkc5ILw",
        "outputId": "cb7367ab-5d04-4530-e14d-1e097fae4058"
      },
      "source": [
        "pca.explained_variance_ratio_"
      ],
      "execution_count": 184,
      "outputs": [
        {
          "output_type": "execute_result",
          "data": {
            "text/plain": [
              "array([0.14990355, 0.06226945])"
            ]
          },
          "metadata": {
            "tags": []
          },
          "execution_count": 184
        }
      ]
    },
    {
      "cell_type": "code",
      "metadata": {
        "id": "OC_26yM05IO9"
      },
      "source": [
        "pca = PCA(n_components=3)\n",
        "principalComponents = pca.fit_transform(X)\n",
        "principalDf = pd.DataFrame(data = principalComponents\n",
        "             , columns = ['principal component 1', 'principal component 2','principal component 3'])\n",
        "finalDf = pd.concat([principalDf, df[['Diabetes']]], axis = 1)"
      ],
      "execution_count": 185,
      "outputs": []
    },
    {
      "cell_type": "code",
      "metadata": {
        "colab": {
          "base_uri": "https://localhost:8080/"
        },
        "id": "Jne5yn4X5ISF",
        "outputId": "b8acfe7f-920d-4b1d-d915-a1e70035e1a1"
      },
      "source": [
        "pca.explained_variance_ratio_"
      ],
      "execution_count": 186,
      "outputs": [
        {
          "output_type": "execute_result",
          "data": {
            "text/plain": [
              "array([0.14990355, 0.06226945, 0.04463875])"
            ]
          },
          "metadata": {
            "tags": []
          },
          "execution_count": 186
        }
      ]
    },
    {
      "cell_type": "code",
      "metadata": {
        "colab": {
          "base_uri": "https://localhost:8080/",
          "height": 294
        },
        "id": "Ut0_r52z5IU_",
        "outputId": "02f17eb6-c946-410f-8d52-66442b533aca"
      },
      "source": [
        "## obtain all the components and plot the cumulatie explained variance with respect to the number of components\n",
        "pca =  PCA().fit(X)\n",
        "plt.plot(np.cumsum(pca.explained_variance_ratio_))\n",
        "plt.title('Cum sum of variance across components')\n",
        "plt.xlabel('number of components')\n",
        "plt.ylabel('cumulative explained variance');"
      ],
      "execution_count": 187,
      "outputs": [
        {
          "output_type": "display_data",
          "data": {
            "image/png": "[encoded data removed]",
            "text/plain": [
              "<Figure size 432x288 with 1 Axes>"
            ]
          },
          "metadata": {
            "tags": [],
            "needs_background": "light"
          }
        }
      ]
    },
    {
      "cell_type": "markdown",
      "metadata": {
        "id": "sjhiXyKcxXCm"
      },
      "source": [
        "Après avoir tracé la somme cumulée de la variance sur le nombre de composants, pour obtenir une variance de 90%, nous devrions utiliser au moins 150 caractéristiques, ce qui est très proche de notre taille réelle. Nous ne procédons pas à une réduction de dimensionnalité maintenant."
      ]
    },
    {
      "cell_type": "markdown",
      "metadata": {
        "id": "-syVMIxuxhPR"
      },
      "source": [
        "#Feature Selection using various ML models"
      ]
    },
    {
      "cell_type": "markdown",
      "metadata": {
        "id": "QpKvcJs0x3XJ"
      },
      "source": [
        "**Linear regression with lasso**"
      ]
    },
    {
      "cell_type": "code",
      "metadata": {
        "colab": {
          "base_uri": "https://localhost:8080/"
        },
        "id": "hjn8nR6zx2dB",
        "outputId": "6864c1bb-9595-4410-9002-a8e6527037d8"
      },
      "source": [
        "reg = LassoCV(cv=5, random_state=0).fit(X, y)\n",
        "reg.score(X, y)\n"
      ],
      "execution_count": 188,
      "outputs": [
        {
          "output_type": "execute_result",
          "data": {
            "text/plain": [
              "0.5965747545748417"
            ]
          },
          "metadata": {
            "tags": []
          },
          "execution_count": 188
        }
      ]
    },
    {
      "cell_type": "code",
      "metadata": {
        "id": "XhdHn1Yy5IXM",
        "colab": {
          "base_uri": "https://localhost:8080/"
        },
        "outputId": "c1e6fe87-596a-4610-8bdb-032ef911ef8b"
      },
      "source": [
        "(reg.coef_)"
      ],
      "execution_count": 189,
      "outputs": [
        {
          "output_type": "execute_result",
          "data": {
            "text/plain": [
              "array([ 9.90411020e-04,  0.00000000e+00, -0.00000000e+00, -0.00000000e+00,\n",
              "       -0.00000000e+00, -0.00000000e+00,  1.84596829e-04, -1.52917390e-03,\n",
              "        1.75697110e-03, -3.21338856e-06, -2.82760029e-03, -1.85547124e-03,\n",
              "       -1.75554551e-03, -0.00000000e+00, -0.00000000e+00,  0.00000000e+00,\n",
              "       -0.00000000e+00, -4.79959908e-03, -2.97653480e-04, -9.42392351e-05,\n",
              "       -0.00000000e+00, -7.55854043e-03,  0.00000000e+00,  0.00000000e+00,\n",
              "        0.00000000e+00, -4.02533027e-04, -0.00000000e+00, -5.78356251e-04,\n",
              "       -5.85993672e-03, -0.00000000e+00,  0.00000000e+00,  0.00000000e+00,\n",
              "        0.00000000e+00, -0.00000000e+00,  5.77337564e-03,  0.00000000e+00,\n",
              "       -1.61328455e-03, -2.76147308e-03, -0.00000000e+00, -0.00000000e+00,\n",
              "       -3.18649379e-03, -2.12445384e-03,  0.00000000e+00, -0.00000000e+00,\n",
              "       -0.00000000e+00, -5.68753858e-04, -0.00000000e+00,  0.00000000e+00,\n",
              "       -0.00000000e+00, -1.10139329e-03, -0.00000000e+00,  0.00000000e+00,\n",
              "       -0.00000000e+00,  0.00000000e+00, -3.03169180e-03,  0.00000000e+00,\n",
              "        0.00000000e+00,  0.00000000e+00,  2.30298240e-03,  0.00000000e+00,\n",
              "       -2.61908619e-04, -0.00000000e+00, -1.95904295e-03,  0.00000000e+00,\n",
              "       -0.00000000e+00, -0.00000000e+00,  0.00000000e+00,  0.00000000e+00,\n",
              "        0.00000000e+00, -0.00000000e+00,  0.00000000e+00,  4.53352270e-03,\n",
              "        0.00000000e+00,  0.00000000e+00, -0.00000000e+00, -0.00000000e+00,\n",
              "       -6.40082907e-04, -0.00000000e+00, -3.28513633e-03, -0.00000000e+00,\n",
              "       -0.00000000e+00, -0.00000000e+00,  0.00000000e+00,  9.78613927e-04,\n",
              "       -0.00000000e+00, -3.70130619e-03,  0.00000000e+00, -2.60053706e-03,\n",
              "        0.00000000e+00, -0.00000000e+00, -6.30185793e-05, -1.43972916e-07,\n",
              "       -0.00000000e+00, -0.00000000e+00, -0.00000000e+00, -0.00000000e+00,\n",
              "        0.00000000e+00, -6.12193706e-04,  0.00000000e+00,  0.00000000e+00,\n",
              "        0.00000000e+00, -0.00000000e+00, -0.00000000e+00,  0.00000000e+00,\n",
              "        0.00000000e+00,  0.00000000e+00, -0.00000000e+00, -0.00000000e+00,\n",
              "       -0.00000000e+00, -0.00000000e+00, -0.00000000e+00, -0.00000000e+00,\n",
              "       -0.00000000e+00,  0.00000000e+00,  0.00000000e+00, -0.00000000e+00,\n",
              "       -0.00000000e+00,  0.00000000e+00, -0.00000000e+00,  0.00000000e+00,\n",
              "        0.00000000e+00,  0.00000000e+00, -0.00000000e+00,  0.00000000e+00,\n",
              "        0.00000000e+00,  0.00000000e+00, -0.00000000e+00,  0.00000000e+00,\n",
              "       -0.00000000e+00, -0.00000000e+00,  0.00000000e+00,  0.00000000e+00,\n",
              "       -4.66308925e-04, -0.00000000e+00, -0.00000000e+00, -0.00000000e+00,\n",
              "       -0.00000000e+00, -0.00000000e+00, -0.00000000e+00, -0.00000000e+00,\n",
              "       -0.00000000e+00, -0.00000000e+00, -9.02058263e-04,  0.00000000e+00,\n",
              "       -0.00000000e+00, -0.00000000e+00, -4.57672965e-03, -0.00000000e+00,\n",
              "       -0.00000000e+00,  0.00000000e+00,  0.00000000e+00,  2.07148102e-03,\n",
              "        0.00000000e+00, -0.00000000e+00, -0.00000000e+00,  0.00000000e+00,\n",
              "        0.00000000e+00, -7.60850819e-04, -0.00000000e+00, -0.00000000e+00,\n",
              "       -0.00000000e+00, -0.00000000e+00, -0.00000000e+00, -0.00000000e+00,\n",
              "        0.00000000e+00,  0.00000000e+00,  3.76524065e-03,  0.00000000e+00,\n",
              "        0.00000000e+00, -0.00000000e+00, -0.00000000e+00, -0.00000000e+00,\n",
              "       -0.00000000e+00,  0.00000000e+00,  0.00000000e+00,  0.00000000e+00,\n",
              "        0.00000000e+00, -0.00000000e+00, -0.00000000e+00,  7.01373449e-05,\n",
              "       -1.32479703e-03,  2.95373713e-04,  0.00000000e+00, -0.00000000e+00,\n",
              "       -0.00000000e+00,  2.53981545e-03,  0.00000000e+00, -3.00918922e-03,\n",
              "        6.88814131e-03,  0.00000000e+00,  0.00000000e+00, -3.66839797e-04,\n",
              "        0.00000000e+00, -0.00000000e+00,  0.00000000e+00,  0.00000000e+00,\n",
              "       -0.00000000e+00,  0.00000000e+00, -0.00000000e+00, -0.00000000e+00,\n",
              "        0.00000000e+00,  7.27720578e-04, -0.00000000e+00, -0.00000000e+00,\n",
              "        0.00000000e+00,  0.00000000e+00,  0.00000000e+00, -9.85579872e-05,\n",
              "        0.00000000e+00, -3.31765180e-04,  6.92966623e-03,  2.07982884e-05,\n",
              "        0.00000000e+00, -2.97783113e-03,  0.00000000e+00,  0.00000000e+00,\n",
              "       -0.00000000e+00,  6.94596407e-04,  0.00000000e+00, -0.00000000e+00,\n",
              "        0.00000000e+00, -0.00000000e+00,  1.30787893e-03, -2.92491383e-03,\n",
              "        5.04926216e-03,  0.00000000e+00,  0.00000000e+00, -0.00000000e+00,\n",
              "       -0.00000000e+00, -0.00000000e+00,  0.00000000e+00, -4.86150003e-03,\n",
              "       -0.00000000e+00, -0.00000000e+00,  0.00000000e+00,  0.00000000e+00,\n",
              "        0.00000000e+00, -1.97951104e-03, -0.00000000e+00,  0.00000000e+00,\n",
              "       -1.08954335e-03, -0.00000000e+00, -0.00000000e+00,  1.04303407e-02,\n",
              "        0.00000000e+00,  2.48091850e-03, -0.00000000e+00, -0.00000000e+00,\n",
              "        0.00000000e+00,  0.00000000e+00,  0.00000000e+00, -0.00000000e+00,\n",
              "        0.00000000e+00, -0.00000000e+00, -1.74663631e-03,  2.08191540e-03,\n",
              "        0.00000000e+00,  0.00000000e+00,  0.00000000e+00,  0.00000000e+00,\n",
              "        0.00000000e+00,  0.00000000e+00,  2.60199279e-03,  0.00000000e+00,\n",
              "        0.00000000e+00, -0.00000000e+00,  0.00000000e+00,  0.00000000e+00,\n",
              "       -1.77117655e-03,  0.00000000e+00, -0.00000000e+00,  7.23283037e-03,\n",
              "        0.00000000e+00,  2.69275125e-03,  0.00000000e+00, -0.00000000e+00,\n",
              "        0.00000000e+00,  0.00000000e+00, -1.32895721e-02, -9.49061618e-17,\n",
              "       -0.00000000e+00,  6.71573891e-03,  6.40030532e-09, -0.00000000e+00,\n",
              "       -0.00000000e+00,  1.28730451e-02, -0.00000000e+00, -0.00000000e+00,\n",
              "       -0.00000000e+00,  8.97570583e-03, -4.69714393e-03,  1.49404173e-03,\n",
              "        2.43603059e-02,  8.84668630e-04,  0.00000000e+00,  1.96014061e-03,\n",
              "        0.00000000e+00,  0.00000000e+00,  3.75787781e-02,  1.20871055e-17,\n",
              "       -0.00000000e+00, -0.00000000e+00, -0.00000000e+00, -0.00000000e+00,\n",
              "        6.71151813e-03,  8.24028311e-06,  0.00000000e+00, -3.76448202e-02,\n",
              "       -1.65603367e-02, -0.00000000e+00, -0.00000000e+00,  4.91887295e-02,\n",
              "        9.46485886e-03,  0.00000000e+00, -4.73379631e-03, -1.60379720e-02,\n",
              "       -1.38330208e-16, -0.00000000e+00, -0.00000000e+00, -2.53316168e-02,\n",
              "       -0.00000000e+00, -3.94985307e-03, -4.73566121e-04,  3.56908881e-02,\n",
              "        1.03426249e-03, -0.00000000e+00, -1.70996227e-02,  3.30989436e-03,\n",
              "        0.00000000e+00,  1.08147501e-02,  7.13386814e-03,  0.00000000e+00,\n",
              "       -1.75296672e-02, -6.33726151e-03,  0.00000000e+00,  0.00000000e+00,\n",
              "       -0.00000000e+00,  0.00000000e+00,  2.56149308e-02,  8.80737979e-03,\n",
              "        0.00000000e+00, -2.84616575e-02,  1.17343170e-02,  0.00000000e+00,\n",
              "        8.72394128e-03, -8.02564995e-04,  0.00000000e+00,  0.00000000e+00,\n",
              "       -1.28698195e-02,  0.00000000e+00,  0.00000000e+00, -0.00000000e+00,\n",
              "       -3.15779854e-03, -1.39431330e-02,  0.00000000e+00, -1.78295210e-02,\n",
              "        1.16117982e-01,  3.65580655e-01, -3.40607987e-03, -0.00000000e+00,\n",
              "       -6.29892965e-03, -2.10931341e-02,  1.80158174e-03, -0.00000000e+00,\n",
              "        3.16218697e-04, -1.70453150e-03, -5.82898974e-04])"
            ]
          },
          "metadata": {
            "tags": []
          },
          "execution_count": 189
        }
      ]
    },
    {
      "cell_type": "code",
      "metadata": {
        "id": "efbkI3KxzNnA"
      },
      "source": [
        "coefficients = pd.concat([pd.DataFrame(df.columns),pd.DataFrame(np.transpose(reg.coef_))], axis = 1)"
      ],
      "execution_count": 190,
      "outputs": []
    },
    {
      "cell_type": "code",
      "metadata": {
        "id": "akZhR_mTzWVu"
      },
      "source": [
        "coefficients.columns = ['column','coeff']"
      ],
      "execution_count": 191,
      "outputs": []
    },
    {
      "cell_type": "code",
      "metadata": {
        "colab": {
          "base_uri": "https://localhost:8080/"
        },
        "id": "syFqpdhmzY67",
        "outputId": "fd266367-8b83-4406-e225-73e575fcd4e0"
      },
      "source": [
        "lasso_75 = coefficients.sort_values('coeff',ascending = False).head(75)\n",
        "features_lasso = list(lasso_75.column)\n",
        "features_lasso[:21]"
      ],
      "execution_count": 192,
      "outputs": [
        {
          "output_type": "execute_result",
          "data": {
            "text/plain": [
              "['LBXGLU',\n",
              " 'WTSAF2YR',\n",
              " 'LBXSNASI',\n",
              " 'LBXSGB',\n",
              " 'LBXSUA',\n",
              " 'LBXHCT',\n",
              " 'LBXSBU',\n",
              " 'LBXSATSI',\n",
              " 'LBXRDW',\n",
              " 'LBXEOPCT',\n",
              " 'OHX23CTC',\n",
              " 'LBXSTB',\n",
              " 'LBXSAPSI',\n",
              " 'LBXMCVSI',\n",
              " 'LBXMPSI',\n",
              " 'OHX29SE',\n",
              " 'LBXBAPCT',\n",
              " 'OHX19TC',\n",
              " 'LUXCPIQR',\n",
              " 'URXUCR',\n",
              " 'LBXSIR']"
            ]
          },
          "metadata": {
            "tags": []
          },
          "execution_count": 192
        }
      ]
    },
    {
      "cell_type": "markdown",
      "metadata": {
        "id": "8kWdigBTzyJo"
      },
      "source": [
        "**Random forests for predicting top 25 features**"
      ]
    },
    {
      "cell_type": "code",
      "metadata": {
        "colab": {
          "base_uri": "https://localhost:8080/"
        },
        "id": "1hwEMjdgz0Cr",
        "outputId": "a76bc698-9a85-479c-b687-0948eaa3d0ff"
      },
      "source": [
        "param_grid = dict()\n",
        "clf = RandomForestClassifier(n_estimators=500, random_state=0)\n",
        "grid_search = GridSearchCV(clf, param_grid=param_grid, verbose=3,scoring='accuracy').fit(X, list(y))"
      ],
      "execution_count": 193,
      "outputs": [
        {
          "output_type": "stream",
          "text": [
            "Fitting 5 folds for each of 1 candidates, totalling 5 fits\n",
            "[CV]  ................................................................\n"
          ],
          "name": "stdout"
        },
        {
          "output_type": "stream",
          "text": [
            "[Parallel(n_jobs=1)]: Using backend SequentialBackend with 1 concurrent workers.\n"
          ],
          "name": "stderr"
        },
        {
          "output_type": "stream",
          "text": [
            "[CV] .................................... , score=0.994, total=  14.6s\n",
            "[CV]  ................................................................\n"
          ],
          "name": "stdout"
        },
        {
          "output_type": "stream",
          "text": [
            "[Parallel(n_jobs=1)]: Done   1 out of   1 | elapsed:   14.6s remaining:    0.0s\n"
          ],
          "name": "stderr"
        },
        {
          "output_type": "stream",
          "text": [
            "[CV] .................................... , score=0.989, total=  14.7s\n",
            "[CV]  ................................................................\n"
          ],
          "name": "stdout"
        },
        {
          "output_type": "stream",
          "text": [
            "[Parallel(n_jobs=1)]: Done   2 out of   2 | elapsed:   29.3s remaining:    0.0s\n"
          ],
          "name": "stderr"
        },
        {
          "output_type": "stream",
          "text": [
            "[CV] .................................... , score=0.994, total=  14.9s\n",
            "[CV]  ................................................................\n",
            "[CV] .................................... , score=0.991, total=  14.7s\n",
            "[CV]  ................................................................\n",
            "[CV] .................................... , score=0.991, total=  14.6s\n"
          ],
          "name": "stdout"
        },
        {
          "output_type": "stream",
          "text": [
            "[Parallel(n_jobs=1)]: Done   5 out of   5 | elapsed:  1.2min finished\n"
          ],
          "name": "stderr"
        }
      ]
    },
    {
      "cell_type": "code",
      "metadata": {
        "colab": {
          "base_uri": "https://localhost:8080/"
        },
        "id": "6jfpgbSXz0MO",
        "outputId": "3135ca3a-262c-4ca7-c08c-aa700c6f535b"
      },
      "source": [
        "clf = grid_search.best_estimator_\n",
        "clf.fit(X,list(y))"
      ],
      "execution_count": 194,
      "outputs": [
        {
          "output_type": "execute_result",
          "data": {
            "text/plain": [
              "RandomForestClassifier(bootstrap=True, ccp_alpha=0.0, class_weight=None,\n",
              "                       criterion='gini', max_depth=None, max_features='auto',\n",
              "                       max_leaf_nodes=None, max_samples=None,\n",
              "                       min_impurity_decrease=0.0, min_impurity_split=None,\n",
              "                       min_samples_leaf=1, min_samples_split=2,\n",
              "                       min_weight_fraction_leaf=0.0, n_estimators=500,\n",
              "                       n_jobs=None, oob_score=False, random_state=0, verbose=0,\n",
              "                       warm_start=False)"
            ]
          },
          "metadata": {
            "tags": []
          },
          "execution_count": 194
        }
      ]
    },
    {
      "cell_type": "code",
      "metadata": {
        "id": "77emsYb_z0O7"
      },
      "source": [
        "d = {}\n",
        "for feature in zip(df.columns,clf.feature_importances_):\n",
        "    d[feature[0]]=feature[1]\n",
        "    \n",
        "\n",
        "sorted_d = sorted(d.items(), key=operator.itemgetter(1),reverse=True)\n",
        "dic = sorted_d[:75]\n",
        "lst_rf = list(zip(*dic))"
      ],
      "execution_count": 195,
      "outputs": []
    },
    {
      "cell_type": "code",
      "metadata": {
        "colab": {
          "base_uri": "https://localhost:8080/"
        },
        "id": "s_iodfTKz0Rv",
        "outputId": "85dc0b50-9ada-4801-d7b2-4418f9244625"
      },
      "source": [
        "features_rf = lst_rf[0]\n",
        "features_rf[:25]"
      ],
      "execution_count": 196,
      "outputs": [
        {
          "output_type": "execute_result",
          "data": {
            "text/plain": [
              "('LBXGLU',\n",
              " 'WTSAF2YR',\n",
              " 'LBXSGL',\n",
              " 'LBDSGLSI',\n",
              " 'LBXGH',\n",
              " 'LBXSGTSI',\n",
              " 'LBXHCT',\n",
              " 'LBDSUASI',\n",
              " 'LBXSTR',\n",
              " 'LBXSUA',\n",
              " 'LBXSOSSI',\n",
              " 'LBXSPH',\n",
              " 'LBDSPHSI',\n",
              " 'LBXSATSI',\n",
              " 'LBDSTRSI',\n",
              " 'LBXRBCSI',\n",
              " 'LBXSF6SI',\n",
              " 'LBXSCK',\n",
              " 'LBXHGB',\n",
              " 'LBXWBCSI',\n",
              " 'LBXSIR',\n",
              " 'URDACT',\n",
              " 'LBDSIRSI',\n",
              " 'LBDLYMNO',\n",
              " 'LBXBCO')"
            ]
          },
          "metadata": {
            "tags": []
          },
          "execution_count": 196
        }
      ]
    },
    {
      "cell_type": "markdown",
      "metadata": {
        "id": "xcN0h_sP1BN7"
      },
      "source": [
        "**Using complex wrapper methods- RandomForests with Boruta**"
      ]
    },
    {
      "cell_type": "markdown",
      "metadata": {
        "id": "q73QKjje1K-O"
      },
      "source": [
        "Modifying the random forests using Boruta. This is a good model for categorical features as 70% of our features are categorical. For each iteration, Boruta goes through the features and either accept or reject them.!!!!!!!!!!!!!!!!"
      ]
    },
    {
      "cell_type": "code",
      "metadata": {
        "colab": {
          "base_uri": "https://localhost:8080/"
        },
        "id": "f8cSsugT2D5g",
        "outputId": "069c1cff-b1c4-47e1-de18-b87f98eb8b80"
      },
      "source": [
        "pip install Boruta"
      ],
      "execution_count": 197,
      "outputs": [
        {
          "output_type": "stream",
          "text": [
            "Requirement already satisfied: Boruta in /usr/local/lib/python3.7/dist-packages (0.3)\n",
            "Requirement already satisfied: scipy>=0.17.0 in /usr/local/lib/python3.7/dist-packages (from Boruta) (1.4.1)\n",
            "Requirement already satisfied: numpy>=1.10.4 in /usr/local/lib/python3.7/dist-packages (from Boruta) (1.19.5)\n",
            "Requirement already satisfied: scikit-learn>=0.17.1 in /usr/local/lib/python3.7/dist-packages (from Boruta) (0.22.2.post1)\n",
            "Requirement already satisfied: joblib>=0.11 in /usr/local/lib/python3.7/dist-packages (from scikit-learn>=0.17.1->Boruta) (1.0.1)\n"
          ],
          "name": "stdout"
        }
      ]
    },
    {
      "cell_type": "code",
      "metadata": {
        "id": "pdUMiIdc2FRO"
      },
      "source": [
        "from boruta import BorutaPy"
      ],
      "execution_count": 198,
      "outputs": []
    },
    {
      "cell_type": "code",
      "metadata": {
        "id": "l_WY03nv2l-V"
      },
      "source": [
        "import imp\n",
        "import sys"
      ],
      "execution_count": 199,
      "outputs": []
    },
    {
      "cell_type": "code",
      "metadata": {
        "colab": {
          "base_uri": "https://localhost:8080/"
        },
        "id": "LXQFJnKR04f2",
        "outputId": "e4457be2-cab6-4f5c-99ca-e80281ae0751"
      },
      "source": [
        "rfc = RandomForestClassifier(n_estimators=15, n_jobs=4, class_weight='balanced', max_depth=6)\n",
        "boruta_selector = BorutaPy(rfc, n_estimators='auto', verbose=2)\n",
        "df2 = df.drop(labels = ['Diabetes','LBXGLU','DIQ010','SEQN','DIQ160'],axis=1)\n",
        "\n",
        "x=df2.values\n",
        "boruta_selector.fit(x,list(df['Diabetes'].values))\n",
        "print (boruta_selector.n_features_)"
      ],
      "execution_count": 202,
      "outputs": [
        {
          "output_type": "stream",
          "text": [
            "Iteration: \t1 / 100\n",
            "Confirmed: \t0\n",
            "Tentative: \t366\n",
            "Rejected: \t0\n",
            "Iteration: \t2 / 100\n",
            "Confirmed: \t0\n",
            "Tentative: \t366\n",
            "Rejected: \t0\n",
            "Iteration: \t3 / 100\n",
            "Confirmed: \t0\n",
            "Tentative: \t366\n",
            "Rejected: \t0\n",
            "Iteration: \t4 / 100\n",
            "Confirmed: \t0\n",
            "Tentative: \t366\n",
            "Rejected: \t0\n",
            "Iteration: \t5 / 100\n",
            "Confirmed: \t0\n",
            "Tentative: \t366\n",
            "Rejected: \t0\n",
            "Iteration: \t6 / 100\n",
            "Confirmed: \t0\n",
            "Tentative: \t366\n",
            "Rejected: \t0\n",
            "Iteration: \t7 / 100\n",
            "Confirmed: \t0\n",
            "Tentative: \t366\n",
            "Rejected: \t0\n",
            "Iteration: \t8 / 100\n",
            "Confirmed: \t63\n",
            "Tentative: \t6\n",
            "Rejected: \t297\n",
            "Iteration: \t9 / 100\n",
            "Confirmed: \t63\n",
            "Tentative: \t6\n",
            "Rejected: \t297\n",
            "Iteration: \t10 / 100\n",
            "Confirmed: \t63\n",
            "Tentative: \t6\n",
            "Rejected: \t297\n",
            "Iteration: \t11 / 100\n",
            "Confirmed: \t63\n",
            "Tentative: \t6\n",
            "Rejected: \t297\n",
            "Iteration: \t12 / 100\n",
            "Confirmed: \t63\n",
            "Tentative: \t6\n",
            "Rejected: \t297\n",
            "Iteration: \t13 / 100\n",
            "Confirmed: \t63\n",
            "Tentative: \t6\n",
            "Rejected: \t297\n",
            "Iteration: \t14 / 100\n",
            "Confirmed: \t63\n",
            "Tentative: \t6\n",
            "Rejected: \t297\n",
            "Iteration: \t15 / 100\n",
            "Confirmed: \t63\n",
            "Tentative: \t5\n",
            "Rejected: \t298\n",
            "Iteration: \t16 / 100\n",
            "Confirmed: \t63\n",
            "Tentative: \t5\n",
            "Rejected: \t298\n",
            "Iteration: \t17 / 100\n",
            "Confirmed: \t63\n",
            "Tentative: \t5\n",
            "Rejected: \t298\n",
            "Iteration: \t18 / 100\n",
            "Confirmed: \t63\n",
            "Tentative: \t5\n",
            "Rejected: \t298\n",
            "Iteration: \t19 / 100\n",
            "Confirmed: \t63\n",
            "Tentative: \t5\n",
            "Rejected: \t298\n",
            "Iteration: \t20 / 100\n",
            "Confirmed: \t63\n",
            "Tentative: \t3\n",
            "Rejected: \t300\n",
            "Iteration: \t21 / 100\n",
            "Confirmed: \t63\n",
            "Tentative: \t3\n",
            "Rejected: \t300\n",
            "Iteration: \t22 / 100\n",
            "Confirmed: \t63\n",
            "Tentative: \t3\n",
            "Rejected: \t300\n",
            "Iteration: \t23 / 100\n",
            "Confirmed: \t63\n",
            "Tentative: \t3\n",
            "Rejected: \t300\n",
            "Iteration: \t24 / 100\n",
            "Confirmed: \t63\n",
            "Tentative: \t3\n",
            "Rejected: \t300\n",
            "Iteration: \t25 / 100\n",
            "Confirmed: \t63\n",
            "Tentative: \t3\n",
            "Rejected: \t300\n",
            "Iteration: \t26 / 100\n",
            "Confirmed: \t63\n",
            "Tentative: \t3\n",
            "Rejected: \t300\n",
            "Iteration: \t27 / 100\n",
            "Confirmed: \t63\n",
            "Tentative: \t3\n",
            "Rejected: \t300\n",
            "Iteration: \t28 / 100\n",
            "Confirmed: \t63\n",
            "Tentative: \t3\n",
            "Rejected: \t300\n",
            "Iteration: \t29 / 100\n",
            "Confirmed: \t63\n",
            "Tentative: \t3\n",
            "Rejected: \t300\n",
            "Iteration: \t30 / 100\n",
            "Confirmed: \t63\n",
            "Tentative: \t3\n",
            "Rejected: \t300\n",
            "Iteration: \t31 / 100\n",
            "Confirmed: \t63\n",
            "Tentative: \t3\n",
            "Rejected: \t300\n",
            "Iteration: \t32 / 100\n",
            "Confirmed: \t63\n",
            "Tentative: \t3\n",
            "Rejected: \t300\n",
            "Iteration: \t33 / 100\n",
            "Confirmed: \t63\n",
            "Tentative: \t3\n",
            "Rejected: \t300\n",
            "Iteration: \t34 / 100\n",
            "Confirmed: \t63\n",
            "Tentative: \t3\n",
            "Rejected: \t300\n",
            "Iteration: \t35 / 100\n",
            "Confirmed: \t63\n",
            "Tentative: \t3\n",
            "Rejected: \t300\n",
            "Iteration: \t36 / 100\n",
            "Confirmed: \t63\n",
            "Tentative: \t3\n",
            "Rejected: \t300\n",
            "Iteration: \t37 / 100\n",
            "Confirmed: \t63\n",
            "Tentative: \t3\n",
            "Rejected: \t300\n",
            "Iteration: \t38 / 100\n",
            "Confirmed: \t63\n",
            "Tentative: \t3\n",
            "Rejected: \t300\n",
            "Iteration: \t39 / 100\n",
            "Confirmed: \t63\n",
            "Tentative: \t3\n",
            "Rejected: \t300\n",
            "Iteration: \t40 / 100\n",
            "Confirmed: \t63\n",
            "Tentative: \t3\n",
            "Rejected: \t300\n",
            "Iteration: \t41 / 100\n",
            "Confirmed: \t63\n",
            "Tentative: \t3\n",
            "Rejected: \t300\n",
            "Iteration: \t42 / 100\n",
            "Confirmed: \t63\n",
            "Tentative: \t3\n",
            "Rejected: \t300\n",
            "Iteration: \t43 / 100\n",
            "Confirmed: \t63\n",
            "Tentative: \t3\n",
            "Rejected: \t300\n",
            "Iteration: \t44 / 100\n",
            "Confirmed: \t63\n",
            "Tentative: \t3\n",
            "Rejected: \t300\n",
            "Iteration: \t45 / 100\n",
            "Confirmed: \t63\n",
            "Tentative: \t3\n",
            "Rejected: \t300\n",
            "Iteration: \t46 / 100\n",
            "Confirmed: \t63\n",
            "Tentative: \t3\n",
            "Rejected: \t300\n",
            "Iteration: \t47 / 100\n",
            "Confirmed: \t63\n",
            "Tentative: \t3\n",
            "Rejected: \t300\n",
            "Iteration: \t48 / 100\n",
            "Confirmed: \t63\n",
            "Tentative: \t3\n",
            "Rejected: \t300\n",
            "Iteration: \t49 / 100\n",
            "Confirmed: \t63\n",
            "Tentative: \t2\n",
            "Rejected: \t301\n",
            "Iteration: \t50 / 100\n",
            "Confirmed: \t63\n",
            "Tentative: \t2\n",
            "Rejected: \t301\n",
            "Iteration: \t51 / 100\n",
            "Confirmed: \t63\n",
            "Tentative: \t2\n",
            "Rejected: \t301\n",
            "Iteration: \t52 / 100\n",
            "Confirmed: \t63\n",
            "Tentative: \t2\n",
            "Rejected: \t301\n",
            "Iteration: \t53 / 100\n",
            "Confirmed: \t63\n",
            "Tentative: \t2\n",
            "Rejected: \t301\n",
            "Iteration: \t54 / 100\n",
            "Confirmed: \t63\n",
            "Tentative: \t2\n",
            "Rejected: \t301\n",
            "Iteration: \t55 / 100\n",
            "Confirmed: \t63\n",
            "Tentative: \t2\n",
            "Rejected: \t301\n",
            "Iteration: \t56 / 100\n",
            "Confirmed: \t63\n",
            "Tentative: \t2\n",
            "Rejected: \t301\n",
            "Iteration: \t57 / 100\n",
            "Confirmed: \t63\n",
            "Tentative: \t2\n",
            "Rejected: \t301\n",
            "Iteration: \t58 / 100\n",
            "Confirmed: \t63\n",
            "Tentative: \t2\n",
            "Rejected: \t301\n",
            "Iteration: \t59 / 100\n",
            "Confirmed: \t63\n",
            "Tentative: \t2\n",
            "Rejected: \t301\n",
            "Iteration: \t60 / 100\n",
            "Confirmed: \t63\n",
            "Tentative: \t2\n",
            "Rejected: \t301\n",
            "Iteration: \t61 / 100\n",
            "Confirmed: \t63\n",
            "Tentative: \t2\n",
            "Rejected: \t301\n",
            "Iteration: \t62 / 100\n",
            "Confirmed: \t63\n",
            "Tentative: \t2\n",
            "Rejected: \t301\n",
            "Iteration: \t63 / 100\n",
            "Confirmed: \t63\n",
            "Tentative: \t2\n",
            "Rejected: \t301\n",
            "Iteration: \t64 / 100\n",
            "Confirmed: \t63\n",
            "Tentative: \t2\n",
            "Rejected: \t301\n",
            "Iteration: \t65 / 100\n",
            "Confirmed: \t63\n",
            "Tentative: \t2\n",
            "Rejected: \t301\n",
            "Iteration: \t66 / 100\n",
            "Confirmed: \t63\n",
            "Tentative: \t2\n",
            "Rejected: \t301\n",
            "Iteration: \t67 / 100\n",
            "Confirmed: \t63\n",
            "Tentative: \t2\n",
            "Rejected: \t301\n",
            "Iteration: \t68 / 100\n",
            "Confirmed: \t63\n",
            "Tentative: \t2\n",
            "Rejected: \t301\n",
            "Iteration: \t69 / 100\n",
            "Confirmed: \t63\n",
            "Tentative: \t2\n",
            "Rejected: \t301\n",
            "Iteration: \t70 / 100\n",
            "Confirmed: \t63\n",
            "Tentative: \t2\n",
            "Rejected: \t301\n",
            "Iteration: \t71 / 100\n",
            "Confirmed: \t63\n",
            "Tentative: \t2\n",
            "Rejected: \t301\n",
            "Iteration: \t72 / 100\n",
            "Confirmed: \t63\n",
            "Tentative: \t2\n",
            "Rejected: \t301\n",
            "Iteration: \t73 / 100\n",
            "Confirmed: \t63\n",
            "Tentative: \t2\n",
            "Rejected: \t301\n",
            "Iteration: \t74 / 100\n",
            "Confirmed: \t63\n",
            "Tentative: \t2\n",
            "Rejected: \t301\n",
            "Iteration: \t75 / 100\n",
            "Confirmed: \t63\n",
            "Tentative: \t2\n",
            "Rejected: \t301\n",
            "Iteration: \t76 / 100\n",
            "Confirmed: \t63\n",
            "Tentative: \t2\n",
            "Rejected: \t301\n",
            "Iteration: \t77 / 100\n",
            "Confirmed: \t63\n",
            "Tentative: \t2\n",
            "Rejected: \t301\n",
            "Iteration: \t78 / 100\n",
            "Confirmed: \t63\n",
            "Tentative: \t2\n",
            "Rejected: \t301\n",
            "Iteration: \t79 / 100\n",
            "Confirmed: \t63\n",
            "Tentative: \t2\n",
            "Rejected: \t301\n",
            "Iteration: \t80 / 100\n",
            "Confirmed: \t63\n",
            "Tentative: \t2\n",
            "Rejected: \t301\n",
            "Iteration: \t81 / 100\n",
            "Confirmed: \t63\n",
            "Tentative: \t2\n",
            "Rejected: \t301\n",
            "Iteration: \t82 / 100\n",
            "Confirmed: \t63\n",
            "Tentative: \t2\n",
            "Rejected: \t301\n",
            "Iteration: \t83 / 100\n",
            "Confirmed: \t63\n",
            "Tentative: \t2\n",
            "Rejected: \t301\n",
            "Iteration: \t84 / 100\n",
            "Confirmed: \t63\n",
            "Tentative: \t2\n",
            "Rejected: \t301\n",
            "Iteration: \t85 / 100\n",
            "Confirmed: \t63\n",
            "Tentative: \t2\n",
            "Rejected: \t301\n",
            "Iteration: \t86 / 100\n",
            "Confirmed: \t63\n",
            "Tentative: \t2\n",
            "Rejected: \t301\n",
            "Iteration: \t87 / 100\n",
            "Confirmed: \t63\n",
            "Tentative: \t2\n",
            "Rejected: \t301\n",
            "Iteration: \t88 / 100\n",
            "Confirmed: \t63\n",
            "Tentative: \t2\n",
            "Rejected: \t301\n",
            "Iteration: \t89 / 100\n",
            "Confirmed: \t63\n",
            "Tentative: \t2\n",
            "Rejected: \t301\n",
            "Iteration: \t90 / 100\n",
            "Confirmed: \t63\n",
            "Tentative: \t2\n",
            "Rejected: \t301\n",
            "Iteration: \t91 / 100\n",
            "Confirmed: \t63\n",
            "Tentative: \t2\n",
            "Rejected: \t301\n",
            "Iteration: \t92 / 100\n",
            "Confirmed: \t63\n",
            "Tentative: \t2\n",
            "Rejected: \t301\n",
            "Iteration: \t93 / 100\n",
            "Confirmed: \t63\n",
            "Tentative: \t2\n",
            "Rejected: \t301\n",
            "Iteration: \t94 / 100\n",
            "Confirmed: \t63\n",
            "Tentative: \t2\n",
            "Rejected: \t301\n",
            "Iteration: \t95 / 100\n",
            "Confirmed: \t63\n",
            "Tentative: \t2\n",
            "Rejected: \t301\n",
            "Iteration: \t96 / 100\n",
            "Confirmed: \t63\n",
            "Tentative: \t2\n",
            "Rejected: \t301\n",
            "Iteration: \t97 / 100\n",
            "Confirmed: \t63\n",
            "Tentative: \t2\n",
            "Rejected: \t301\n",
            "Iteration: \t98 / 100\n",
            "Confirmed: \t63\n",
            "Tentative: \t2\n",
            "Rejected: \t301\n",
            "Iteration: \t99 / 100\n",
            "Confirmed: \t63\n",
            "Tentative: \t2\n",
            "Rejected: \t301\n",
            "\n",
            "\n",
            "BorutaPy finished running.\n",
            "\n",
            "Iteration: \t100 / 100\n",
            "Confirmed: \t63\n",
            "Tentative: \t2\n",
            "Rejected: \t301\n",
            "63\n"
          ],
          "name": "stdout"
        }
      ]
    },
    {
      "cell_type": "code",
      "metadata": {
        "colab": {
          "base_uri": "https://localhost:8080/"
        },
        "id": "lGnZMaCD04ir",
        "outputId": "1ee01a26-ccbe-449e-84a6-facc47667a54"
      },
      "source": [
        "(boruta_selector.ranking_).shape\n",
        "print ('\\n Top %d features:' % boruta_selector.n_features_)\n",
        "df_boruta = df2.head(boruta_selector.n_features_)\n",
        "features_boruta = df_boruta.columns"
      ],
      "execution_count": 203,
      "outputs": [
        {
          "output_type": "stream",
          "text": [
            "\n",
            " Top 63 features:\n"
          ],
          "name": "stdout"
        }
      ]
    },
    {
      "cell_type": "code",
      "metadata": {
        "colab": {
          "base_uri": "https://localhost:8080/"
        },
        "id": "sVcL_Z0O04lx",
        "outputId": "189eae42-6e42-40bb-d75d-bb19373efad4"
      },
      "source": [
        "boruta_selector.ranking_"
      ],
      "execution_count": 204,
      "outputs": [
        {
          "output_type": "execute_result",
          "data": {
            "text/plain": [
              "array([248, 207,  19, 160, 117, 209, 221, 247, 172, 158, 260, 261, 275,\n",
              "       252, 289, 270, 291, 294, 285, 133, 104, 178, 174, 155, 238, 170,\n",
              "       186, 191, 195,   2,   5, 219, 100,  83, 107,  37, 255,  21,  10,\n",
              "        23,   8,  12,  25,  14,  26, 295, 209,  36, 290, 299, 143,  34,\n",
              "        17, 299,  11,  27, 286,  46,  24, 292, 245, 284, 152, 144, 133,\n",
              "       141, 132, 122, 122,  59, 109, 242, 283, 129, 163, 119, 126,  98,\n",
              "       146, 135, 137, 131, 140, 138, 128, 175, 267,  43,  49,  27, 265,\n",
              "        71,  90,  54,  81,  48, 194,  89,  13,  56, 193,  49,  70,  55,\n",
              "        62,  30, 205,  51,  53,  91, 197,  97, 113, 130, 120,  42, 258,\n",
              "        65,  63,  77, 209,  52,  93,  96, 102,  37, 182,  69,  91,  85,\n",
              "       181,  73, 109, 125, 113,  46,   7,  66, 136,  63,  83,  77,  22,\n",
              "        68,  81,  32, 107,  88,  33,  79,  99, 211,  44,  66,  75, 222,\n",
              "        35,  94, 118, 103,  41,  57,  81, 112,  87, 116, 115,  77,  29,\n",
              "        73,  86, 111,  58, 101,  94, 122,  46, 263,   5, 197, 157, 107,\n",
              "       126,  18,  71,  20,  31,   9, 249, 279, 275, 257, 229, 245, 216,\n",
              "       187, 188, 184, 238, 213, 212, 235, 199, 231, 230, 234, 268, 233,\n",
              "       192, 206, 218, 254, 226, 222, 190, 227, 252, 241, 216, 220, 201,\n",
              "       231, 251, 176, 180, 148, 149, 168, 165, 152, 149, 124, 167, 151,\n",
              "       144, 177, 142, 166, 169, 171, 159, 183, 201, 224, 214, 203, 184,\n",
              "       154, 139, 161, 173, 281, 259, 256, 278, 244, 235, 287, 250, 238,\n",
              "       272, 195, 199, 228, 216, 225, 265, 275, 288, 277, 242, 270, 238,\n",
              "       270, 189, 281, 279,   1,   1, 299,   1,   1, 299,   1,   1, 299,\n",
              "         1,   1,   1,   1,   1,   1,   1,   1,   1,   1,   1,   1,   1,\n",
              "         1,   1,   1, 299,   1,   1,   1,   1,   1,   1,   1,   1,   1,\n",
              "         1, 299,   1,   1,   1,   1,   1,   1,   1,   1,   1,   1,   1,\n",
              "         1,   4,   1,   3,  16,   1,  14,   1,  40, 156,   1,   1,   1,\n",
              "         1,   1,   2,   1,   1,   1, 162,  39,  60, 163,   1,   1, 293,\n",
              "       264,   1, 299,   1,   1,   1,   1,   1,  60, 146, 105, 262, 203,\n",
              "       179, 273])"
            ]
          },
          "metadata": {
            "tags": []
          },
          "execution_count": 204
        }
      ]
    },
    {
      "cell_type": "markdown",
      "metadata": {
        "id": "EHQ6WihV5I4B"
      },
      "source": [
        "**Lightbgm**"
      ]
    },
    {
      "cell_type": "markdown",
      "metadata": {
        "id": "Yp3iYy8y5Pa2"
      },
      "source": [
        "LightGBM is one of the best performers for categorical features. This is the reason we are using it for better performance."
      ]
    },
    {
      "cell_type": "code",
      "metadata": {
        "colab": {
          "base_uri": "https://localhost:8080/",
          "height": 311
        },
        "id": "DaFLyvbE5F1S",
        "outputId": "2a483bd6-0ed9-4afc-fbe5-f9033513e2d0"
      },
      "source": [
        "df_new = df.drop(labels = ['Diabetes','LBXGLU','DIQ010','SEQN','DIQ160'], axis=1)\n",
        "ob_vars = df_new.select_dtypes(include=['object'])\n",
        "for i in ob_vars:\n",
        "    df_new[i] = df_new[i].astype(str).astype(float)\n",
        "lbg_cat_vars = list(set(cat_vars)^set(['LBXGLU','DIQ160','DIQ010']))\n",
        "lst = ['LBXGLU','DIQ160','DIQ010']\n",
        "lbg_cat_vars.remove('LBXGLU')\n",
        "d_train = lgb.Dataset(df_new, label=df['Diabetes'])\n",
        "param = {'max_depth': 5, 'learning_rate' : 0.1, 'num_leaves': 900, 'n_estimators': 100}\n",
        "model2 = lgb.train(params=param,train_set=d_train, categorical_feature=lbg_cat_vars)\n",
        "print('Plot feature importances…')\n",
        "ax = lgb.plot_importance(model2, max_num_features=20)\n",
        "plt.show()"
      ],
      "execution_count": 205,
      "outputs": [
        {
          "output_type": "stream",
          "text": [
            "Plot feature importances…\n"
          ],
          "name": "stdout"
        },
        {
          "output_type": "display_data",
          "data": {
            "image/png": "[encoded data removed]",
            "text/plain": [
              "<Figure size 432x288 with 1 Axes>"
            ]
          },
          "metadata": {
            "tags": [],
            "needs_background": "light"
          }
        }
      ]
    },
    {
      "cell_type": "code",
      "metadata": {
        "id": "zsgeESS05GWJ"
      },
      "source": [
        "lst = []\n",
        "for f in range(len(model2.feature_importance())):\n",
        "    val=list(model2.feature_importance())[f]\n",
        "    if val!=0:\n",
        "        lst.append(list(model2.feature_name())[list(model2.feature_importance()).index(val)])"
      ],
      "execution_count": 211,
      "outputs": []
    },
    {
      "cell_type": "code",
      "metadata": {
        "id": "ZuICd0uE5GfH"
      },
      "source": [
        "features_lgb = list(set(lst))"
      ],
      "execution_count": 212,
      "outputs": []
    },
    {
      "cell_type": "code",
      "metadata": {
        "colab": {
          "base_uri": "https://localhost:8080/"
        },
        "id": "3bm191YZ5Gm6",
        "outputId": "74711742-308b-45d3-9b39-1a9f558fb193"
      },
      "source": [
        "features_lgb"
      ],
      "execution_count": 213,
      "outputs": [
        {
          "output_type": "execute_result",
          "data": {
            "text/plain": [
              "['RIAGENDR',\n",
              " 'DMDHRGND',\n",
              " 'RIDAGEYR',\n",
              " 'SIAINTRP',\n",
              " 'RIDSTATR',\n",
              " 'WTINT2YR',\n",
              " 'DMDBORN4',\n",
              " 'RIDEXMON',\n",
              " 'LBDGLUSI']"
            ]
          },
          "metadata": {
            "tags": []
          },
          "execution_count": 213
        }
      ]
    },
    {
      "cell_type": "markdown",
      "metadata": {
        "id": "DGu9W7XV-Gh-"
      },
      "source": [
        "**Final Selecting features from the above models**"
      ]
    },
    {
      "cell_type": "code",
      "metadata": {
        "id": "beMZic_85Gqa"
      },
      "source": [
        "features = [features_lasso, features_rf, features_boruta, features_lgb]"
      ],
      "execution_count": 214,
      "outputs": []
    },
    {
      "cell_type": "code",
      "metadata": {
        "colab": {
          "base_uri": "https://localhost:8080/"
        },
        "id": "fcQRX2vp5Gtd",
        "outputId": "543baf1a-6d4a-4634-cd60-66104268d182"
      },
      "source": [
        "set(features_boruta).intersection(features_lgb)"
      ],
      "execution_count": 215,
      "outputs": [
        {
          "output_type": "execute_result",
          "data": {
            "text/plain": [
              "{'DMDBORN4',\n",
              " 'DMDHRGND',\n",
              " 'LBDGLUSI',\n",
              " 'RIAGENDR',\n",
              " 'RIDAGEYR',\n",
              " 'RIDEXMON',\n",
              " 'RIDSTATR',\n",
              " 'SIAINTRP',\n",
              " 'WTINT2YR'}"
            ]
          },
          "metadata": {
            "tags": []
          },
          "execution_count": 215
        }
      ]
    },
    {
      "cell_type": "code",
      "metadata": {
        "id": "tVU7hBLj_IsD"
      },
      "source": [
        "list(set(features_boruta).intersection(features_lgb))\n",
        "selected_features= ['DMDBORN4',\n",
        " 'DMDHRGND',\n",
        " 'LBDGLUSI',\n",
        " 'RIAGENDR',\n",
        " 'RIDAGEYR',\n",
        " 'RIDEXMON',\n",
        " 'RIDSTATR',\n",
        " 'SIAINTRP',\n",
        " 'WTINT2YR']"
      ],
      "execution_count": 216,
      "outputs": []
    },
    {
      "cell_type": "code",
      "metadata": {
        "id": "n5uZbZj3_MaQ"
      },
      "source": [
        "selected_features.append('Diabetes')\n",
        "selected_features.append('SEQN')\n",
        "df_model = df[selected_features]"
      ],
      "execution_count": 217,
      "outputs": []
    },
    {
      "cell_type": "code",
      "metadata": {
        "colab": {
          "base_uri": "https://localhost:8080/",
          "height": 419
        },
        "id": "WuPN9HlcIXrH",
        "outputId": "7d495f83-53a2-4f8b-a5ee-3aa2caacaac5"
      },
      "source": [
        "df_model"
      ],
      "execution_count": 218,
      "outputs": [
        {
          "output_type": "execute_result",
          "data": {
            "text/html": [
              "<div>\n",
              "<style scoped>\n",
              "    .dataframe tbody tr th:only-of-type {\n",
              "        vertical-align: middle;\n",
              "    }\n",
              "\n",
              "    .dataframe tbody tr th {\n",
              "        vertical-align: top;\n",
              "    }\n",
              "\n",
              "    .dataframe thead th {\n",
              "        text-align: right;\n",
              "    }\n",
              "</style>\n",
              "<table border=\"1\" class=\"dataframe\">\n",
              "  <thead>\n",
              "    <tr style=\"text-align: right;\">\n",
              "      <th></th>\n",
              "      <th>DMDBORN4</th>\n",
              "      <th>DMDHRGND</th>\n",
              "      <th>LBDGLUSI</th>\n",
              "      <th>RIAGENDR</th>\n",
              "      <th>RIDAGEYR</th>\n",
              "      <th>RIDEXMON</th>\n",
              "      <th>RIDSTATR</th>\n",
              "      <th>SIAINTRP</th>\n",
              "      <th>WTINT2YR</th>\n",
              "      <th>Diabetes</th>\n",
              "      <th>SEQN</th>\n",
              "    </tr>\n",
              "  </thead>\n",
              "  <tbody>\n",
              "    <tr>\n",
              "      <th>0</th>\n",
              "      <td>1</td>\n",
              "      <td>1</td>\n",
              "      <td>5.38</td>\n",
              "      <td>2</td>\n",
              "      <td>2</td>\n",
              "      <td>2</td>\n",
              "      <td>2</td>\n",
              "      <td>2</td>\n",
              "      <td>9246.491865</td>\n",
              "      <td>0.0</td>\n",
              "      <td>93703</td>\n",
              "    </tr>\n",
              "    <tr>\n",
              "      <th>1</th>\n",
              "      <td>1</td>\n",
              "      <td>1</td>\n",
              "      <td>5.38</td>\n",
              "      <td>1</td>\n",
              "      <td>2</td>\n",
              "      <td>1</td>\n",
              "      <td>2</td>\n",
              "      <td>2</td>\n",
              "      <td>37338.768343</td>\n",
              "      <td>0.0</td>\n",
              "      <td>93704</td>\n",
              "    </tr>\n",
              "    <tr>\n",
              "      <th>2</th>\n",
              "      <td>1</td>\n",
              "      <td>2</td>\n",
              "      <td>5.38</td>\n",
              "      <td>2</td>\n",
              "      <td>66</td>\n",
              "      <td>2</td>\n",
              "      <td>2</td>\n",
              "      <td>2</td>\n",
              "      <td>8614.571172</td>\n",
              "      <td>0.0</td>\n",
              "      <td>93705</td>\n",
              "    </tr>\n",
              "    <tr>\n",
              "      <th>3</th>\n",
              "      <td>1</td>\n",
              "      <td>1</td>\n",
              "      <td>6.77</td>\n",
              "      <td>1</td>\n",
              "      <td>18</td>\n",
              "      <td>2</td>\n",
              "      <td>2</td>\n",
              "      <td>2</td>\n",
              "      <td>8548.632619</td>\n",
              "      <td>1.0</td>\n",
              "      <td>93706</td>\n",
              "    </tr>\n",
              "    <tr>\n",
              "      <th>4</th>\n",
              "      <td>1</td>\n",
              "      <td>1</td>\n",
              "      <td>5.38</td>\n",
              "      <td>1</td>\n",
              "      <td>13</td>\n",
              "      <td>2</td>\n",
              "      <td>2</td>\n",
              "      <td>2</td>\n",
              "      <td>6769.344567</td>\n",
              "      <td>0.0</td>\n",
              "      <td>93707</td>\n",
              "    </tr>\n",
              "    <tr>\n",
              "      <th>...</th>\n",
              "      <td>...</td>\n",
              "      <td>...</td>\n",
              "      <td>...</td>\n",
              "      <td>...</td>\n",
              "      <td>...</td>\n",
              "      <td>...</td>\n",
              "      <td>...</td>\n",
              "      <td>...</td>\n",
              "      <td>...</td>\n",
              "      <td>...</td>\n",
              "      <td>...</td>\n",
              "    </tr>\n",
              "    <tr>\n",
              "      <th>7931</th>\n",
              "      <td>2</td>\n",
              "      <td>1</td>\n",
              "      <td>8.77</td>\n",
              "      <td>1</td>\n",
              "      <td>80</td>\n",
              "      <td>1</td>\n",
              "      <td>2</td>\n",
              "      <td>1</td>\n",
              "      <td>18600.551309</td>\n",
              "      <td>2.0</td>\n",
              "      <td>101634</td>\n",
              "    </tr>\n",
              "    <tr>\n",
              "      <th>7932</th>\n",
              "      <td>1</td>\n",
              "      <td>2</td>\n",
              "      <td>5.38</td>\n",
              "      <td>2</td>\n",
              "      <td>63</td>\n",
              "      <td>2</td>\n",
              "      <td>2</td>\n",
              "      <td>2</td>\n",
              "      <td>143102.107920</td>\n",
              "      <td>0.0</td>\n",
              "      <td>101635</td>\n",
              "    </tr>\n",
              "    <tr>\n",
              "      <th>7933</th>\n",
              "      <td>2</td>\n",
              "      <td>2</td>\n",
              "      <td>5.22</td>\n",
              "      <td>2</td>\n",
              "      <td>68</td>\n",
              "      <td>1</td>\n",
              "      <td>2</td>\n",
              "      <td>2</td>\n",
              "      <td>6093.208773</td>\n",
              "      <td>0.0</td>\n",
              "      <td>101636</td>\n",
              "    </tr>\n",
              "    <tr>\n",
              "      <th>7934</th>\n",
              "      <td>1</td>\n",
              "      <td>2</td>\n",
              "      <td>5.38</td>\n",
              "      <td>1</td>\n",
              "      <td>0</td>\n",
              "      <td>1</td>\n",
              "      <td>2</td>\n",
              "      <td>2</td>\n",
              "      <td>7756.596064</td>\n",
              "      <td>0.0</td>\n",
              "      <td>101637</td>\n",
              "    </tr>\n",
              "    <tr>\n",
              "      <th>7935</th>\n",
              "      <td>1</td>\n",
              "      <td>1</td>\n",
              "      <td>5.05</td>\n",
              "      <td>1</td>\n",
              "      <td>58</td>\n",
              "      <td>2</td>\n",
              "      <td>2</td>\n",
              "      <td>2</td>\n",
              "      <td>209743.727009</td>\n",
              "      <td>0.0</td>\n",
              "      <td>101638</td>\n",
              "    </tr>\n",
              "  </tbody>\n",
              "</table>\n",
              "<p>7936 rows × 11 columns</p>\n",
              "</div>"
            ],
            "text/plain": [
              "      DMDBORN4  DMDHRGND  LBDGLUSI  ...       WTINT2YR  Diabetes    SEQN\n",
              "0            1         1      5.38  ...    9246.491865       0.0   93703\n",
              "1            1         1      5.38  ...   37338.768343       0.0   93704\n",
              "2            1         2      5.38  ...    8614.571172       0.0   93705\n",
              "3            1         1      6.77  ...    8548.632619       1.0   93706\n",
              "4            1         1      5.38  ...    6769.344567       0.0   93707\n",
              "...        ...       ...       ...  ...            ...       ...     ...\n",
              "7931         2         1      8.77  ...   18600.551309       2.0  101634\n",
              "7932         1         2      5.38  ...  143102.107920       0.0  101635\n",
              "7933         2         2      5.22  ...    6093.208773       0.0  101636\n",
              "7934         1         2      5.38  ...    7756.596064       0.0  101637\n",
              "7935         1         1      5.05  ...  209743.727009       0.0  101638\n",
              "\n",
              "[7936 rows x 11 columns]"
            ]
          },
          "metadata": {
            "tags": []
          },
          "execution_count": 218
        }
      ]
    },
    {
      "cell_type": "code",
      "metadata": {
        "id": "A3ebTANY_QPj"
      },
      "source": [
        "X = X = df_model.drop(labels = ['Diabetes'], axis=1).values\n",
        "y = df['Diabetes'].values\n",
        "X = StandardScaler().fit_transform(X)"
      ],
      "execution_count": 219,
      "outputs": []
    },
    {
      "cell_type": "code",
      "metadata": {
        "id": "AkMj7YR-IQkS"
      },
      "source": [
        ""
      ],
      "execution_count": null,
      "outputs": []
    },
    {
      "cell_type": "markdown",
      "metadata": {
        "id": "OxE7Ub6l_Y1j"
      },
      "source": [
        "Exploratory Data Analysis on selected features"
      ]
    },
    {
      "cell_type": "code",
      "metadata": {
        "colab": {
          "base_uri": "https://localhost:8080/"
        },
        "id": "1s-GQnSn_UjC",
        "outputId": "3ea017ca-4cc3-4695-a790-6c5a504531bf"
      },
      "source": [
        "selected_features"
      ],
      "execution_count": 220,
      "outputs": [
        {
          "output_type": "execute_result",
          "data": {
            "text/plain": [
              "['DMDBORN4',\n",
              " 'DMDHRGND',\n",
              " 'LBDGLUSI',\n",
              " 'RIAGENDR',\n",
              " 'RIDAGEYR',\n",
              " 'RIDEXMON',\n",
              " 'RIDSTATR',\n",
              " 'SIAINTRP',\n",
              " 'WTINT2YR',\n",
              " 'Diabetes',\n",
              " 'SEQN']"
            ]
          },
          "metadata": {
            "tags": []
          },
          "execution_count": 220
        }
      ]
    },
    {
      "cell_type": "code",
      "metadata": {
        "colab": {
          "base_uri": "https://localhost:8080/"
        },
        "id": "gwT3Q8hK_fFr",
        "outputId": "bdbc953a-c528-4bbd-9ce2-d6f38992e524"
      },
      "source": [
        "categorical_features = list(set(selected_features).intersection(cat_vars))\n",
        "print('categorical: ',categorical_features)\n",
        "continuos_features = list(set(selected_features).intersection(num_vars))\n",
        "print('continous: ',continuos_features)"
      ],
      "execution_count": 221,
      "outputs": [
        {
          "output_type": "stream",
          "text": [
            "categorical:  ['RIAGENDR', 'DMDHRGND', 'SIAINTRP', 'RIDSTATR', 'DMDBORN4', 'RIDEXMON']\n",
            "continous:  ['WTINT2YR', 'RIDAGEYR', 'LBDGLUSI', 'SEQN']\n"
          ],
          "name": "stdout"
        }
      ]
    },
    {
      "cell_type": "code",
      "metadata": {
        "colab": {
          "base_uri": "https://localhost:8080/"
        },
        "id": "r4jFmLG4_kcx",
        "outputId": "e23b08ef-addc-48ff-edd4-df5f709acb0e"
      },
      "source": [
        "df_model.info()"
      ],
      "execution_count": 222,
      "outputs": [
        {
          "output_type": "stream",
          "text": [
            "<class 'pandas.core.frame.DataFrame'>\n",
            "Int64Index: 7936 entries, 0 to 7935\n",
            "Data columns (total 11 columns):\n",
            " #   Column    Non-Null Count  Dtype  \n",
            "---  ------    --------------  -----  \n",
            " 0   DMDBORN4  7936 non-null   int64  \n",
            " 1   DMDHRGND  7936 non-null   int64  \n",
            " 2   LBDGLUSI  7936 non-null   float64\n",
            " 3   RIAGENDR  7936 non-null   int64  \n",
            " 4   RIDAGEYR  7936 non-null   int64  \n",
            " 5   RIDEXMON  7936 non-null   int64  \n",
            " 6   RIDSTATR  7936 non-null   int64  \n",
            " 7   SIAINTRP  7936 non-null   int64  \n",
            " 8   WTINT2YR  7936 non-null   float64\n",
            " 9   Diabetes  7936 non-null   float64\n",
            " 10  SEQN      7936 non-null   int64  \n",
            "dtypes: float64(3), int64(8)\n",
            "memory usage: 744.0 KB\n"
          ],
          "name": "stdout"
        }
      ]
    },
    {
      "cell_type": "code",
      "metadata": {
        "colab": {
          "base_uri": "https://localhost:8080/",
          "height": 614
        },
        "id": "EOSJxfbc_oCD",
        "outputId": "d7e56c40-8e59-46ef-8ec0-b73ab63b5249"
      },
      "source": [
        "corr = df_model.corr()\n",
        "plt.figure(figsize=(10,10))\n",
        "plt.title('Correlation matrix')\n",
        "sns.heatmap(corr, xticklabels=corr.columns.values,yticklabels=corr.columns.values, square=True)"
      ],
      "execution_count": 223,
      "outputs": [
        {
          "output_type": "execute_result",
          "data": {
            "text/plain": [
              "<matplotlib.axes._subplots.AxesSubplot at 0x7f417ff9f910>"
            ]
          },
          "metadata": {
            "tags": []
          },
          "execution_count": 223
        },
        {
          "output_type": "display_data",
          "data": {
            "image/png": "[encoded data removed]",
            "text/plain": [
              "<Figure size 720x720 with 2 Axes>"
            ]
          },
          "metadata": {
            "tags": [],
            "needs_background": "light"
          }
        }
      ]
    },
    {
      "cell_type": "markdown",
      "metadata": {
        "id": "7c0aTfF__5TM"
      },
      "source": [
        "#Doing the Test Train split"
      ]
    },
    {
      "cell_type": "code",
      "metadata": {
        "id": "vBYB9o5r_sGC"
      },
      "source": [
        "X_train, X_test, y_train, y_test = train_test_split(X, y, random_state=0)"
      ],
      "execution_count": 224,
      "outputs": []
    },
    {
      "cell_type": "code",
      "metadata": {
        "id": "Dy35GvJqAA_n"
      },
      "source": [
        "df_X = pd.DataFrame(X)\n",
        "df_y = pd.DataFrame(y)"
      ],
      "execution_count": 225,
      "outputs": []
    },
    {
      "cell_type": "code",
      "metadata": {
        "colab": {
          "base_uri": "https://localhost:8080/"
        },
        "id": "ScYQHcbyIxx4",
        "outputId": "73e369c6-13da-4848-8ff6-681a251c3ec8"
      },
      "source": [
        "len(X_train)"
      ],
      "execution_count": 226,
      "outputs": [
        {
          "output_type": "execute_result",
          "data": {
            "text/plain": [
              "5952"
            ]
          },
          "metadata": {
            "tags": []
          },
          "execution_count": 226
        }
      ]
    },
    {
      "cell_type": "code",
      "metadata": {
        "colab": {
          "base_uri": "https://localhost:8080/"
        },
        "id": "LCnmqsI1I1Pm",
        "outputId": "2e2befc8-4712-4c81-d6c2-ee75947e700c"
      },
      "source": [
        "len(X_test)"
      ],
      "execution_count": 227,
      "outputs": [
        {
          "output_type": "execute_result",
          "data": {
            "text/plain": [
              "1984"
            ]
          },
          "metadata": {
            "tags": []
          },
          "execution_count": 227
        }
      ]
    },
    {
      "cell_type": "code",
      "metadata": {
        "colab": {
          "base_uri": "https://localhost:8080/",
          "height": 370
        },
        "id": "emuSbYzfAIXB",
        "outputId": "a68d45fb-57c2-4dec-b5ba-48ebdcadccc8"
      },
      "source": [
        "plt.figure(figsize=(5,5))\n",
        "plt.title('Value counts for the output Diabetes variable before class balancing')\n",
        "plt.xlabel('Output class')\n",
        "plt.ylabel('Number of counts in each class')\n",
        "pd.value_counts(df_y[0]).plot(kind=\"bar\")"
      ],
      "execution_count": 228,
      "outputs": [
        {
          "output_type": "execute_result",
          "data": {
            "text/plain": [
              "<matplotlib.axes._subplots.AxesSubplot at 0x7f41809122d0>"
            ]
          },
          "metadata": {
            "tags": []
          },
          "execution_count": 228
        },
        {
          "output_type": "display_data",
          "data": {
            "image/png": "[encoded data removed]",
            "text/plain": [
              "<Figure size 360x360 with 1 Axes>"
            ]
          },
          "metadata": {
            "tags": [],
            "needs_background": "light"
          }
        }
      ]
    },
    {
      "cell_type": "code",
      "metadata": {
        "colab": {
          "base_uri": "https://localhost:8080/"
        },
        "id": "4xarOuA6BJUv",
        "outputId": "57dc7518-3811-4543-c5de-0be960519331"
      },
      "source": [
        "np.unique(y_train)"
      ],
      "execution_count": 229,
      "outputs": [
        {
          "output_type": "execute_result",
          "data": {
            "text/plain": [
              "array([0., 1., 2.])"
            ]
          },
          "metadata": {
            "tags": []
          },
          "execution_count": 229
        }
      ]
    },
    {
      "cell_type": "markdown",
      "metadata": {
        "id": "eKJUzAsqBOj_"
      },
      "source": [
        "**Data Balancing**"
      ]
    },
    {
      "cell_type": "code",
      "metadata": {
        "id": "z_njw1T0BLQN"
      },
      "source": [
        "y_train = y_train.astype(int)\n",
        "y_test = y_test.astype(int)"
      ],
      "execution_count": 230,
      "outputs": []
    },
    {
      "cell_type": "code",
      "metadata": {
        "colab": {
          "base_uri": "https://localhost:8080/"
        },
        "id": "DX-GAdHjBLUO",
        "outputId": "2dccb140-b998-4d4c-bb66-0a3a0601464f"
      },
      "source": [
        "## Instantiate smote and balance training data only\n",
        "sm = SMOTE()\n",
        "X_res, y_res = sm.fit_resample(X_train, y_train)\n",
        "\n",
        "## Compute and print percentage of high quality wine after balancing\n",
        "print('Percentage of high quality counts in the balanced data:{}%'.format((y_res==1).sum()/X_res.shape[0]*100))"
      ],
      "execution_count": 231,
      "outputs": [
        {
          "output_type": "stream",
          "text": [
            "Percentage of high quality counts in the balanced data:33.33333333333333%\n"
          ],
          "name": "stdout"
        }
      ]
    },
    {
      "cell_type": "code",
      "metadata": {
        "id": "62EPJ9euBLXO"
      },
      "source": [
        "df_X_smote = pd.DataFrame(X_res)\n",
        "df_y_smote = pd.DataFrame(y_res)"
      ],
      "execution_count": 232,
      "outputs": []
    },
    {
      "cell_type": "code",
      "metadata": {
        "colab": {
          "base_uri": "https://localhost:8080/",
          "height": 361
        },
        "id": "S37ocLNsBLcU",
        "outputId": "0d2b6039-642d-4ef3-fbd9-da03f8cadb7b"
      },
      "source": [
        "plt.figure(figsize=(5,5))\n",
        "plt.title('Value counts for the output Diabetes variable after class balancing')\n",
        "plt.xlabel('Output class')\n",
        "plt.ylabel('Number of counts in each class')\n",
        "pd.value_counts(df_y_smote[0]).plot(kind=\"bar\")"
      ],
      "execution_count": 233,
      "outputs": [
        {
          "output_type": "execute_result",
          "data": {
            "text/plain": [
              "<matplotlib.axes._subplots.AxesSubplot at 0x7f417f838950>"
            ]
          },
          "metadata": {
            "tags": []
          },
          "execution_count": 233
        },
        {
          "output_type": "display_data",
          "data": {
            "image/png": "[encoded data removed]",
            "text/plain": [
              "<Figure size 360x360 with 1 Axes>"
            ]
          },
          "metadata": {
            "tags": [],
            "needs_background": "light"
          }
        }
      ]
    },
    {
      "cell_type": "markdown",
      "metadata": {
        "id": "wsz45zkVCeny"
      },
      "source": [
        "*Model Training and Evaluation*"
      ]
    },
    {
      "cell_type": "code",
      "metadata": {
        "id": "T4Fyw4NLCVG5"
      },
      "source": [
        "# Define a function that, given a CVGridSearch object, finds the\n",
        "# percentage difference between the best and worst scores\n",
        "def find_score_variation(cv_model):\n",
        "    all_scores = cv_model.cv_results_['mean_test_score']\n",
        "    return( np.abs((max(all_scores) - min(all_scores))) * 100 / max(all_scores) )\n",
        "\n",
        "    '''\n",
        "    which_min_score = np.argmin(all_scores)\n",
        "    \n",
        "    all_perc_diff = []\n",
        "    \n",
        "    try:\n",
        "        all_perc_diff.append( np.abs(all_scores[which_min_score - 1] - all_scores[which_min_score])*100 / min(all_scores) )\n",
        "    except:\n",
        "        pass\n",
        "    \n",
        "    try:\n",
        "        all_perc_diff.append( np.abs(all_scores[which_min_score + 1] - all_scores[which_min_score])*100 / min(all_scores) )\n",
        "    except:\n",
        "        pass\n",
        "    \n",
        "    return ( np.mean(all_perc_diff) )\n",
        "    '''\n",
        "\n",
        "# Define a function that checks, given a CVGridSearch object,\n",
        "# whether the optimal parameters lie on the edge of the search\n",
        "# grid\n",
        "def find_opt_params_on_edge(cv_model):\n",
        "    out = False\n",
        "    \n",
        "    for i in cv_model.param_grid:\n",
        "        if cv_model.best_params_[i] in [ cv_model.param_grid[i][0], cv_model.param_grid[i][-1] ]:\n",
        "            out = True\n",
        "            break\n",
        "            \n",
        "    return out"
      ],
      "execution_count": 234,
      "outputs": []
    },
    {
      "cell_type": "code",
      "metadata": {
        "id": "MnmGkj_xCkd9"
      },
      "source": [
        "# Binarize the output\n",
        "y_res = label_binarize(y_res, classes=[0, 1, 2])\n",
        "y_test = label_binarize(y_test, classes=[0, 1, 2])\n",
        "n_classes = y_test.shape[1]"
      ],
      "execution_count": 235,
      "outputs": []
    },
    {
      "cell_type": "code",
      "metadata": {
        "id": "7JEBFFPyCkiV"
      },
      "source": [
        "data_dict = {}\n",
        "data_dict['X_train'] = X_res\n",
        "data_dict['y_train'] = y_res\n",
        "data_dict['X_test'] = X_test\n",
        "data_dict['y_test'] = y_test"
      ],
      "execution_count": 236,
      "outputs": []
    },
    {
      "cell_type": "code",
      "metadata": {
        "id": "WlLsz-PpCklg"
      },
      "source": [
        "default_seed = 1"
      ],
      "execution_count": 237,
      "outputs": []
    },
    {
      "cell_type": "code",
      "metadata": {
        "colab": {
          "base_uri": "https://localhost:8080/"
        },
        "id": "cf1oGo3QQRwf",
        "outputId": "4ddf6c29-ff4b-4402-c06e-218f584fc27f"
      },
      "source": [
        "data_dict"
      ],
      "execution_count": 259,
      "outputs": [
        {
          "output_type": "execute_result",
          "data": {
            "text/plain": [
              "{'X_test': array([[-0.14522953,  1.00277603,  0.34181344, ...,  0.18440855,\n",
              "          0.07161686, -1.71262636],\n",
              "        [-0.14522953, -0.99723165, -0.23981075, ...,  0.18440855,\n",
              "         -0.11379529, -1.09715467],\n",
              "        [-0.14522953,  1.00277603, -0.23981075, ...,  0.18440855,\n",
              "         -0.41089591, -1.01421877],\n",
              "        ...,\n",
              "        [-0.14522953,  1.00277603, -0.10436402, ...,  0.18440855,\n",
              "          1.26667555,  0.73791127],\n",
              "        [-0.14522953,  1.00277603, -0.05655929, ...,  0.18440855,\n",
              "         -0.59828051, -1.58080193],\n",
              "        [ 0.45039918, -0.99723165,  0.25417144, ...,  0.18440855,\n",
              "         -0.27645584,  1.09802768]]),\n",
              " 'X_train': array([[-0.14522953,  1.00277603,  1.35368018, ...,  0.18440855,\n",
              "         -0.41224929,  0.8142996 ],\n",
              "        [-0.14522953,  1.00277603, -0.23981075, ...,  0.18440855,\n",
              "         -0.60999025, -0.92037025],\n",
              "        [-0.14522953,  1.00277603, -0.23981075, ...,  0.18440855,\n",
              "         -0.45446704, -1.44373944],\n",
              "        ...,\n",
              "        [-0.14522953,  1.00277603,  1.31779925, ...,  0.18440855,\n",
              "         -0.63899756, -0.46017377],\n",
              "        [ 0.08515561, -0.99723165,  1.94815816, ...,  0.18440855,\n",
              "         -0.09599604, -0.82691295],\n",
              "        [-0.14522953,  1.00277603,  1.34112358, ...,  0.18440855,\n",
              "         -0.66949227, -0.69267089]]),\n",
              " 'y_test': array([[0, 1, 0],\n",
              "        [1, 0, 0],\n",
              "        [1, 0, 0],\n",
              "        ...,\n",
              "        [0, 1, 0],\n",
              "        [0, 1, 0],\n",
              "        [0, 1, 0]]),\n",
              " 'y_train': array([[0, 0, 1],\n",
              "        [1, 0, 0],\n",
              "        [1, 0, 0],\n",
              "        ...,\n",
              "        [0, 0, 1],\n",
              "        [0, 0, 1],\n",
              "        [0, 0, 1]])}"
            ]
          },
          "metadata": {
            "tags": []
          },
          "execution_count": 259
        }
      ]
    },
    {
      "cell_type": "markdown",
      "metadata": {
        "id": "sMbnEGcHCt63"
      },
      "source": [
        "#Fitting various models"
      ]
    },
    {
      "cell_type": "code",
      "metadata": {
        "id": "UNJIp5x2CtRx"
      },
      "source": [
        "def fit_classification(model, data_dict,\n",
        "                          cv_parameters = {},\n",
        "                           metric='f1_micro',\n",
        "                          model_name = None,\n",
        "                          n_splits=3,\n",
        "                          print_to_screen = True):\n",
        "    '''\n",
        "    This function will fit a classification model to data and print various evaluation\n",
        "    measures. It expects the following parameters\n",
        "      - model: an sklearn model object\n",
        "      - data_dict: the dictionary containing both training and testing data;\n",
        "      - cv_parameters: a dictionary of parameters that should be optimized\n",
        "                       over using cross-validation. Specifically, each named\n",
        "                       entry in the dictionary should correspond to a parameter,\n",
        "                       and each element should be a list containing the values\n",
        "                       to optimize over\n",
        "      - model_name: the name of the model being fit, for printouts  \n",
        "      - metric = scoring\n",
        "    '''\n",
        "        \n",
        "    out = {} # output dictionary\n",
        "    \n",
        "    # --------------------------\n",
        "    #   Step 1 - Load the data\n",
        "    # --------------------------\n",
        "    X_train = data_dict['X_train']\n",
        "    y_train = data_dict['y_train']\n",
        "    \n",
        "    X_test = data_dict['X_test']\n",
        "    y_test = data_dict['y_test']  \n",
        "  \n",
        "    # --------------------------\n",
        "    #   Step 2 - Fit the model\n",
        "    # --------------------------\n",
        "    # Learn to predict each class against the other\n",
        "    cv_model = GridSearchCV(OneVsRestClassifier(model, n_jobs=-1), cv_parameters, n_jobs=-1,\n",
        "                            scoring=metric, cv=n_splits)\n",
        "    \n",
        "    start_time = time.time()\n",
        "    cv_model.fit(X_train, y_train)\n",
        "    end_time = time.time()\n",
        "    \n",
        "    best_model = cv_model.best_estimator_\n",
        "    \n",
        "        # Check whether any of the CV parameters are on the edge of\n",
        "    # the search space\n",
        "    opt_params_on_edge = find_opt_params_on_edge(cv_model)\n",
        "    out.update({'search_on_edge':opt_params_on_edge})\n",
        "    \n",
        "    # Find out how different the scores are for the different values\n",
        "    # tested for by cross-validation. If they're not too different, then\n",
        "    # even if the parameters are off the edge of the search grid, we should be ok\n",
        "    score_variation = find_score_variation(cv_model)\n",
        "    out.update({'score_variation':score_variation})\n",
        "    \n",
        "    out.update({'all_cv_scores':cv_model.cv_results_['mean_test_score']})\n",
        "    \n",
        "    out.update({'model':best_model})\n",
        "    \n",
        "    # --------------------------\n",
        "    #   Step 4 - Print to Screen\n",
        "    # --------------------------\n",
        "    if print_to_screen:\n",
        "        if model_name != None:\n",
        "            print(\"=========================================================\")\n",
        "            print(\"  Model: \" + model_name)\n",
        "            print(\"=========================================================\")\n",
        "        print(\"Fit time: \" + str(round(end_time - start_time, 2)) + \" seconds\")\n",
        "        print(\"Optimal parameters:\")\n",
        "        print(cv_model.best_params_)\n",
        "        print(\"\")\n",
        "\n",
        "        print(\"Were parameters on edge? : \" + str(opt_params_on_edge))\n",
        "        print(\"Score variations around CV search grid : \" + str(score_variation))\n",
        "        print( str(cv_model.cv_results_['mean_test_score']) )\n",
        "    \n",
        "    return out"
      ],
      "execution_count": 238,
      "outputs": []
    },
    {
      "cell_type": "code",
      "metadata": {
        "id": "oFIPXJ37CkrR"
      },
      "source": [
        "def calculate_roc(y_test, y_score, n_classes = 3):\n",
        "    '''\n",
        "    Displays ROC Curve\n",
        "    '''\n",
        "    out = {}\n",
        "    # Compute ROC curve and ROC area for each class\n",
        "    fpr = dict()\n",
        "    tpr = dict()\n",
        "    roc_auc = dict()\n",
        "    for i in range(n_classes):\n",
        "        fpr[i], tpr[i], _ = roc_curve(y_test[:, i], y_score[:, i])\n",
        "        roc_auc[i] = auc(fpr[i], tpr[i])\n",
        "        out.update({roc_auc[i]:roc_auc[i]})\n",
        "        \n",
        "    # Compute micro-average ROC curve and ROC area\n",
        "    fpr[\"micro\"], tpr[\"micro\"], _ = roc_curve(y_test.ravel(), y_score.ravel())\n",
        "    roc_auc[\"micro\"] = auc(fpr[\"micro\"], tpr[\"micro\"])\n",
        "    out.update({roc_auc[\"micro\"]:roc_auc[\"micro\"]})\n",
        "\n",
        "\n",
        "    # Compute macro-average ROC curve and ROC area\n",
        "    lw = 2 \n",
        "    # First aggregate all false positive rates\n",
        "    all_fpr = np.unique(np.concatenate([fpr[i] for i in range(n_classes)]))\n",
        "\n",
        "    # Then interpolate all ROC curves at this points\n",
        "    mean_tpr = np.zeros_like(all_fpr)\n",
        "    for i in range(n_classes):\n",
        "        mean_tpr += interp(all_fpr, fpr[i], tpr[i])\n",
        "\n",
        "    # Finally average it and compute AUC\n",
        "    mean_tpr /= n_classes\n",
        "\n",
        "    fpr[\"macro\"] = all_fpr\n",
        "    tpr[\"macro\"] = mean_tpr\n",
        "    roc_auc[\"macro\"] = auc(fpr[\"macro\"], tpr[\"macro\"])\n",
        "\n",
        "    # Plot all ROC curves\n",
        "    plt.figure()\n",
        "    plt.plot(fpr[\"micro\"], tpr[\"micro\"],\n",
        "             label='micro-average ROC curve (area = {0:0.2f})'\n",
        "                   ''.format(roc_auc[\"micro\"]),\n",
        "             color='deeppink', linestyle=':', linewidth=4)\n",
        "\n",
        "    plt.plot(fpr[\"macro\"], tpr[\"macro\"],\n",
        "             label='macro-average ROC curve (area = {0:0.2f})'\n",
        "                   ''.format(roc_auc[\"macro\"]),\n",
        "             color='navy', linestyle=':', linewidth=4)\n",
        "\n",
        "    colors = cycle(['aqua', 'darkorange', 'cornflowerblue'])\n",
        "    for i, color in zip(range(n_classes), colors):\n",
        "        plt.plot(fpr[i], tpr[i], color=color, lw=lw,\n",
        "                 label='ROC curve of class {0} (area = {1:0.2f})'\n",
        "                 ''.format(i, roc_auc[i]))\n",
        "\n",
        "    plt.plot([0, 1], [0, 1], 'k--', lw=lw)\n",
        "    plt.xlim([0.0, 1.0])\n",
        "    plt.ylim([0.0, 1.05])\n",
        "    plt.xlabel('False Positive Rate')\n",
        "    plt.ylabel('True Positive Rate')\n",
        "    plt.title('Some extension of Receiver operating characteristic to multi-class')\n",
        "    plt.legend(loc=\"lower right\")\n",
        "    plt.show()"
      ],
      "execution_count": 239,
      "outputs": []
    },
    {
      "cell_type": "markdown",
      "metadata": {
        "id": "sBVVeVJNC7yV"
      },
      "source": [
        "**Naive Bayes**"
      ]
    },
    {
      "cell_type": "code",
      "metadata": {
        "colab": {
          "base_uri": "https://localhost:8080/",
          "height": 464
        },
        "id": "7iifOotNC7C4",
        "outputId": "50572ec1-dd19-4010-8f84-6135d0f2de23"
      },
      "source": [
        "gnb = GaussianNB()\n",
        "gnb_classifier = fit_classification(gnb, data_dict,{}, model_name = \"Naive Bayes Classifier\")\n",
        "\n",
        "best_model = gnb_classifier['model']\n",
        "y_score = best_model.fit(X_res, y_res).predict(X_test)\n",
        "y_score.shape\n",
        "calculate_roc(y_test, y_score, n_classes=3)"
      ],
      "execution_count": 246,
      "outputs": [
        {
          "output_type": "stream",
          "text": [
            "=========================================================\n",
            "  Model: Naive Bayes Classifier\n",
            "=========================================================\n",
            "Fit time: 0.5 seconds\n",
            "Optimal parameters:\n",
            "{}\n",
            "\n",
            "Were parameters on edge? : False\n",
            "Score variations around CV search grid : 0.0\n",
            "[0.8060834]\n"
          ],
          "name": "stdout"
        },
        {
          "output_type": "display_data",
          "data": {
            "image/png": "[encoded data removed]",
            "text/plain": [
              "<Figure size 432x288 with 1 Axes>"
            ]
          },
          "metadata": {
            "tags": [],
            "needs_background": "light"
          }
        }
      ]
    },
    {
      "cell_type": "code",
      "metadata": {
        "colab": {
          "base_uri": "https://localhost:8080/",
          "height": 297
        },
        "id": "b8NAmf7vCkuQ",
        "outputId": "cdb865f5-a5d2-433d-d0ff-9effd8738a71"
      },
      "source": [
        "best_model.fit(X_res, y_res) \n",
        "y_pred = best_model.predict(X_test) \n",
        "target_names = ['No Diabetes', 'Pre-Diabetic', 'Diabetic']\n",
        "visualizer = ClassificationReport(best_model, classes=target_names, support=True)\n",
        "visualizer.fit(X_res, y_res)  # Fit the visualizer and the model\n",
        "visualizer.score(X_test, y_test)  # Evaluate the model on the test data\n",
        "g = visualizer.poof()             # Draw/show/poof the data"
      ],
      "execution_count": 247,
      "outputs": [
        {
          "output_type": "display_data",
          "data": {
            "image/png": "[encoded data removed]",
            "text/plain": [
              "<Figure size 432x288 with 2 Axes>"
            ]
          },
          "metadata": {
            "tags": [],
            "needs_background": "light"
          }
        }
      ]
    },
    {
      "cell_type": "markdown",
      "metadata": {
        "id": "zFR3tt4PDKgc"
      },
      "source": [
        "**Decision Trees**"
      ]
    },
    {
      "cell_type": "code",
      "metadata": {
        "colab": {
          "base_uri": "https://localhost:8080/",
          "height": 464
        },
        "id": "KQYPh3uwCkzI",
        "outputId": "32f89ab9-771e-45ef-afe8-39c1c871b2a9"
      },
      "source": [
        "decision_tree = DecisionTreeClassifier()\n",
        "cv_parameters = {'estimator__min_samples_leaf':[100,200,300]}\n",
        "\n",
        "decision_tree = fit_classification(decision_tree, data_dict, \n",
        "                          cv_parameters = cv_parameters, model_name = \"Decision tree\")\n",
        "\n",
        "best_model = decision_tree['model']\n",
        "y_score = best_model.fit(X_res, y_res).predict(X_test)\n",
        "y_score.shape\n",
        "calculate_roc(y_test, y_score, n_classes=3)"
      ],
      "execution_count": 240,
      "outputs": [
        {
          "output_type": "stream",
          "text": [
            "=========================================================\n",
            "  Model: Decision tree\n",
            "=========================================================\n",
            "Fit time: 1.7 seconds\n",
            "Optimal parameters:\n",
            "{'estimator__min_samples_leaf': 100}\n",
            "\n",
            "Were parameters on edge? : True\n",
            "Score variations around CV search grid : 0.0\n",
            "[1. 1. 1.]\n"
          ],
          "name": "stdout"
        },
        {
          "output_type": "display_data",
          "data": {
            "image/png": "[encoded data removed]",
            "text/plain": [
              "<Figure size 432x288 with 1 Axes>"
            ]
          },
          "metadata": {
            "tags": [],
            "needs_background": "light"
          }
        }
      ]
    },
    {
      "cell_type": "code",
      "metadata": {
        "colab": {
          "base_uri": "https://localhost:8080/",
          "height": 297
        },
        "id": "57VZtBvbDXUN",
        "outputId": "979870c5-0a7f-46e8-d84d-aa1a61a091c6"
      },
      "source": [
        "best_model.fit(X_res, y_res) \n",
        "y_pred = best_model.predict(X_test) \n",
        "target_names = ['No Diabetes', 'Pre-Diabetic', 'Diabetic']\n",
        "visualizer = ClassificationReport(best_model, classes=target_names, support=True)\n",
        "visualizer.fit(X_res, y_res)  # Fit the visualizer and the model\n",
        "visualizer.score(X_test, y_test)  # Evaluate the model on the test data\n",
        "g = visualizer.poof()"
      ],
      "execution_count": 241,
      "outputs": [
        {
          "output_type": "display_data",
          "data": {
            "image/png": "[encoded data removed]",
            "text/plain": [
              "<Figure size 432x288 with 2 Axes>"
            ]
          },
          "metadata": {
            "tags": [],
            "needs_background": "light"
          }
        }
      ]
    },
    {
      "cell_type": "markdown",
      "metadata": {
        "id": "Rcm0B_yVDiJu"
      },
      "source": [
        "**SVM**"
      ]
    },
    {
      "cell_type": "code",
      "metadata": {
        "colab": {
          "base_uri": "https://localhost:8080/"
        },
        "id": "j9rjM2uwCk5J",
        "outputId": "9fb88746-1afc-47d4-ddd8-20bbdc22c3cc"
      },
      "source": [
        "cv_parameters = {\n",
        "    \"estimator__C\": [1,2,3],\n",
        "    \"estimator__kernel\": [\"linear\"]\n",
        "}\n",
        "\n",
        "SV_classifier = SVC()\n",
        "\n",
        "SV_classifier = fit_classification(SV_classifier, data_dict, \n",
        "                             cv_parameters = cv_parameters, model_name = \"SV Classifier\")"
      ],
      "execution_count": 242,
      "outputs": [
        {
          "output_type": "stream",
          "text": [
            "=========================================================\n",
            "  Model: SV Classifier\n",
            "=========================================================\n",
            "Fit time: 37.29 seconds\n",
            "Optimal parameters:\n",
            "{'estimator__C': 3, 'estimator__kernel': 'linear'}\n",
            "\n",
            "Were parameters on edge? : True\n",
            "Score variations around CV search grid : 0.8966714119887906\n",
            "[0.58021704 0.58426922 0.58546675]\n"
          ],
          "name": "stdout"
        }
      ]
    },
    {
      "cell_type": "code",
      "metadata": {
        "colab": {
          "base_uri": "https://localhost:8080/",
          "height": 294
        },
        "id": "naHSKej-Dm4a",
        "outputId": "8e0058a0-81f5-42e4-c847-99fc027b56c2"
      },
      "source": [
        "best_model = SV_classifier['model']\n",
        "y_score = best_model.fit(X_res, y_res).predict(X_test)\n",
        "y_score.shape\n",
        "calculate_roc(y_test, y_score, n_classes=3)"
      ],
      "execution_count": 243,
      "outputs": [
        {
          "output_type": "display_data",
          "data": {
            "image/png": "[encoded data removed]",
            "text/plain": [
              "<Figure size 432x288 with 1 Axes>"
            ]
          },
          "metadata": {
            "tags": [],
            "needs_background": "light"
          }
        }
      ]
    },
    {
      "cell_type": "code",
      "metadata": {
        "colab": {
          "base_uri": "https://localhost:8080/",
          "height": 297
        },
        "id": "KfRjVQhCD4_Y",
        "outputId": "aaacc830-a117-4fb5-d449-bd3e6056584e"
      },
      "source": [
        "best_model.fit(X_res, y_res) \n",
        "y_pred = best_model.predict(X_test) \n",
        "target_names = ['No Diabetes', 'Pre-Diabetic', 'Diabetic']\n",
        "visualizer = ClassificationReport(best_model, classes=target_names, support=True)\n",
        "visualizer.fit(X_res, y_res)  # Fit the visualizer and the model\n",
        "visualizer.score(X_test, y_test)  # Evaluate the model on the test data\n",
        "g = visualizer.poof()"
      ],
      "execution_count": 244,
      "outputs": [
        {
          "output_type": "display_data",
          "data": {
            "image/png": "[encoded data removed]",
            "text/plain": [
              "<Figure size 432x288 with 2 Axes>"
            ]
          },
          "metadata": {
            "tags": [],
            "needs_background": "light"
          }
        }
      ]
    },
    {
      "cell_type": "markdown",
      "metadata": {
        "id": "f98zxdkxECyB"
      },
      "source": [
        "**Ridge Classifier**"
      ]
    },
    {
      "cell_type": "code",
      "metadata": {
        "colab": {
          "base_uri": "https://localhost:8080/",
          "height": 481
        },
        "id": "OlL8Kx0fEFPI",
        "outputId": "8afcc15d-8183-48c1-d08d-47c3bd206e8a"
      },
      "source": [
        "ridge_classifier = RidgeClassifier()\n",
        "cv_parameters = {\"estimator__alpha\":np.logspace(-4, 4, num = 10)}\n",
        "\n",
        "ridge_classifier = fit_classification(ridge_classifier, data_dict, \n",
        "                             cv_parameters = cv_parameters, model_name = \"Ridge Classifier\")\n",
        "best_model = ridge_classifier['model']\n",
        "y_score = best_model.fit(X_res, y_res).predict(X_test)\n",
        "y_score.shape\n",
        "calculate_roc(y_test, y_score, n_classes=3)"
      ],
      "execution_count": 248,
      "outputs": [
        {
          "output_type": "stream",
          "text": [
            "=========================================================\n",
            "  Model: Ridge Classifier\n",
            "=========================================================\n",
            "Fit time: 2.08 seconds\n",
            "Optimal parameters:\n",
            "{'estimator__alpha': 0.0001}\n",
            "\n",
            "Were parameters on edge? : True\n",
            "Score variations around CV search grid : 27.204883290417037\n",
            "[0.23871275 0.23871275 0.23871275 0.23871275 0.23869923 0.23863166\n",
            " 0.23823797 0.23739117 0.22644729 0.17377122]\n"
          ],
          "name": "stdout"
        },
        {
          "output_type": "display_data",
          "data": {
            "image/png": "[encoded data removed]",
            "text/plain": [
              "<Figure size 432x288 with 1 Axes>"
            ]
          },
          "metadata": {
            "tags": [],
            "needs_background": "light"
          }
        }
      ]
    },
    {
      "cell_type": "code",
      "metadata": {
        "colab": {
          "base_uri": "https://localhost:8080/",
          "height": 297
        },
        "id": "e8AGCpZpEh01",
        "outputId": "6c8caf78-6d7b-44aa-b5c7-423d7472b001"
      },
      "source": [
        "best_model.fit(X_res, y_res) \n",
        "y_pred = best_model.predict(X_test) \n",
        "target_names = ['No Diabetes', 'Pre-Diabetic', 'Diabetic']\n",
        "visualizer = ClassificationReport(best_model, classes=target_names, support=True)\n",
        "visualizer.fit(X_res, y_res)  # Fit the visualizer and the model\n",
        "visualizer.score(X_test, y_test)  # Evaluate the model on the test data\n",
        "g = visualizer.poof()"
      ],
      "execution_count": 249,
      "outputs": [
        {
          "output_type": "display_data",
          "data": {
            "image/png": "[encoded data removed]",
            "text/plain": [
              "<Figure size 432x288 with 2 Axes>"
            ]
          },
          "metadata": {
            "tags": [],
            "needs_background": "light"
          }
        }
      ]
    },
    {
      "cell_type": "markdown",
      "metadata": {
        "id": "FzNRqet0FzIX"
      },
      "source": [
        "**Random Forest**"
      ]
    },
    {
      "cell_type": "code",
      "metadata": {
        "colab": {
          "base_uri": "https://localhost:8080/"
        },
        "id": "sZ7_5spnEo5y",
        "outputId": "4a3017c0-825c-4a7f-9450-915ce7d19a66"
      },
      "source": [
        "random_forest = RandomForestClassifier()\n",
        "\n",
        "cv_parameters = {'estimator__n_estimators':[50, 100, 150],\n",
        "                'estimator__max_depth':[3, 4, None]}\n",
        "\n",
        "random_forest = fit_classification(random_forest, data_dict, \n",
        "                             cv_parameters = cv_parameters, model_name = \"Random Forest\")"
      ],
      "execution_count": 250,
      "outputs": [
        {
          "output_type": "stream",
          "text": [
            "=========================================================\n",
            "  Model: Random Forest\n",
            "=========================================================\n",
            "Fit time: 38.54 seconds\n",
            "Optimal parameters:\n",
            "{'estimator__max_depth': None, 'estimator__n_estimators': 50}\n",
            "\n",
            "Were parameters on edge? : True\n",
            "Score variations around CV search grid : 38.622802554411784\n",
            "[0.66547918 0.67451815 0.61377197 0.89561724 0.78375201 0.71137887\n",
            " 1.         1.         1.        ]\n"
          ],
          "name": "stdout"
        }
      ]
    },
    {
      "cell_type": "code",
      "metadata": {
        "colab": {
          "base_uri": "https://localhost:8080/",
          "height": 294
        },
        "id": "Ty35VTP_E9ML",
        "outputId": "0ad129a1-6995-490c-d6dd-bc0ece8ca700"
      },
      "source": [
        "best_model = random_forest['model']\n",
        "y_score = best_model.fit(X_res, y_res).predict(X_test)\n",
        "y_score.shape\n",
        "calculate_roc(y_test, y_score, n_classes=3)"
      ],
      "execution_count": 251,
      "outputs": [
        {
          "output_type": "display_data",
          "data": {
            "image/png": "[encoded data removed]",
            "text/plain": [
              "<Figure size 432x288 with 1 Axes>"
            ]
          },
          "metadata": {
            "tags": [],
            "needs_background": "light"
          }
        }
      ]
    },
    {
      "cell_type": "code",
      "metadata": {
        "colab": {
          "base_uri": "https://localhost:8080/",
          "height": 297
        },
        "id": "i3awnQJ3F4Dp",
        "outputId": "94a1f8de-1277-4369-e7da-dd533d9f3e33"
      },
      "source": [
        "best_model.fit(X_res, y_res) \n",
        "y_pred = best_model.predict(X_test) \n",
        "target_names = ['No Diabetes', 'Pre-Diabetic', 'Diabetic']\n",
        "visualizer = ClassificationReport(best_model, classes=target_names, support=True)\n",
        "visualizer.fit(X_res, y_res)  # Fit the visualizer and the model\n",
        "visualizer.score(X_test, y_test)  # Evaluate the model on the test data\n",
        "g = visualizer.poof()\n"
      ],
      "execution_count": 252,
      "outputs": [
        {
          "output_type": "display_data",
          "data": {
            "image/png": "[encoded data removed]",
            "text/plain": [
              "<Figure size 432x288 with 2 Axes>"
            ]
          },
          "metadata": {
            "tags": [],
            "needs_background": "light"
          }
        }
      ]
    },
    {
      "cell_type": "markdown",
      "metadata": {
        "id": "oWk1ZtTlGKVn"
      },
      "source": [
        "**XGBoost Classifier**"
      ]
    },
    {
      "cell_type": "code",
      "metadata": {
        "id": "KQQdd1Q-GJsG"
      },
      "source": [
        "import xgboost as xgb\n",
        "from xgboost import XGBClassifier"
      ],
      "execution_count": 253,
      "outputs": []
    },
    {
      "cell_type": "code",
      "metadata": {
        "colab": {
          "base_uri": "https://localhost:8080/"
        },
        "id": "6qlqu8EaGOcc",
        "outputId": "77ab5636-0ca5-45a7-d41c-b7337c27d7d2"
      },
      "source": [
        "xgbclassifier = XGBClassifier()\n",
        "cv_parameters = {'estimator__n_estimators':[50, 140, 150,200],\n",
        "                'estimator__max_depth':[3, 4,5,7]}\n",
        "random_forest = fit_classification(xgbclassifier, data_dict, \n",
        "                             cv_parameters = cv_parameters, model_name = \"XG Boost Classifier\")"
      ],
      "execution_count": 258,
      "outputs": [
        {
          "output_type": "stream",
          "text": [
            "=========================================================\n",
            "  Model: XG Boost Classifier\n",
            "=========================================================\n",
            "Fit time: 55.65 seconds\n",
            "Optimal parameters:\n",
            "{'estimator__max_depth': 3, 'estimator__n_estimators': 50}\n",
            "\n",
            "Were parameters on edge? : True\n",
            "Score variations around CV search grid : 0.0\n",
            "[1. 1. 1. 1. 1. 1. 1. 1. 1. 1. 1. 1. 1. 1. 1. 1.]\n"
          ],
          "name": "stdout"
        }
      ]
    },
    {
      "cell_type": "code",
      "metadata": {
        "colab": {
          "base_uri": "https://localhost:8080/",
          "height": 294
        },
        "id": "kT52l2ILGOhP",
        "outputId": "a53713cf-fdbc-4ca8-bce4-08d90299cc1f"
      },
      "source": [
        "best_model1 = random_forest['model']\n",
        "y_score = best_model1.fit(X_res, y_res).predict(X_test)\n",
        "y_score.shape\n",
        "calculate_roc(y_test, y_score, n_classes=3)"
      ],
      "execution_count": 257,
      "outputs": [
        {
          "output_type": "display_data",
          "data": {
            "image/png": "[encoded data removed]",
            "text/plain": [
              "<Figure size 432x288 with 1 Axes>"
            ]
          },
          "metadata": {
            "tags": [],
            "needs_background": "light"
          }
        }
      ]
    },
    {
      "cell_type": "code",
      "metadata": {
        "colab": {
          "base_uri": "https://localhost:8080/",
          "height": 297
        },
        "id": "NeP52J9TGOk2",
        "outputId": "778dab61-99f0-44a2-9668-fefc4bd8479e"
      },
      "source": [
        "y_pred = best_model1.predict(X_test) \n",
        "target_names = ['No Diabetes', 'Pre-Diabetic', 'Diabetic']\n",
        "visualizer = ClassificationReport(best_model1, classes=target_names, support=True)\n",
        "visualizer.fit(X_res, y_res)  # Fit the visualizer and the model\n",
        "visualizer.score(X_test, y_test)  # Evaluate the model on the test data\n",
        "g = visualizer.poof()"
      ],
      "execution_count": 256,
      "outputs": [
        {
          "output_type": "display_data",
          "data": {
            "image/png": "[encoded data removed]",
            "text/plain": [
              "<Figure size 432x288 with 2 Axes>"
            ]
          },
          "metadata": {
            "tags": [],
            "needs_background": "light"
          }
        }
      ]
    }
  ]
}