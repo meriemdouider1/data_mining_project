{
  "nbformat": 4,
  "nbformat_minor": 0,
  "metadata": {
    "colab": {
      "name": "Untitled4.ipynb",
      "provenance": [],
      "authorship_tag": "ABX9TyP6K1O5GMRMb4fV8mDnGPio",
      "include_colab_link": true
    },
    "kernelspec": {
      "name": "python3",
      "display_name": "Python 3"
    }
  },
  "cells": [
    {
      "cell_type": "markdown",
      "metadata": {
        "id": "view-in-github",
        "colab_type": "text"
      },
      "source": [
        "<a href=\"https://colab.research.google.com/github/meriemdouider1/data_mining_project/blob/main/Pr%C3%A9paration%20du%20data_Laboratory%20Data.ipynb\" target=\"_parent\"><img src=\"https://colab.research.google.com/assets/colab-badge.svg\" alt=\"Open In Colab\"/></a>"
      ]
    },
    {
      "cell_type": "code",
      "metadata": {
        "id": "CqWoZh1EZcAN"
      },
      "source": [
        "import pandas as pd"
      ],
      "execution_count": 1,
      "outputs": []
    },
    {
      "cell_type": "markdown",
      "metadata": {
        "id": "JDcx-FDJeDll"
      },
      "source": [
        "*FOLFMS_J*"
      ]
    },
    {
      "cell_type": "code",
      "metadata": {
        "colab": {
          "base_uri": "https://localhost:8080/"
        },
        "id": "eVnQPA7sd8lH",
        "outputId": "1a887c3b-c4c9-4cd1-fc80-8a38db9a359a"
      },
      "source": [
        "data_1 = '/content/FOLFMS_J.xlsx'\n",
        "d1= pd.read_excel(data_1,\n",
        "sheet_name=0,\n",
        "header=0,\n",
        "index_col=False,\n",
        "keep_default_na=True\n",
        ")\n",
        "len(d1)"
      ],
      "execution_count": 2,
      "outputs": [
        {
          "output_type": "execute_result",
          "data": {
            "text/plain": [
              "5092"
            ]
          },
          "metadata": {
            "tags": []
          },
          "execution_count": 2
        }
      ]
    },
    {
      "cell_type": "markdown",
      "metadata": {
        "id": "97Nv3sf0eIbv"
      },
      "source": [
        "*GLU_J*"
      ]
    },
    {
      "cell_type": "code",
      "metadata": {
        "colab": {
          "base_uri": "https://localhost:8080/"
        },
        "id": "dUQhN1y6d8o4",
        "outputId": "095ae04c-e157-4178-bcc6-0dd63153d733"
      },
      "source": [
        "data_2 = '/content/GLU_J.xlsx'\n",
        "d2= pd.read_excel(data_2,\n",
        "sheet_name=0,\n",
        "header=0,\n",
        "index_col=False,\n",
        "keep_default_na=True\n",
        ")\n",
        "len(d2)"
      ],
      "execution_count": 4,
      "outputs": [
        {
          "output_type": "execute_result",
          "data": {
            "text/plain": [
              "3036"
            ]
          },
          "metadata": {
            "tags": []
          },
          "execution_count": 4
        }
      ]
    },
    {
      "cell_type": "code",
      "metadata": {
        "colab": {
          "base_uri": "https://localhost:8080/"
        },
        "id": "8s3K7yN8d8rn",
        "outputId": "66cb3a0a-3876-433f-8065-ba174f3d5512"
      },
      "source": [
        "dd1=pd.merge(d1,d2)\n",
        "len(dd1)"
      ],
      "execution_count": 6,
      "outputs": [
        {
          "output_type": "execute_result",
          "data": {
            "text/plain": [
              "1971"
            ]
          },
          "metadata": {
            "tags": []
          },
          "execution_count": 6
        }
      ]
    },
    {
      "cell_type": "markdown",
      "metadata": {
        "id": "I-Ib6455ecXY"
      },
      "source": [
        "*HDL_J*"
      ]
    },
    {
      "cell_type": "code",
      "metadata": {
        "colab": {
          "base_uri": "https://localhost:8080/"
        },
        "id": "wlOdukh9d8vY",
        "outputId": "c92a370e-893d-44ee-ab05-ed2500ce0e64"
      },
      "source": [
        "data_3 = '/content/HDL_J.xlsx'\n",
        "d3= pd.read_excel(data_3,\n",
        "sheet_name=0,\n",
        "header=0,\n",
        "index_col=False,\n",
        "keep_default_na=True\n",
        ")\n",
        "len(d3)"
      ],
      "execution_count": 8,
      "outputs": [
        {
          "output_type": "execute_result",
          "data": {
            "text/plain": [
              "7435"
            ]
          },
          "metadata": {
            "tags": []
          },
          "execution_count": 8
        }
      ]
    },
    {
      "cell_type": "code",
      "metadata": {
        "colab": {
          "base_uri": "https://localhost:8080/"
        },
        "id": "CbbxVMs0d8yf",
        "outputId": "dc339ad0-ca68-4283-a2c8-80391e0d8098"
      },
      "source": [
        "dd2=pd.merge(dd1,d3)\n",
        "len(dd2)"
      ],
      "execution_count": 9,
      "outputs": [
        {
          "output_type": "execute_result",
          "data": {
            "text/plain": [
              "1971"
            ]
          },
          "metadata": {
            "tags": []
          },
          "execution_count": 9
        }
      ]
    },
    {
      "cell_type": "markdown",
      "metadata": {
        "id": "US0nsD2pesED"
      },
      "source": [
        "*HEPA_J*"
      ]
    },
    {
      "cell_type": "code",
      "metadata": {
        "colab": {
          "base_uri": "https://localhost:8080/"
        },
        "id": "zekGPcJ_d82H",
        "outputId": "a8e1716f-c5a5-4a4e-d9cb-34b4afa7c84b"
      },
      "source": [
        "data_4 = '/content/HEPA_J.xlsx'\n",
        "d4= pd.read_excel(data_4,\n",
        "sheet_name=0,\n",
        "header=0,\n",
        "index_col=False,\n",
        "keep_default_na=True\n",
        ")\n",
        "len(d4)"
      ],
      "execution_count": 10,
      "outputs": [
        {
          "output_type": "execute_result",
          "data": {
            "text/plain": [
              "8153"
            ]
          },
          "metadata": {
            "tags": []
          },
          "execution_count": 10
        }
      ]
    },
    {
      "cell_type": "code",
      "metadata": {
        "colab": {
          "base_uri": "https://localhost:8080/"
        },
        "id": "geBYKjo_d848",
        "outputId": "bab8be5d-46ed-40ee-85ff-9638bb6edcb4"
      },
      "source": [
        "dd3=pd.merge(dd2,d4)\n",
        "len(dd3)"
      ],
      "execution_count": 11,
      "outputs": [
        {
          "output_type": "execute_result",
          "data": {
            "text/plain": [
              "1971"
            ]
          },
          "metadata": {
            "tags": []
          },
          "execution_count": 11
        }
      ]
    },
    {
      "cell_type": "markdown",
      "metadata": {
        "id": "O54jXs5xe566"
      },
      "source": [
        "*HEPBD_J*"
      ]
    },
    {
      "cell_type": "code",
      "metadata": {
        "colab": {
          "base_uri": "https://localhost:8080/"
        },
        "id": "3jLg3vyVd88W",
        "outputId": "879e3551-c304-4173-f0fd-0a92cd99e88c"
      },
      "source": [
        "data_5 = '/content/HEPBD_J.xlsx'\n",
        "d5= pd.read_excel(data_5,\n",
        "sheet_name=0,\n",
        "header=0,\n",
        "index_col=False,\n",
        "keep_default_na=True\n",
        ")\n",
        "len(d5)"
      ],
      "execution_count": 12,
      "outputs": [
        {
          "output_type": "execute_result",
          "data": {
            "text/plain": [
              "7435"
            ]
          },
          "metadata": {
            "tags": []
          },
          "execution_count": 12
        }
      ]
    },
    {
      "cell_type": "code",
      "metadata": {
        "colab": {
          "base_uri": "https://localhost:8080/"
        },
        "id": "6q13AEUvd8-T",
        "outputId": "156683b4-2b1a-420d-c625-30f4c7362c64"
      },
      "source": [
        "dd4=pd.merge(dd3,d5)\n",
        "len(dd4)"
      ],
      "execution_count": 13,
      "outputs": [
        {
          "output_type": "execute_result",
          "data": {
            "text/plain": [
              "1971"
            ]
          },
          "metadata": {
            "tags": []
          },
          "execution_count": 13
        }
      ]
    },
    {
      "cell_type": "markdown",
      "metadata": {
        "id": "KP6G-IR3ffUW"
      },
      "source": [
        "*HEPB_S_J*"
      ]
    },
    {
      "cell_type": "code",
      "metadata": {
        "colab": {
          "base_uri": "https://localhost:8080/"
        },
        "id": "6NLxdYhbd9AI",
        "outputId": "e10b1d30-72a3-4583-d0d2-99cbe5f92ecb"
      },
      "source": [
        "data_6 = '/content/HEPB_S_J.xlsx'\n",
        "d6= pd.read_excel(data_6,\n",
        "sheet_name=0,\n",
        "header=0,\n",
        "index_col=False,\n",
        "keep_default_na=True\n",
        ")\n",
        "len(d6)"
      ],
      "execution_count": 14,
      "outputs": [
        {
          "output_type": "execute_result",
          "data": {
            "text/plain": [
              "8153"
            ]
          },
          "metadata": {
            "tags": []
          },
          "execution_count": 14
        }
      ]
    },
    {
      "cell_type": "code",
      "metadata": {
        "colab": {
          "base_uri": "https://localhost:8080/"
        },
        "id": "KB1AlFYWd9Bn",
        "outputId": "6518da8c-81e6-4944-f259-442dd0322b38"
      },
      "source": [
        "dd5=pd.merge(dd4,d6)\n",
        "len(dd5)"
      ],
      "execution_count": 15,
      "outputs": [
        {
          "output_type": "execute_result",
          "data": {
            "text/plain": [
              "1971"
            ]
          },
          "metadata": {
            "tags": []
          },
          "execution_count": 15
        }
      ]
    },
    {
      "cell_type": "markdown",
      "metadata": {
        "id": "DK07zg1GfoJx"
      },
      "source": [
        "*HEPC_J*"
      ]
    },
    {
      "cell_type": "code",
      "metadata": {
        "colab": {
          "base_uri": "https://localhost:8080/"
        },
        "id": "kgYOrlWNd9DN",
        "outputId": "b7e8b34e-259d-47e9-aed3-b8b942b5d84b"
      },
      "source": [
        "data_7 = '/content/HEPC_J.xlsx'\n",
        "d7= pd.read_excel(data_7,\n",
        "sheet_name=0,\n",
        "header=0,\n",
        "index_col=False,\n",
        "keep_default_na=True\n",
        ")\n",
        "len(d7)"
      ],
      "execution_count": 16,
      "outputs": [
        {
          "output_type": "execute_result",
          "data": {
            "text/plain": [
              "7435"
            ]
          },
          "metadata": {
            "tags": []
          },
          "execution_count": 16
        }
      ]
    },
    {
      "cell_type": "code",
      "metadata": {
        "colab": {
          "base_uri": "https://localhost:8080/"
        },
        "id": "QatyCBgafnhE",
        "outputId": "3f58f081-e046-43f9-d3ab-a32f2962ddbc"
      },
      "source": [
        "dd6=pd.merge(dd5,d7)\n",
        "len(dd6)"
      ],
      "execution_count": 18,
      "outputs": [
        {
          "output_type": "execute_result",
          "data": {
            "text/plain": [
              "1971"
            ]
          },
          "metadata": {
            "tags": []
          },
          "execution_count": 18
        }
      ]
    },
    {
      "cell_type": "markdown",
      "metadata": {
        "id": "cyqsOhrdgAhC"
      },
      "source": [
        "*HEPE_J*"
      ]
    },
    {
      "cell_type": "code",
      "metadata": {
        "colab": {
          "base_uri": "https://localhost:8080/"
        },
        "id": "niz3aKg4fnkg",
        "outputId": "8b1bdc23-73d9-4b3e-beca-f7ee51abf7f9"
      },
      "source": [
        "data_8 = '/content/HEPE_J.xlsx'\n",
        "d8= pd.read_excel(data_8,\n",
        "sheet_name=0,\n",
        "header=0,\n",
        "index_col=False,\n",
        "keep_default_na=True\n",
        ")\n",
        "len(d8)"
      ],
      "execution_count": 19,
      "outputs": [
        {
          "output_type": "execute_result",
          "data": {
            "text/plain": [
              "7435"
            ]
          },
          "metadata": {
            "tags": []
          },
          "execution_count": 19
        }
      ]
    },
    {
      "cell_type": "code",
      "metadata": {
        "colab": {
          "base_uri": "https://localhost:8080/"
        },
        "id": "tbhQ1JpVfnnN",
        "outputId": "aa04749f-898c-4966-ca0b-aba50c4aa520"
      },
      "source": [
        "dd7=pd.merge(dd6,d8)\n",
        "len(dd7)"
      ],
      "execution_count": 20,
      "outputs": [
        {
          "output_type": "execute_result",
          "data": {
            "text/plain": [
              "1971"
            ]
          },
          "metadata": {
            "tags": []
          },
          "execution_count": 20
        }
      ]
    },
    {
      "cell_type": "markdown",
      "metadata": {
        "id": "x32ufdzahDiy"
      },
      "source": [
        "*HIV_J*"
      ]
    },
    {
      "cell_type": "code",
      "metadata": {
        "colab": {
          "base_uri": "https://localhost:8080/"
        },
        "id": "a3cQRagwfnpu",
        "outputId": "8e039d83-3903-479d-8d05-762e78118f23"
      },
      "source": [
        "data_9 = '/content/HIV_J.xlsx'\n",
        "d9= pd.read_excel(data_9,\n",
        "sheet_name=0,\n",
        "header=0,\n",
        "index_col=False,\n",
        "keep_default_na=True\n",
        ")\n",
        "len(d9)"
      ],
      "execution_count": 21,
      "outputs": [
        {
          "output_type": "execute_result",
          "data": {
            "text/plain": [
              "3515"
            ]
          },
          "metadata": {
            "tags": []
          },
          "execution_count": 21
        }
      ]
    },
    {
      "cell_type": "code",
      "metadata": {
        "colab": {
          "base_uri": "https://localhost:8080/"
        },
        "id": "uTenkEtPfnsQ",
        "outputId": "e006d025-1aaf-4966-8c11-ba716393a1c8"
      },
      "source": [
        "dd8=pd.merge(dd7,d9)\n",
        "len(dd8)"
      ],
      "execution_count": 22,
      "outputs": [
        {
          "output_type": "execute_result",
          "data": {
            "text/plain": [
              "1175"
            ]
          },
          "metadata": {
            "tags": []
          },
          "execution_count": 22
        }
      ]
    },
    {
      "cell_type": "markdown",
      "metadata": {
        "id": "oh1RqM9phmR-"
      },
      "source": [
        "*HSCRP_J*"
      ]
    },
    {
      "cell_type": "code",
      "metadata": {
        "colab": {
          "base_uri": "https://localhost:8080/"
        },
        "id": "KurKu4MthleJ",
        "outputId": "018af6cf-31e6-4255-cec6-296d352f6493"
      },
      "source": [
        "data_10 = '/content/HSCRP_J.xlsx'\n",
        "d10= pd.read_excel(data_10,\n",
        "sheet_name=0,\n",
        "header=0,\n",
        "index_col=False,\n",
        "keep_default_na=True\n",
        ")\n",
        "len(d10)"
      ],
      "execution_count": 23,
      "outputs": [
        {
          "output_type": "execute_result",
          "data": {
            "text/plain": [
              "8366"
            ]
          },
          "metadata": {
            "tags": []
          },
          "execution_count": 23
        }
      ]
    },
    {
      "cell_type": "code",
      "metadata": {
        "colab": {
          "base_uri": "https://localhost:8080/"
        },
        "id": "3IDNgZZlhdOs",
        "outputId": "d84cc993-ba61-4052-e784-304e3283d764"
      },
      "source": [
        "dd9=pd.merge(dd8,d10)\n",
        "len(dd9)"
      ],
      "execution_count": 24,
      "outputs": [
        {
          "output_type": "execute_result",
          "data": {
            "text/plain": [
              "1175"
            ]
          },
          "metadata": {
            "tags": []
          },
          "execution_count": 24
        }
      ]
    },
    {
      "cell_type": "markdown",
      "metadata": {
        "id": "5Ex35-BpiWXa"
      },
      "source": [
        "*IHGEM_J*"
      ]
    },
    {
      "cell_type": "code",
      "metadata": {
        "colab": {
          "base_uri": "https://localhost:8080/"
        },
        "id": "-WE5Oi7AhdRf",
        "outputId": "cbf89c58-2c64-4d49-a51c-ba979e938390"
      },
      "source": [
        "data_11 = '/content/IHGEM_J.xlsx'\n",
        "d11= pd.read_excel(data_11,\n",
        "sheet_name=0,\n",
        "header=0,\n",
        "index_col=False,\n",
        "keep_default_na=True\n",
        ")\n",
        "len(d11)"
      ],
      "execution_count": 25,
      "outputs": [
        {
          "output_type": "execute_result",
          "data": {
            "text/plain": [
              "8366"
            ]
          },
          "metadata": {
            "tags": []
          },
          "execution_count": 25
        }
      ]
    },
    {
      "cell_type": "code",
      "metadata": {
        "colab": {
          "base_uri": "https://localhost:8080/"
        },
        "id": "u3DO8My-iVMc",
        "outputId": "d555b512-f97e-4dce-eabd-e9740c4f2ee9"
      },
      "source": [
        "dd10=pd.merge(dd9,d11)\n",
        "len(dd10)"
      ],
      "execution_count": 26,
      "outputs": [
        {
          "output_type": "execute_result",
          "data": {
            "text/plain": [
              "1175"
            ]
          },
          "metadata": {
            "tags": []
          },
          "execution_count": 26
        }
      ]
    },
    {
      "cell_type": "markdown",
      "metadata": {
        "id": "Xnmavh89i2wT"
      },
      "source": [
        "*INS_J*"
      ]
    },
    {
      "cell_type": "code",
      "metadata": {
        "colab": {
          "base_uri": "https://localhost:8080/"
        },
        "id": "78ieA9cciVPg",
        "outputId": "10bd7d74-e884-45e6-c8ad-96b98984bd95"
      },
      "source": [
        "data_12 = '/content/INS_J.xlsx'\n",
        "d12= pd.read_excel(data_12,\n",
        "sheet_name=0,\n",
        "header=0,\n",
        "index_col=False,\n",
        "keep_default_na=True\n",
        ")\n",
        "len(d12)"
      ],
      "execution_count": 28,
      "outputs": [
        {
          "output_type": "execute_result",
          "data": {
            "text/plain": [
              "3036"
            ]
          },
          "metadata": {
            "tags": []
          },
          "execution_count": 28
        }
      ]
    },
    {
      "cell_type": "code",
      "metadata": {
        "colab": {
          "base_uri": "https://localhost:8080/"
        },
        "id": "BYv7L1JDiVSS",
        "outputId": "b0d34475-0056-49d8-bda5-ed386c56c46c"
      },
      "source": [
        "dd11=pd.merge(dd10,d12)\n",
        "len(dd11)"
      ],
      "execution_count": 29,
      "outputs": [
        {
          "output_type": "execute_result",
          "data": {
            "text/plain": [
              "1175"
            ]
          },
          "metadata": {
            "tags": []
          },
          "execution_count": 29
        }
      ]
    },
    {
      "cell_type": "markdown",
      "metadata": {
        "id": "N6CZoX9DjKRH"
      },
      "source": [
        "*PBCD_J*"
      ]
    },
    {
      "cell_type": "code",
      "metadata": {
        "colab": {
          "base_uri": "https://localhost:8080/"
        },
        "id": "tsLbOh0qiVVK",
        "outputId": "712a523f-5b88-4992-b1b0-431ae6f30bda"
      },
      "source": [
        "data_13 = '/content/PBCD_J.xlsx'\n",
        "d13= pd.read_excel(data_13,\n",
        "sheet_name=0,\n",
        "header=0,\n",
        "index_col=False,\n",
        "keep_default_na=True\n",
        ")\n",
        "len(d13)"
      ],
      "execution_count": 30,
      "outputs": [
        {
          "output_type": "execute_result",
          "data": {
            "text/plain": [
              "8366"
            ]
          },
          "metadata": {
            "tags": []
          },
          "execution_count": 30
        }
      ]
    },
    {
      "cell_type": "code",
      "metadata": {
        "colab": {
          "base_uri": "https://localhost:8080/"
        },
        "id": "rmRZyhNniVXP",
        "outputId": "f6e2e18a-98ad-452c-e772-76aa3903aa4e"
      },
      "source": [
        "dd12=pd.merge(dd11,d13)\n",
        "len(dd12)"
      ],
      "execution_count": 31,
      "outputs": [
        {
          "output_type": "execute_result",
          "data": {
            "text/plain": [
              "1175"
            ]
          },
          "metadata": {
            "tags": []
          },
          "execution_count": 31
        }
      ]
    },
    {
      "cell_type": "markdown",
      "metadata": {
        "id": "HK0TEg2QnG5q"
      },
      "source": [
        "*TCHOL_J*"
      ]
    },
    {
      "cell_type": "code",
      "metadata": {
        "colab": {
          "base_uri": "https://localhost:8080/"
        },
        "id": "Tt-auG-aiVfD",
        "outputId": "462edbb5-609d-402a-83cc-98ec943d513d"
      },
      "source": [
        "data_14 = '/content/TCHOL_J.xlsx'\n",
        "d14= pd.read_excel(data_14,\n",
        "sheet_name=0,\n",
        "header=0,\n",
        "index_col=False,\n",
        "keep_default_na=True\n",
        ")\n",
        "len(d14)"
      ],
      "execution_count": 43,
      "outputs": [
        {
          "output_type": "execute_result",
          "data": {
            "text/plain": [
              "7435"
            ]
          },
          "metadata": {
            "tags": []
          },
          "execution_count": 43
        }
      ]
    },
    {
      "cell_type": "code",
      "metadata": {
        "colab": {
          "base_uri": "https://localhost:8080/"
        },
        "id": "e5qTMb_WiViY",
        "outputId": "b3da2c62-c4a1-4a04-91b1-ac6de378728b"
      },
      "source": [
        "dd13=pd.merge(dd12,d14)\n",
        "len(dd13)"
      ],
      "execution_count": 44,
      "outputs": [
        {
          "output_type": "execute_result",
          "data": {
            "text/plain": [
              "1175"
            ]
          },
          "metadata": {
            "tags": []
          },
          "execution_count": 44
        }
      ]
    },
    {
      "cell_type": "markdown",
      "metadata": {
        "id": "sLlWVV6spC_1"
      },
      "source": [
        "*TRIGLY_J*"
      ]
    },
    {
      "cell_type": "code",
      "metadata": {
        "colab": {
          "base_uri": "https://localhost:8080/"
        },
        "id": "_ATj6KXCiVkT",
        "outputId": "755a7fc6-7a3a-46ef-d782-8c7b0465f0ab"
      },
      "source": [
        "data_15 = '/content/TRIGLY_J.xlsx'\n",
        "d15= pd.read_excel(data_15,\n",
        "sheet_name=0,\n",
        "header=0,\n",
        "index_col=False,\n",
        "keep_default_na=True\n",
        ")\n",
        "len(d15)"
      ],
      "execution_count": 45,
      "outputs": [
        {
          "output_type": "execute_result",
          "data": {
            "text/plain": [
              "3036"
            ]
          },
          "metadata": {
            "tags": []
          },
          "execution_count": 45
        }
      ]
    },
    {
      "cell_type": "code",
      "metadata": {
        "colab": {
          "base_uri": "https://localhost:8080/"
        },
        "id": "J2VLT8wGiVmn",
        "outputId": "f8dfb245-63e4-4296-bfa8-fd8bf301bfb4"
      },
      "source": [
        "dd14=pd.merge(dd13,d15)\n",
        "len(dd14)"
      ],
      "execution_count": 46,
      "outputs": [
        {
          "output_type": "execute_result",
          "data": {
            "text/plain": [
              "1175"
            ]
          },
          "metadata": {
            "tags": []
          },
          "execution_count": 46
        }
      ]
    },
    {
      "cell_type": "markdown",
      "metadata": {
        "id": "fZa6Eo-NrHS4"
      },
      "source": [
        "*UCFLOW_J*"
      ]
    },
    {
      "cell_type": "code",
      "metadata": {
        "colab": {
          "base_uri": "https://localhost:8080/"
        },
        "id": "QUQILs8tiVqE",
        "outputId": "6fcf7012-e366-40e1-efb1-d387d9073bfc"
      },
      "source": [
        "data_16 = '/content/UCFLOW_J.xlsx'\n",
        "d16= pd.read_excel(data_16,\n",
        "sheet_name=0,\n",
        "header=0,\n",
        "index_col=False,\n",
        "keep_default_na=True\n",
        ")\n",
        "len(d16)"
      ],
      "execution_count": 47,
      "outputs": [
        {
          "output_type": "execute_result",
          "data": {
            "text/plain": [
              "7936"
            ]
          },
          "metadata": {
            "tags": []
          },
          "execution_count": 47
        }
      ]
    },
    {
      "cell_type": "code",
      "metadata": {
        "colab": {
          "base_uri": "https://localhost:8080/"
        },
        "id": "F6VGGUn5iVsF",
        "outputId": "e4430a97-adbc-4665-ecbc-5b61d05f7b7c"
      },
      "source": [
        "dd15=pd.merge(dd14,d16)\n",
        "len(dd15)"
      ],
      "execution_count": 49,
      "outputs": [
        {
          "output_type": "execute_result",
          "data": {
            "text/plain": [
              "1175"
            ]
          },
          "metadata": {
            "tags": []
          },
          "execution_count": 49
        }
      ]
    },
    {
      "cell_type": "markdown",
      "metadata": {
        "id": "Ohg6Dz9srlOe"
      },
      "source": [
        "*VIC_J*"
      ]
    },
    {
      "cell_type": "code",
      "metadata": {
        "colab": {
          "base_uri": "https://localhost:8080/"
        },
        "id": "uROxnjOTiVvZ",
        "outputId": "35d864b7-3b88-42f2-836d-72b8d3035c76"
      },
      "source": [
        "data_17 = '/content/VIC_J.xlsx'\n",
        "d17= pd.read_excel(data_17,\n",
        "sheet_name=0,\n",
        "header=0,\n",
        "index_col=False,\n",
        "keep_default_na=True\n",
        ")\n",
        "len(d17)"
      ],
      "execution_count": 64,
      "outputs": [
        {
          "output_type": "execute_result",
          "data": {
            "text/plain": [
              "7435"
            ]
          },
          "metadata": {
            "tags": []
          },
          "execution_count": 64
        }
      ]
    },
    {
      "cell_type": "code",
      "metadata": {
        "colab": {
          "base_uri": "https://localhost:8080/"
        },
        "id": "wbe2viTKrqr8",
        "outputId": "3b6d1ea5-a8d7-4447-c9b7-8f9dd515443a"
      },
      "source": [
        "dd16=pd.merge(dd15,d17)\n",
        "len(dd16)"
      ],
      "execution_count": 65,
      "outputs": [
        {
          "output_type": "execute_result",
          "data": {
            "text/plain": [
              "1175"
            ]
          },
          "metadata": {
            "tags": []
          },
          "execution_count": 65
        }
      ]
    },
    {
      "cell_type": "code",
      "metadata": {
        "id": "Th0ivNB2tsxw"
      },
      "source": [
        "# writing to Excel \n",
        "datatoexcel = pd.ExcelWriter('Laboratory Data.xlsx') \n",
        "  \n",
        "# write DataFrame to excel \n",
        "dd16.to_excel(datatoexcel) \n",
        "  \n",
        "# save the excel \n",
        "datatoexcel.save()"
      ],
      "execution_count": 68,
      "outputs": []
    },
    {
      "cell_type": "markdown",
      "metadata": {
        "id": "JDmva2FFt-JQ"
      },
      "source": [
        "affichage data final"
      ]
    },
    {
      "cell_type": "code",
      "metadata": {
        "colab": {
          "base_uri": "https://localhost:8080/"
        },
        "id": "sWgu7DJGtw2V",
        "outputId": "f9a74880-5a87-4afe-f6e3-63f4cbf6d79b"
      },
      "source": [
        "data_f = '/content/Laboratory Data.xlsx'\n",
        "df= pd.read_excel(data_f,\n",
        "sheet_name=0,\n",
        "header=0,\n",
        "index_col=False,\n",
        "keep_default_na=True\n",
        ")\n",
        "len(df)"
      ],
      "execution_count": 69,
      "outputs": [
        {
          "output_type": "execute_result",
          "data": {
            "text/plain": [
              "1175"
            ]
          },
          "metadata": {
            "tags": []
          },
          "execution_count": 69
        }
      ]
    },
    {
      "cell_type": "code",
      "metadata": {
        "colab": {
          "base_uri": "https://localhost:8080/",
          "height": 270
        },
        "id": "hjeIObB2uCuo",
        "outputId": "511d05fa-0525-43ba-ca50-d01e8f42698e"
      },
      "source": [
        "df.head()"
      ],
      "execution_count": 70,
      "outputs": [
        {
          "output_type": "execute_result",
          "data": {
            "text/html": [
              "<div>\n",
              "<style scoped>\n",
              "    .dataframe tbody tr th:only-of-type {\n",
              "        vertical-align: middle;\n",
              "    }\n",
              "\n",
              "    .dataframe tbody tr th {\n",
              "        vertical-align: top;\n",
              "    }\n",
              "\n",
              "    .dataframe thead th {\n",
              "        text-align: right;\n",
              "    }\n",
              "</style>\n",
              "<table border=\"1\" class=\"dataframe\">\n",
              "  <thead>\n",
              "    <tr style=\"text-align: right;\">\n",
              "      <th></th>\n",
              "      <th>Unnamed: 0</th>\n",
              "      <th>SEQN</th>\n",
              "      <th>WTFOL2YR</th>\n",
              "      <th>LBDFOTSI</th>\n",
              "      <th>LBDFOT</th>\n",
              "      <th>LBXSF1SI</th>\n",
              "      <th>LBDSF1LC</th>\n",
              "      <th>LBXSF2SI</th>\n",
              "      <th>LBDSF2LC</th>\n",
              "      <th>LBXSF3SI</th>\n",
              "      <th>LBDSF3LC</th>\n",
              "      <th>LBXSF4SI</th>\n",
              "      <th>LBDSF4LC</th>\n",
              "      <th>LBXSF5SI</th>\n",
              "      <th>LBDSF5LC</th>\n",
              "      <th>LBXSF6SI</th>\n",
              "      <th>LBDSF6LC</th>\n",
              "      <th>WTSAF2YR</th>\n",
              "      <th>LBXGLU</th>\n",
              "      <th>LBDGLUSI</th>\n",
              "      <th>LBDHDD</th>\n",
              "      <th>LBDHDDSI</th>\n",
              "      <th>LBXHA</th>\n",
              "      <th>LBXHBC</th>\n",
              "      <th>LBDHBG</th>\n",
              "      <th>LBDHD</th>\n",
              "      <th>LBXHBS</th>\n",
              "      <th>LBXHCR</th>\n",
              "      <th>LBDHCI</th>\n",
              "      <th>LBXHCG</th>\n",
              "      <th>LBDHEG</th>\n",
              "      <th>LBDHEM</th>\n",
              "      <th>LBXHIVC</th>\n",
              "      <th>LBXHIV1</th>\n",
              "      <th>LBXHIV2</th>\n",
              "      <th>LBXHNAT</th>\n",
              "      <th>LBXHSCRP</th>\n",
              "      <th>LBDHRPLC</th>\n",
              "      <th>LBXIHG</th>\n",
              "      <th>LBDIHGSI</th>\n",
              "      <th>...</th>\n",
              "      <th>LBXIN</th>\n",
              "      <th>LBDINSI</th>\n",
              "      <th>LBDINLC</th>\n",
              "      <th>LBXBPB</th>\n",
              "      <th>LBDBPBSI</th>\n",
              "      <th>LBDBPBLC</th>\n",
              "      <th>LBXBCD</th>\n",
              "      <th>LBDBCDSI</th>\n",
              "      <th>LBDBCDLC</th>\n",
              "      <th>LBXTHG</th>\n",
              "      <th>LBDTHGSI</th>\n",
              "      <th>LBDTHGLC</th>\n",
              "      <th>LBXBSE</th>\n",
              "      <th>LBDBSESI</th>\n",
              "      <th>LBDBSELC</th>\n",
              "      <th>LBXBMN</th>\n",
              "      <th>LBDBMNSI</th>\n",
              "      <th>LBDBMNLC</th>\n",
              "      <th>LBXTC</th>\n",
              "      <th>LBDTCSI</th>\n",
              "      <th>LBXTR</th>\n",
              "      <th>LBDTRSI</th>\n",
              "      <th>LBDLDL</th>\n",
              "      <th>LBDLDLSI</th>\n",
              "      <th>LBDLDLM</th>\n",
              "      <th>LBDLDMSI</th>\n",
              "      <th>LBDLDLN</th>\n",
              "      <th>LBDLDNSI</th>\n",
              "      <th>URXVOL1</th>\n",
              "      <th>URDFLOW1</th>\n",
              "      <th>URDTIME1</th>\n",
              "      <th>URXVOL2</th>\n",
              "      <th>URDFLOW2</th>\n",
              "      <th>URDTIME2</th>\n",
              "      <th>URXVOL3</th>\n",
              "      <th>URDFLOW3</th>\n",
              "      <th>URDTIME3</th>\n",
              "      <th>LBXVIC</th>\n",
              "      <th>LBDVICSI</th>\n",
              "      <th>LBDVICLC</th>\n",
              "    </tr>\n",
              "  </thead>\n",
              "  <tbody>\n",
              "    <tr>\n",
              "      <th>0</th>\n",
              "      <td>0</td>\n",
              "      <td>93711</td>\n",
              "      <td>30515.406501</td>\n",
              "      <td>84.7</td>\n",
              "      <td>37.40</td>\n",
              "      <td>82.9</td>\n",
              "      <td>0.0</td>\n",
              "      <td>0.727</td>\n",
              "      <td>0.0</td>\n",
              "      <td>0.141</td>\n",
              "      <td>1.0</td>\n",
              "      <td>0.765</td>\n",
              "      <td>0.0</td>\n",
              "      <td>0.141</td>\n",
              "      <td>1.0</td>\n",
              "      <td>1.190</td>\n",
              "      <td>0.0</td>\n",
              "      <td>29226.045506</td>\n",
              "      <td>107.0</td>\n",
              "      <td>5.94</td>\n",
              "      <td>72.0</td>\n",
              "      <td>1.86</td>\n",
              "      <td>2.0</td>\n",
              "      <td>2.0</td>\n",
              "      <td>NaN</td>\n",
              "      <td>NaN</td>\n",
              "      <td>2.0</td>\n",
              "      <td>3.0</td>\n",
              "      <td>3.0</td>\n",
              "      <td>NaN</td>\n",
              "      <td>1.0</td>\n",
              "      <td>2.0</td>\n",
              "      <td>2.0</td>\n",
              "      <td>NaN</td>\n",
              "      <td>NaN</td>\n",
              "      <td>NaN</td>\n",
              "      <td>0.82</td>\n",
              "      <td>0.0</td>\n",
              "      <td>0.15</td>\n",
              "      <td>0.75</td>\n",
              "      <td>...</td>\n",
              "      <td>5.28</td>\n",
              "      <td>31.68</td>\n",
              "      <td>0.0</td>\n",
              "      <td>2.15</td>\n",
              "      <td>0.10</td>\n",
              "      <td>0.0</td>\n",
              "      <td>0.38</td>\n",
              "      <td>3.38</td>\n",
              "      <td>0.0</td>\n",
              "      <td>0.20</td>\n",
              "      <td>1.00</td>\n",
              "      <td>1.0</td>\n",
              "      <td>206.39</td>\n",
              "      <td>2.62</td>\n",
              "      <td>0.0</td>\n",
              "      <td>6.55</td>\n",
              "      <td>119.22</td>\n",
              "      <td>0.0</td>\n",
              "      <td>238.0</td>\n",
              "      <td>6.15</td>\n",
              "      <td>48.0</td>\n",
              "      <td>0.542</td>\n",
              "      <td>156.0</td>\n",
              "      <td>4.034</td>\n",
              "      <td>152.0</td>\n",
              "      <td>3.931</td>\n",
              "      <td>158.0</td>\n",
              "      <td>4.086</td>\n",
              "      <td>26.0</td>\n",
              "      <td>0.605</td>\n",
              "      <td>43.0</td>\n",
              "      <td>48.0</td>\n",
              "      <td>0.286</td>\n",
              "      <td>168.0</td>\n",
              "      <td>NaN</td>\n",
              "      <td>NaN</td>\n",
              "      <td>NaN</td>\n",
              "      <td>1.520</td>\n",
              "      <td>86.30</td>\n",
              "      <td>0.0</td>\n",
              "    </tr>\n",
              "    <tr>\n",
              "      <th>1</th>\n",
              "      <td>1</td>\n",
              "      <td>93718</td>\n",
              "      <td>41525.006962</td>\n",
              "      <td>38.9</td>\n",
              "      <td>17.20</td>\n",
              "      <td>36.8</td>\n",
              "      <td>0.0</td>\n",
              "      <td>0.943</td>\n",
              "      <td>0.0</td>\n",
              "      <td>0.141</td>\n",
              "      <td>1.0</td>\n",
              "      <td>0.856</td>\n",
              "      <td>0.0</td>\n",
              "      <td>0.141</td>\n",
              "      <td>1.0</td>\n",
              "      <td>0.841</td>\n",
              "      <td>0.0</td>\n",
              "      <td>58883.311935</td>\n",
              "      <td>89.0</td>\n",
              "      <td>4.94</td>\n",
              "      <td>63.0</td>\n",
              "      <td>1.63</td>\n",
              "      <td>2.0</td>\n",
              "      <td>2.0</td>\n",
              "      <td>NaN</td>\n",
              "      <td>NaN</td>\n",
              "      <td>2.0</td>\n",
              "      <td>3.0</td>\n",
              "      <td>3.0</td>\n",
              "      <td>NaN</td>\n",
              "      <td>2.0</td>\n",
              "      <td>2.0</td>\n",
              "      <td>2.0</td>\n",
              "      <td>NaN</td>\n",
              "      <td>NaN</td>\n",
              "      <td>NaN</td>\n",
              "      <td>0.69</td>\n",
              "      <td>0.0</td>\n",
              "      <td>0.15</td>\n",
              "      <td>0.75</td>\n",
              "      <td>...</td>\n",
              "      <td>4.89</td>\n",
              "      <td>29.34</td>\n",
              "      <td>0.0</td>\n",
              "      <td>0.62</td>\n",
              "      <td>0.03</td>\n",
              "      <td>0.0</td>\n",
              "      <td>0.10</td>\n",
              "      <td>0.89</td>\n",
              "      <td>0.0</td>\n",
              "      <td>2.28</td>\n",
              "      <td>11.38</td>\n",
              "      <td>0.0</td>\n",
              "      <td>203.67</td>\n",
              "      <td>2.59</td>\n",
              "      <td>0.0</td>\n",
              "      <td>12.00</td>\n",
              "      <td>218.42</td>\n",
              "      <td>0.0</td>\n",
              "      <td>152.0</td>\n",
              "      <td>3.93</td>\n",
              "      <td>46.0</td>\n",
              "      <td>0.519</td>\n",
              "      <td>80.0</td>\n",
              "      <td>2.069</td>\n",
              "      <td>77.0</td>\n",
              "      <td>1.991</td>\n",
              "      <td>79.0</td>\n",
              "      <td>2.043</td>\n",
              "      <td>213.0</td>\n",
              "      <td>NaN</td>\n",
              "      <td>NaN</td>\n",
              "      <td>NaN</td>\n",
              "      <td>NaN</td>\n",
              "      <td>NaN</td>\n",
              "      <td>NaN</td>\n",
              "      <td>NaN</td>\n",
              "      <td>NaN</td>\n",
              "      <td>2.050</td>\n",
              "      <td>116.00</td>\n",
              "      <td>0.0</td>\n",
              "    </tr>\n",
              "    <tr>\n",
              "      <th>2</th>\n",
              "      <td>2</td>\n",
              "      <td>93731</td>\n",
              "      <td>59175.193015</td>\n",
              "      <td>22.3</td>\n",
              "      <td>9.85</td>\n",
              "      <td>21.2</td>\n",
              "      <td>0.0</td>\n",
              "      <td>0.290</td>\n",
              "      <td>0.0</td>\n",
              "      <td>0.141</td>\n",
              "      <td>1.0</td>\n",
              "      <td>0.525</td>\n",
              "      <td>0.0</td>\n",
              "      <td>0.141</td>\n",
              "      <td>1.0</td>\n",
              "      <td>0.875</td>\n",
              "      <td>0.0</td>\n",
              "      <td>65813.185570</td>\n",
              "      <td>98.0</td>\n",
              "      <td>5.44</td>\n",
              "      <td>40.0</td>\n",
              "      <td>1.03</td>\n",
              "      <td>1.0</td>\n",
              "      <td>2.0</td>\n",
              "      <td>NaN</td>\n",
              "      <td>NaN</td>\n",
              "      <td>2.0</td>\n",
              "      <td>3.0</td>\n",
              "      <td>3.0</td>\n",
              "      <td>NaN</td>\n",
              "      <td>2.0</td>\n",
              "      <td>2.0</td>\n",
              "      <td>2.0</td>\n",
              "      <td>NaN</td>\n",
              "      <td>NaN</td>\n",
              "      <td>NaN</td>\n",
              "      <td>0.75</td>\n",
              "      <td>0.0</td>\n",
              "      <td>0.15</td>\n",
              "      <td>0.75</td>\n",
              "      <td>...</td>\n",
              "      <td>21.33</td>\n",
              "      <td>127.98</td>\n",
              "      <td>0.0</td>\n",
              "      <td>0.54</td>\n",
              "      <td>0.03</td>\n",
              "      <td>0.0</td>\n",
              "      <td>0.39</td>\n",
              "      <td>3.47</td>\n",
              "      <td>0.0</td>\n",
              "      <td>0.50</td>\n",
              "      <td>2.50</td>\n",
              "      <td>0.0</td>\n",
              "      <td>186.86</td>\n",
              "      <td>2.37</td>\n",
              "      <td>0.0</td>\n",
              "      <td>9.63</td>\n",
              "      <td>175.29</td>\n",
              "      <td>0.0</td>\n",
              "      <td>153.0</td>\n",
              "      <td>3.96</td>\n",
              "      <td>78.0</td>\n",
              "      <td>0.881</td>\n",
              "      <td>97.0</td>\n",
              "      <td>2.508</td>\n",
              "      <td>96.0</td>\n",
              "      <td>2.483</td>\n",
              "      <td>98.0</td>\n",
              "      <td>2.534</td>\n",
              "      <td>69.0</td>\n",
              "      <td>0.496</td>\n",
              "      <td>139.0</td>\n",
              "      <td>NaN</td>\n",
              "      <td>NaN</td>\n",
              "      <td>NaN</td>\n",
              "      <td>NaN</td>\n",
              "      <td>NaN</td>\n",
              "      <td>NaN</td>\n",
              "      <td>0.698</td>\n",
              "      <td>39.60</td>\n",
              "      <td>0.0</td>\n",
              "    </tr>\n",
              "    <tr>\n",
              "      <th>3</th>\n",
              "      <td>3</td>\n",
              "      <td>93735</td>\n",
              "      <td>24316.425101</td>\n",
              "      <td>22.1</td>\n",
              "      <td>9.76</td>\n",
              "      <td>18.6</td>\n",
              "      <td>0.0</td>\n",
              "      <td>0.919</td>\n",
              "      <td>0.0</td>\n",
              "      <td>0.233</td>\n",
              "      <td>0.0</td>\n",
              "      <td>2.200</td>\n",
              "      <td>0.0</td>\n",
              "      <td>0.141</td>\n",
              "      <td>1.0</td>\n",
              "      <td>25.700</td>\n",
              "      <td>0.0</td>\n",
              "      <td>20279.404348</td>\n",
              "      <td>83.0</td>\n",
              "      <td>4.61</td>\n",
              "      <td>42.0</td>\n",
              "      <td>1.09</td>\n",
              "      <td>1.0</td>\n",
              "      <td>2.0</td>\n",
              "      <td>NaN</td>\n",
              "      <td>NaN</td>\n",
              "      <td>2.0</td>\n",
              "      <td>3.0</td>\n",
              "      <td>3.0</td>\n",
              "      <td>NaN</td>\n",
              "      <td>2.0</td>\n",
              "      <td>2.0</td>\n",
              "      <td>2.0</td>\n",
              "      <td>NaN</td>\n",
              "      <td>NaN</td>\n",
              "      <td>NaN</td>\n",
              "      <td>1.59</td>\n",
              "      <td>0.0</td>\n",
              "      <td>0.15</td>\n",
              "      <td>0.75</td>\n",
              "      <td>...</td>\n",
              "      <td>5.14</td>\n",
              "      <td>30.84</td>\n",
              "      <td>0.0</td>\n",
              "      <td>3.28</td>\n",
              "      <td>0.16</td>\n",
              "      <td>0.0</td>\n",
              "      <td>0.46</td>\n",
              "      <td>4.09</td>\n",
              "      <td>0.0</td>\n",
              "      <td>0.37</td>\n",
              "      <td>1.85</td>\n",
              "      <td>0.0</td>\n",
              "      <td>173.43</td>\n",
              "      <td>2.20</td>\n",
              "      <td>0.0</td>\n",
              "      <td>6.35</td>\n",
              "      <td>115.58</td>\n",
              "      <td>0.0</td>\n",
              "      <td>121.0</td>\n",
              "      <td>3.13</td>\n",
              "      <td>116.0</td>\n",
              "      <td>1.310</td>\n",
              "      <td>56.0</td>\n",
              "      <td>1.448</td>\n",
              "      <td>59.0</td>\n",
              "      <td>1.526</td>\n",
              "      <td>58.0</td>\n",
              "      <td>1.500</td>\n",
              "      <td>NaN</td>\n",
              "      <td>NaN</td>\n",
              "      <td>NaN</td>\n",
              "      <td>NaN</td>\n",
              "      <td>NaN</td>\n",
              "      <td>NaN</td>\n",
              "      <td>NaN</td>\n",
              "      <td>NaN</td>\n",
              "      <td>NaN</td>\n",
              "      <td>0.071</td>\n",
              "      <td>4.03</td>\n",
              "      <td>0.0</td>\n",
              "    </tr>\n",
              "    <tr>\n",
              "      <th>4</th>\n",
              "      <td>4</td>\n",
              "      <td>93738</td>\n",
              "      <td>124528.616043</td>\n",
              "      <td>26.0</td>\n",
              "      <td>11.50</td>\n",
              "      <td>24.8</td>\n",
              "      <td>0.0</td>\n",
              "      <td>0.363</td>\n",
              "      <td>0.0</td>\n",
              "      <td>0.141</td>\n",
              "      <td>1.0</td>\n",
              "      <td>0.539</td>\n",
              "      <td>0.0</td>\n",
              "      <td>0.141</td>\n",
              "      <td>1.0</td>\n",
              "      <td>1.470</td>\n",
              "      <td>0.0</td>\n",
              "      <td>138497.645700</td>\n",
              "      <td>102.0</td>\n",
              "      <td>5.66</td>\n",
              "      <td>41.0</td>\n",
              "      <td>1.06</td>\n",
              "      <td>2.0</td>\n",
              "      <td>2.0</td>\n",
              "      <td>NaN</td>\n",
              "      <td>NaN</td>\n",
              "      <td>2.0</td>\n",
              "      <td>3.0</td>\n",
              "      <td>3.0</td>\n",
              "      <td>NaN</td>\n",
              "      <td>2.0</td>\n",
              "      <td>2.0</td>\n",
              "      <td>2.0</td>\n",
              "      <td>NaN</td>\n",
              "      <td>NaN</td>\n",
              "      <td>NaN</td>\n",
              "      <td>5.26</td>\n",
              "      <td>0.0</td>\n",
              "      <td>0.24</td>\n",
              "      <td>1.20</td>\n",
              "      <td>...</td>\n",
              "      <td>5.57</td>\n",
              "      <td>33.42</td>\n",
              "      <td>0.0</td>\n",
              "      <td>0.93</td>\n",
              "      <td>0.04</td>\n",
              "      <td>0.0</td>\n",
              "      <td>0.82</td>\n",
              "      <td>7.30</td>\n",
              "      <td>0.0</td>\n",
              "      <td>5.05</td>\n",
              "      <td>25.20</td>\n",
              "      <td>0.0</td>\n",
              "      <td>169.49</td>\n",
              "      <td>2.15</td>\n",
              "      <td>0.0</td>\n",
              "      <td>11.35</td>\n",
              "      <td>206.59</td>\n",
              "      <td>0.0</td>\n",
              "      <td>146.0</td>\n",
              "      <td>3.78</td>\n",
              "      <td>79.0</td>\n",
              "      <td>0.892</td>\n",
              "      <td>89.0</td>\n",
              "      <td>2.302</td>\n",
              "      <td>88.0</td>\n",
              "      <td>2.276</td>\n",
              "      <td>90.0</td>\n",
              "      <td>2.327</td>\n",
              "      <td>57.0</td>\n",
              "      <td>0.449</td>\n",
              "      <td>127.0</td>\n",
              "      <td>NaN</td>\n",
              "      <td>NaN</td>\n",
              "      <td>NaN</td>\n",
              "      <td>NaN</td>\n",
              "      <td>NaN</td>\n",
              "      <td>NaN</td>\n",
              "      <td>0.486</td>\n",
              "      <td>27.60</td>\n",
              "      <td>0.0</td>\n",
              "    </tr>\n",
              "  </tbody>\n",
              "</table>\n",
              "<p>5 rows × 87 columns</p>\n",
              "</div>"
            ],
            "text/plain": [
              "   Unnamed: 0   SEQN       WTFOL2YR  ...  LBXVIC  LBDVICSI  LBDVICLC\n",
              "0           0  93711   30515.406501  ...   1.520     86.30       0.0\n",
              "1           1  93718   41525.006962  ...   2.050    116.00       0.0\n",
              "2           2  93731   59175.193015  ...   0.698     39.60       0.0\n",
              "3           3  93735   24316.425101  ...   0.071      4.03       0.0\n",
              "4           4  93738  124528.616043  ...   0.486     27.60       0.0\n",
              "\n",
              "[5 rows x 87 columns]"
            ]
          },
          "metadata": {
            "tags": []
          },
          "execution_count": 70
        }
      ]
    }
  ]
}